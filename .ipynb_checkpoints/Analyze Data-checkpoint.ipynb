{
 "cells": [
  {
   "cell_type": "code",
   "execution_count": 1,
   "metadata": {
    "collapsed": false
   },
   "outputs": [],
   "source": [
    "import pandas as pd\n",
    "import numpy as np\n",
    "import doctest\n",
    "import CleanBMData as cleanBM\n",
    "\n",
    "import sys\n",
    "stdout = sys.stdout\n",
    "reload(sys)\n",
    "sys.setdefaultencoding('utf-8')\n",
    "sys.stdout = stdout"
   ]
  },
  {
   "cell_type": "markdown",
   "metadata": {},
   "source": [
    "## TODO:\n",
    "* Take data from American Numismatic Society\n",
    "* Look at following types of coins for location, denomination, material, and subject:\n",
    "    * seperate 44-31, 30-27, 27-19, 18-16, 15-11 (ALL BCE) and 10BC-13AD\n",
    "        * Star of Julius (Sidus Iulium) \n",
    "        * Capricorn and/or globe and/or rudder\n",
    "        * Secular games\n",
    "        * Julius Caesar\n",
    "        * Alpollo and/or lyre\n",
    "        * Statue of Augustus\n",
    "* Manually select colors for stacked bar graph to avoid repeated colors next to each other\n",
    "* Predictive value of subjects, material, inscription\n",
    "    * Predict what will have laurels"
   ]
  },
  {
   "cell_type": "markdown",
   "metadata": {},
   "source": [
    "# Read in Data"
   ]
  },
  {
   "cell_type": "code",
   "execution_count": 2,
   "metadata": {
    "collapsed": false
   },
   "outputs": [
    {
     "data": {
      "text/plain": [
       "array(['', 'denarius ', 'as ', 'dupondius ', 'semis ', 'quadrans ',\n",
       "       'unit (?) ', 'drachm ', 'unit ', 'sestertius ', 'dupondius (?) ',\n",
       "       'aureus ', 'tetradrachm ', 'cistophorus ', 'as (cut half) ',\n",
       "       'quinarius ', 'tridrachm (cistophorus) ', 'denarius serratus ',\n",
       "       'dupondius or as ', 'quarter stater ', 'sestertius (probably) ',\n",
       "       'prutah ', 'denarius (plated) ', 'unit,1/4 ', 'stater ',\n",
       "       'tetradrachm (Attic Weight Standard) ', 'tressis '], dtype=object)"
      ]
     },
     "execution_count": 2,
     "metadata": {},
     "output_type": "execute_result"
    }
   ],
   "source": [
    "df = pd.read_csv('AugustusCoins_44BC-14AD.csv',\n",
    "                 converters={\"Authority\": cleanBM.stringToList, 'Associated names': cleanBM.stringToList, \n",
    "                             'Subjects': cleanBM.stringToList, 'Inscriptions': cleanBM.stringToListofDicts('|', ';', ':')})\n",
    "df = df.drop('Unnamed: 0', 1)\n",
    "df = df.replace(np.nan, '', regex=True)\n",
    "df.Denomination.unique()"
   ]
  },
  {
   "cell_type": "code",
   "execution_count": 5,
   "metadata": {
    "collapsed": false
   },
   "outputs": [
    {
     "data": {
      "text/plain": [
       "[{'1': 'one', '2': 'two'}, {'1': 'I', '2': 'II'}]"
      ]
     },
     "execution_count": 5,
     "metadata": {},
     "output_type": "execute_result"
    }
   ],
   "source": [
    "cleanBM.stringToListofDicts('|', ';', ':')('1:one;2:two|1:I;2:II')"
   ]
  },
  {
   "cell_type": "markdown",
   "metadata": {},
   "source": [
    "# Clean Data"
   ]
  },
  {
   "cell_type": "code",
   "execution_count": 3,
   "metadata": {
    "collapsed": false
   },
   "outputs": [
    {
     "data": {
      "text/html": [
       "<div>\n",
       "<table border=\"1\" class=\"dataframe\">\n",
       "  <thead>\n",
       "    <tr style=\"text-align: right;\">\n",
       "      <th></th>\n",
       "      <th>Associated names</th>\n",
       "      <th>Authority</th>\n",
       "      <th>Bibliography</th>\n",
       "      <th>Culture/period</th>\n",
       "      <th>Curator's comments</th>\n",
       "      <th>Date</th>\n",
       "      <th>Denomination</th>\n",
       "      <th>Description</th>\n",
       "      <th>Inscriptions</th>\n",
       "      <th>Materials</th>\n",
       "      <th>Museum number</th>\n",
       "      <th>Object type</th>\n",
       "      <th>Production place</th>\n",
       "      <th>State</th>\n",
       "      <th>Subjects</th>\n",
       "      <th>Weight (g)</th>\n",
       "      <th>url</th>\n",
       "    </tr>\n",
       "  </thead>\n",
       "  <tbody>\n",
       "    <tr>\n",
       "      <th>693</th>\n",
       "      <td>(Augustus (Octavian), Nike/Victoria/Victory)</td>\n",
       "      <td>(Augustus (Octavian),)</td>\n",
       "      <td>RIC1 263, p.60 RR2 4342, p.12 RE1 616, p.101</td>\n",
       "      <td>Roman Imperial</td>\n",
       "      <td>Octavian's IMP CAESAR coinage was a celebratio...</td>\n",
       "      <td>(-32, -29)</td>\n",
       "      <td>denarius</td>\n",
       "      <td>Silver coin.(obverse) Victory, draped, standin...</td>\n",
       "      <td>[{u'Inscription Content': u'CAESAR DIVI F', u'...</td>\n",
       "      <td>silver</td>\n",
       "      <td>R.6163</td>\n",
       "      <td>coin</td>\n",
       "      <td>Italy</td>\n",
       "      <td>Roman Empire</td>\n",
       "      <td>(charioteer/chariot, allegory/personification,...</td>\n",
       "      <td>3.78</td>\n",
       "      <td>http://www.britishmuseum.org/research/collecti...</td>\n",
       "    </tr>\n",
       "    <tr>\n",
       "      <th>694</th>\n",
       "      <td>(Mark Antony, Octavia, Augustus (Octavian))</td>\n",
       "      <td>(M Oppius Capito, Mark Antony)</td>\n",
       "      <td>RPC1 1463 (type) RR2 154, p.518</td>\n",
       "      <td>Roman Republican</td>\n",
       "      <td></td>\n",
       "      <td>(-38, -37)</td>\n",
       "      <td>tressis</td>\n",
       "      <td>Copper alloy coin.(obverse) Busts of M. Antoni...</td>\n",
       "      <td>[{u'Inscription Content': u'[M·ANT·IMP·TERT·CO...</td>\n",
       "      <td>copper alloy</td>\n",
       "      <td>1860,0328.250</td>\n",
       "      <td>coin</td>\n",
       "      <td>Achaea</td>\n",
       "      <td>Roman Republic</td>\n",
       "      <td>(politician/statesman, emperor/empress, boat/s...</td>\n",
       "      <td>21.51</td>\n",
       "      <td>http://www.britishmuseum.org/research/collecti...</td>\n",
       "    </tr>\n",
       "    <tr>\n",
       "      <th>695</th>\n",
       "      <td>(Marcus Aemilius Lepidus, Augustus (Octavian))</td>\n",
       "      <td>(Marcus Aemilius Lepidus,)</td>\n",
       "      <td>Ghey, Leins &amp; Crawford 2010 495.2.6 RRC 495/2a...</td>\n",
       "      <td>Roman Republican</td>\n",
       "      <td>Die appears to read IMA (ligatured) instead of...</td>\n",
       "      <td>(-42,)</td>\n",
       "      <td>denarius</td>\n",
       "      <td>Silver coin.(obverse) Head of M. Lepidus right...</td>\n",
       "      <td>[{u'Inscription Content': u'LEPIDVS·PONT·MAX·I...</td>\n",
       "      <td>silver</td>\n",
       "      <td>2011,4027.3</td>\n",
       "      <td>coin</td>\n",
       "      <td>Italy</td>\n",
       "      <td>Roman Republic</td>\n",
       "      <td>(politician/statesman, emperor/empress)</td>\n",
       "      <td>3.56</td>\n",
       "      <td>http://www.britishmuseum.org/research/collecti...</td>\n",
       "    </tr>\n",
       "    <tr>\n",
       "      <th>696</th>\n",
       "      <td>(Augustus (Octavian), Eros/Cupid, Aphrodite/Ve...</td>\n",
       "      <td>(P Clodius,)</td>\n",
       "      <td>RR1 4277, p.583 Ghey, Leins &amp; Crawford 2010 49...</td>\n",
       "      <td>Roman Republican</td>\n",
       "      <td></td>\n",
       "      <td>(-42,)</td>\n",
       "      <td>aureus</td>\n",
       "      <td>Gold coin; pierced for suspension.(obverse) He...</td>\n",
       "      <td>[{u'Inscription Content': u'C·CAESAR·III·VIR·R...</td>\n",
       "      <td>gold</td>\n",
       "      <td>1852,0903.11</td>\n",
       "      <td>coin</td>\n",
       "      <td>Rome</td>\n",
       "      <td>Roman Republic</td>\n",
       "      <td>(cherub/cupid, politician/statesman, classical...</td>\n",
       "      <td>8.09</td>\n",
       "      <td>http://www.britishmuseum.org/research/collecti...</td>\n",
       "    </tr>\n",
       "    <tr>\n",
       "      <th>697</th>\n",
       "      <td>(Augustus (Octavian), Tyche/Fortuna)</td>\n",
       "      <td>(Ti Sempronius Gracchus,)</td>\n",
       "      <td>RR1 4313, p.593 Ghey, Leins &amp; Crawford 2010 52...</td>\n",
       "      <td>Roman Republican</td>\n",
       "      <td></td>\n",
       "      <td>(-40,)</td>\n",
       "      <td>aureus</td>\n",
       "      <td>Gold coin.(obverse) Head of Octavian right, be...</td>\n",
       "      <td>[{u'Inscription Content': u'IIII·VIR·Q·D', u'I...</td>\n",
       "      <td>gold</td>\n",
       "      <td>1844,0425.473</td>\n",
       "      <td>coin</td>\n",
       "      <td>Rome</td>\n",
       "      <td>Roman Republic</td>\n",
       "      <td>(politician/statesman, allegory/personificatio...</td>\n",
       "      <td>7.96</td>\n",
       "      <td>http://www.britishmuseum.org/research/collecti...</td>\n",
       "    </tr>\n",
       "  </tbody>\n",
       "</table>\n",
       "</div>"
      ],
      "text/plain": [
       "                                      Associated names  \\\n",
       "693       (Augustus (Octavian), Nike/Victoria/Victory)   \n",
       "694        (Mark Antony, Octavia, Augustus (Octavian))   \n",
       "695     (Marcus Aemilius Lepidus, Augustus (Octavian))   \n",
       "696  (Augustus (Octavian), Eros/Cupid, Aphrodite/Ve...   \n",
       "697               (Augustus (Octavian), Tyche/Fortuna)   \n",
       "\n",
       "                          Authority  \\\n",
       "693          (Augustus (Octavian),)   \n",
       "694  (M Oppius Capito, Mark Antony)   \n",
       "695      (Marcus Aemilius Lepidus,)   \n",
       "696                    (P Clodius,)   \n",
       "697       (Ti Sempronius Gracchus,)   \n",
       "\n",
       "                                          Bibliography    Culture/period  \\\n",
       "693       RIC1 263, p.60 RR2 4342, p.12 RE1 616, p.101    Roman Imperial   \n",
       "694                    RPC1 1463 (type) RR2 154, p.518  Roman Republican   \n",
       "695  Ghey, Leins & Crawford 2010 495.2.6 RRC 495/2a...  Roman Republican   \n",
       "696  RR1 4277, p.583 Ghey, Leins & Crawford 2010 49...  Roman Republican   \n",
       "697  RR1 4313, p.593 Ghey, Leins & Crawford 2010 52...  Roman Republican   \n",
       "\n",
       "                                    Curator's comments        Date  \\\n",
       "693  Octavian's IMP CAESAR coinage was a celebratio...  (-32, -29)   \n",
       "694                                                     (-38, -37)   \n",
       "695  Die appears to read IMA (ligatured) instead of...      (-42,)   \n",
       "696                                                         (-42,)   \n",
       "697                                                         (-40,)   \n",
       "\n",
       "    Denomination                                        Description  \\\n",
       "693     denarius  Silver coin.(obverse) Victory, draped, standin...   \n",
       "694      tressis  Copper alloy coin.(obverse) Busts of M. Antoni...   \n",
       "695     denarius  Silver coin.(obverse) Head of M. Lepidus right...   \n",
       "696       aureus  Gold coin; pierced for suspension.(obverse) He...   \n",
       "697       aureus  Gold coin.(obverse) Head of Octavian right, be...   \n",
       "\n",
       "                                          Inscriptions     Materials  \\\n",
       "693  [{u'Inscription Content': u'CAESAR DIVI F', u'...        silver   \n",
       "694  [{u'Inscription Content': u'[M·ANT·IMP·TERT·CO...  copper alloy   \n",
       "695  [{u'Inscription Content': u'LEPIDVS·PONT·MAX·I...        silver   \n",
       "696  [{u'Inscription Content': u'C·CAESAR·III·VIR·R...          gold   \n",
       "697  [{u'Inscription Content': u'IIII·VIR·Q·D', u'I...          gold   \n",
       "\n",
       "     Museum number Object type Production place           State  \\\n",
       "693         R.6163        coin            Italy    Roman Empire   \n",
       "694  1860,0328.250        coin           Achaea  Roman Republic   \n",
       "695    2011,4027.3        coin            Italy  Roman Republic   \n",
       "696   1852,0903.11        coin             Rome  Roman Republic   \n",
       "697  1844,0425.473        coin             Rome  Roman Republic   \n",
       "\n",
       "                                              Subjects  Weight (g)  \\\n",
       "693  (charioteer/chariot, allegory/personification,...        3.78   \n",
       "694  (politician/statesman, emperor/empress, boat/s...       21.51   \n",
       "695            (politician/statesman, emperor/empress)        3.56   \n",
       "696  (cherub/cupid, politician/statesman, classical...        8.09   \n",
       "697  (politician/statesman, allegory/personificatio...        7.96   \n",
       "\n",
       "                                                   url  \n",
       "693  http://www.britishmuseum.org/research/collecti...  \n",
       "694  http://www.britishmuseum.org/research/collecti...  \n",
       "695  http://www.britishmuseum.org/research/collecti...  \n",
       "696  http://www.britishmuseum.org/research/collecti...  \n",
       "697  http://www.britishmuseum.org/research/collecti...  "
      ]
     },
     "execution_count": 3,
     "metadata": {},
     "output_type": "execute_result"
    }
   ],
   "source": [
    "mask = ((df['Object type'] == 'coin ') & (df['Date'].str.find('stC') == -1) &\n",
    "        (df['Denomination'] != '') & (df['Production place'] != '') &\n",
    "        (df['Bibliography'] != '') & (df['Weight (g)'] != 0))\n",
    "filtered = df[mask]\n",
    "cleaning = pd.DataFrame()\n",
    "\n",
    "lists = ['Authority', 'Subjects', 'Associated names']\n",
    "strings = ['Museum number', 'Denomination', 'Description', 'State', 'Culture/period', 'Materials', \n",
    "            'Curator\\'s comments', 'Bibliography', 'Object type']\n",
    "floats = ['Weight (g)']\n",
    "dates = ['Date']\n",
    "redundant_notes = ['Production place', 'Denomination']\n",
    "do_nothing = ['url', 'Inscriptions']\n",
    "\n",
    "cleaning['Production place'] = filtered['Production place'].apply(cleanBM.cleanProductionPlace)\n",
    "for lst in lists:\n",
    "    cleaning[lst] = filtered[lst].apply(cleanBM.cleanList)\n",
    "for string in strings:\n",
    "    cleaning[string] = filtered[string].apply(cleanBM.cleanString)\n",
    "for flot in floats:\n",
    "    cleaning[flot] = filtered[flot].apply(cleanBM.float_conversion).replace(np.nan, -1)\n",
    "for date in dates:\n",
    "    cleaning[date] = filtered[date].apply(cleanBM.dateRange)\n",
    "for col in redundant_notes:\n",
    "    cleaning[col] = cleaning[col].apply(cleanBM.removeNotes)\n",
    "for col in do_nothing:\n",
    "    cleaning[col] = filtered[col]\n",
    " \n",
    "cleaning = cleaning.reindex_axis(sorted(cleaning.columns), axis=1)\n",
    "\n",
    "duplicate_cols = ['Authority', 'Date', 'Production place', 'Description', 'Subjects', \"Curator's comments\"]\n",
    "removed_dup = (cleaning.drop_duplicates(subset=duplicate_cols)\n",
    "                        .reset_index(drop=True))\n",
    "cleaned = removed_dup[(removed_dup['Production place'] != 'Gaul')] #too vague\n",
    "cleaned = cleaned[(cleaned['Denomination'] != 'unit')]\n",
    "cleaned.set_value(387, 'Production place', 'Lugdunum')\n",
    "cleaned.tail()"
   ]
  },
  {
   "cell_type": "markdown",
   "metadata": {},
   "source": [
    "# Plot Data"
   ]
  },
  {
   "cell_type": "code",
   "execution_count": null,
   "metadata": {
    "collapsed": false
   },
   "outputs": [],
   "source": [
    "from bkcharts import Bar, show, defaults, cat\n",
    "from bokeh.io import output_notebook, save\n",
    "from bokeh.models import Range1d, ColumnDataSource, HoverTool\n",
    "from collections import OrderedDict"
   ]
  },
  {
   "cell_type": "code",
   "execution_count": null,
   "metadata": {
    "collapsed": false
   },
   "outputs": [],
   "source": [
    "output_notebook()"
   ]
  },
  {
   "cell_type": "code",
   "execution_count": null,
   "metadata": {
    "collapsed": false
   },
   "outputs": [],
   "source": [
    "location_bar = cleaned.groupby(['Production place', 'Denomination']).size().reset_index()\n",
    "location_bar.columns = ['Production place', 'Denomination', 'Count']\n",
    "location_bar['Sum'] = location_bar.groupby('Production place')['Count'].transform('sum')\n",
    "location_bar = location_bar.loc[location_bar.sort_values(['Sum', 'Count', 'Denomination'], ascending=[False, False, False]).index]\n",
    "print(location_bar.head())\n",
    "\n",
    "location_bar_plot = Bar(location_bar, label=cat(columns='Production place', sort=False), \n",
    "                   values='Count', stack='Denomination', responsive=True, legend='top_right',\n",
    "                   title='Number of coins produced from each location', active_scroll='wheel_zoom',\n",
    "                   tooltips=[('Denomination', '@Denomination'), \n",
    "                            ('Denomination Count', '@height'),\n",
    "                            ('Location Count', '@Sum')])\n",
    "location_bar_plot.y_range=Range1d(0, 200, bounds=(0, 200))\n",
    "\n",
    "save(location_bar_plot, filename='location_bar.html')\n",
    "show(location_bar_plot)"
   ]
  },
  {
   "cell_type": "code",
   "execution_count": null,
   "metadata": {
    "collapsed": false
   },
   "outputs": [],
   "source": [
    "from bokeh.io import save, show\n",
    "from bokeh.models import GeoJSONDataSource, Circle, Legend, HoverTool\n",
    "from bokeh.plotting import figure\n",
    "from bokeh.tile_providers import STAMEN_TERRAIN\n",
    "from bokeh.models.glyphs import Patches\n",
    "import json\n",
    "import pygeoj\n",
    "from pyproj import Proj, transform\n",
    "from io import StringIO"
   ]
  },
  {
   "cell_type": "code",
   "execution_count": null,
   "metadata": {
    "collapsed": false
   },
   "outputs": [],
   "source": [
    "output_notebook()"
   ]
  },
  {
   "cell_type": "code",
   "execution_count": null,
   "metadata": {
    "collapsed": false,
    "scrolled": true
   },
   "outputs": [],
   "source": [
    "locations = cleaned['Production place'].unique()\n",
    "location_map = pd.DataFrame(columns=['Production_place', 'Count', 'Color', 'is_point', \n",
    "                                     'point_xs', 'point_ys', 'patch_xs', 'patch_ys', 'Size'],\n",
    "                            index=range(len(locations)))\n",
    "counts = location_bar['Sum'].unique()\n",
    "txt_locations = ['Asia', 'Spain', 'England', 'Crete', 'Jerusalem', 'Masicytes']\n",
    "json_locations = ['Italy', 'Syria']\n",
    "colors = [\"#1f0a11\",\"#1b2110\",\"#0e2420\",\"#36201c\",\"#363022\",\"#1b3a3f\",\"#2c3a27\",\"#5b4138\",\n",
    "            \"#424f42\",\"#666554\",\"#7a5e54\",\"#4e6e74\",\"#71867a\",\"#957b7b\",\"#a49186\",\"#96a998\",\n",
    "            \"#90b3bc\",\"#cdb6ab\",\"#c3ded7\",\"#eae5d2\"]\n",
    "row = 0\n",
    "\n",
    "from_proj = Proj(init=\"epsg:4326\")\n",
    "to_proj = Proj(init=\"epsg:3857\")\n",
    "\n",
    "for loc in locations:  \n",
    "    point_xs = 0\n",
    "    point_ys = 0\n",
    "    patch_xs = []\n",
    "    patch_ys = []\n",
    "    is_point = False\n",
    "    \n",
    "    # Make file name of location GeoJSON file\n",
    "    if loc in txt_locations:\n",
    "        fname = str(loc) + '.txt'\n",
    "    elif loc in json_locations:\n",
    "        fname = str(loc) + '.json'\n",
    "    else:\n",
    "        fname = str(loc) + '.html'\n",
    "    \n",
    "    # Get coordinates of the location\n",
    "    data = pygeoj.load(filepath='GeoJSON/'+fname)\n",
    "    coors = data[0].geometry.coordinates\n",
    "    if len(coors) == 2:\n",
    "        is_point = True\n",
    "        x, y = transform(from_proj, to_proj, coors[0], coors[1])\n",
    "        point_xs = x\n",
    "        point_ys = y\n",
    "    elif len(coors) == 1:\n",
    "        for lst in coors[0]:\n",
    "            x, y = transform(from_proj, to_proj, lst[0], lst[1])\n",
    "            patch_xs.append(x)\n",
    "            patch_ys.append(y)\n",
    "    else:\n",
    "        for lst in coors:\n",
    "            for sublst in lst[0]:\n",
    "                x, y = transform(from_proj, to_proj, sublst[0], sublst[1])\n",
    "                patch_xs.append(x)\n",
    "                patch_ys.append(y)\n",
    "    \n",
    "    # Get count of coins produced from location\n",
    "    count = location_bar[location_bar['Production place'] == loc]['Sum'].mean()\n",
    "    \n",
    "    # Size of point\n",
    "    size = 5 * np.log(3 * count)\n",
    "    \n",
    "    location_map.iloc[row]['Production_place'] = loc\n",
    "    location_map.iloc[row]['Count'] = count\n",
    "    location_map.iloc[row]['Color'] = colors[19-np.where(counts == count)[0][0]]\n",
    "    location_map.iloc[row]['is_point'] = is_point\n",
    "    location_map.iloc[row]['point_xs'] = point_xs\n",
    "    location_map.iloc[row]['point_ys'] = point_ys\n",
    "    location_map.iloc[row]['Size'] = size\n",
    "    location_map.iloc[row]['patch_xs'] = patch_xs\n",
    "    location_map.iloc[row]['patch_ys'] = patch_ys\n",
    "    row += 1\n",
    "\n",
    "location_map.head()"
   ]
  },
  {
   "cell_type": "code",
   "execution_count": null,
   "metadata": {
    "collapsed": false
   },
   "outputs": [],
   "source": [
    "# Seperate patches and points to seperate dataframes\n",
    "df_patches = location_map[(location_map['is_point'] == False)]\n",
    "df_points = location_map[location_map['is_point'] == True]\n",
    "\n",
    "# Convert patches and points to Bokeh databases\n",
    "source_patches = ColumnDataSource(df_patches)\n",
    "source_points = ColumnDataSource(data=df_points)\n",
    "\n",
    "# Create points and patches graph objects\n",
    "patches = Patches(xs=\"patch_xs\", ys=\"patch_ys\", fill_color=\"Color\",\n",
    "                      fill_alpha=0.8, line_color=\"Color\", line_width=0.5)\n",
    "points = Circle(x=\"point_xs\", y=\"point_ys\", size='Size', fill_color=\"Color\", fill_alpha=.9)\n",
    "\n",
    "# Create plot with map tile\n",
    "location_map_plot = figure(plot_width=1000, plot_height=480,\n",
    "                           active_scroll='wheel_zoom',\n",
    "                           x_range=(-1.0e6, 4.5e6), y_range=(5e6, 6e6))\n",
    "location_map_plot.add_tile(STAMEN_TERRAIN)\n",
    "\n",
    "# Add points and patches objects to graph\n",
    "location_map_plot.add_glyph(source_patches, patches)\n",
    "location_map_plot.add_glyph(source_points, points)\n",
    "\n",
    "# Add tooltips\n",
    "location_map_plot.add_tools(HoverTool())\n",
    "hover = location_map_plot.select(dict(type=HoverTool))\n",
    "hover.tooltips = OrderedDict([\n",
    "    ('Production place', '@Production_place'),\n",
    "    (\"Count\", \"@Count\")\n",
    "    ])\n",
    "\n",
    "save(location_map_plot, filename='location_map.html')\n",
    "show(location_map_plot)"
   ]
  },
  {
   "cell_type": "code",
   "execution_count": null,
   "metadata": {
    "collapsed": true
   },
   "outputs": [],
   "source": []
  }
 ],
 "metadata": {
  "anaconda-cloud": {},
  "kernelspec": {
   "display_name": "Python [conda env:python2]",
   "language": "python",
   "name": "conda-env-python2-py"
  },
  "language_info": {
   "codemirror_mode": {
    "name": "ipython",
    "version": 2
   },
   "file_extension": ".py",
   "mimetype": "text/x-python",
   "name": "python",
   "nbconvert_exporter": "python",
   "pygments_lexer": "ipython2",
   "version": "2.7.13"
  }
 },
 "nbformat": 4,
 "nbformat_minor": 1
}
