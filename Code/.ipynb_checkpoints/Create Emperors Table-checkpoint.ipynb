{
 "cells": [
  {
   "cell_type": "code",
   "execution_count": 7,
   "metadata": {
    "collapsed": true
   },
   "outputs": [],
   "source": [
    "import numpy as np\n",
    "import sqlite3"
   ]
  },
  {
   "cell_type": "code",
   "execution_count": 8,
   "metadata": {
    "collapsed": false
   },
   "outputs": [],
   "source": [
    "emperors = np.load('../Data/Emperors.npy').item()"
   ]
  },
  {
   "cell_type": "code",
   "execution_count": 9,
   "metadata": {
    "collapsed": true
   },
   "outputs": [],
   "source": [
    "conn = sqlite3.connect('''Create TABLE emperors(emperor TEXT, start INTEGER, end INTEGER)''')\n",
    "cur = conn.cursor()"
   ]
  },
  {
   "cell_type": "code",
   "execution_count": null,
   "metadata": {
    "collapsed": true
   },
   "outputs": [],
   "source": []
  },
  {
   "cell_type": "code",
   "execution_count": 6,
   "metadata": {
    "collapsed": false
   },
   "outputs": [
    {
     "data": {
      "text/plain": [
       "{'Aemilianus': (253, 253),\n",
       " 'Anthemius': (467, 472),\n",
       " 'Antoninus Pius': (138, 161),\n",
       " 'Arcadius': (383, 408),\n",
       " 'Augustus': (-27, 14),\n",
       " 'Aurelian': (270, 275),\n",
       " 'Avitus': (455, 456),\n",
       " 'Balbinus': (238, 238),\n",
       " 'Caligula': (37, 41),\n",
       " 'Caracalla': (198, 217),\n",
       " 'Carinus': (283, 285),\n",
       " 'Carus': (282, 283),\n",
       " 'Claudius': (41, 54),\n",
       " 'Claudius Gothicus': (268, 270),\n",
       " 'Commodus': (177, 192),\n",
       " 'Constans I': (337, 350),\n",
       " 'Constantine II': (337, 340),\n",
       " 'Constantine III': (409, 411),\n",
       " 'Constantine the Great': (306, 337),\n",
       " 'Constantius I': (305, 306),\n",
       " 'Constantius II': (337, 361),\n",
       " 'Constantius III': (421, 421),\n",
       " 'Decius': (249, 251),\n",
       " 'Didius Julianus': (193, 193),\n",
       " 'Diocletian': (284, 305),\n",
       " 'Domitian': (81, 96),\n",
       " 'Elagabalus': (218, 222),\n",
       " 'Florianus': (276, 276),\n",
       " 'Galba': (68, 69),\n",
       " 'Galerius': (305, 311),\n",
       " 'Gallienus': (253, 268),\n",
       " 'Geta': (209, 211),\n",
       " 'Glycerius': (473, 474),\n",
       " 'Gordian I': (238, 238),\n",
       " 'Gordian II': (238, 238),\n",
       " 'Gordian III': (238, 244),\n",
       " 'Gratian': (367, 383),\n",
       " 'Hadrian': (117, 138),\n",
       " 'Honorius': (393, 423),\n",
       " 'Hostilian': (251, 251),\n",
       " 'Joannes': (423, 425),\n",
       " 'Jovian': (363, 364),\n",
       " 'Julian': (360, 363),\n",
       " 'Julius Nepos': (474, 475),\n",
       " 'Libius Severus': (461, 465),\n",
       " 'Licinius I': (308, 324),\n",
       " 'Lucius Verus': (161, 169),\n",
       " 'Macrinus': (217, 218),\n",
       " 'Magnus Maximus': (384, 388),\n",
       " 'Majorian': (457, 461),\n",
       " 'Marcian': (450, 457),\n",
       " 'Marcus Aurelius': (161, 180),\n",
       " 'Maxentius': (306, 312),\n",
       " 'Maximian': (286, 305),\n",
       " 'Maximinus II': (311, 313),\n",
       " 'Maximinus Thrax': (235, 238),\n",
       " 'Nero': (54, 68),\n",
       " 'Nerva': (96, 98),\n",
       " 'Numerian': (283, 284),\n",
       " 'Olybrius': (472, 472),\n",
       " 'Otho': (69, 69),\n",
       " 'Pertinax': (193, 193),\n",
       " 'Petronius Maximus': (455, 455),\n",
       " 'Philip the Arab': (244, 249),\n",
       " 'Probus': (276, 282),\n",
       " 'Pupienus': (238, 238),\n",
       " 'Quintillus': (270, 270),\n",
       " 'Romulus Augustulus': (475, 476),\n",
       " 'Septimius Severus': (193, 211),\n",
       " 'Severus Alexander': (222, 235),\n",
       " 'Severus II': (306, 307),\n",
       " 'Tacitus': (275, 276),\n",
       " 'Theodosius I': (379, 395),\n",
       " 'Theodosius II': (402, 450),\n",
       " 'Tiberius': (14, 37),\n",
       " 'Titus': (79, 81),\n",
       " 'Trajan': (98, 117),\n",
       " 'Trebonianus Gallus': (251, 253),\n",
       " 'Valens': (364, 378),\n",
       " 'Valentinian I': (364, 375),\n",
       " 'Valentinian II': (375, 392),\n",
       " 'Valentinian III': (424, 455),\n",
       " 'Valerian': (253, 260),\n",
       " 'Vespasian': (69, 79),\n",
       " 'Vetranio': (350, 350),\n",
       " 'Vitellius': (69, 69)}"
      ]
     },
     "execution_count": 6,
     "metadata": {},
     "output_type": "execute_result"
    }
   ],
   "source": [
    "emperors"
   ]
  },
  {
   "cell_type": "code",
   "execution_count": null,
   "metadata": {
    "collapsed": true
   },
   "outputs": [],
   "source": []
  }
 ],
 "metadata": {
  "anaconda-cloud": {},
  "kernelspec": {
   "display_name": "Python [conda env:python2]",
   "language": "python",
   "name": "conda-env-python2-py"
  },
  "language_info": {
   "codemirror_mode": {
    "name": "ipython",
    "version": 2
   },
   "file_extension": ".py",
   "mimetype": "text/x-python",
   "name": "python",
   "nbconvert_exporter": "python",
   "pygments_lexer": "ipython2",
   "version": "2.7.13"
  }
 },
 "nbformat": 4,
 "nbformat_minor": 1
}
