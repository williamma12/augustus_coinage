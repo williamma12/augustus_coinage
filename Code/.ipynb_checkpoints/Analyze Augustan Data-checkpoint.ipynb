{
 "cells": [
  {
   "cell_type": "code",
   "execution_count": 1,
   "metadata": {},
   "outputs": [],
   "source": [
    "import pandas as pd\n",
    "import numpy as np\n",
    "import sqlite3\n",
    "import bokeh\n",
    "\n",
    "import CleanData as cd\n",
    "import BokehPlots as bp\n",
    "import CoinagePlots as cp\n",
    "\n",
    "# import sys\n",
    "# stdout = sys.stdout\n",
    "# reload(sys)\n",
    "# sys.setdefaultencoding('utf-8')\n",
    "# sys.stdout = stdout"
   ]
  },
  {
   "cell_type": "markdown",
   "metadata": {},
   "source": [
    "## TODO:\n",
    "* Write Documentation for CoinagePlots\n",
    "* 'Radiate crown' in Augustian Era"
   ]
  },
  {
   "cell_type": "code",
   "execution_count": 2,
   "metadata": {},
   "outputs": [],
   "source": [
    "title = 'AugustusCoins_44BC-14AD'\n",
    "fname = title+'.sqlite'"
   ]
  },
  {
   "cell_type": "markdown",
   "metadata": {},
   "source": [
    "# Read in Data"
   ]
  },
  {
   "cell_type": "markdown",
   "metadata": {},
   "source": [
    "### British Museum"
   ]
  },
  {
   "cell_type": "code",
   "execution_count": 3,
   "metadata": {},
   "outputs": [
    {
     "data": {
      "text/html": [
       "<div>\n",
       "<table border=\"1\" class=\"dataframe\">\n",
       "  <thead>\n",
       "    <tr style=\"text-align: right;\">\n",
       "      <th></th>\n",
       "      <th>associatedNames</th>\n",
       "      <th>authority</th>\n",
       "      <th>bibliography</th>\n",
       "      <th>culture</th>\n",
       "      <th>curatorComment</th>\n",
       "      <th>dates</th>\n",
       "      <th>denomination</th>\n",
       "      <th>description</th>\n",
       "      <th>materials</th>\n",
       "      <th>museumNumber</th>\n",
       "      <th>objectType</th>\n",
       "      <th>obverseLegend</th>\n",
       "      <th>mint</th>\n",
       "      <th>reverseLegend</th>\n",
       "      <th>state</th>\n",
       "      <th>subjects</th>\n",
       "      <th>weight</th>\n",
       "      <th>url</th>\n",
       "      <th>source</th>\n",
       "    </tr>\n",
       "  </thead>\n",
       "  <tbody>\n",
       "    <tr>\n",
       "      <th>0</th>\n",
       "      <td>Augustus (Octavian)</td>\n",
       "      <td>Augustus (Octavian)</td>\n",
       "      <td>RPC1 1801</td>\n",
       "      <td></td>\n",
       "      <td></td>\n",
       "      <td>[-27, 14]</td>\n",
       "      <td>?</td>\n",
       "      <td>Bronze coin.(obverse) Head of Augustus r. (rev...</td>\n",
       "      <td>bronze</td>\n",
       "      <td>1997,1206.1</td>\n",
       "      <td>coin</td>\n",
       "      <td></td>\n",
       "      <td>Odessus</td>\n",
       "      <td>ODE</td>\n",
       "      <td>Roman Empire</td>\n",
       "      <td>symbol, emperor/empress</td>\n",
       "      <td>7.45</td>\n",
       "      <td>http://www.britishmuseum.org/research/collecti...</td>\n",
       "      <td>British Museum</td>\n",
       "    </tr>\n",
       "    <tr>\n",
       "      <th>1</th>\n",
       "      <td></td>\n",
       "      <td>Augustus (Octavian)</td>\n",
       "      <td></td>\n",
       "      <td>Greek</td>\n",
       "      <td></td>\n",
       "      <td>[-27, 14]</td>\n",
       "      <td>?</td>\n",
       "      <td>Alloy coin.</td>\n",
       "      <td>alloy</td>\n",
       "      <td>1905,1111.1</td>\n",
       "      <td>coin</td>\n",
       "      <td></td>\n",
       "      <td>Cremna</td>\n",
       "      <td></td>\n",
       "      <td></td>\n",
       "      <td></td>\n",
       "      <td>1.49</td>\n",
       "      <td>http://www.britishmuseum.org/research/collecti...</td>\n",
       "      <td>British Museum</td>\n",
       "    </tr>\n",
       "    <tr>\n",
       "      <th>2</th>\n",
       "      <td></td>\n",
       "      <td>Augustus (Octavian)</td>\n",
       "      <td></td>\n",
       "      <td>Greek</td>\n",
       "      <td></td>\n",
       "      <td>[-27, 14]</td>\n",
       "      <td>?</td>\n",
       "      <td>Alloy coin.</td>\n",
       "      <td>alloy</td>\n",
       "      <td>1936,0220.13</td>\n",
       "      <td>coin</td>\n",
       "      <td></td>\n",
       "      <td>Tyndaris</td>\n",
       "      <td></td>\n",
       "      <td></td>\n",
       "      <td></td>\n",
       "      <td>7.41</td>\n",
       "      <td>http://www.britishmuseum.org/research/collecti...</td>\n",
       "      <td>British Museum</td>\n",
       "    </tr>\n",
       "    <tr>\n",
       "      <th>3</th>\n",
       "      <td></td>\n",
       "      <td>Augustus (Octavian)</td>\n",
       "      <td></td>\n",
       "      <td>Roman Provincial</td>\n",
       "      <td></td>\n",
       "      <td>[-27, 14]</td>\n",
       "      <td>?</td>\n",
       "      <td>Alloy coin.</td>\n",
       "      <td>alloy</td>\n",
       "      <td>G.329</td>\n",
       "      <td>coin</td>\n",
       "      <td></td>\n",
       "      <td>Africa</td>\n",
       "      <td></td>\n",
       "      <td>Roman Empire</td>\n",
       "      <td></td>\n",
       "      <td>29.02</td>\n",
       "      <td>http://www.britishmuseum.org/research/collecti...</td>\n",
       "      <td>British Museum</td>\n",
       "    </tr>\n",
       "    <tr>\n",
       "      <th>4</th>\n",
       "      <td></td>\n",
       "      <td>Augustus (Octavian)</td>\n",
       "      <td></td>\n",
       "      <td>Roman Provincial</td>\n",
       "      <td></td>\n",
       "      <td>[-27, 14]</td>\n",
       "      <td>?</td>\n",
       "      <td>Alloy coin.</td>\n",
       "      <td>alloy</td>\n",
       "      <td>G.328</td>\n",
       "      <td>coin</td>\n",
       "      <td></td>\n",
       "      <td>Mauretania</td>\n",
       "      <td></td>\n",
       "      <td>Roman Empire</td>\n",
       "      <td></td>\n",
       "      <td>27.54</td>\n",
       "      <td>http://www.britishmuseum.org/research/collecti...</td>\n",
       "      <td>British Museum</td>\n",
       "    </tr>\n",
       "  </tbody>\n",
       "</table>\n",
       "</div>"
      ],
      "text/plain": [
       "       associatedNames            authority bibliography           culture  \\\n",
       "0  Augustus (Octavian)  Augustus (Octavian)    RPC1 1801                     \n",
       "1                       Augustus (Octavian)                          Greek   \n",
       "2                       Augustus (Octavian)                          Greek   \n",
       "3                       Augustus (Octavian)               Roman Provincial   \n",
       "4                       Augustus (Octavian)               Roman Provincial   \n",
       "\n",
       "  curatorComment      dates denomination  \\\n",
       "0                 [-27, 14]            ?   \n",
       "1                 [-27, 14]            ?   \n",
       "2                 [-27, 14]            ?   \n",
       "3                 [-27, 14]            ?   \n",
       "4                 [-27, 14]            ?   \n",
       "\n",
       "                                         description materials  museumNumber  \\\n",
       "0  Bronze coin.(obverse) Head of Augustus r. (rev...    bronze   1997,1206.1   \n",
       "1                                        Alloy coin.     alloy   1905,1111.1   \n",
       "2                                        Alloy coin.     alloy  1936,0220.13   \n",
       "3                                        Alloy coin.     alloy         G.329   \n",
       "4                                        Alloy coin.     alloy         G.328   \n",
       "\n",
       "  objectType obverseLegend        mint reverseLegend         state  \\\n",
       "0       coin                   Odessus           ODE  Roman Empire   \n",
       "1       coin                    Cremna                               \n",
       "2       coin                  Tyndaris                               \n",
       "3       coin                    Africa                Roman Empire   \n",
       "4       coin                Mauretania                Roman Empire   \n",
       "\n",
       "                  subjects  weight  \\\n",
       "0  symbol, emperor/empress    7.45   \n",
       "1                             1.49   \n",
       "2                             7.41   \n",
       "3                            29.02   \n",
       "4                            27.54   \n",
       "\n",
       "                                                 url          source  \n",
       "0  http://www.britishmuseum.org/research/collecti...  British Museum  \n",
       "1  http://www.britishmuseum.org/research/collecti...  British Museum  \n",
       "2  http://www.britishmuseum.org/research/collecti...  British Museum  \n",
       "3  http://www.britishmuseum.org/research/collecti...  British Museum  \n",
       "4  http://www.britishmuseum.org/research/collecti...  British Museum  "
      ]
     },
     "execution_count": 3,
     "metadata": {},
     "output_type": "execute_result"
    }
   ],
   "source": [
    "museum = 'britishMuseum'\n",
    "bad_locations = ['Alexandria', 'Cos', 'Apamea', 'Philippi', 'Thrace', \n",
    "                 'Achulla', 'Arabia', 'Orthosia', 'Sebaste', 'Prymnessus', \n",
    "                 'Acmonea', 'Antiochia', 'Eucarpea', 'Chalkis', 'Apollonia', \n",
    "                 'Midaeum', 'Magnetes', 'Heraclea Salbace', 'Gaul', 'Bilbilis|Italica',\n",
    "                 'Spain II', 'Lyon', '']\n",
    "conds = [['NOT IN', 'mint', bad_locations]]\n",
    "mints_bm = cd.readQuery(fname, museum, conditions=conds)\n",
    "mints_bm['dates'] = mints_bm['dates'].apply(cd.stringToList(valType=int))\n",
    "mints_bm.head()"
   ]
  },
  {
   "cell_type": "code",
   "execution_count": 4,
   "metadata": {},
   "outputs": [],
   "source": [
    "museum = 'americanNumismaticSociety'\n",
    "bad_locations = ['', 'uncertain', 'Uncertain value', 'Bilbilis|Italica']\n",
    "conds = [['NOT IN', 'mint', bad_locations]]\n",
    "mints_ans = cd.readQuery(fname, museum, conditions=conds)"
   ]
  },
  {
   "cell_type": "markdown",
   "metadata": {},
   "source": [
    "# Plot Data\n",
    "* Plot all data together in plots\n",
    "* Split up data and plot seperately"
   ]
  },
  {
   "cell_type": "markdown",
   "metadata": {},
   "source": [
    "### British Museum"
   ]
  },
  {
   "cell_type": "code",
   "execution_count": 5,
   "metadata": {},
   "outputs": [],
   "source": [
    "from bokeh.io import output_notebook, save\n",
    "from bokeh.plotting import show"
   ]
  },
  {
   "cell_type": "code",
   "execution_count": null,
   "metadata": {},
   "outputs": [],
   "source": [
    "#output_notebook()"
   ]
  },
  {
   "cell_type": "code",
   "execution_count": null,
   "metadata": {
    "collapsed": true
   },
   "outputs": [],
   "source": [
    "location_bar_plot = cp.makeCoinageStackedBar(mints_bm, y_range=(0, 500), title='Number of coins produced from each location')\n",
    "# save(location_bar_plot, filename='../Plots/location_bar.html')\n",
    "show(location_bar_plot)"
   ]
  },
  {
   "cell_type": "code",
   "execution_count": null,
   "metadata": {
    "collapsed": true
   },
   "outputs": [],
   "source": [
    "location_map_plot = cp.makeCoinageMap(mints_bm, title='Number of coins produced from each location', \n",
    "                                   pt_size=lambda x: 5 * np.log(3 * x), colors_ascending=False)\n",
    "#save(location_map_plot, filename='../Plots/location_map.html')\n",
    "show(location_map_plot)"
   ]
  },
  {
   "cell_type": "markdown",
   "metadata": {
    "collapsed": true
   },
   "source": [
    "### Individual time periods and subjects"
   ]
  },
  {
   "cell_type": "code",
   "execution_count": 6,
   "metadata": {
    "collapsed": true
   },
   "outputs": [],
   "source": [
    "from bokeh.layouts import gridplot"
   ]
  },
  {
   "cell_type": "code",
   "execution_count": 7,
   "metadata": {},
   "outputs": [],
   "source": [
    "mints_with_desc = mints_bm[mints_bm['description'] != '']"
   ]
  },
  {
   "cell_type": "code",
   "execution_count": null,
   "metadata": {},
   "outputs": [],
   "source": [
    "date_ranges = [(-44, -31), (-30, -27), (-27, -19), (-18, -16), (-15, -11), (-10, 13)]\n",
    "subjects = [(['star'], ['description']), (['statue of Augustus'], ['description']), \n",
    "            (['capricorn', 'globe', 'rudder'], ['description' for _ in range(3)]), \n",
    "            (['Julius Caesar'], ['associatedNames']), \n",
    "            (['Apollo', 'lyre'], ['description', 'description'])]\n",
    "good_dfs = {}\n",
    "grid_plots = []\n",
    "\n",
    "for dates in date_ranges:\n",
    "    for subject in subjects:\n",
    "        plot_title = cp.makeTitle(dates=dates, subjects=subject[0])\n",
    "        contain_dates = mints_with_desc[cp.coinsFromDates(mints_with_desc, dates, col_name='dates')]\n",
    "        good_df = cp.containKeyword(contain_dates, subject[0], subject[1])\n",
    "        \n",
    "        if not good_df.empty:\n",
    "            good_dfs[plot_title] = good_df\n",
    "            bar_plot = cp.makeCoinageStackedBar(good_df, x_col='mint', stack_col='denomination', \n",
    "                                                title=plot_title+' Stacked Bar Graph', plot_size=(480, 480))\n",
    "            map_plot = cp.makeCoinageMap(good_df, mint_col='mint', pt_size=lambda x: 10 * x, title=plot_title+\" Map\")\n",
    "            grid_plots.append([bar_plot, map_plot])\n",
    "\n",
    "grid = gridplot(grid_plots)\n",
    "# Saving not supported so show plot and save the page\n",
    "show(grid)"
   ]
  },
  {
   "cell_type": "code",
   "execution_count": 14,
   "metadata": {},
   "outputs": [],
   "source": [
    "subjects = [(['radiate'], ['description'])]\n",
    "grid_plots = []\n",
    "good_dfs = {}\n",
    "\n",
    "for subject in subjects:\n",
    "    plot_title = cp.makeTitle(subjects=subject[0])\n",
    "    good_df = cp.containKeyword(mints_with_desc, subject[0], subject[1])\n",
    "\n",
    "    if not good_df.empty:\n",
    "        good_dfs[plot_title] = good_df\n",
    "        bar_plot = cp.makeCoinageStackedBar(good_df, x_col='mint', stack_col='denomination', \n",
    "                                            title=plot_title+' Stacked Bar Graph', plot_size=(480, 480))\n",
    "        map_plot = cp.makeCoinageMap(good_df, mint_col='mint', pt_size=lambda x: 5 * np.log(5*x), \n",
    "                                     title=plot_title+\" Map\")\n",
    "        grid_plots.append([bar_plot, map_plot])\n",
    "\n",
    "grid = gridplot(grid_plots)\n",
    "# Saving not supported so show plot and save the page\n",
    "show(grid)"
   ]
  },
  {
   "cell_type": "code",
   "execution_count": null,
   "metadata": {
    "collapsed": true
   },
   "outputs": [],
   "source": []
  }
 ],
 "metadata": {
  "anaconda-cloud": {},
  "kernelspec": {
   "display_name": "roman_coinage",
   "language": "python",
   "name": "roman_coinage"
  },
  "language_info": {
   "codemirror_mode": {
    "name": "ipython",
    "version": 3
   },
   "file_extension": ".py",
   "mimetype": "text/x-python",
   "name": "python",
   "nbconvert_exporter": "python",
   "pygments_lexer": "ipython3",
   "version": "3.6.1"
  }
 },
 "nbformat": 4,
 "nbformat_minor": 1
}
