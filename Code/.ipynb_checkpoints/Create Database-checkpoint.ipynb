{
 "cells": [
  {
   "cell_type": "code",
   "execution_count": 3,
   "metadata": {
    "collapsed": false
   },
   "outputs": [],
   "source": [
    "from sqlalchemy import types\n",
    "from StringIO import StringIO\n",
    "import sqlite3\n",
    "import CleanData as cd\n",
    "import numpy as np\n",
    "import pandas as pd"
   ]
  },
  {
   "cell_type": "markdown",
   "metadata": {},
   "source": [
    "# Clean Data"
   ]
  },
  {
   "cell_type": "markdown",
   "metadata": {},
   "source": [
    "### British Museum"
   ]
  },
  {
   "cell_type": "code",
   "execution_count": 4,
   "metadata": {
    "collapsed": true
   },
   "outputs": [],
   "source": [
    "title = 'Roman_Imperial_Coinage'"
   ]
  },
  {
   "cell_type": "code",
   "execution_count": 5,
   "metadata": {
    "collapsed": false
   },
   "outputs": [],
   "source": [
    "# Read in data and convert to appropriate types\n",
    "bm_df = pd.read_csv('../Data/BM_'+title+'.csv',\n",
    "                 converters={\"Authority\": cd.stringToList(), 'Associated names': cd.stringToList(), \n",
    "                             'Subjects': cd.stringToList(), 'Inscriptions': cd.stringToListofDicts('|', ';', ':')})\n",
    "bm_df = pd.concat([bm_df, cd.cleanInscriptions(bm_df)], axis=1)\n",
    "bm_df = bm_df.drop('Unnamed: 0', 1)\n",
    "bm_df = bm_df.replace(np.nan, '', regex=True)\n",
    "bm_df = bm_df.rename(columns = {'Culture/period':'Culture'})"
   ]
  },
  {
   "cell_type": "code",
   "execution_count": 6,
   "metadata": {
    "collapsed": false
   },
   "outputs": [],
   "source": [
    "# Clean data to only retain relevant information\n",
    "mask = ((bm_df['Object type'] == 'coin ') & (bm_df['Date'].str.find('stC') == -1))\n",
    "filtered = bm_df[mask]\n",
    "\n",
    "lists = ['Authority', 'Subjects', 'Associated names', 'Obverse legend', 'Reverse legend']\n",
    "strings = ['Museum number', 'Denomination', 'Description', 'State', 'Culture', 'Materials', \n",
    "            'Curator\\'s comments', 'Bibliography', 'Object type', \"Production place\"]\n",
    "floats = ['Weight (g)']\n",
    "dates = ['Date']\n",
    "redundant_notes = ['Production place', 'Denomination']\n",
    "do_nothing = ['url', 'Inscriptions']\n",
    "duplicate_cols = ['Authority', 'Date', 'Production place', 'Description', 'Subjects', \"Curator's comments\",\n",
    "                  'Obverse legend', 'Reverse legend']\n",
    "\n",
    "cleaned_bm = cd.cleanDF(filtered, lists, strings, floats, dates, redundant_notes, do_nothing, duplicate_cols)\n",
    "cleaned_bm = cleaned_bm.drop('Inscriptions', 1)\n",
    "cleaned_bm['Source'] = 'British Museum'\n",
    "#cleaned_bm.head()"
   ]
  },
  {
   "cell_type": "code",
   "execution_count": 7,
   "metadata": {
    "collapsed": false
   },
   "outputs": [],
   "source": [
    "# Convert everything to strings and integers to put into SQL db\n",
    "lists = ['Authority', 'Subjects', 'Associated names', 'Obverse legend', 'Reverse legend', 'Date']\n",
    "for col in lists:\n",
    "    cleaned_bm[col] = cleaned_bm[col].apply(cd.listToString())\n",
    "\n",
    "columns = [u'Associated names', u'Authority', u'Bibliography', u'Culture',\n",
    "       u'Curator\\'s comments', u'Date', u'Denomination', u'Description',\n",
    "       u'Materials', u'Museum number', u'Object type', u'Obverse legend',\n",
    "       u'Production place', u'Reverse legend', u'State', u'Subjects',\n",
    "       u'url', u'Source']\n",
    "for col in columns:\n",
    "    cleaned_bm[col] = cleaned_bm[col].apply(lambda x: x.decode('utf-8'))\n",
    "    \n",
    "cleaned_bm.columns = ['associatedNames', 'authority', 'bibliography', 'culture',\n",
    "                       'curatorComment', 'date', 'denomination', 'description',\n",
    "                       'materials', 'museumNumber', 'objectType', 'obverseLegend',\n",
    "                       'mint', 'reverseLegend', 'state', 'subjects',\n",
    "                       'weight', 'url', 'source']"
   ]
  },
  {
   "cell_type": "code",
   "execution_count": 8,
   "metadata": {
    "collapsed": false
   },
   "outputs": [
    {
     "data": {
      "text/html": [
       "<div>\n",
       "<table border=\"1\" class=\"dataframe\">\n",
       "  <thead>\n",
       "    <tr style=\"text-align: right;\">\n",
       "      <th></th>\n",
       "      <th>associatedNames</th>\n",
       "      <th>authority</th>\n",
       "      <th>bibliography</th>\n",
       "      <th>culture</th>\n",
       "      <th>curatorComment</th>\n",
       "      <th>date</th>\n",
       "      <th>denomination</th>\n",
       "      <th>description</th>\n",
       "      <th>materials</th>\n",
       "      <th>museumNumber</th>\n",
       "      <th>objectType</th>\n",
       "      <th>obverseLegend</th>\n",
       "      <th>mint</th>\n",
       "      <th>reverseLegend</th>\n",
       "      <th>state</th>\n",
       "      <th>subjects</th>\n",
       "      <th>weight</th>\n",
       "      <th>url</th>\n",
       "      <th>source</th>\n",
       "    </tr>\n",
       "  </thead>\n",
       "  <tbody>\n",
       "    <tr>\n",
       "      <th>22033</th>\n",
       "      <td>Antinous, Demeter/Ceres</td>\n",
       "      <td>Hadrian</td>\n",
       "      <td>BMC Greek (Mysia) 13, p.4 PCG 86.3, p. (pl. 47...</td>\n",
       "      <td>Roman Provincial</td>\n",
       "      <td>The young courtier Antinous died suddenly in A...</td>\n",
       "      <td>130, 138</td>\n",
       "      <td>?</td>\n",
       "      <td>Alloy coin.(obverse) Bare head of Antinous, ri...</td>\n",
       "      <td>alloy</td>\n",
       "      <td>1844,0425.1609</td>\n",
       "      <td>coin</td>\n",
       "      <td>AHTINOOC IAKXOC</td>\n",
       "      <td>Adramyteum,</td>\n",
       "      <td>ECIOC AN  HKE A  PAMVTHNOIC</td>\n",
       "      <td>Roman Empire</td>\n",
       "      <td>classical deity</td>\n",
       "      <td>26.69</td>\n",
       "      <td>http://www.britishmuseum.org/research/collecti...</td>\n",
       "      <td>British Museum</td>\n",
       "    </tr>\n",
       "    <tr>\n",
       "      <th>22034</th>\n",
       "      <td>Constantine the Great</td>\n",
       "      <td>Constantine the Great</td>\n",
       "      <td>RIC6 65, p.407 (type)</td>\n",
       "      <td>Roman Imperial</td>\n",
       "      <td></td>\n",
       "      <td>312, 313</td>\n",
       "      <td>solidus</td>\n",
       "      <td>Gold coin.(obverse) Bust of Constantine I, dra...</td>\n",
       "      <td>gold</td>\n",
       "      <td>1896,0608.98</td>\n",
       "      <td>coin</td>\n",
       "      <td>IMP CONSTANTINVS P F AVG</td>\n",
       "      <td>Ostia,</td>\n",
       "      <td>PRINCIPI IVVENTVTIS</td>\n",
       "      <td>Roman Empire</td>\n",
       "      <td>emperor/empress</td>\n",
       "      <td>8.49</td>\n",
       "      <td>http://www.britishmuseum.org/research/collecti...</td>\n",
       "      <td>British Museum</td>\n",
       "    </tr>\n",
       "    <tr>\n",
       "      <th>22035</th>\n",
       "      <td>Hadrian</td>\n",
       "      <td>Hadrian</td>\n",
       "      <td>RE3 1209, p. 417 Strack (Hadrian) 557 (var = f...</td>\n",
       "      <td>Roman Imperial</td>\n",
       "      <td></td>\n",
       "      <td>117, 138</td>\n",
       "      <td>sestertius</td>\n",
       "      <td>on the left, three citizens in front and one b...</td>\n",
       "      <td>copper alloy</td>\n",
       "      <td>1869,0507.7</td>\n",
       "      <td>coin</td>\n",
       "      <td>IMP CAESAR TRAIANVS HADRIANVS AVG P M TR P COS...</td>\n",
       "      <td>Rome,</td>\n",
       "      <td>RELIQVA VETERA HS N[OVIES] MILL ABOLITA</td>\n",
       "      <td>Roman Empire</td>\n",
       "      <td>politics, emperor/empress</td>\n",
       "      <td>24.07</td>\n",
       "      <td>http://www.britishmuseum.org/research/collecti...</td>\n",
       "      <td>British Museum</td>\n",
       "    </tr>\n",
       "    <tr>\n",
       "      <th>22036</th>\n",
       "      <td>Hadrian</td>\n",
       "      <td>Hadrian</td>\n",
       "      <td>RE3 1207, p. 417 Strack (Hadrian) 557 RIC2 592...</td>\n",
       "      <td>Roman Imperial</td>\n",
       "      <td></td>\n",
       "      <td>117, 138</td>\n",
       "      <td>sestertius</td>\n",
       "      <td>on the left, three citizens (two in front, one...</td>\n",
       "      <td>copper alloy</td>\n",
       "      <td>1872,0709.561</td>\n",
       "      <td>coin</td>\n",
       "      <td>IMP CAESAR TRAIANVS HADRIANVS AVG P M TR P COS...</td>\n",
       "      <td>Rome,</td>\n",
       "      <td>RELIQVA VETERA HS NOVIES MILL ABOLITA</td>\n",
       "      <td>Roman Empire</td>\n",
       "      <td>politics, emperor/empress</td>\n",
       "      <td>20.64</td>\n",
       "      <td>http://www.britishmuseum.org/research/collecti...</td>\n",
       "      <td>British Museum</td>\n",
       "    </tr>\n",
       "    <tr>\n",
       "      <th>22037</th>\n",
       "      <td>Constantine the Great</td>\n",
       "      <td>Constantine the Great</td>\n",
       "      <td>RIC7 p275.381</td>\n",
       "      <td>Roman Imperial</td>\n",
       "      <td>maiorina (big [coins]) and centenionalis (a ‘h...</td>\n",
       "      <td>334</td>\n",
       "      <td>nummus</td>\n",
       "      <td>Copper alloy coin.(obverse) Diademed, draped a...</td>\n",
       "      <td>copper alloy</td>\n",
       "      <td>B.1746</td>\n",
       "      <td>coin</td>\n",
       "      <td>CONSTANTINVS MAX AVG</td>\n",
       "      <td>Arles,</td>\n",
       "      <td>GLORIA EXERCITVS</td>\n",
       "      <td>Roman Empire</td>\n",
       "      <td>soldier, emperor/empress</td>\n",
       "      <td>2.28</td>\n",
       "      <td>http://www.britishmuseum.org/research/collecti...</td>\n",
       "      <td>British Museum</td>\n",
       "    </tr>\n",
       "  </tbody>\n",
       "</table>\n",
       "</div>"
      ],
      "text/plain": [
       "               associatedNames              authority  \\\n",
       "22033  Antinous, Demeter/Ceres                Hadrian   \n",
       "22034    Constantine the Great  Constantine the Great   \n",
       "22035                  Hadrian                Hadrian   \n",
       "22036                  Hadrian                Hadrian   \n",
       "22037    Constantine the Great  Constantine the Great   \n",
       "\n",
       "                                            bibliography           culture  \\\n",
       "22033  BMC Greek (Mysia) 13, p.4 PCG 86.3, p. (pl. 47...  Roman Provincial   \n",
       "22034                              RIC6 65, p.407 (type)    Roman Imperial   \n",
       "22035  RE3 1209, p. 417 Strack (Hadrian) 557 (var = f...    Roman Imperial   \n",
       "22036  RE3 1207, p. 417 Strack (Hadrian) 557 RIC2 592...    Roman Imperial   \n",
       "22037                                      RIC7 p275.381    Roman Imperial   \n",
       "\n",
       "                                          curatorComment      date  \\\n",
       "22033  The young courtier Antinous died suddenly in A...  130, 138   \n",
       "22034                                                     312, 313   \n",
       "22035                                                     117, 138   \n",
       "22036                                                     117, 138   \n",
       "22037  maiorina (big [coins]) and centenionalis (a ‘h...       334   \n",
       "\n",
       "      denomination                                        description  \\\n",
       "22033            ?  Alloy coin.(obverse) Bare head of Antinous, ri...   \n",
       "22034      solidus  Gold coin.(obverse) Bust of Constantine I, dra...   \n",
       "22035   sestertius  on the left, three citizens in front and one b...   \n",
       "22036   sestertius  on the left, three citizens (two in front, one...   \n",
       "22037       nummus  Copper alloy coin.(obverse) Diademed, draped a...   \n",
       "\n",
       "          materials    museumNumber objectType  \\\n",
       "22033         alloy  1844,0425.1609       coin   \n",
       "22034          gold    1896,0608.98       coin   \n",
       "22035  copper alloy     1869,0507.7       coin   \n",
       "22036  copper alloy   1872,0709.561       coin   \n",
       "22037  copper alloy          B.1746       coin   \n",
       "\n",
       "                                           obverseLegend         mint  \\\n",
       "22033                                    AHTINOOC IAKXOC  Adramyteum,   \n",
       "22034                           IMP CONSTANTINVS P F AVG       Ostia,   \n",
       "22035  IMP CAESAR TRAIANVS HADRIANVS AVG P M TR P COS...        Rome,   \n",
       "22036  IMP CAESAR TRAIANVS HADRIANVS AVG P M TR P COS...        Rome,   \n",
       "22037                               CONSTANTINVS MAX AVG       Arles,   \n",
       "\n",
       "                                 reverseLegend         state  \\\n",
       "22033              ECIOC AN  HKE A  PAMVTHNOIC  Roman Empire   \n",
       "22034                      PRINCIPI IVVENTVTIS  Roman Empire   \n",
       "22035  RELIQVA VETERA HS N[OVIES] MILL ABOLITA  Roman Empire   \n",
       "22036    RELIQVA VETERA HS NOVIES MILL ABOLITA  Roman Empire   \n",
       "22037                         GLORIA EXERCITVS  Roman Empire   \n",
       "\n",
       "                        subjects  weight  \\\n",
       "22033            classical deity   26.69   \n",
       "22034            emperor/empress    8.49   \n",
       "22035  politics, emperor/empress   24.07   \n",
       "22036  politics, emperor/empress   20.64   \n",
       "22037   soldier, emperor/empress    2.28   \n",
       "\n",
       "                                                     url          source  \n",
       "22033  http://www.britishmuseum.org/research/collecti...  British Museum  \n",
       "22034  http://www.britishmuseum.org/research/collecti...  British Museum  \n",
       "22035  http://www.britishmuseum.org/research/collecti...  British Museum  \n",
       "22036  http://www.britishmuseum.org/research/collecti...  British Museum  \n",
       "22037  http://www.britishmuseum.org/research/collecti...  British Museum  "
      ]
     },
     "execution_count": 8,
     "metadata": {},
     "output_type": "execute_result"
    }
   ],
   "source": [
    "cleaned_bm.tail()"
   ]
  },
  {
   "cell_type": "markdown",
   "metadata": {},
   "source": [
    "### American Numismatic Society"
   ]
  },
  {
   "cell_type": "code",
   "execution_count": 7,
   "metadata": {
    "collapsed": false
   },
   "outputs": [],
   "source": [
    "ans_df = pd.read_csv('../Data/ANS_'+title+'.csv',\n",
    "                    converters={\"Authority\": cd.stringToList('|'), 'Year': cd.stringToList('|'),\n",
    "                               'Issuer': cd.stringToList('|'), 'Portrait': cd.stringToList('|'),\n",
    "                               'Reference': cd.stringToList('|')})\n",
    "ans_df = ans_df.replace(np.nan, '', regex=True)\n",
    "ans_df['Description'] = ans_df.apply(lambda row: cd.makeDescription(row['Material'], row['Manufacture'], row['Obverse Type'], row['Reverse Type']), axis=1)\n",
    "#ans_df.tail()"
   ]
  },
  {
   "cell_type": "code",
   "execution_count": 8,
   "metadata": {
    "collapsed": false
   },
   "outputs": [
    {
     "data": {
      "text/plain": [
       "Index([u'Authority', u'Deity', u'Denomination', u'Description', u'Issuer',\n",
       "       u'Mint', u'Obverse Legend', u'Portrait', u'Reference',\n",
       "       u'Reverse Legend', u'URI', u'Weight', u'Year', u'Source'],\n",
       "      dtype='object')"
      ]
     },
     "execution_count": 8,
     "metadata": {},
     "output_type": "execute_result"
    }
   ],
   "source": [
    "lists = ['Year', 'Authority', 'Issuer', 'Portrait', 'Reference']\n",
    "strings = ['Deity', 'Denomination', 'Mint', 'Description', 'Obverse Legend', 'Reverse Legend']\n",
    "floats = ['Weight']\n",
    "dates = []\n",
    "redundant_notes = []\n",
    "do_nothing = ['URI']\n",
    "duplicate_cols = ['Issuer', 'Year', 'Mint', 'Deity', 'Description', 'Obverse Legend', 'Reverse Legend']\n",
    "\n",
    "cleaned_ans = cd.cleanDF(ans_df, lists, strings, floats, dates, redundant_notes, do_nothing, \n",
    "                              duplicate_cols, production_place='Mint')\n",
    "cleaned_ans['Source'] = 'British Museum'\n",
    "cleaned_ans.tail()\n",
    "cleaned_ans.columns"
   ]
  },
  {
   "cell_type": "code",
   "execution_count": 9,
   "metadata": {
    "collapsed": false
   },
   "outputs": [
    {
     "data": {
      "text/html": [
       "<div>\n",
       "<table border=\"1\" class=\"dataframe\">\n",
       "  <thead>\n",
       "    <tr style=\"text-align: right;\">\n",
       "      <th></th>\n",
       "      <th>Authority</th>\n",
       "      <th>Deity</th>\n",
       "      <th>Denomination</th>\n",
       "      <th>Description</th>\n",
       "      <th>Issuer</th>\n",
       "      <th>Mint</th>\n",
       "      <th>Obverse Legend</th>\n",
       "      <th>Portrait</th>\n",
       "      <th>Reference</th>\n",
       "      <th>Reverse Legend</th>\n",
       "      <th>URI</th>\n",
       "      <th>Weight</th>\n",
       "      <th>Year</th>\n",
       "      <th>Source</th>\n",
       "    </tr>\n",
       "  </thead>\n",
       "  <tbody>\n",
       "    <tr>\n",
       "      <th>0</th>\n",
       "      <td>Augustus</td>\n",
       "      <td></td>\n",
       "      <td>As</td>\n",
       "      <td>Struck Bronze. (obverse) Augustus head right. ...</td>\n",
       "      <td></td>\n",
       "      <td>Ephesus</td>\n",
       "      <td>CAESAR</td>\n",
       "      <td>Augustus</td>\n",
       "      <td>RIC I (second edition) Augustus 486</td>\n",
       "      <td>AVGVSTVS</td>\n",
       "      <td>http://numismatics.org/search/id/1944.100.39200</td>\n",
       "      <td>11.10</td>\n",
       "      <td>-25</td>\n",
       "      <td>British Museum</td>\n",
       "    </tr>\n",
       "    <tr>\n",
       "      <th>1</th>\n",
       "      <td>Augustus</td>\n",
       "      <td></td>\n",
       "      <td>As</td>\n",
       "      <td>Struck Bronze.</td>\n",
       "      <td></td>\n",
       "      <td>Ephesus</td>\n",
       "      <td>CAESAR</td>\n",
       "      <td>Augustus</td>\n",
       "      <td>BMC.731, RIC I (second edition) Augustus 486</td>\n",
       "      <td>AVGVSTVS</td>\n",
       "      <td>http://numismatics.org/search/id/1952.142.117</td>\n",
       "      <td>10.92</td>\n",
       "      <td>-25</td>\n",
       "      <td>British Museum</td>\n",
       "    </tr>\n",
       "    <tr>\n",
       "      <th>2</th>\n",
       "      <td>Augustus</td>\n",
       "      <td></td>\n",
       "      <td>Aureus</td>\n",
       "      <td>Struck Gold.</td>\n",
       "      <td></td>\n",
       "      <td>Colonia Patricia</td>\n",
       "      <td></td>\n",
       "      <td>Augustus</td>\n",
       "      <td>BMC.345v, RIC I (second edition) Augustus 50A</td>\n",
       "      <td></td>\n",
       "      <td>http://numismatics.org/search/id/1957.172.1489</td>\n",
       "      <td>3.66</td>\n",
       "      <td>-20, -19</td>\n",
       "      <td>British Museum</td>\n",
       "    </tr>\n",
       "    <tr>\n",
       "      <th>3</th>\n",
       "      <td>Augustus</td>\n",
       "      <td></td>\n",
       "      <td>Aureus</td>\n",
       "      <td>Struck Gold. (obverse) Head of Augustus, laure...</td>\n",
       "      <td></td>\n",
       "      <td>Lugdunum</td>\n",
       "      <td>AVGVSTVS DIVI F</td>\n",
       "      <td>Augustus</td>\n",
       "      <td>BMC.492, RIC I (second edition) Augustus 200</td>\n",
       "      <td>IMP XIIII</td>\n",
       "      <td>http://numismatics.org/search/id/0000.999.16779</td>\n",
       "      <td>7.88</td>\n",
       "      <td>-9</td>\n",
       "      <td>British Museum</td>\n",
       "    </tr>\n",
       "    <tr>\n",
       "      <th>4</th>\n",
       "      <td>Augustus</td>\n",
       "      <td></td>\n",
       "      <td>Denarius</td>\n",
       "      <td>Bronze. (obverse) Bare head r.. (reverse) Fema...</td>\n",
       "      <td>Augustus</td>\n",
       "      <td></td>\n",
       "      <td>AVGVSTVS DIVI F</td>\n",
       "      <td>Augustus</td>\n",
       "      <td></td>\n",
       "      <td>IMP X ACT</td>\n",
       "      <td>http://numismatics.org/search/id/1944.27.9</td>\n",
       "      <td>0.00</td>\n",
       "      <td>-26, 14</td>\n",
       "      <td>British Museum</td>\n",
       "    </tr>\n",
       "  </tbody>\n",
       "</table>\n",
       "</div>"
      ],
      "text/plain": [
       "  Authority Deity Denomination  \\\n",
       "0  Augustus                 As   \n",
       "1  Augustus                 As   \n",
       "2  Augustus             Aureus   \n",
       "3  Augustus             Aureus   \n",
       "4  Augustus           Denarius   \n",
       "\n",
       "                                         Description    Issuer  \\\n",
       "0  Struck Bronze. (obverse) Augustus head right. ...             \n",
       "1                                     Struck Bronze.             \n",
       "2                                       Struck Gold.             \n",
       "3  Struck Gold. (obverse) Head of Augustus, laure...             \n",
       "4  Bronze. (obverse) Bare head r.. (reverse) Fema...  Augustus   \n",
       "\n",
       "               Mint   Obverse Legend  Portrait  \\\n",
       "0           Ephesus           CAESAR  Augustus   \n",
       "1           Ephesus           CAESAR  Augustus   \n",
       "2  Colonia Patricia                   Augustus   \n",
       "3          Lugdunum  AVGVSTVS DIVI F  Augustus   \n",
       "4                    AVGVSTVS DIVI F  Augustus   \n",
       "\n",
       "                                       Reference Reverse Legend  \\\n",
       "0            RIC I (second edition) Augustus 486       AVGVSTVS   \n",
       "1   BMC.731, RIC I (second edition) Augustus 486       AVGVSTVS   \n",
       "2  BMC.345v, RIC I (second edition) Augustus 50A                  \n",
       "3   BMC.492, RIC I (second edition) Augustus 200      IMP XIIII   \n",
       "4                                                     IMP X ACT   \n",
       "\n",
       "                                               URI  Weight      Year  \\\n",
       "0  http://numismatics.org/search/id/1944.100.39200   11.10       -25   \n",
       "1    http://numismatics.org/search/id/1952.142.117   10.92       -25   \n",
       "2   http://numismatics.org/search/id/1957.172.1489    3.66  -20, -19   \n",
       "3  http://numismatics.org/search/id/0000.999.16779    7.88        -9   \n",
       "4       http://numismatics.org/search/id/1944.27.9    0.00   -26, 14   \n",
       "\n",
       "           Source  \n",
       "0  British Museum  \n",
       "1  British Museum  \n",
       "2  British Museum  \n",
       "3  British Museum  \n",
       "4  British Museum  "
      ]
     },
     "execution_count": 9,
     "metadata": {},
     "output_type": "execute_result"
    }
   ],
   "source": [
    "# Convert everything to strings and integers to put into SQL db\n",
    "lists = ['Year', 'Authority', 'Issuer', 'Portrait', 'Reference']\n",
    "for col in lists:\n",
    "    cleaned_ans[col] = cleaned_ans[col].apply(cd.listToString())\n",
    "\n",
    "columns = [u'Authority', u'Deity', u'Denomination', u'Description', u'Issuer',\n",
    "       u'Mint', u'Obverse Legend', u'Portrait', u'Reference',\n",
    "       u'Reverse Legend', u'URI', u'Year', u'Source']\n",
    "for col in columns:\n",
    "    cleaned_ans[col] = cleaned_ans[col].apply(lambda x: x.decode('utf-8'))\n",
    "\n",
    "cleaned_ans.head()"
   ]
  },
  {
   "cell_type": "markdown",
   "metadata": {},
   "source": [
    "# Store Data"
   ]
  },
  {
   "cell_type": "code",
   "execution_count": 9,
   "metadata": {
    "collapsed": false
   },
   "outputs": [],
   "source": [
    "cnx = sqlite3.connect('../Data/'+title+'.sqlite')\n",
    "cur = cnx.cursor()"
   ]
  },
  {
   "cell_type": "code",
   "execution_count": 10,
   "metadata": {
    "collapsed": false
   },
   "outputs": [
    {
     "data": {
      "text/plain": [
       "<sqlite3.Cursor at 0x123894b20>"
      ]
     },
     "execution_count": 10,
     "metadata": {},
     "output_type": "execute_result"
    }
   ],
   "source": [
    "cur.execute('''CREATE TABLE britishMuseum(associatedNames TEXT, authority TEXT, bibliography TEXT, culture TEXT,\n",
    "                    curatorComment TEXT, dates TEXT, denomination TEXT, description TEXT,\n",
    "                    materials TEXT, museumNumber TEXT, objectType TEXT, obverseLegend TEXT,\n",
    "                    mint TEXT, reverseLegend TEXT, state TEXT, subjects TEXT, weight INT,\n",
    "                    url TEXT, source TEXT)''')"
   ]
  },
  {
   "cell_type": "code",
   "execution_count": 11,
   "metadata": {
    "collapsed": false
   },
   "outputs": [
    {
     "data": {
      "text/plain": [
       "<sqlite3.Cursor at 0x123894b20>"
      ]
     },
     "execution_count": 11,
     "metadata": {},
     "output_type": "execute_result"
    }
   ],
   "source": [
    "cur.executemany(\"\"\"INSERT INTO britishMuseum (associatedNames, authority, bibliography, culture,\n",
    "                        curatorComment, dates, denomination, description,\n",
    "                        materials, museumNumber, objectType, obverseLegend,\n",
    "                        mint, reverseLegend, state, subjects, weight,\n",
    "                        url, source) VALUES(?,?,?,?,?,?,?,?,?,?,?,?,?,?,?,?,?,?,?)\"\"\", \n",
    "                list(cleaned_bm.to_records(index=False)))"
   ]
  },
  {
   "cell_type": "code",
   "execution_count": 12,
   "metadata": {
    "collapsed": false
   },
   "outputs": [
    {
     "data": {
      "text/plain": [
       "<sqlite3.Cursor at 0x123894b20>"
      ]
     },
     "execution_count": 12,
     "metadata": {},
     "output_type": "execute_result"
    }
   ],
   "source": [
    "cur.execute('''CREATE TABLE americanNumismaticSociety(authority TEXT, deity TEXT, denomination TEXT, description TEXT, \n",
    "                       issuer TEXT, mint TEXT, obverseLegend TEXT, portrait TEXT, reference TEXT,\n",
    "                       reverseLegend TEXT, url TEXT, weight INT, dates TEXT, source TEXT)''')"
   ]
  },
  {
   "cell_type": "code",
   "execution_count": 13,
   "metadata": {
    "collapsed": false
   },
   "outputs": [
    {
     "ename": "NameError",
     "evalue": "name 'cleaned_ans' is not defined",
     "output_type": "error",
     "traceback": [
      "\u001b[0;31m---------------------------------------------------------------------------\u001b[0m",
      "\u001b[0;31mNameError\u001b[0m                                 Traceback (most recent call last)",
      "\u001b[0;32m<ipython-input-13-69426ec50fb9>\u001b[0m in \u001b[0;36m<module>\u001b[0;34m()\u001b[0m\n\u001b[1;32m      2\u001b[0m                        \u001b[0missuer\u001b[0m\u001b[0;34m,\u001b[0m \u001b[0mmint\u001b[0m\u001b[0;34m,\u001b[0m \u001b[0mobverseLegend\u001b[0m\u001b[0;34m,\u001b[0m \u001b[0mportrait\u001b[0m\u001b[0;34m,\u001b[0m \u001b[0mreference\u001b[0m\u001b[0;34m,\u001b[0m\u001b[0;34m\u001b[0m\u001b[0m\n\u001b[1;32m      3\u001b[0m                        reverseLegend, url, weight, dates, source) VALUES(?,?,?,?,?,?,?,?,?,?,?,?,?,?)\"\"\", \n\u001b[0;32m----> 4\u001b[0;31m                 list(cleaned_ans.to_records(index=False)))\n\u001b[0m",
      "\u001b[0;31mNameError\u001b[0m: name 'cleaned_ans' is not defined"
     ]
    }
   ],
   "source": [
    "cur.executemany(\"\"\"INSERT INTO americanNumismaticSociety (authority, deity, denomination, description, \n",
    "                       issuer, mint, obverseLegend, portrait, reference,\n",
    "                       reverseLegend, url, weight, dates, source) VALUES(?,?,?,?,?,?,?,?,?,?,?,?,?,?)\"\"\", \n",
    "                list(cleaned_ans.to_records(index=False)))"
   ]
  },
  {
   "cell_type": "code",
   "execution_count": null,
   "metadata": {
    "collapsed": true
   },
   "outputs": [],
   "source": [
    "cnx.commit()"
   ]
  },
  {
   "cell_type": "code",
   "execution_count": null,
   "metadata": {
    "collapsed": true
   },
   "outputs": [],
   "source": []
  }
 ],
 "metadata": {
  "anaconda-cloud": {},
  "kernelspec": {
   "display_name": "Python [conda env:python2]",
   "language": "python",
   "name": "conda-env-python2-py"
  },
  "language_info": {
   "codemirror_mode": {
    "name": "ipython",
    "version": 2
   },
   "file_extension": ".py",
   "mimetype": "text/x-python",
   "name": "python",
   "nbconvert_exporter": "python",
   "pygments_lexer": "ipython2",
   "version": "2.7.13"
  }
 },
 "nbformat": 4,
 "nbformat_minor": 1
}
