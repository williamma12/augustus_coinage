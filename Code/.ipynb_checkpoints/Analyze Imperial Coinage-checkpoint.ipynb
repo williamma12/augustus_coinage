{
 "cells": [
  {
   "cell_type": "code",
   "execution_count": 6,
   "metadata": {
    "collapsed": false
   },
   "outputs": [],
   "source": [
    "import pandas as pd\n",
    "import numpy as np\n",
    "import sqlite3\n",
    "\n",
    "from bkcharts import Bar, cat\n",
    "from bokeh.io import output_notebook, save\n",
    "from bokeh.models import HoverTool\n",
    "from bokeh.palettes import viridis\n",
    "from bokeh.plotting import show\n",
    "\n",
    "# import CleanData as cd\n",
    "# import BokehPlots as bp\n",
    "# import CoinagePlots as cp\n",
    "\n",
    "import sys\n",
    "stdout = sys.stdout\n",
    "reload(sys)\n",
    "sys.setdefaultencoding('utf-8')\n",
    "sys.stdout = stdout"
   ]
  },
  {
   "cell_type": "code",
   "execution_count": 7,
   "metadata": {
    "collapsed": true
   },
   "outputs": [],
   "source": [
    "title = 'Roman_Imperial_Coinage'\n",
    "fname = '../Data/' + title + '.sqlite'\n",
    "conn = sqlite3.connect(fname)"
   ]
  },
  {
   "cell_type": "markdown",
   "metadata": {},
   "source": [
    "## Generate Counts Plots"
   ]
  },
  {
   "cell_type": "code",
   "execution_count": 8,
   "metadata": {
    "collapsed": false
   },
   "outputs": [],
   "source": [
    "def countsPlot(source):\n",
    "    query = '''\n",
    "    SELECT\n",
    "      emperor,\n",
    "      denomination,\n",
    "      count(denomination) AS counts\n",
    "    FROM\n",
    "      {} JOIN emperors ON\n",
    "        startDate >= emperors.start\n",
    "        AND startDate <= emperors.end\n",
    "    WHERE description LIKE '%radiate%'\n",
    "    GROUP BY emperor, denomination\n",
    "    ORDER BY start, end, counts DESC;\n",
    "    '''.format(source)\n",
    "    df = pd.read_sql(query, conn)\n",
    "    counts = Bar(df, label=cat(columns=\"emperor\", sort=False), palette=viridis(df.denomination.unique().size), \n",
    "                    values='counts', stack=\"denomination\", responsive=True, active_scroll='wheel_zoom', \n",
    "                     title=\"Count of Radiate per Emperor\")\n",
    "\n",
    "    hover_counts = HoverTool(tooltips=[\n",
    "                                (\"emperor\", \"@emperor\"),\n",
    "                                (\"denomination\", \"@denomination\"),\n",
    "                                (\"count\", \"@counts\")\n",
    "                            ])\n",
    "\n",
    "    counts.add_tools(hover_counts)\n",
    "    counts.xaxis.axis_label = \"Emperors\"\n",
    "    counts.yaxis.axis_label = \"Counts\"\n",
    "\n",
    "    save(counts, \"../Plots/\" + source + \"_counts_plot.html\")\n",
    "    \n",
    "    return counts"
   ]
  },
  {
   "cell_type": "code",
   "execution_count": 9,
   "metadata": {
    "collapsed": false
   },
   "outputs": [],
   "source": [
    "def ratiosPlot(source):\n",
    "    query = '''\n",
    "    WITH emperorCoins AS (\n",
    "      SELECT\n",
    "        emperor,\n",
    "        description,\n",
    "        denomination,\n",
    "        start,\n",
    "        end\n",
    "      FROM\n",
    "        {} JOIN emperors ON\n",
    "          startDate >= emperors.start\n",
    "          AND startDate <= emperors.end\n",
    "    ), emperorTotals AS (\n",
    "      SELECT\n",
    "        emperor,\n",
    "        count(description)  AS emperorCounts\n",
    "      FROM emperorCoins\n",
    "      GROUP BY emperor\n",
    "    )\n",
    "    SELECT\n",
    "      emperor,\n",
    "      count(description) * 1.0 / emperorCounts   AS keywordRatio\n",
    "    FROM\n",
    "      emperorCoins JOIN emperorTotals USING (emperor)\n",
    "    WHERE description LIKE '%radiate%'\n",
    "    GROUP BY emperor\n",
    "    ORDER BY start, end;\n",
    "    '''.format(source)\n",
    "    df = pd.read_sql(query, conn)\n",
    "    ratios = Bar(df, label=cat(columns=\"emperor\", sort=False), values='keywordRatio', \n",
    "                 responsive=True, active_scroll='wheel_zoom', legend=False,\n",
    "                 title=\"Ratio of Radiate by Emperor in \" + source + \" Plot\")\n",
    "\n",
    "    hover_counts = HoverTool(tooltips=[\n",
    "                                (\"emperor\", \"@emperor\"),\n",
    "                                (\"Percentage\", \"@percentages\")\n",
    "                            ])\n",
    "\n",
    "    ratios.add_tools(hover_counts)\n",
    "    ratios.xaxis.axis_label = \"Emperors\"\n",
    "    ratios.yaxis.axis_label = \"Percentages\"\n",
    "\n",
    "    save(ratios, \"../Plots/\" + source + \"_ratios_plot.html\")\n",
    "    \n",
    "    return ratios"
   ]
  },
  {
   "cell_type": "code",
   "execution_count": 10,
   "metadata": {
    "collapsed": false
   },
   "outputs": [],
   "source": [
    "sources = ['britishMuseum', 'americanNumismaticSociety']\n",
    "for source in sources:\n",
    "    counts = countsPlot(source)\n",
    "    #show(counts)\n",
    "    ratios = ratiosPlot(source)\n",
    "    #show(ratios)"
   ]
  },
  {
   "cell_type": "markdown",
   "metadata": {},
   "source": [
    "# OLD STYLE (BAD)"
   ]
  },
  {
   "cell_type": "raw",
   "metadata": {
    "collapsed": false
   },
   "source": [
    "museum = 'britishMuseum'\n",
    "mints_bm = cd.readQuery(fname, museum)\n",
    "mints_bm['dates'] = mints_bm['dates'].apply(cd.stringToList(valType=int))"
   ]
  },
  {
   "cell_type": "raw",
   "metadata": {
    "collapsed": false
   },
   "source": [
    "emperors = np.load('../Data/Emperors.npy').item()"
   ]
  },
  {
   "cell_type": "raw",
   "metadata": {
    "collapsed": false
   },
   "source": [
    "def findEmperor(df, emperors, authorityCol='authority', datesCol='dates'):\n",
    "    '''\n",
    "    '''\n",
    "    df['emperor'] = ''\n",
    "    for emperor, dates in emperors.iteritems():\n",
    "        df['emperor'][df[authorityCol].str.contains(emperor)] = emperor\n",
    "        matchDates = cp.coinsFromDates(df, dates, col_name='dates')\n",
    "        df['emperor'][matchDates] = emperor\n",
    "    return df"
   ]
  },
  {
   "cell_type": "raw",
   "metadata": {
    "collapsed": false
   },
   "source": [
    "emperors"
   ]
  },
  {
   "cell_type": "raw",
   "metadata": {
    "collapsed": false
   },
   "source": [
    "mints_with_desc = mints_bm[mints_bm['description'] != '']\n",
    "mints_with_desc = findEmperor(mints_bm, emperors)"
   ]
  },
  {
   "cell_type": "raw",
   "metadata": {
    "collapsed": false,
    "scrolled": false
   },
   "source": [
    "plot_title = cp.makeTitle(subjects=['radiate'])\n",
    "good_df = cp.containKeyword(mints_with_desc, ['radiate'], ['description'])\n",
    "good_dfs = dict()\n",
    "orderedEmperors = [x[0] for x in sorted(emperors.items(), key=lambda x: x[1][0])]\n",
    "\n",
    "if not good_df.empty:\n",
    "    good_dfs[plot_title] = good_df\n",
    "    bar_plot = cp.makeCoinageStackedBar(good_df, x_col='emperor', stack_col='denomination', \n",
    "                                        title=plot_title+' Stacked Bar Graph', sort_bars=False,\n",
    "                                        sort_x=False, sort_stacks=False, stack_order=orderedEmperors)\n",
    "\n",
    "show(bar_plot)"
   ]
  },
  {
   "cell_type": "code",
   "execution_count": null,
   "metadata": {
    "collapsed": true
   },
   "outputs": [],
   "source": []
  }
 ],
 "metadata": {
  "anaconda-cloud": {},
  "kernelspec": {
   "display_name": "Python [conda env:python2]",
   "language": "python",
   "name": "conda-env-python2-py"
  },
  "language_info": {
   "codemirror_mode": {
    "name": "ipython",
    "version": 2
   },
   "file_extension": ".py",
   "mimetype": "text/x-python",
   "name": "python",
   "nbconvert_exporter": "python",
   "pygments_lexer": "ipython2",
   "version": "2.7.13"
  }
 },
 "nbformat": 4,
 "nbformat_minor": 1
}
