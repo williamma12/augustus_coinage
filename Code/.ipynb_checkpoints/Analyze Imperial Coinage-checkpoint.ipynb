{
 "cells": [
  {
   "cell_type": "code",
   "execution_count": 62,
   "metadata": {
    "collapsed": false
   },
   "outputs": [],
   "source": [
    "import pandas as pd\n",
    "import numpy as np\n",
    "import sqlite3\n",
    "\n",
    "from bkcharts import Bar, cat\n",
    "from bokeh.io import output_notebook, save\n",
    "from bokeh.models import HoverTool\n",
    "from bokeh.palettes import viridis\n",
    "from bokeh.plotting import show\n",
    "\n",
    "# import CleanData as cd\n",
    "# import BokehPlots as bp\n",
    "# import CoinagePlots as cp\n",
    "\n",
    "# import sys\n",
    "# stdout = sys.stdout\n",
    "# reload(sys)\n",
    "# sys.setdefaultencoding('utf-8')\n",
    "# sys.stdout = stdout"
   ]
  },
  {
   "cell_type": "code",
   "execution_count": 11,
   "metadata": {
    "collapsed": true
   },
   "outputs": [],
   "source": [
    "title = 'Roman_Imperial_Coinage'\n",
    "fname = '../Data/' + title + '.sqlite'\n",
    "conn = sqlite3.connect(fname)"
   ]
  },
  {
   "cell_type": "markdown",
   "metadata": {},
   "source": [
    "## Generate Counts Plots"
   ]
  },
  {
   "cell_type": "code",
   "execution_count": 83,
   "metadata": {
    "collapsed": false
   },
   "outputs": [],
   "source": [
    "def countsPlot(source):\n",
    "    query = '''\n",
    "    SELECT\n",
    "      emperor,\n",
    "      denomination,\n",
    "      count(denomination) AS counts\n",
    "    FROM\n",
    "      {} JOIN emperors ON\n",
    "        startDate >= emperors.start\n",
    "        AND startDate <= emperors.end\n",
    "    WHERE description LIKE '%radiate%'\n",
    "    GROUP BY emperor, denomination\n",
    "    ORDER BY start, end, counts DESC;\n",
    "    '''.format(source)\n",
    "    df = pd.read_sql(query, conn)\n",
    "    counts = Bar(df, label=cat(columns=\"emperor\", sort=False), palette=viridis(df.denomination.unique().size), \n",
    "                    values='counts', stack=\"denomination\", responsive=True, active_scroll='wheel_zoom', \n",
    "                     title=\"Count of Radiate per Emperor\")\n",
    "\n",
    "    hover_counts = HoverTool(tooltips=[\n",
    "                                (\"emperor\", \"@emperor\"),\n",
    "                                (\"denomination\", \"@denomination\"),\n",
    "                                (\"count\", \"@counts\")\n",
    "                            ])\n",
    "\n",
    "    counts.add_tools(hover_counts)\n",
    "    counts.xaxis.axis_label = \"Emperors\"\n",
    "    counts.yaxis.axis_label = \"Counts\"\n",
    "\n",
    "    save(counts, \"../Plots/\" + source + \"_counts_plot.html\")\n",
    "    \n",
    "    return counts"
   ]
  },
  {
   "cell_type": "code",
   "execution_count": 84,
   "metadata": {
    "collapsed": false
   },
   "outputs": [],
   "source": [
    "def ratiosPlot(source):\n",
    "    query = '''\n",
    "    WITH emperorCoins AS (\n",
    "      SELECT\n",
    "        emperor,\n",
    "        description,\n",
    "        denomination,\n",
    "        start,\n",
    "        end\n",
    "      FROM\n",
    "        {} JOIN emperors ON\n",
    "          startDate >= emperors.start\n",
    "          AND startDate <= emperors.end\n",
    "    ), emperorTotals AS (\n",
    "      SELECT\n",
    "        emperor,\n",
    "        count(description)  AS emperorCounts\n",
    "      FROM emperorCoins\n",
    "      GROUP BY emperor\n",
    "    )\n",
    "    SELECT\n",
    "      emperor,\n",
    "      count(description) * 1.0 / emperorCounts   AS keywordRatio\n",
    "    FROM\n",
    "      emperorCoins JOIN emperorTotals USING (emperor)\n",
    "    WHERE description LIKE '%radiate%'\n",
    "    GROUP BY emperor\n",
    "    ORDER BY start, end;\n",
    "    '''.format(source)\n",
    "    df = pd.read_sql(query, conn)\n",
    "    ratios = Bar(df, label=cat(columns=\"emperor\", sort=False), values='keywordRatio', \n",
    "                 responsive=True, active_scroll='wheel_zoom', legend=False,\n",
    "                 title=\"Ratio of Radiate by Emperor in \" + source + \" Plot\")\n",
    "\n",
    "    hover_counts = HoverTool(tooltips=[\n",
    "                                (\"emperor\", \"@emperor\"),\n",
    "                                (\"Percentage\", \"@percentages\")\n",
    "                            ])\n",
    "\n",
    "    ratios.add_tools(hover_counts)\n",
    "    ratios.xaxis.axis_label = \"Emperors\"\n",
    "    ratios.yaxis.axis_label = \"Percentages\"\n",
    "\n",
    "    save(ratios, \"../Plots/\" + source + \"_ratios_plot.html\")\n",
    "    \n",
    "    return ratios"
   ]
  },
  {
   "cell_type": "code",
   "execution_count": 85,
   "metadata": {
    "collapsed": false
   },
   "outputs": [],
   "source": [
    "sources = ['britishMuseum', 'americanNumismaticSociety']\n",
    "for source in sources:\n",
    "    counts = countsPlot(source)\n",
    "    #show(counts)\n",
    "    ratios = ratiosPlot(source)\n",
    "    #show(ratios)"
   ]
  },
  {
   "cell_type": "markdown",
   "metadata": {},
   "source": [
    "# OLD STYLE (BAD)"
   ]
  },
  {
   "cell_type": "code",
   "execution_count": 19,
   "metadata": {
    "collapsed": false
   },
   "outputs": [],
   "source": [
    "museum = 'britishMuseum'\n",
    "mints_bm = cd.readQuery(fname, museum)\n",
    "mints_bm['dates'] = mints_bm['dates'].apply(cd.stringToList(valType=int))"
   ]
  },
  {
   "cell_type": "code",
   "execution_count": 23,
   "metadata": {
    "collapsed": false
   },
   "outputs": [],
   "source": [
    "emperors = np.load('../Data/Emperors.npy').item()"
   ]
  },
  {
   "cell_type": "code",
   "execution_count": 24,
   "metadata": {
    "collapsed": false
   },
   "outputs": [],
   "source": [
    "def findEmperor(df, emperors, authorityCol='authority', datesCol='dates'):\n",
    "    '''\n",
    "    '''\n",
    "    df['emperor'] = ''\n",
    "    for emperor, dates in emperors.iteritems():\n",
    "        df['emperor'][df[authorityCol].str.contains(emperor)] = emperor\n",
    "        matchDates = cp.coinsFromDates(df, dates, col_name='dates')\n",
    "        df['emperor'][matchDates] = emperor\n",
    "    return df"
   ]
  },
  {
   "cell_type": "code",
   "execution_count": 25,
   "metadata": {
    "collapsed": false
   },
   "outputs": [
    {
     "data": {
      "text/plain": [
       "{'Aemilianus': (253, 253),\n",
       " 'Anthemius': (467, 472),\n",
       " 'Antoninus Pius': (138, 161),\n",
       " 'Arcadius': (383, 408),\n",
       " 'Augustus': (-27, 14),\n",
       " 'Aurelian': (270, 275),\n",
       " 'Avitus': (455, 456),\n",
       " 'Balbinus': (238, 238),\n",
       " 'Caligula': (37, 41),\n",
       " 'Caracalla': (198, 217),\n",
       " 'Carinus': (283, 285),\n",
       " 'Carus': (282, 283),\n",
       " 'Claudius': (41, 54),\n",
       " 'Claudius Gothicus': (268, 270),\n",
       " 'Commodus': (177, 192),\n",
       " 'Constans I': (337, 350),\n",
       " 'Constantine II': (337, 340),\n",
       " 'Constantine III': (409, 411),\n",
       " 'Constantine the Great': (306, 337),\n",
       " 'Constantius I': (305, 306),\n",
       " 'Constantius II': (337, 361),\n",
       " 'Constantius III': (421, 421),\n",
       " 'Decius': (249, 251),\n",
       " 'Didius Julianus': (193, 193),\n",
       " 'Diocletian': (284, 305),\n",
       " 'Domitian': (81, 96),\n",
       " 'Elagabalus': (218, 222),\n",
       " 'Florianus': (276, 276),\n",
       " 'Galba': (68, 69),\n",
       " 'Galerius': (305, 311),\n",
       " 'Gallienus': (253, 268),\n",
       " 'Geta': (209, 211),\n",
       " 'Glycerius': (473, 474),\n",
       " 'Gordian I': (238, 238),\n",
       " 'Gordian II': (238, 238),\n",
       " 'Gordian III': (238, 244),\n",
       " 'Gratian': (367, 383),\n",
       " 'Hadrian': (117, 138),\n",
       " 'Honorius': (393, 423),\n",
       " 'Hostilian': (251, 251),\n",
       " 'Joannes': (423, 425),\n",
       " 'Jovian': (363, 364),\n",
       " 'Julian': (360, 363),\n",
       " 'Julius Nepos': (474, 475),\n",
       " 'Libius Severus': (461, 465),\n",
       " 'Licinius I': (308, 324),\n",
       " 'Lucius Verus': (161, 169),\n",
       " 'Macrinus': (217, 218),\n",
       " 'Magnus Maximus': (384, 388),\n",
       " 'Majorian': (457, 461),\n",
       " 'Marcian': (450, 457),\n",
       " 'Marcus Aurelius': (161, 180),\n",
       " 'Maxentius': (306, 312),\n",
       " 'Maximian': (286, 305),\n",
       " 'Maximinus II': (311, 313),\n",
       " 'Maximinus Thrax': (235, 238),\n",
       " 'Nero': (54, 68),\n",
       " 'Nerva': (96, 98),\n",
       " 'Numerian': (283, 284),\n",
       " 'Olybrius': (472, 472),\n",
       " 'Otho': (69, 69),\n",
       " 'Pertinax': (193, 193),\n",
       " 'Petronius Maximus': (455, 455),\n",
       " 'Philip the Arab': (244, 249),\n",
       " 'Probus': (276, 282),\n",
       " 'Pupienus': (238, 238),\n",
       " 'Quintillus': (270, 270),\n",
       " 'Romulus Augustulus': (475, 476),\n",
       " 'Septimius Severus': (193, 211),\n",
       " 'Severus Alexander': (222, 235),\n",
       " 'Severus II': (306, 307),\n",
       " 'Tacitus': (275, 276),\n",
       " 'Theodosius I': (379, 395),\n",
       " 'Theodosius II': (402, 450),\n",
       " 'Tiberius': (14, 37),\n",
       " 'Titus': (79, 81),\n",
       " 'Trajan': (98, 117),\n",
       " 'Trebonianus Gallus': (251, 253),\n",
       " 'Valens': (364, 378),\n",
       " 'Valentinian I': (364, 375),\n",
       " 'Valentinian II': (375, 392),\n",
       " 'Valentinian III': (424, 455),\n",
       " 'Valerian': (253, 260),\n",
       " 'Vespasian': (69, 79),\n",
       " 'Vetranio': (350, 350),\n",
       " 'Vitellius': (69, 69)}"
      ]
     },
     "execution_count": 25,
     "metadata": {},
     "output_type": "execute_result"
    }
   ],
   "source": [
    "emperors"
   ]
  },
  {
   "cell_type": "code",
   "execution_count": 6,
   "metadata": {
    "collapsed": false
   },
   "outputs": [
    {
     "name": "stderr",
     "output_type": "stream",
     "text": [
      "/Users/William/anaconda3/envs/python2/lib/python2.7/site-packages/ipykernel/__main__.py:6: SettingWithCopyWarning: \n",
      "A value is trying to be set on a copy of a slice from a DataFrame\n",
      "\n",
      "See the caveats in the documentation: http://pandas.pydata.org/pandas-docs/stable/indexing.html#indexing-view-versus-copy\n",
      "/Users/William/anaconda3/envs/python2/lib/python2.7/site-packages/ipykernel/__main__.py:8: SettingWithCopyWarning: \n",
      "A value is trying to be set on a copy of a slice from a DataFrame\n",
      "\n",
      "See the caveats in the documentation: http://pandas.pydata.org/pandas-docs/stable/indexing.html#indexing-view-versus-copy\n"
     ]
    }
   ],
   "source": [
    "mints_with_desc = mints_bm[mints_bm['description'] != '']\n",
    "mints_with_desc = findEmperor(mints_bm, emperors)"
   ]
  },
  {
   "cell_type": "code",
   "execution_count": 10,
   "metadata": {
    "collapsed": false,
    "scrolled": false
   },
   "outputs": [],
   "source": [
    "plot_title = cp.makeTitle(subjects=['radiate'])\n",
    "good_df = cp.containKeyword(mints_with_desc, ['radiate'], ['description'])\n",
    "good_dfs = dict()\n",
    "orderedEmperors = [x[0] for x in sorted(emperors.items(), key=lambda x: x[1][0])]\n",
    "\n",
    "if not good_df.empty:\n",
    "    good_dfs[plot_title] = good_df\n",
    "    bar_plot = cp.makeCoinageStackedBar(good_df, x_col='emperor', stack_col='denomination', \n",
    "                                        title=plot_title+' Stacked Bar Graph', sort_bars=False,\n",
    "                                        sort_x=False, sort_stacks=False, stack_order=orderedEmperors)\n",
    "\n",
    "show(bar_plot)"
   ]
  },
  {
   "cell_type": "code",
   "execution_count": null,
   "metadata": {
    "collapsed": true
   },
   "outputs": [],
   "source": []
  }
 ],
 "metadata": {
  "anaconda-cloud": {},
  "kernelspec": {
   "display_name": "Python [conda env:python2]",
   "language": "python",
   "name": "conda-env-python2-py"
  },
  "language_info": {
   "codemirror_mode": {
    "name": "ipython",
    "version": 2
   },
   "file_extension": ".py",
   "mimetype": "text/x-python",
   "name": "python",
   "nbconvert_exporter": "python",
   "pygments_lexer": "ipython2",
   "version": "2.7.13"
  }
 },
 "nbformat": 4,
 "nbformat_minor": 1
}
