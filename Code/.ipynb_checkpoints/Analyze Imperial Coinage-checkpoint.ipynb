{
 "cells": [
  {
   "cell_type": "code",
   "execution_count": 38,
   "metadata": {
    "collapsed": false
   },
   "outputs": [],
   "source": [
    "from collections import Counter\n",
    "from itertools import chain\n",
    "\n",
    "import pandas as pd\n",
    "import numpy as np\n",
    "import sqlite3\n",
    "import re\n",
    "\n",
    "from bkcharts import Bar, cat\n",
    "from bokeh.io import output_notebook, save\n",
    "from bokeh.models import HoverTool\n",
    "from bokeh.palettes import viridis\n",
    "from bokeh.plotting import show\n",
    "from scipy import stats\n",
    "\n",
    "# import CleanData as cd\n",
    "# import BokehPlots as bp\n",
    "# import CoinagePlots as cp"
   ]
  },
  {
   "cell_type": "code",
   "execution_count": 20,
   "metadata": {
    "collapsed": true
   },
   "outputs": [],
   "source": [
    "title = 'Roman_Imperial_Coinage'\n",
    "fname = '../Data/' + title + '.sqlite'\n",
    "conn = sqlite3.connect(fname)"
   ]
  },
  {
   "cell_type": "markdown",
   "metadata": {},
   "source": [
    "# Functions"
   ]
  },
  {
   "cell_type": "markdown",
   "metadata": {},
   "source": [
    "## Get Coin Counts Data"
   ]
  },
  {
   "cell_type": "code",
   "execution_count": 24,
   "metadata": {
    "collapsed": true
   },
   "outputs": [],
   "source": [
    "def countsDF(source, column, conn):\n",
    "    '''\n",
    "    Get counts of the coins by emperor in SOURCE \n",
    "    '''\n",
    "    query = '''\n",
    "    SELECT\n",
    "      emperor,\n",
    "      {},\n",
    "      count({}) AS counts\n",
    "    FROM\n",
    "      {} JOIN emperors ON\n",
    "        startDate >= emperors.start\n",
    "        AND startDate <= emperors.end\n",
    "    GROUP BY emperor, {}\n",
    "    ORDER BY start, end, counts DESC;\n",
    "    '''.format(column, column, source, column)\n",
    "    df = pd.read_sql(query, conn)\n",
    "    return df"
   ]
  },
  {
   "cell_type": "code",
   "execution_count": 25,
   "metadata": {
    "collapsed": true
   },
   "outputs": [],
   "source": [
    "def radiateCountsDF(source, column, conn):\n",
    "    '''\n",
    "    Get dataframe of the counts for the occurence of 'radiate' crowns by emperor and denomination\n",
    "    '''\n",
    "    query = '''\n",
    "    SELECT\n",
    "      emperor,\n",
    "      {},\n",
    "      count({}) AS counts\n",
    "    FROM\n",
    "      {} JOIN emperors ON\n",
    "        startDate >= emperors.start\n",
    "        AND startDate <= emperors.end\n",
    "    WHERE description LIKE '%radiate%'\n",
    "    GROUP BY emperor, {}\n",
    "    ORDER BY start, end, counts DESC;\n",
    "    '''.format(column, column, source, column)\n",
    "    df = pd.read_sql(query, conn)\n",
    "    return df"
   ]
  },
  {
   "cell_type": "code",
   "execution_count": 26,
   "metadata": {
    "collapsed": true
   },
   "outputs": [],
   "source": [
    "def radiateRatiosDF(source, conn):\n",
    "    '''\n",
    "    Get dataframe of the ratio for the occurence of 'radiate' crowns by emperor \n",
    "    and denomination over total coins from emperor\n",
    "    '''\n",
    "    query = '''\n",
    "    WITH emperorCoins AS (\n",
    "      SELECT\n",
    "        emperor,\n",
    "        description,\n",
    "        denomination,\n",
    "        start,\n",
    "        end\n",
    "      FROM\n",
    "        {} JOIN emperors ON\n",
    "          startDate >= emperors.start\n",
    "          AND startDate <= emperors.end\n",
    "    ), emperorTotals AS (\n",
    "      SELECT\n",
    "        emperor,\n",
    "        count(description)  AS emperorCounts\n",
    "      FROM emperorCoins\n",
    "      GROUP BY emperor\n",
    "    )\n",
    "    SELECT\n",
    "      emperor,\n",
    "      count(description) * 1.0 / emperorCounts   AS keywordRatio\n",
    "    FROM\n",
    "      emperorCoins JOIN emperorTotals USING (emperor)\n",
    "    WHERE description LIKE '%radiate%'\n",
    "    GROUP BY emperor\n",
    "    ORDER BY start, end;\n",
    "    '''.format(source)\n",
    "    df = pd.read_sql(query, conn)\n",
    "    return df"
   ]
  },
  {
   "cell_type": "markdown",
   "metadata": {},
   "source": [
    "## Generate Coin Counts Plots"
   ]
  },
  {
   "cell_type": "code",
   "execution_count": 27,
   "metadata": {
    "collapsed": true
   },
   "outputs": [],
   "source": [
    "def countsPlot(source, column, conn):\n",
    "    '''\n",
    "    Create counts of the coins by emperor in SOURCE plot\n",
    "    '''\n",
    "    df = countsDF(source, column, conn)\n",
    "    counts = Bar(df, label=cat(columns=\"emperor\", sort=False), palette=viridis(df[column].unique().size), \n",
    "                    values='counts', stack=column, responsive=True, active_scroll='wheel_zoom', \n",
    "                     title=\"Count of coins by Emperor in {} Plot\".format(source))\n",
    "\n",
    "    hover_counts = HoverTool(tooltips=[\n",
    "                                (\"emperor\", \"@emperor\"),\n",
    "                                (\"denomination\", \"@denomination\"),\n",
    "                                (\"count\", \"@counts\")\n",
    "                            ])\n",
    "\n",
    "    counts.add_tools(hover_counts)\n",
    "    counts.xaxis.axis_label = \"Emperors\"\n",
    "    counts.yaxis.axis_label = \"Counts\"\n",
    "\n",
    "    save(counts, \"../Plots/{}_{}_counts_plot.html\".format(source, column))\n",
    "    \n",
    "    return counts"
   ]
  },
  {
   "cell_type": "code",
   "execution_count": 28,
   "metadata": {
    "collapsed": false
   },
   "outputs": [],
   "source": [
    "def radiateCountsPlot(source, column, conn):\n",
    "    '''\n",
    "    Create plot of the count of coins that have 'radiate' crowns in them by emperor\n",
    "    '''\n",
    "    df = radiateCountsDF(source, column, conn)\n",
    "    counts = Bar(df, label=cat(columns=\"emperor\", sort=False), palette=viridis(df[column].unique().size), \n",
    "                    values='counts', stack=column, responsive=True, active_scroll='wheel_zoom', \n",
    "                     title=\"Count of 'Radiate Crowns' per Emperor in \" + source + \" Plot\")\n",
    "\n",
    "    hover_counts = HoverTool(tooltips=[\n",
    "                                (\"emperor\", \"@emperor\"),\n",
    "                                (\"denomination\", \"@denomination\"),\n",
    "                                (\"count\", \"@counts\")\n",
    "                            ])\n",
    "\n",
    "    counts.add_tools(hover_counts)\n",
    "    counts.xaxis.axis_label = \"Emperors\"\n",
    "    counts.yaxis.axis_label = \"Counts\"\n",
    "\n",
    "    save(counts, \"../Plots/\" + source + \"_\" + column + \"_radiate_counts_plot.html\")\n",
    "    \n",
    "    return counts"
   ]
  },
  {
   "cell_type": "code",
   "execution_count": 29,
   "metadata": {
    "collapsed": false
   },
   "outputs": [],
   "source": [
    "def radiateRatiosPlot(source, conn):\n",
    "    '''\n",
    "    Plot the ratio for the occurence of 'radiate' crowns by emperor \n",
    "    over total number of coins by emperor\n",
    "    '''\n",
    "    df = radiateRatiosDF(source, conn)\n",
    "    ratios = Bar(df, label=cat(columns=\"emperor\", sort=False), values='keywordRatio', \n",
    "                 responsive=True, active_scroll='wheel_zoom', legend=False,\n",
    "                 title=\"Ratio of 'Radiate Crowns' by Emperor in \" + source + \" Plot\")\n",
    "\n",
    "    hover_counts = HoverTool(tooltips=[\n",
    "                                (\"emperor\", \"@emperor\"),\n",
    "                                (\"Percentage\", \"@percentages\")\n",
    "                            ])\n",
    "\n",
    "    ratios.add_tools(hover_counts)\n",
    "    ratios.xaxis.axis_label = \"Emperors\"\n",
    "    ratios.yaxis.axis_label = \"Percentages\"\n",
    "\n",
    "    save(ratios, \"../Plots/\" + source + \"_\" + column + \"_ratios_plot.html\")\n",
    "    \n",
    "    return ratios"
   ]
  },
  {
   "cell_type": "markdown",
   "metadata": {},
   "source": [
    "## Create Word Counts Plots"
   ]
  },
  {
   "cell_type": "code",
   "execution_count": 34,
   "metadata": {
    "collapsed": false
   },
   "outputs": [],
   "source": [
    "def wordCountsPlot(source, conn, wanted_obverse=[], wanted_reverse=[]):\n",
    "    '''\n",
    "    Get the count of words that appear on \"radiate\" coins from SOURCE.\n",
    "    '''\n",
    "    query = '''\n",
    "    SELECT\n",
    "      lower(obverseType) as obverseType,\n",
    "      reverseType\n",
    "    FROM {}\n",
    "    WHERE description LIKE \"%radiate%\"\n",
    "    '''.format(source)\n",
    "    df = pd.read_sql(query, conn)\n",
    "    \n",
    "    obverseList = [re.sub('[^a-zA-Z\\s]+', '', a).lower().split() for a in df['obverseType']]\n",
    "    reverseList = [re.sub('[^a-zA-Z\\s]+', '', a).lower().split() for a in df['reverseType']]\n",
    "    \n",
    "    obverseCounter = dict(Counter(chain.from_iterable(obverseList)))\n",
    "    reverseCounter = dict(Counter(chain.from_iterable(reverseList)))\n",
    "    \n",
    "    obverseTemp = pd.DataFrame(list(obverseCounter.items()), columns=['Word', 'Count'])\n",
    "    if wanted_obverse:\n",
    "        obverseTemp = obverseTemp[obverseTemp['Word'].isin(wanted_obverse)]\n",
    "    else:\n",
    "        obverseTemp = obverseTemp[obverseTemp['Count'] > 100]\n",
    "    obverseTemp['Side'] = 'Obverse'\n",
    "    obverseTemp = obverseTemp.fillna(0)\n",
    "    obverseTemp = obverseTemp.sort_values(by='Count', ascending=False)\n",
    "    \n",
    "    reverseTemp = pd.DataFrame(list(reverseCounter.items()), columns=['Word', 'Count'])\n",
    "    if wanted_reverse:\n",
    "        reverseTemp = reverseTemp[reverseTemp['Word'].isin(wanted_reverse)]\n",
    "    else:\n",
    "        reverseTemp = reverseTemp[(reverseTemp['Count'] > 50) & (reverseTemp['Count'] < 100)]\n",
    "    reverseTemp['Side'] = 'Reverse'\n",
    "    reverseTemp = reverseTemp.fillna(0)\n",
    "    reverseTemp = reverseTemp.sort_values(by='Count', ascending=False)\n",
    "    \n",
    "    hover_obverseCounts = HoverTool(tooltips=[\n",
    "                                (\"Word\", \"@Word\"),\n",
    "                                (\"Count\", \"@Count\")\n",
    "                            ])\n",
    "    hover_reverseCounts = HoverTool(tooltips=[\n",
    "                                (\"Word\", \"@Word\"),\n",
    "                                (\"Count\", \"@Count\")\n",
    "                            ])\n",
    "    \n",
    "    obverseCounts = Bar(obverseTemp, label=cat(columns=[\"Word\"], sort=False), values='Count', \n",
    "                         responsive=True, active_scroll='wheel_zoom', legend='top_right',\n",
    "                         title=\"Other Words on Obverse of 'radiate' Coins from {}\".format(source))\n",
    "    obverseCounts.add_tools(hover_obverseCounts)\n",
    "    obverseCounts.yaxis.axis_label = \"Count\"\n",
    "    \n",
    "    reverseCounts = Bar(reverseTemp, label=cat(columns=[\"Word\"], sort=False), values='Count', \n",
    "                         responsive=True, active_scroll='wheel_zoom', legend='top_right',\n",
    "                         title=\"Other Words on Reverse of 'radiate' Coins from {}\".format(source))\n",
    "    reverseCounts.add_tools(hover_reverseCounts)\n",
    "    reverseCounts.yaxis.axis_label = \"Count\"\n",
    "    \n",
    "    #show(obverseCounts)\n",
    "    #show(reverseCounts)\n",
    "    \n",
    "    save(obverseCounts, \"../Plots/\" + source + \"_\" + column + \"_obverseCount_plot.html\")\n",
    "    save(reverseCounts, \"../Plots/\" + source + \"_\" + column + \"_reverseCount_plot.html\")\n",
    "    \n",
    "#wordCountsPlot('allData', conn, wanted_reverse=wanted_reverse)"
   ]
  },
  {
   "cell_type": "markdown",
   "metadata": {},
   "source": [
    "# Create Counts and Ratios Plots"
   ]
  },
  {
   "cell_type": "code",
   "execution_count": 35,
   "metadata": {
    "collapsed": false
   },
   "outputs": [],
   "source": [
    "# Table names\n",
    "sources = ['britishMuseum', 'americanNumismaticSociety', 'OCRE', 'allData']\n",
    "\n",
    "# Columns to plot individually\n",
    "columns = [\"material\", 'authority']\n",
    "\n",
    "# Words to show on word count plots\n",
    "wanted_obverse = ['scepter',\n",
    "                 'cuirassed',\n",
    "                 'draped',\n",
    "                 'laureate']\n",
    "wanted_reverse = ['victory',\n",
    "                 'jupiter',\n",
    "                 'sol',\n",
    "                 'pax',\n",
    "                 'cornucopia',\n",
    "                 'emperor',\n",
    "                 'felicitas',\n",
    "                 'roma',\n",
    "                 'hercules',\n",
    "                 'captive',\n",
    "                 'eagel',\n",
    "                 'trophy',\n",
    "                 'mars',\n",
    "                 'prince',\n",
    "                 'providentia',\n",
    "                 'rudder',\n",
    "                 'whip',\n",
    "                 'club']"
   ]
  },
  {
   "cell_type": "code",
   "execution_count": 36,
   "metadata": {
    "collapsed": false
   },
   "outputs": [
    {
     "ename": "ValueError",
     "evalue": "Requested 300 colors, function can only return colors up to the base palette's length (256)",
     "output_type": "error",
     "traceback": [
      "\u001b[0;31m---------------------------------------------------------------------------\u001b[0m",
      "\u001b[0;31mValueError\u001b[0m                                Traceback (most recent call last)",
      "\u001b[0;32m<ipython-input-36-69c852638e0d>\u001b[0m in \u001b[0;36m<module>\u001b[0;34m()\u001b[0m\n\u001b[1;32m      2\u001b[0m \u001b[0;32mfor\u001b[0m \u001b[0msource\u001b[0m \u001b[0;32min\u001b[0m \u001b[0msources\u001b[0m\u001b[0;34m:\u001b[0m\u001b[0;34m\u001b[0m\u001b[0m\n\u001b[1;32m      3\u001b[0m     \u001b[0;32mfor\u001b[0m \u001b[0mcolumn\u001b[0m \u001b[0;32min\u001b[0m \u001b[0mcolumns\u001b[0m\u001b[0;34m:\u001b[0m\u001b[0;34m\u001b[0m\u001b[0m\n\u001b[0;32m----> 4\u001b[0;31m         \u001b[0mcounts\u001b[0m \u001b[0;34m=\u001b[0m \u001b[0mcountsPlot\u001b[0m\u001b[0;34m(\u001b[0m\u001b[0msource\u001b[0m\u001b[0;34m,\u001b[0m \u001b[0mcolumn\u001b[0m\u001b[0;34m,\u001b[0m \u001b[0mconn\u001b[0m\u001b[0;34m)\u001b[0m\u001b[0;34m\u001b[0m\u001b[0m\n\u001b[0m\u001b[1;32m      5\u001b[0m         \u001b[0;31m# show(counts)\u001b[0m\u001b[0;34m\u001b[0m\u001b[0;34m\u001b[0m\u001b[0m\n\u001b[1;32m      6\u001b[0m         \u001b[0mradiateCounts\u001b[0m \u001b[0;34m=\u001b[0m \u001b[0mradiateCountsPlot\u001b[0m\u001b[0;34m(\u001b[0m\u001b[0msource\u001b[0m\u001b[0;34m,\u001b[0m \u001b[0mcolumn\u001b[0m\u001b[0;34m,\u001b[0m \u001b[0mconn\u001b[0m\u001b[0;34m)\u001b[0m\u001b[0;34m\u001b[0m\u001b[0m\n",
      "\u001b[0;32m<ipython-input-27-32344c6ef382>\u001b[0m in \u001b[0;36mcountsPlot\u001b[0;34m(source, column, conn)\u001b[0m\n\u001b[1;32m      4\u001b[0m     '''\n\u001b[1;32m      5\u001b[0m     \u001b[0mdf\u001b[0m \u001b[0;34m=\u001b[0m \u001b[0mcountsDF\u001b[0m\u001b[0;34m(\u001b[0m\u001b[0msource\u001b[0m\u001b[0;34m,\u001b[0m \u001b[0mcolumn\u001b[0m\u001b[0;34m,\u001b[0m \u001b[0mconn\u001b[0m\u001b[0;34m)\u001b[0m\u001b[0;34m\u001b[0m\u001b[0m\n\u001b[0;32m----> 6\u001b[0;31m     counts = Bar(df, label=cat(columns=\"emperor\", sort=False), palette=viridis(df[column].unique().size), \n\u001b[0m\u001b[1;32m      7\u001b[0m                     \u001b[0mvalues\u001b[0m\u001b[0;34m=\u001b[0m\u001b[0;34m'counts'\u001b[0m\u001b[0;34m,\u001b[0m \u001b[0mstack\u001b[0m\u001b[0;34m=\u001b[0m\u001b[0mcolumn\u001b[0m\u001b[0;34m,\u001b[0m \u001b[0mresponsive\u001b[0m\u001b[0;34m=\u001b[0m\u001b[0mTrue\u001b[0m\u001b[0;34m,\u001b[0m \u001b[0mactive_scroll\u001b[0m\u001b[0;34m=\u001b[0m\u001b[0;34m'wheel_zoom'\u001b[0m\u001b[0;34m,\u001b[0m\u001b[0;34m\u001b[0m\u001b[0m\n\u001b[1;32m      8\u001b[0m                      title=\"Count of coins by Emperor in {} Plot\".format(source))\n",
      "\u001b[0;32m/Users/William/anaconda3/envs/python2/lib/python2.7/site-packages/bokeh/palettes.py\u001b[0m in \u001b[0;36mviridis\u001b[0;34m(self, n)\u001b[0m\n\u001b[1;32m   1158\u001b[0m \u001b[0;34m\u001b[0m\u001b[0m\n\u001b[1;32m   1159\u001b[0m         '''\n\u001b[0;32m-> 1160\u001b[0;31m         \u001b[0;32mreturn\u001b[0m \u001b[0mself\u001b[0m\u001b[0;34m.\u001b[0m\u001b[0mlinear_palette\u001b[0m\u001b[0;34m(\u001b[0m\u001b[0mself\u001b[0m\u001b[0;34m.\u001b[0m\u001b[0mViridis256\u001b[0m\u001b[0;34m,\u001b[0m \u001b[0mn\u001b[0m\u001b[0;34m)\u001b[0m\u001b[0;34m\u001b[0m\u001b[0m\n\u001b[0m\u001b[1;32m   1161\u001b[0m \u001b[0;34m\u001b[0m\u001b[0m\n\u001b[1;32m   1162\u001b[0m     \u001b[0;32mdef\u001b[0m \u001b[0mgrey\u001b[0m\u001b[0;34m(\u001b[0m\u001b[0mself\u001b[0m\u001b[0;34m,\u001b[0m \u001b[0mn\u001b[0m\u001b[0;34m)\u001b[0m\u001b[0;34m:\u001b[0m\u001b[0;34m\u001b[0m\u001b[0m\n",
      "\u001b[0;32m/Users/William/anaconda3/envs/python2/lib/python2.7/site-packages/bokeh/palettes.py\u001b[0m in \u001b[0;36mlinear_palette\u001b[0;34m(self, palette, n)\u001b[0m\n\u001b[1;32m   1041\u001b[0m         \u001b[0;32mimport\u001b[0m \u001b[0mnumpy\u001b[0m \u001b[0;32mas\u001b[0m \u001b[0mnp\u001b[0m\u001b[0;34m\u001b[0m\u001b[0m\n\u001b[1;32m   1042\u001b[0m         \u001b[0;32mif\u001b[0m \u001b[0mn\u001b[0m \u001b[0;34m>\u001b[0m \u001b[0mlen\u001b[0m\u001b[0;34m(\u001b[0m\u001b[0mpalette\u001b[0m\u001b[0;34m)\u001b[0m\u001b[0;34m:\u001b[0m\u001b[0;34m\u001b[0m\u001b[0m\n\u001b[0;32m-> 1043\u001b[0;31m             \u001b[0;32mraise\u001b[0m \u001b[0mValueError\u001b[0m\u001b[0;34m(\u001b[0m\u001b[0;34m\"Requested %(r)s colors, function can only return colors up to the base palette's length (%(l)s)\"\u001b[0m \u001b[0;34m%\u001b[0m \u001b[0mdict\u001b[0m\u001b[0;34m(\u001b[0m\u001b[0mr\u001b[0m\u001b[0;34m=\u001b[0m\u001b[0mn\u001b[0m\u001b[0;34m,\u001b[0m \u001b[0ml\u001b[0m\u001b[0;34m=\u001b[0m\u001b[0mlen\u001b[0m\u001b[0;34m(\u001b[0m\u001b[0mpalette\u001b[0m\u001b[0;34m)\u001b[0m\u001b[0;34m)\u001b[0m\u001b[0;34m)\u001b[0m\u001b[0;34m\u001b[0m\u001b[0m\n\u001b[0m\u001b[1;32m   1044\u001b[0m         \u001b[0;32mreturn\u001b[0m \u001b[0;34m[\u001b[0m \u001b[0mpalette\u001b[0m\u001b[0;34m[\u001b[0m\u001b[0mint\u001b[0m\u001b[0;34m(\u001b[0m\u001b[0mmath\u001b[0m\u001b[0;34m.\u001b[0m\u001b[0mfloor\u001b[0m\u001b[0;34m(\u001b[0m\u001b[0mi\u001b[0m\u001b[0;34m)\u001b[0m\u001b[0;34m)\u001b[0m\u001b[0;34m]\u001b[0m \u001b[0;32mfor\u001b[0m \u001b[0mi\u001b[0m \u001b[0;32min\u001b[0m \u001b[0mnp\u001b[0m\u001b[0;34m.\u001b[0m\u001b[0mlinspace\u001b[0m\u001b[0;34m(\u001b[0m\u001b[0;36m0\u001b[0m\u001b[0;34m,\u001b[0m \u001b[0mlen\u001b[0m\u001b[0;34m(\u001b[0m\u001b[0mpalette\u001b[0m\u001b[0;34m)\u001b[0m\u001b[0;34m-\u001b[0m\u001b[0;36m1\u001b[0m\u001b[0;34m,\u001b[0m \u001b[0mnum\u001b[0m\u001b[0;34m=\u001b[0m\u001b[0mn\u001b[0m\u001b[0;34m)\u001b[0m \u001b[0;34m]\u001b[0m\u001b[0;34m\u001b[0m\u001b[0m\n\u001b[1;32m   1045\u001b[0m \u001b[0;34m\u001b[0m\u001b[0m\n",
      "\u001b[0;31mValueError\u001b[0m: Requested 300 colors, function can only return colors up to the base palette's length (256)"
     ]
    }
   ],
   "source": [
    "# Loop over sources to get all permutations of sources and plots\n",
    "for source in sources:\n",
    "    for column in columns:\n",
    "        counts = countsPlot(source, column, conn)\n",
    "        # show(counts)\n",
    "        radiateCounts = radiateCountsPlot(source, column, conn)\n",
    "        # show(radiateCounts)\n",
    "        ratios = radiateRatiosPlot(source, conn)\n",
    "        # show(ratios)\n",
    "        wordCounts = wordCountsPlot(source, conn, wanted_obverse=wanted_obverse, wanted_reverse=wanted_reverse)"
   ]
  },
  {
   "cell_type": "markdown",
   "metadata": {},
   "source": [
    "# Statistical Significance of Data"
   ]
  },
  {
   "cell_type": "code",
   "execution_count": 11,
   "metadata": {
    "collapsed": false
   },
   "outputs": [],
   "source": [
    "bm_ratio = radiateRatiosDF('britishMuseum', conn)\n",
    "ans_ratio = radiateRatiosDF('americanNumismaticSociety', conn)\n",
    "merged = bm_ratio.merge(ans_ratio, on='emperor')"
   ]
  },
  {
   "cell_type": "code",
   "execution_count": 12,
   "metadata": {
    "collapsed": false
   },
   "outputs": [
    {
     "data": {
      "text/html": [
       "<div>\n",
       "<table border=\"1\" class=\"dataframe\">\n",
       "  <thead>\n",
       "    <tr style=\"text-align: right;\">\n",
       "      <th></th>\n",
       "      <th>emperor</th>\n",
       "      <th>keywordRatio_x</th>\n",
       "      <th>keywordRatio_y</th>\n",
       "    </tr>\n",
       "  </thead>\n",
       "  <tbody>\n",
       "    <tr>\n",
       "      <th>49</th>\n",
       "      <td>Severus II</td>\n",
       "      <td>0.008130</td>\n",
       "      <td>0.008333</td>\n",
       "    </tr>\n",
       "    <tr>\n",
       "      <th>50</th>\n",
       "      <td>Maxentius</td>\n",
       "      <td>0.016327</td>\n",
       "      <td>0.011268</td>\n",
       "    </tr>\n",
       "    <tr>\n",
       "      <th>51</th>\n",
       "      <td>Constantine the Great</td>\n",
       "      <td>0.020356</td>\n",
       "      <td>0.037863</td>\n",
       "    </tr>\n",
       "    <tr>\n",
       "      <th>52</th>\n",
       "      <td>Licinius I</td>\n",
       "      <td>0.033259</td>\n",
       "      <td>0.067402</td>\n",
       "    </tr>\n",
       "    <tr>\n",
       "      <th>53</th>\n",
       "      <td>Maximinus II</td>\n",
       "      <td>0.032258</td>\n",
       "      <td>0.058824</td>\n",
       "    </tr>\n",
       "  </tbody>\n",
       "</table>\n",
       "</div>"
      ],
      "text/plain": [
       "                  emperor  keywordRatio_x  keywordRatio_y\n",
       "49             Severus II        0.008130        0.008333\n",
       "50              Maxentius        0.016327        0.011268\n",
       "51  Constantine the Great        0.020356        0.037863\n",
       "52             Licinius I        0.033259        0.067402\n",
       "53           Maximinus II        0.032258        0.058824"
      ]
     },
     "execution_count": 12,
     "metadata": {},
     "output_type": "execute_result"
    }
   ],
   "source": [
    "merged.tail()"
   ]
  },
  {
   "cell_type": "code",
   "execution_count": 13,
   "metadata": {
    "collapsed": false
   },
   "outputs": [
    {
     "data": {
      "text/plain": [
       "LinregressResult(slope=0.90071854486013636, intercept=0.07711116939117077, rvalue=0.49712715812502589, pvalue=0.00013127840055810556, stderr=0.21801098570817246)"
      ]
     },
     "execution_count": 13,
     "metadata": {},
     "output_type": "execute_result"
    }
   ],
   "source": [
    "stats.linregress(merged['keywordRatio_x'], merged['keywordRatio_y'])"
   ]
  },
  {
   "cell_type": "code",
   "execution_count": null,
   "metadata": {
    "collapsed": true
   },
   "outputs": [],
   "source": []
  }
 ],
 "metadata": {
  "anaconda-cloud": {},
  "kernelspec": {
   "display_name": "Python [conda env:python2]",
   "language": "python",
   "name": "conda-env-python2-py"
  },
  "language_info": {
   "codemirror_mode": {
    "name": "ipython",
    "version": 2
   },
   "file_extension": ".py",
   "mimetype": "text/x-python",
   "name": "python",
   "nbconvert_exporter": "python",
   "pygments_lexer": "ipython2",
   "version": "2.7.13"
  }
 },
 "nbformat": 4,
 "nbformat_minor": 1
}
