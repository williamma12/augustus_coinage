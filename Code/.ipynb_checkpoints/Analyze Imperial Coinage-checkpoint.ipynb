{
 "cells": [
  {
   "cell_type": "code",
   "execution_count": 2,
   "metadata": {
    "collapsed": false
   },
   "outputs": [],
   "source": [
    "import pandas as pd\n",
    "import numpy as np\n",
    "import sqlite3\n",
    "from bokeh.io import output_notebook, save\n",
    "from bokeh.plotting import show\n",
    "from bokeh.layouts import gridplot\n",
    "from bokeh.models import FactorRange\n",
    "\n",
    "import CleanData as cd\n",
    "import BokehPlots as bp\n",
    "import CoinagePlots as cp\n",
    "\n",
    "# import sys\n",
    "# stdout = sys.stdout\n",
    "# reload(sys)\n",
    "# sys.setdefaultencoding('utf-8')\n",
    "# sys.stdout = stdout"
   ]
  },
  {
   "cell_type": "code",
   "execution_count": 3,
   "metadata": {
    "collapsed": true
   },
   "outputs": [],
   "source": [
    "title = 'Roman_Imperial_Coinage'\n",
    "fname = title+'.sqlite'\n",
    "conn = sqlite3.connect(fname)"
   ]
  },
  {
   "cell_type": "markdown",
   "metadata": {},
   "source": [
    "## British Museum"
   ]
  },
  {
   "cell_type": "code",
   "execution_count": 7,
   "metadata": {
    "collapsed": false
   },
   "outputs": [
    {
     "ename": "DatabaseError",
     "evalue": "Execution failed on sql '\nWITH merged AS (\n  SELECT\n    emperor,\n    denomination,\n    description,\n    start,\n    end\n  FROM\n    britishMuseum JOIN emperors ON\n      startDate >= emperors.start\n      AND britishMuseum.startDate <= emperors.end\n)\nSELECT\n  emperor,\n  denomination,\n  description,\n  start,\n  end\nFROM merged\nWHERE description LIKE '%radiate%'\nORDER BY start, end, denomination;\n': no such table: britishMuseum",
     "output_type": "error",
     "traceback": [
      "\u001b[0;31m---------------------------------------------------------------------------\u001b[0m",
      "\u001b[0;31mDatabaseError\u001b[0m                             Traceback (most recent call last)",
      "\u001b[0;32m<ipython-input-7-148a2b45095c>\u001b[0m in \u001b[0;36m<module>\u001b[0;34m()\u001b[0m\n\u001b[1;32m     23\u001b[0m \u001b[0mORDER\u001b[0m \u001b[0mBY\u001b[0m \u001b[0mstart\u001b[0m\u001b[0;34m,\u001b[0m \u001b[0mend\u001b[0m\u001b[0;34m,\u001b[0m \u001b[0mdenomination\u001b[0m\u001b[0;34m;\u001b[0m\u001b[0;34m\u001b[0m\u001b[0m\n\u001b[1;32m     24\u001b[0m '''.format(source, source)\n\u001b[0;32m---> 25\u001b[0;31m \u001b[0mbm\u001b[0m \u001b[0;34m=\u001b[0m \u001b[0mpd\u001b[0m\u001b[0;34m.\u001b[0m\u001b[0mread_sql\u001b[0m\u001b[0;34m(\u001b[0m\u001b[0mquery\u001b[0m\u001b[0;34m,\u001b[0m \u001b[0mconn\u001b[0m\u001b[0;34m)\u001b[0m\u001b[0;34m\u001b[0m\u001b[0m\n\u001b[0m",
      "\u001b[0;32m/Users/William/anaconda3/envs/python2/lib/python2.7/site-packages/pandas/io/sql.pyc\u001b[0m in \u001b[0;36mread_sql\u001b[0;34m(sql, con, index_col, coerce_float, params, parse_dates, columns, chunksize)\u001b[0m\n\u001b[1;32m    397\u001b[0m             \u001b[0msql\u001b[0m\u001b[0;34m,\u001b[0m \u001b[0mindex_col\u001b[0m\u001b[0;34m=\u001b[0m\u001b[0mindex_col\u001b[0m\u001b[0;34m,\u001b[0m \u001b[0mparams\u001b[0m\u001b[0;34m=\u001b[0m\u001b[0mparams\u001b[0m\u001b[0;34m,\u001b[0m\u001b[0;34m\u001b[0m\u001b[0m\n\u001b[1;32m    398\u001b[0m             \u001b[0mcoerce_float\u001b[0m\u001b[0;34m=\u001b[0m\u001b[0mcoerce_float\u001b[0m\u001b[0;34m,\u001b[0m \u001b[0mparse_dates\u001b[0m\u001b[0;34m=\u001b[0m\u001b[0mparse_dates\u001b[0m\u001b[0;34m,\u001b[0m\u001b[0;34m\u001b[0m\u001b[0m\n\u001b[0;32m--> 399\u001b[0;31m             chunksize=chunksize)\n\u001b[0m\u001b[1;32m    400\u001b[0m \u001b[0;34m\u001b[0m\u001b[0m\n\u001b[1;32m    401\u001b[0m     \u001b[0;32mtry\u001b[0m\u001b[0;34m:\u001b[0m\u001b[0;34m\u001b[0m\u001b[0m\n",
      "\u001b[0;32m/Users/William/anaconda3/envs/python2/lib/python2.7/site-packages/pandas/io/sql.pyc\u001b[0m in \u001b[0;36mread_query\u001b[0;34m(self, sql, index_col, coerce_float, params, parse_dates, chunksize)\u001b[0m\n\u001b[1;32m   1434\u001b[0m \u001b[0;34m\u001b[0m\u001b[0m\n\u001b[1;32m   1435\u001b[0m         \u001b[0margs\u001b[0m \u001b[0;34m=\u001b[0m \u001b[0m_convert_params\u001b[0m\u001b[0;34m(\u001b[0m\u001b[0msql\u001b[0m\u001b[0;34m,\u001b[0m \u001b[0mparams\u001b[0m\u001b[0;34m)\u001b[0m\u001b[0;34m\u001b[0m\u001b[0m\n\u001b[0;32m-> 1436\u001b[0;31m         \u001b[0mcursor\u001b[0m \u001b[0;34m=\u001b[0m \u001b[0mself\u001b[0m\u001b[0;34m.\u001b[0m\u001b[0mexecute\u001b[0m\u001b[0;34m(\u001b[0m\u001b[0;34m*\u001b[0m\u001b[0margs\u001b[0m\u001b[0;34m)\u001b[0m\u001b[0;34m\u001b[0m\u001b[0m\n\u001b[0m\u001b[1;32m   1437\u001b[0m         \u001b[0mcolumns\u001b[0m \u001b[0;34m=\u001b[0m \u001b[0;34m[\u001b[0m\u001b[0mcol_desc\u001b[0m\u001b[0;34m[\u001b[0m\u001b[0;36m0\u001b[0m\u001b[0;34m]\u001b[0m \u001b[0;32mfor\u001b[0m \u001b[0mcol_desc\u001b[0m \u001b[0;32min\u001b[0m \u001b[0mcursor\u001b[0m\u001b[0;34m.\u001b[0m\u001b[0mdescription\u001b[0m\u001b[0;34m]\u001b[0m\u001b[0;34m\u001b[0m\u001b[0m\n\u001b[1;32m   1438\u001b[0m \u001b[0;34m\u001b[0m\u001b[0m\n",
      "\u001b[0;32m/Users/William/anaconda3/envs/python2/lib/python2.7/site-packages/pandas/io/sql.pyc\u001b[0m in \u001b[0;36mexecute\u001b[0;34m(self, *args, **kwargs)\u001b[0m\n\u001b[1;32m   1411\u001b[0m             ex = DatabaseError(\n\u001b[1;32m   1412\u001b[0m                 \"Execution failed on sql '%s': %s\" % (args[0], exc))\n\u001b[0;32m-> 1413\u001b[0;31m             \u001b[0mraise_with_traceback\u001b[0m\u001b[0;34m(\u001b[0m\u001b[0mex\u001b[0m\u001b[0;34m)\u001b[0m\u001b[0;34m\u001b[0m\u001b[0m\n\u001b[0m\u001b[1;32m   1414\u001b[0m \u001b[0;34m\u001b[0m\u001b[0m\n\u001b[1;32m   1415\u001b[0m     \u001b[0;34m@\u001b[0m\u001b[0mstaticmethod\u001b[0m\u001b[0;34m\u001b[0m\u001b[0m\n",
      "\u001b[0;32m/Users/William/anaconda3/envs/python2/lib/python2.7/site-packages/pandas/io/sql.pyc\u001b[0m in \u001b[0;36mexecute\u001b[0;34m(self, *args, **kwargs)\u001b[0m\n\u001b[1;32m   1399\u001b[0m                 \u001b[0mcur\u001b[0m\u001b[0;34m.\u001b[0m\u001b[0mexecute\u001b[0m\u001b[0;34m(\u001b[0m\u001b[0;34m*\u001b[0m\u001b[0margs\u001b[0m\u001b[0;34m,\u001b[0m \u001b[0;34m**\u001b[0m\u001b[0mkwargs\u001b[0m\u001b[0;34m)\u001b[0m\u001b[0;34m\u001b[0m\u001b[0m\n\u001b[1;32m   1400\u001b[0m             \u001b[0;32melse\u001b[0m\u001b[0;34m:\u001b[0m\u001b[0;34m\u001b[0m\u001b[0m\n\u001b[0;32m-> 1401\u001b[0;31m                 \u001b[0mcur\u001b[0m\u001b[0;34m.\u001b[0m\u001b[0mexecute\u001b[0m\u001b[0;34m(\u001b[0m\u001b[0;34m*\u001b[0m\u001b[0margs\u001b[0m\u001b[0;34m)\u001b[0m\u001b[0;34m\u001b[0m\u001b[0m\n\u001b[0m\u001b[1;32m   1402\u001b[0m             \u001b[0;32mreturn\u001b[0m \u001b[0mcur\u001b[0m\u001b[0;34m\u001b[0m\u001b[0m\n\u001b[1;32m   1403\u001b[0m         \u001b[0;32mexcept\u001b[0m \u001b[0mException\u001b[0m \u001b[0;32mas\u001b[0m \u001b[0mexc\u001b[0m\u001b[0;34m:\u001b[0m\u001b[0;34m\u001b[0m\u001b[0m\n",
      "\u001b[0;31mDatabaseError\u001b[0m: Execution failed on sql '\nWITH merged AS (\n  SELECT\n    emperor,\n    denomination,\n    description,\n    start,\n    end\n  FROM\n    britishMuseum JOIN emperors ON\n      startDate >= emperors.start\n      AND britishMuseum.startDate <= emperors.end\n)\nSELECT\n  emperor,\n  denomination,\n  description,\n  start,\n  end\nFROM merged\nWHERE description LIKE '%radiate%'\nORDER BY start, end, denomination;\n': no such table: britishMuseum"
     ]
    }
   ],
   "source": [
    "source = 'britishMuseum'\n",
    "query = '''\n",
    "WITH merged AS (\n",
    "  SELECT\n",
    "    emperor,\n",
    "    denomination,\n",
    "    description,\n",
    "    start,\n",
    "    end\n",
    "  FROM\n",
    "    {} JOIN emperors ON\n",
    "      startDate >= emperors.start\n",
    "      AND {}.startDate <= emperors.end\n",
    ")\n",
    "SELECT\n",
    "  emperor,\n",
    "  denomination,\n",
    "  description,\n",
    "  start,\n",
    "  end\n",
    "FROM merged\n",
    "WHERE description LIKE '%radiate%'\n",
    "ORDER BY start, end, denomination;\n",
    "'''.format(source, source)\n",
    "bm = pd.read_sql(query, conn)"
   ]
  },
  {
   "cell_type": "code",
   "execution_count": null,
   "metadata": {
    "collapsed": true
   },
   "outputs": [],
   "source": []
  },
  {
   "cell_type": "markdown",
   "metadata": {},
   "source": [
    "# OLD STYLE (BAD)"
   ]
  },
  {
   "cell_type": "code",
   "execution_count": 19,
   "metadata": {
    "collapsed": false
   },
   "outputs": [],
   "source": [
    "museum = 'britishMuseum'\n",
    "mints_bm = cd.readQuery(fname, museum)\n",
    "mints_bm['dates'] = mints_bm['dates'].apply(cd.stringToList(valType=int))"
   ]
  },
  {
   "cell_type": "code",
   "execution_count": 23,
   "metadata": {
    "collapsed": false
   },
   "outputs": [],
   "source": [
    "emperors = np.load('../Data/Emperors.npy').item()"
   ]
  },
  {
   "cell_type": "code",
   "execution_count": 24,
   "metadata": {
    "collapsed": false
   },
   "outputs": [],
   "source": [
    "def findEmperor(df, emperors, authorityCol='authority', datesCol='dates'):\n",
    "    '''\n",
    "    '''\n",
    "    df['emperor'] = ''\n",
    "    for emperor, dates in emperors.iteritems():\n",
    "        df['emperor'][df[authorityCol].str.contains(emperor)] = emperor\n",
    "        matchDates = cp.coinsFromDates(df, dates, col_name='dates')\n",
    "        df['emperor'][matchDates] = emperor\n",
    "    return df"
   ]
  },
  {
   "cell_type": "code",
   "execution_count": 25,
   "metadata": {
    "collapsed": false
   },
   "outputs": [
    {
     "data": {
      "text/plain": [
       "{'Aemilianus': (253, 253),\n",
       " 'Anthemius': (467, 472),\n",
       " 'Antoninus Pius': (138, 161),\n",
       " 'Arcadius': (383, 408),\n",
       " 'Augustus': (-27, 14),\n",
       " 'Aurelian': (270, 275),\n",
       " 'Avitus': (455, 456),\n",
       " 'Balbinus': (238, 238),\n",
       " 'Caligula': (37, 41),\n",
       " 'Caracalla': (198, 217),\n",
       " 'Carinus': (283, 285),\n",
       " 'Carus': (282, 283),\n",
       " 'Claudius': (41, 54),\n",
       " 'Claudius Gothicus': (268, 270),\n",
       " 'Commodus': (177, 192),\n",
       " 'Constans I': (337, 350),\n",
       " 'Constantine II': (337, 340),\n",
       " 'Constantine III': (409, 411),\n",
       " 'Constantine the Great': (306, 337),\n",
       " 'Constantius I': (305, 306),\n",
       " 'Constantius II': (337, 361),\n",
       " 'Constantius III': (421, 421),\n",
       " 'Decius': (249, 251),\n",
       " 'Didius Julianus': (193, 193),\n",
       " 'Diocletian': (284, 305),\n",
       " 'Domitian': (81, 96),\n",
       " 'Elagabalus': (218, 222),\n",
       " 'Florianus': (276, 276),\n",
       " 'Galba': (68, 69),\n",
       " 'Galerius': (305, 311),\n",
       " 'Gallienus': (253, 268),\n",
       " 'Geta': (209, 211),\n",
       " 'Glycerius': (473, 474),\n",
       " 'Gordian I': (238, 238),\n",
       " 'Gordian II': (238, 238),\n",
       " 'Gordian III': (238, 244),\n",
       " 'Gratian': (367, 383),\n",
       " 'Hadrian': (117, 138),\n",
       " 'Honorius': (393, 423),\n",
       " 'Hostilian': (251, 251),\n",
       " 'Joannes': (423, 425),\n",
       " 'Jovian': (363, 364),\n",
       " 'Julian': (360, 363),\n",
       " 'Julius Nepos': (474, 475),\n",
       " 'Libius Severus': (461, 465),\n",
       " 'Licinius I': (308, 324),\n",
       " 'Lucius Verus': (161, 169),\n",
       " 'Macrinus': (217, 218),\n",
       " 'Magnus Maximus': (384, 388),\n",
       " 'Majorian': (457, 461),\n",
       " 'Marcian': (450, 457),\n",
       " 'Marcus Aurelius': (161, 180),\n",
       " 'Maxentius': (306, 312),\n",
       " 'Maximian': (286, 305),\n",
       " 'Maximinus II': (311, 313),\n",
       " 'Maximinus Thrax': (235, 238),\n",
       " 'Nero': (54, 68),\n",
       " 'Nerva': (96, 98),\n",
       " 'Numerian': (283, 284),\n",
       " 'Olybrius': (472, 472),\n",
       " 'Otho': (69, 69),\n",
       " 'Pertinax': (193, 193),\n",
       " 'Petronius Maximus': (455, 455),\n",
       " 'Philip the Arab': (244, 249),\n",
       " 'Probus': (276, 282),\n",
       " 'Pupienus': (238, 238),\n",
       " 'Quintillus': (270, 270),\n",
       " 'Romulus Augustulus': (475, 476),\n",
       " 'Septimius Severus': (193, 211),\n",
       " 'Severus Alexander': (222, 235),\n",
       " 'Severus II': (306, 307),\n",
       " 'Tacitus': (275, 276),\n",
       " 'Theodosius I': (379, 395),\n",
       " 'Theodosius II': (402, 450),\n",
       " 'Tiberius': (14, 37),\n",
       " 'Titus': (79, 81),\n",
       " 'Trajan': (98, 117),\n",
       " 'Trebonianus Gallus': (251, 253),\n",
       " 'Valens': (364, 378),\n",
       " 'Valentinian I': (364, 375),\n",
       " 'Valentinian II': (375, 392),\n",
       " 'Valentinian III': (424, 455),\n",
       " 'Valerian': (253, 260),\n",
       " 'Vespasian': (69, 79),\n",
       " 'Vetranio': (350, 350),\n",
       " 'Vitellius': (69, 69)}"
      ]
     },
     "execution_count": 25,
     "metadata": {},
     "output_type": "execute_result"
    }
   ],
   "source": [
    "emperors"
   ]
  },
  {
   "cell_type": "code",
   "execution_count": 6,
   "metadata": {
    "collapsed": false
   },
   "outputs": [
    {
     "name": "stderr",
     "output_type": "stream",
     "text": [
      "/Users/William/anaconda3/envs/python2/lib/python2.7/site-packages/ipykernel/__main__.py:6: SettingWithCopyWarning: \n",
      "A value is trying to be set on a copy of a slice from a DataFrame\n",
      "\n",
      "See the caveats in the documentation: http://pandas.pydata.org/pandas-docs/stable/indexing.html#indexing-view-versus-copy\n",
      "/Users/William/anaconda3/envs/python2/lib/python2.7/site-packages/ipykernel/__main__.py:8: SettingWithCopyWarning: \n",
      "A value is trying to be set on a copy of a slice from a DataFrame\n",
      "\n",
      "See the caveats in the documentation: http://pandas.pydata.org/pandas-docs/stable/indexing.html#indexing-view-versus-copy\n"
     ]
    }
   ],
   "source": [
    "mints_with_desc = mints_bm[mints_bm['description'] != '']\n",
    "mints_with_desc = findEmperor(mints_bm, emperors)"
   ]
  },
  {
   "cell_type": "code",
   "execution_count": 10,
   "metadata": {
    "collapsed": false,
    "scrolled": false
   },
   "outputs": [],
   "source": [
    "plot_title = cp.makeTitle(subjects=['radiate'])\n",
    "good_df = cp.containKeyword(mints_with_desc, ['radiate'], ['description'])\n",
    "good_dfs = dict()\n",
    "orderedEmperors = [x[0] for x in sorted(emperors.items(), key=lambda x: x[1][0])]\n",
    "\n",
    "if not good_df.empty:\n",
    "    good_dfs[plot_title] = good_df\n",
    "    bar_plot = cp.makeCoinageStackedBar(good_df, x_col='emperor', stack_col='denomination', \n",
    "                                        title=plot_title+' Stacked Bar Graph', sort_bars=False,\n",
    "                                        sort_x=False, sort_stacks=False, stack_order=orderedEmperors)\n",
    "\n",
    "show(bar_plot)"
   ]
  },
  {
   "cell_type": "code",
   "execution_count": null,
   "metadata": {
    "collapsed": true
   },
   "outputs": [],
   "source": []
  }
 ],
 "metadata": {
  "anaconda-cloud": {},
  "kernelspec": {
   "display_name": "Python [conda env:python2]",
   "language": "python",
   "name": "conda-env-python2-py"
  },
  "language_info": {
   "codemirror_mode": {
    "name": "ipython",
    "version": 2
   },
   "file_extension": ".py",
   "mimetype": "text/x-python",
   "name": "python",
   "nbconvert_exporter": "python",
   "pygments_lexer": "ipython2",
   "version": "2.7.13"
  }
 },
 "nbformat": 4,
 "nbformat_minor": 1
}
