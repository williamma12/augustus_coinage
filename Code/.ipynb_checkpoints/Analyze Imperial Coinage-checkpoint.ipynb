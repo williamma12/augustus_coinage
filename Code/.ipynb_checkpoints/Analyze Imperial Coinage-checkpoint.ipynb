{
 "cells": [
  {
   "cell_type": "code",
   "execution_count": 42,
   "metadata": {
    "collapsed": false
   },
   "outputs": [],
   "source": [
    "import pandas as pd\n",
    "import numpy as np\n",
    "import sqlite3\n",
    "from bokeh.io import output_notebook, save\n",
    "from bokeh.plotting import show\n",
    "from bokeh.layouts import gridplot\n",
    "\n",
    "import CleanData as cd\n",
    "import BokehPlots as bp\n",
    "import CoinagePlots as cp\n",
    "from emperors import emperors\n",
    "\n",
    "# import sys\n",
    "# stdout = sys.stdout\n",
    "# reload(sys)\n",
    "# sys.setdefaultencoding('utf-8')\n",
    "# sys.stdout = stdout"
   ]
  },
  {
   "cell_type": "code",
   "execution_count": 43,
   "metadata": {
    "collapsed": true
   },
   "outputs": [],
   "source": [
    "title = 'Roman_Imperial_Coinage'\n",
    "fname = title+'.sqlite'"
   ]
  },
  {
   "cell_type": "code",
   "execution_count": 44,
   "metadata": {
    "collapsed": false
   },
   "outputs": [],
   "source": [
    "museum = 'britishMuseum'\n",
    "mints_bm = cd.readQuery(fname, museum)\n",
    "mints_bm['dates'] = mints_bm['dates'].apply(cd.stringToList(valType=int))\n",
    "#mints_bm.tail()"
   ]
  },
  {
   "cell_type": "code",
   "execution_count": 45,
   "metadata": {
    "collapsed": false
   },
   "outputs": [],
   "source": [
    "mints_with_desc = mints_bm[mints_bm['description'] != '']"
   ]
  },
  {
   "cell_type": "code",
   "execution_count": 46,
   "metadata": {
    "collapsed": false
   },
   "outputs": [],
   "source": [
    "plot_title = cp.makeTitle(subjects=['radiate'])\n",
    "good_df = cp.containKeyword(mints_with_desc, ['radiate'], ['description'])\n",
    "\n",
    "if not good_df.empty:\n",
    "    good_dfs[plot_title] = good_df\n",
    "    bar_plot = cp.makeCoinageStackedBar(good_df, x_col='authority', stack_col='denomination', \n",
    "                                        title=plot_title+' Stacked Bar Graph')\n",
    "\n",
    "show(bar_plot)"
   ]
  },
  {
   "cell_type": "code",
   "execution_count": null,
   "metadata": {
    "collapsed": true
   },
   "outputs": [],
   "source": []
  }
 ],
 "metadata": {
  "anaconda-cloud": {},
  "kernelspec": {
   "display_name": "Python [conda env:python2]",
   "language": "python",
   "name": "conda-env-python2-py"
  },
  "language_info": {
   "codemirror_mode": {
    "name": "ipython",
    "version": 2
   },
   "file_extension": ".py",
   "mimetype": "text/x-python",
   "name": "python",
   "nbconvert_exporter": "python",
   "pygments_lexer": "ipython2",
   "version": "2.7.13"
  }
 },
 "nbformat": 4,
 "nbformat_minor": 1
}
