{
 "cells": [
  {
   "cell_type": "code",
   "execution_count": 2,
   "metadata": {
    "collapsed": false
   },
   "outputs": [],
   "source": [
    "from collections import Counter\n",
    "from itertools import chain\n",
    "\n",
    "import pandas as pd\n",
    "import numpy as np\n",
    "import sqlite3\n",
    "import re\n",
    "\n",
    "from bkcharts import Bar, cat\n",
    "from bokeh.io import output_notebook, save\n",
    "from bokeh.models import HoverTool\n",
    "from bokeh.palettes import viridis\n",
    "from bokeh.plotting import show\n",
    "from scipy import stats\n",
    "\n",
    "# import CleanData as cd\n",
    "# import BokehPlots as bp\n",
    "# import CoinagePlots as cp"
   ]
  },
  {
   "cell_type": "code",
   "execution_count": 3,
   "metadata": {
    "collapsed": true
   },
   "outputs": [],
   "source": [
    "title = 'Roman_Imperial_Coinage'\n",
    "fname = '../Data/' + title + '.sqlite'\n",
    "conn = sqlite3.connect(fname)"
   ]
  },
  {
   "cell_type": "markdown",
   "metadata": {},
   "source": [
    "# Functions"
   ]
  },
  {
   "cell_type": "markdown",
   "metadata": {},
   "source": [
    "## Get Coin Counts Data"
   ]
  },
  {
   "cell_type": "code",
   "execution_count": 28,
   "metadata": {
    "collapsed": true
   },
   "outputs": [],
   "source": [
    "def countsDF(source, column, conn):\n",
    "    '''\n",
    "    Get counts of the coins by emperor in SOURCE \n",
    "    '''\n",
    "    query = '''\n",
    "    SELECT\n",
    "      emperor,\n",
    "      {},\n",
    "      count({}) AS counts\n",
    "    FROM\n",
    "      {} JOIN emperors ON\n",
    "        startDate >= emperors.start\n",
    "        AND startDate <= emperors.end\n",
    "    GROUP BY emperor, {}\n",
    "    ORDER BY start, end, counts DESC;\n",
    "    '''.format(column, column, source, column)\n",
    "    df = pd.read_sql(query, conn)\n",
    "    return df"
   ]
  },
  {
   "cell_type": "code",
   "execution_count": 29,
   "metadata": {
    "collapsed": true
   },
   "outputs": [],
   "source": [
    "def radiateCountsDF(source, column, conn):\n",
    "    '''\n",
    "    Get dataframe of the counts for the occurence of 'radiate' crowns by emperor and denomination\n",
    "    '''\n",
    "    query = '''\n",
    "    SELECT\n",
    "      emperor,\n",
    "      {},\n",
    "      count({}) AS counts\n",
    "    FROM\n",
    "      {} JOIN emperors ON\n",
    "        startDate >= emperors.start\n",
    "        AND startDate <= emperors.end\n",
    "    WHERE description LIKE '%radiate%'\n",
    "    GROUP BY emperor, {}\n",
    "    ORDER BY start, end, counts DESC;\n",
    "    '''.format(column, column, source, column)\n",
    "    df = pd.read_sql(query, conn)\n",
    "    return df"
   ]
  },
  {
   "cell_type": "code",
   "execution_count": 30,
   "metadata": {
    "collapsed": true
   },
   "outputs": [],
   "source": [
    "def radiateRatiosDF(source, conn):\n",
    "    '''\n",
    "    Get dataframe of the ratio for the occurence of 'radiate' crowns by emperor \n",
    "    and denomination over total coins from emperor\n",
    "    '''\n",
    "    query = '''\n",
    "    WITH emperorCoins AS (\n",
    "      SELECT\n",
    "        emperor,\n",
    "        description,\n",
    "        denomination,\n",
    "        start,\n",
    "        end\n",
    "      FROM\n",
    "        {} JOIN emperors ON\n",
    "          startDate >= emperors.start\n",
    "          AND startDate <= emperors.end\n",
    "    ), emperorTotals AS (\n",
    "      SELECT\n",
    "        emperor,\n",
    "        count(description)  AS emperorCounts\n",
    "      FROM emperorCoins\n",
    "      GROUP BY emperor\n",
    "    )\n",
    "    SELECT\n",
    "      emperor,\n",
    "      count(description) * 1.0 / emperorCounts   AS keywordRatio\n",
    "    FROM\n",
    "      emperorCoins JOIN emperorTotals USING (emperor)\n",
    "    WHERE description LIKE '%radiate%'\n",
    "    GROUP BY emperor\n",
    "    ORDER BY start, end;\n",
    "    '''.format(source)\n",
    "    df = pd.read_sql(query, conn)\n",
    "    return df"
   ]
  },
  {
   "cell_type": "markdown",
   "metadata": {},
   "source": [
    "## Generate Coin Counts Plots"
   ]
  },
  {
   "cell_type": "code",
   "execution_count": 31,
   "metadata": {
    "collapsed": true
   },
   "outputs": [],
   "source": [
    "def countsPlot(source, column, conn):\n",
    "    '''\n",
    "    Create counts of the coins by emperor in SOURCE plot\n",
    "    '''\n",
    "    df = countsDF(source, column, conn)\n",
    "    counts = Bar(df, label=cat(columns=\"emperor\", sort=False), palette=viridis(df[column].unique().size), \n",
    "                    values='counts', stack=column, responsive=True, active_scroll='wheel_zoom', \n",
    "                     title=\"Count of coins by Emperor in {} Plot\".format(source))\n",
    "\n",
    "    hover_counts = HoverTool(tooltips=[\n",
    "                                (\"emperor\", \"@emperor\"),\n",
    "                                (\"denomination\", \"@denomination\"),\n",
    "                                (\"count\", \"@counts\")\n",
    "                            ])\n",
    "\n",
    "    counts.add_tools(hover_counts)\n",
    "    counts.xaxis.axis_label = \"Emperors\"\n",
    "    counts.yaxis.axis_label = \"Counts\"\n",
    "\n",
    "    save(counts, \"../Plots/{}_counts_plot.html\".format(source))\n",
    "    \n",
    "    return counts"
   ]
  },
  {
   "cell_type": "code",
   "execution_count": 32,
   "metadata": {
    "collapsed": false
   },
   "outputs": [],
   "source": [
    "def radiateCountsPlot(source, column, conn):\n",
    "    '''\n",
    "    Create plot of the count of coins that have 'radiate' crowns in them by emperor\n",
    "    '''\n",
    "    df = radiateCountsDF(source, column, conn)\n",
    "    counts = Bar(df, label=cat(columns=\"emperor\", sort=False), palette=viridis(df[column].unique().size), \n",
    "                    values='counts', stack=column, responsive=True, active_scroll='wheel_zoom', \n",
    "                     title=\"Count of 'Radiate Crowns' per Emperor in \" + source + \" Plot\")\n",
    "\n",
    "    hover_counts = HoverTool(tooltips=[\n",
    "                                (\"emperor\", \"@emperor\"),\n",
    "                                (\"denomination\", \"@denomination\"),\n",
    "                                (\"count\", \"@counts\")\n",
    "                            ])\n",
    "\n",
    "    counts.add_tools(hover_counts)\n",
    "    counts.xaxis.axis_label = \"Emperors\"\n",
    "    counts.yaxis.axis_label = \"Counts\"\n",
    "\n",
    "    save(counts, \"../Plots/\" + source + \"_radiate_counts_plot.html\")\n",
    "    \n",
    "    return counts"
   ]
  },
  {
   "cell_type": "code",
   "execution_count": 33,
   "metadata": {
    "collapsed": false
   },
   "outputs": [],
   "source": [
    "def radiateRatiosPlot(source, conn):\n",
    "    '''\n",
    "    Plot the ratio for the occurence of 'radiate' crowns by emperor \n",
    "    over total number of coins by emperor\n",
    "    '''\n",
    "    df = radiateRatiosDF(source, conn)\n",
    "    ratios = Bar(df, label=cat(columns=\"emperor\", sort=False), values='keywordRatio', \n",
    "                 responsive=True, active_scroll='wheel_zoom', legend=False,\n",
    "                 title=\"Ratio of 'Radiate Crowns' by Emperor in \" + source + \" Plot\")\n",
    "\n",
    "    hover_counts = HoverTool(tooltips=[\n",
    "                                (\"emperor\", \"@emperor\"),\n",
    "                                (\"Percentage\", \"@percentages\")\n",
    "                            ])\n",
    "\n",
    "    ratios.add_tools(hover_counts)\n",
    "    ratios.xaxis.axis_label = \"Emperors\"\n",
    "    ratios.yaxis.axis_label = \"Percentages\"\n",
    "\n",
    "    save(ratios, \"../Plots/\" + source + \"_ratios_plot.html\")\n",
    "    \n",
    "    return ratios"
   ]
  },
  {
   "cell_type": "markdown",
   "metadata": {},
   "source": [
    "## Create Word Counts Plots"
   ]
  },
  {
   "cell_type": "code",
   "execution_count": 11,
   "metadata": {
    "collapsed": false
   },
   "outputs": [
    {
     "name": "stdout",
     "output_type": "stream",
     "text": [
      "          Word  Count     Side\n",
      "19        bust    151  Obverse\n",
      "55       right    725  Obverse\n",
      "65     radiate    550  Obverse\n",
      "71        Head    227  Obverse\n",
      "73         and    396  Obverse\n",
      "100         of    782  Obverse\n",
      "101  cuirassed    365  Obverse\n",
      "141     draped    335  Obverse\n",
      "163       Bust    347  Obverse\n",
      "205    Radiate    189  Obverse\n",
      "208       left    108  Obverse\n",
      "26     sceptre    139  Reverse\n",
      "102   standing    442  Reverse\n",
      "120         on    256  Reverse\n",
      "324     seated    133  Reverse\n",
      "329        and    567  Reverse\n",
      "371       left    977  Reverse\n",
      "527         in    727  Reverse\n",
      "612      right    623  Reverse\n",
      "657         of    129  Reverse\n",
      "701       with    142  Reverse\n",
      "714       hand    688  Reverse\n",
      "734    holding    493  Reverse\n"
     ]
    }
   ],
   "source": [
    "def wordCountsPlot(source, conn):\n",
    "    '''\n",
    "    Get the count of words that appear on \"radiate\" coins from SOURCE.\n",
    "    '''\n",
    "    query = '''\n",
    "    SELECT\n",
    "      obverseType,\n",
    "      reverseType\n",
    "    FROM {}\n",
    "    WHERE description LIKE \"%radiate%\"\n",
    "    '''.format(source)\n",
    "    df = pd.read_sql(query, conn)\n",
    "    \n",
    "    obverseList = [re.sub('[^a-zA-Z\\s]+', '', a).split() for a in df['obverseType']]\n",
    "    reverseList = [re.sub('[^a-zA-Z\\s]+', '', a).split() for a in df['reverseType']]\n",
    "    \n",
    "    obverseCounter = dict(Counter(chain.from_iterable(obverseList)))\n",
    "    reverseCounter = dict(Counter(chain.from_iterable(reverseList)))\n",
    "    \n",
    "    obverseTemp = pd.DataFrame(list(obverseCounter.items()), columns=['Word', 'Count'])\n",
    "    obverseTemp = obverseTemp[obverseTemp['Count'] > 100]\n",
    "    obverseTemp['Side'] = 'Obverse'\n",
    "    reverseTemp = pd.DataFrame(list(reverseCounter.items()), columns=['Word', 'Count'])\n",
    "    reverseTemp = reverseTemp[reverseTemp['Count'] > 100]\n",
    "    reverseTemp['Side'] = 'Reverse'\n",
    "    \n",
    "    df = pd.concat([obverseTemp, reverseTemp])\n",
    "    df = df.fillna(0)\n",
    "    print(df)\n",
    "    \n",
    "    wordCounts = Bar(df, label=cat(columns=[\"Word\", 'Side'], sort=True), values='Count', \n",
    "                         responsive=True, active_scroll='wheel_zoom', legend=False, group='Side',\n",
    "                         title=\"Temp\")\n",
    "    \n",
    "    show(wordCounts)\n",
    "    \n",
    "wordCountsPlot('britishMuseum', conn)"
   ]
  },
  {
   "cell_type": "markdown",
   "metadata": {},
   "source": [
    "# Create Counts and Ratios Plots"
   ]
  },
  {
   "cell_type": "code",
   "execution_count": 34,
   "metadata": {
    "collapsed": false
   },
   "outputs": [
    {
     "name": "stderr",
     "output_type": "stream",
     "text": [
      "/Users/William/Documents/roman_coinage/roman_coinage_python3/lib/python3.6/site-packages/bokeh/io.py:423: UserWarning: save() called but no resources were supplied and output_file(...) was never called, defaulting to resources.CDN\n",
      "  warnings.warn(\"save() called but no resources were supplied and output_file(...) was never called, defaulting to resources.CDN\")\n",
      "/Users/William/Documents/roman_coinage/roman_coinage_python3/lib/python3.6/site-packages/bokeh/io.py:433: UserWarning: save() called but no title was supplied and output_file(...) was never called, using default title 'Bokeh Plot'\n",
      "  warnings.warn(\"save() called but no title was supplied and output_file(...) was never called, using default title 'Bokeh Plot'\")\n"
     ]
    }
   ],
   "source": [
    "sources = ['britishMuseum', 'americanNumismaticSociety', 'OCRE', 'allData']\n",
    "column = \"material\"\n",
    "for source in sources:\n",
    "    counts = countsPlot(source, column, conn)\n",
    "    # show(counts)\n",
    "    radiateCounts = radiateCountsPlot(source, column, conn)\n",
    "    # show(radiateCounts)\n",
    "    ratios = radiateRatiosPlot(source, conn)\n",
    "    # show(ratios)"
   ]
  },
  {
   "cell_type": "markdown",
   "metadata": {},
   "source": [
    "# Statistical Significance of Data"
   ]
  },
  {
   "cell_type": "code",
   "execution_count": 23,
   "metadata": {
    "collapsed": false
   },
   "outputs": [],
   "source": [
    "bm_ratio = radiateRatiosDF('britishMuseum', conn)\n",
    "ans_ratio = radiateRatiosDF('americanNumismaticSociety', conn)\n",
    "merged = bm_ratio.merge(ans_ratio, on='emperor')"
   ]
  },
  {
   "cell_type": "code",
   "execution_count": 24,
   "metadata": {
    "collapsed": false
   },
   "outputs": [
    {
     "data": {
      "text/html": [
       "<div>\n",
       "<style scoped>\n",
       "    .dataframe tbody tr th:only-of-type {\n",
       "        vertical-align: middle;\n",
       "    }\n",
       "\n",
       "    .dataframe tbody tr th {\n",
       "        vertical-align: top;\n",
       "    }\n",
       "\n",
       "    .dataframe thead th {\n",
       "        text-align: right;\n",
       "    }\n",
       "</style>\n",
       "<table border=\"1\" class=\"dataframe\">\n",
       "  <thead>\n",
       "    <tr style=\"text-align: right;\">\n",
       "      <th></th>\n",
       "      <th>emperor</th>\n",
       "      <th>keywordRatio_x</th>\n",
       "      <th>keywordRatio_y</th>\n",
       "    </tr>\n",
       "  </thead>\n",
       "  <tbody>\n",
       "    <tr>\n",
       "      <th>49</th>\n",
       "      <td>Severus II</td>\n",
       "      <td>0.008130</td>\n",
       "      <td>0.008333</td>\n",
       "    </tr>\n",
       "    <tr>\n",
       "      <th>50</th>\n",
       "      <td>Maxentius</td>\n",
       "      <td>0.016327</td>\n",
       "      <td>0.011268</td>\n",
       "    </tr>\n",
       "    <tr>\n",
       "      <th>51</th>\n",
       "      <td>Constantine the Great</td>\n",
       "      <td>0.020356</td>\n",
       "      <td>0.037863</td>\n",
       "    </tr>\n",
       "    <tr>\n",
       "      <th>52</th>\n",
       "      <td>Licinius I</td>\n",
       "      <td>0.033259</td>\n",
       "      <td>0.067402</td>\n",
       "    </tr>\n",
       "    <tr>\n",
       "      <th>53</th>\n",
       "      <td>Maximinus II</td>\n",
       "      <td>0.032258</td>\n",
       "      <td>0.058824</td>\n",
       "    </tr>\n",
       "  </tbody>\n",
       "</table>\n",
       "</div>"
      ],
      "text/plain": [
       "                  emperor  keywordRatio_x  keywordRatio_y\n",
       "49             Severus II        0.008130        0.008333\n",
       "50              Maxentius        0.016327        0.011268\n",
       "51  Constantine the Great        0.020356        0.037863\n",
       "52             Licinius I        0.033259        0.067402\n",
       "53           Maximinus II        0.032258        0.058824"
      ]
     },
     "execution_count": 24,
     "metadata": {},
     "output_type": "execute_result"
    }
   ],
   "source": [
    "merged.tail()"
   ]
  },
  {
   "cell_type": "code",
   "execution_count": 25,
   "metadata": {
    "collapsed": false
   },
   "outputs": [
    {
     "data": {
      "text/plain": [
       "LinregressResult(slope=0.90071854486013636, intercept=0.07711116939117077, rvalue=0.49712715812502589, pvalue=0.00013127840055810556, stderr=0.21801098570817246)"
      ]
     },
     "execution_count": 25,
     "metadata": {},
     "output_type": "execute_result"
    }
   ],
   "source": [
    "stats.linregress(merged['keywordRatio_x'], merged['keywordRatio_y'])"
   ]
  },
  {
   "cell_type": "code",
   "execution_count": null,
   "metadata": {
    "collapsed": true
   },
   "outputs": [],
   "source": []
  }
 ],
 "metadata": {
  "anaconda-cloud": {},
  "kernelspec": {
   "display_name": "Python [conda env:python2]",
   "language": "python",
   "name": "conda-env-python2-py"
  },
  "language_info": {
   "codemirror_mode": {
    "name": "ipython",
    "version": 2
   },
   "file_extension": ".py",
   "mimetype": "text/x-python",
   "name": "python",
   "nbconvert_exporter": "python",
   "pygments_lexer": "ipython2",
   "version": "2.7.13"
  }
 },
 "nbformat": 4,
 "nbformat_minor": 1
}
