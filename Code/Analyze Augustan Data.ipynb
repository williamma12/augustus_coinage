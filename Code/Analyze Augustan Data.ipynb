{
 "cells": [
  {
   "cell_type": "code",
   "execution_count": 1,
   "metadata": {
    "collapsed": false
   },
   "outputs": [],
   "source": [
    "import pandas as pd\n",
    "import numpy as np\n",
    "import doctest\n",
    "import CleanData as cd\n",
    "import BokehMaker as magicPlots\n",
    "import sqlite3\n",
    "\n",
    "# import sys\n",
    "# stdout = sys.stdout\n",
    "# reload(sys)\n",
    "# sys.setdefaultencoding('utf-8')\n",
    "# sys.stdout = stdout"
   ]
  },
  {
   "cell_type": "markdown",
   "metadata": {},
   "source": [
    "## TODO:\n",
    "* Take data from all Roman Imperial era\n",
    "    * Create SQLite db to store data\n",
    "* 'Radiate crown' in Augustian Era"
   ]
  },
  {
   "cell_type": "code",
   "execution_count": 2,
   "metadata": {
    "collapsed": false
   },
   "outputs": [],
   "source": [
    "title = 'AugustusCoins_44BC-14AD'\n",
    "cnx = sqlite3.connect('../Data/'+title+'.sqlite')\n",
    "cursor = cnx.cursor()"
   ]
  },
  {
   "cell_type": "markdown",
   "metadata": {},
   "source": [
    "# Read in Data"
   ]
  },
  {
   "cell_type": "code",
   "execution_count": 11,
   "metadata": {
    "collapsed": false
   },
   "outputs": [],
   "source": [
    "bad_locations = ['Alexandria', 'Cos', 'Apamea', 'Philippi', 'Thrace', \n",
    "                 'Achulla', 'Arabia', 'Orthosia', 'Sebaste', 'Prymnessus', \n",
    "                 'Acmonea', 'Antiochia', 'Eucarpea', 'Chalkis', 'Apollonia', \n",
    "                 'Midaeum', 'Magnetes', 'Heraclea Salbace', '']\n",
    "\n",
    "placeholder= '?'\n",
    "placeholders= ', '.join(placeholder for _ in bad_locations)\n",
    "query= '''SELECT denomination, mint FROM britishMuseum \n",
    "            WHERE mint NOT IN (%s) AND \n",
    "            denomination <> \"?\"''' % placeholders\n",
    "cursor.execute(query, bad_locations)\n",
    "cols = ['denomination', 'mint']\n",
    "rows = cursor.fetchall()\n",
    "mints_bm = pd.DataFrame(rows, columns=cols)"
   ]
  },
  {
   "cell_type": "code",
   "execution_count": 13,
   "metadata": {
    "collapsed": false
   },
   "outputs": [
    {
     "data": {
      "text/html": [
       "<div>\n",
       "<table border=\"1\" class=\"dataframe\">\n",
       "  <thead>\n",
       "    <tr style=\"text-align: right;\">\n",
       "      <th></th>\n",
       "      <th>denomination</th>\n",
       "      <th>mint</th>\n",
       "    </tr>\n",
       "  </thead>\n",
       "  <tbody>\n",
       "    <tr>\n",
       "      <th>0</th>\n",
       "      <td>denarius</td>\n",
       "      <td>Lugdunum</td>\n",
       "    </tr>\n",
       "    <tr>\n",
       "      <th>1</th>\n",
       "      <td>as</td>\n",
       "      <td>Calagurris</td>\n",
       "    </tr>\n",
       "    <tr>\n",
       "      <th>2</th>\n",
       "      <td>as</td>\n",
       "      <td>Calagurris</td>\n",
       "    </tr>\n",
       "    <tr>\n",
       "      <th>3</th>\n",
       "      <td>as</td>\n",
       "      <td>Turiaso</td>\n",
       "    </tr>\n",
       "    <tr>\n",
       "      <th>4</th>\n",
       "      <td>as</td>\n",
       "      <td>Turiaso</td>\n",
       "    </tr>\n",
       "  </tbody>\n",
       "</table>\n",
       "</div>"
      ],
      "text/plain": [
       "  denomination        mint\n",
       "0     denarius    Lugdunum\n",
       "1           as  Calagurris\n",
       "2           as  Calagurris\n",
       "3           as     Turiaso\n",
       "4           as     Turiaso"
      ]
     },
     "execution_count": 13,
     "metadata": {},
     "output_type": "execute_result"
    }
   ],
   "source": [
    "mints_bm.head()"
   ]
  },
  {
   "cell_type": "code",
   "execution_count": 15,
   "metadata": {
    "collapsed": false
   },
   "outputs": [],
   "source": [
    "bad_locations = ['', 'uncertain', 'Uncertain value', 'Bilbilis|Italica']\n",
    "placeholder= '?'\n",
    "placeholders= ', '.join(placeholder for _ in bad_locations)\n",
    "query= '''SELECT denomination, mint FROM americanNumismaticSociety \n",
    "            WHERE mint NOT IN (%s) AND \n",
    "            denomination <> \"\"''' % placeholders\n",
    "cursor.execute(query, bad_locations)\n",
    "cols = ['denomination', 'mint']\n",
    "rows = cursor.fetchall()\n",
    "mints_ans = pd.DataFrame(rows, columns=cols)"
   ]
  },
  {
   "cell_type": "code",
   "execution_count": null,
   "metadata": {
    "collapsed": true
   },
   "outputs": [],
   "source": [
    "mints_ans"
   ]
  },
  {
   "cell_type": "markdown",
   "metadata": {},
   "source": [
    "# Plot Data\n",
    "* Plot all data together in plots\n",
    "* Split up data and plot seperately"
   ]
  },
  {
   "cell_type": "markdown",
   "metadata": {},
   "source": [
    "### All data\n",
    "* Make stacked bar plot\n",
    "* Make map plot"
   ]
  },
  {
   "cell_type": "code",
   "execution_count": null,
   "metadata": {
    "collapsed": false
   },
   "outputs": [],
   "source": [
    "from bokeh.io import output_notebook, save\n",
    "from bokeh.plotting import show\n",
    "from bokeh.models import Range1d, HoverTool\n",
    "from bokeh.palettes import linear_palette, viridis, grey"
   ]
  },
  {
   "cell_type": "code",
   "execution_count": null,
   "metadata": {
    "collapsed": false
   },
   "outputs": [],
   "source": [
    "#output_notebook()"
   ]
  },
  {
   "cell_type": "code",
   "execution_count": null,
   "metadata": {
    "collapsed": false
   },
   "outputs": [],
   "source": [
    "cleaned = mints_bm\n",
    "\n",
    "location_bar_plot = magicPlots.makeStackedBar(cleaned, 'mint', 'denomination', sort_bars=True,\n",
    "                               bars_ascending=False, sort_stacks=True, stacks_agg='sum', stacks_ascending=False,\n",
    "                              colors=viridis, title='Number of coins produced from each location')\n",
    "\n",
    "location_bar_plot.yaxis.axis_label='Location Counts'\n",
    "location_bar_plot.y_range = Range1d(0, 500, bounds=(0, 500))\n",
    "location_bar_plot.legend.location = 'top_right'\n",
    "location_bar_plot.add_tools(HoverTool(tooltips=[('Denomination', '@Denomination'), \n",
    "                                                ('Denomination Count', '@height'),\n",
    "                                                ('Location Count', '@Sum')]))\n",
    "\n",
    "save(location_bar_plot, filename='../Plots/location_bar.html')\n",
    "show(location_bar_plot)"
   ]
  },
  {
   "cell_type": "code",
   "execution_count": null,
   "metadata": {
    "collapsed": false
   },
   "outputs": [],
   "source": [
    "from bokeh.io import save, show\n",
    "import pygeoj\n",
    "from pyproj import Proj, transform"
   ]
  },
  {
   "cell_type": "code",
   "execution_count": null,
   "metadata": {
    "collapsed": false
   },
   "outputs": [],
   "source": [
    "#output_notebook()"
   ]
  },
  {
   "cell_type": "code",
   "execution_count": null,
   "metadata": {
    "collapsed": false
   },
   "outputs": [],
   "source": [
    "location_counts = cd.prepareDataframeForMapping(mints_bm, col_name='Production place')\n",
    "\n",
    "location_map_plot = magicPlots.makeMap(location_counts, 'Production place', 'Count', x_ranges=(-2.0e6, 5e6), \n",
    "                                        y_ranges=(3.5e6, 7e6), mintsFile='../GeoJSON/mints.geojson', \n",
    "                                       path='../GeoJSON/', ext='html', pt_size=lambda x: 5 * np.log(3 * x),\n",
    "                                      colors_ascending=False)\n",
    "\n",
    "save(location_map_plot, filename='../Plots/location_map.html')\n",
    "show(location_map_plot)"
   ]
  },
  {
   "cell_type": "markdown",
   "metadata": {
    "collapsed": true
   },
   "source": [
    "### Individual time periods and subjects"
   ]
  },
  {
   "cell_type": "code",
   "execution_count": null,
   "metadata": {
    "collapsed": true
   },
   "outputs": [],
   "source": [
    "from bokeh.layouts import gridplot"
   ]
  },
  {
   "cell_type": "code",
   "execution_count": null,
   "metadata": {
    "collapsed": false
   },
   "outputs": [],
   "source": [
    "def coinsFromDates(df, date_range, col_name='Date'):\n",
    "    '''\n",
    "    Parameters\n",
    "    ----------\n",
    "    df : Pandas dataframe\n",
    "        Dataframe containing coins and dates\n",
    "    date_range : tuple\n",
    "        Tuple of length two containing date range\n",
    "    col_names : str\n",
    "        Column name of dates\n",
    "        \n",
    "    Return\n",
    "    ------\n",
    "    Returns a dataframe containing only the rows that have the correct dates\n",
    "    '''\n",
    "    begin = date_range[0]\n",
    "    end = date_range[1]\n",
    "    def intWithinTupleRange(tup):\n",
    "        in_range = False\n",
    "        if len(tup) == 1:\n",
    "            if tup[0] >= begin and tup[0]<= end:\n",
    "                in_range = True\n",
    "        elif len(tup) == 2:\n",
    "            if tup[0] >= begin and tup[1]<= end:\n",
    "                in_range = False\n",
    "        return in_range\n",
    "    return df[df.apply(lambda x: intWithinTupleRange(x[col_name]), axis=1)]\n",
    "\n",
    "\n",
    "def containKeyword(df, keys, col_names):\n",
    "    '''\n",
    "    Parameters\n",
    "    ----------\n",
    "    df : Pandas dataframe\n",
    "        Dataframe containing coincs and column to look for keyword in\n",
    "    keys : list\n",
    "        list of strings to look for in each row of given column\n",
    "    col_name : list\n",
    "        list of columns of where to search for keyword in 'keys' list, respectively\n",
    "    \n",
    "    Return\n",
    "    ------\n",
    "    Returns a dataframe containing only rows that have the keyword in the given column\n",
    "    '''\n",
    "    def containIn(obj, key):\n",
    "        contained = False\n",
    "        cleaned_key = key.lower()\n",
    "        \n",
    "        if type(obj) == str:\n",
    "            if cleaned_key in obj.lower():\n",
    "                return True\n",
    "        elif type(obj) == tuple or type(obj) == list:\n",
    "            for item in obj:\n",
    "                if cleaned_key in item.lower():\n",
    "                    contained = True\n",
    "                    break\n",
    "                    \n",
    "        return contained\n",
    "    \n",
    "    if len(keys) != len(col_names):\n",
    "        raise ValueError('length of keys does not equal length of columns')\n",
    "        \n",
    "    try:\n",
    "        result = df[df.apply(lambda x: containIn(x[col_names[0]], keys[0]), axis=1)]\n",
    "        df = df.drop(df[df.apply(lambda x: containIn(x[col_names[0]], keys[0]), axis=1)], axis=1)\n",
    "    except:\n",
    "        raise ValueError('Missing keys')\n",
    "        \n",
    "    for i, key in enumerate(keys):\n",
    "        if key == keys[0]:\n",
    "            pass\n",
    "        else:\n",
    "            result.append(df[df.apply(lambda x: containIn(x[col_names[i]], key), axis=1)])\n",
    "            df = df.drop(df[df.apply(lambda x: containIn(x[col_names[i]], key), axis=1)], axis=1)\n",
    "            \n",
    "    return result\n",
    "\n",
    "\n",
    "def makeTitle(dates, subject):\n",
    "    '''\n",
    "    Parameters\n",
    "    ----------\n",
    "    dates : tuple\n",
    "        tuple of length two with date range\n",
    "    subject : list\n",
    "        list of strings of the subjects\n",
    "        \n",
    "    Return\n",
    "    ------\n",
    "    Returns a string of an appropriate title\n",
    "    \n",
    "    Doctest\n",
    "    -------\n",
    "    >>> makeTitle([-44, -31], ['star'])\n",
    "    \"'Star' in coinage from 44BC to 31BC\"\n",
    "    '''\n",
    "    result = ''\n",
    "    str_dates = []\n",
    "    for i, sub in enumerate(subject):\n",
    "        result += \"'\" + sub[0].upper() + sub[1:] + \"'\"\n",
    "        if len(subject) > 1:\n",
    "            if i != len(subject)-1:\n",
    "                result += ', '\n",
    "            if i == len(subject) - 2:\n",
    "                result += 'and '\n",
    "                \n",
    "    result += ' in coinage from '\n",
    "    \n",
    "    for date in dates:\n",
    "        if date < 0:\n",
    "            str_dates.append(str(abs(date)) + 'BC')\n",
    "        else:\n",
    "            str_dates.append(str(date) + 'BC')\n",
    "    \n",
    "    result += str_dates[0] + ' to ' + str_dates[1]\n",
    "    return result\n",
    "\n",
    "makeTitle([-44, -31], ['star'])"
   ]
  },
  {
   "cell_type": "code",
   "execution_count": null,
   "metadata": {
    "collapsed": false
   },
   "outputs": [],
   "source": [
    "mints_with_desc = mints_bm[mints_bm['Description'] != '']\n",
    "date_ranges = [(-44, -31), (-30, -27), (-27, -19), (-18, -16), (-15, -11), (-10, 13)]\n",
    "subjects = [(['star'], ['Description']), (['statue of Augustus'], ['Description']), \n",
    "            (['capricorn', 'globe', 'rudder'], ['Description' for _ in range(3)]), \n",
    "            (['Julius Caesar'], ['Associated names']), \n",
    "            (['Apollo', 'lyre'], ['Description', 'Description'])]\n",
    "good_dfs = {}\n",
    "grid_plots = []\n",
    "\n",
    "for dates in date_ranges:\n",
    "    for subject in subjects:\n",
    "        plot_title = makeTitle(dates, subject[0])\n",
    "        contain_dates = coinsFromDates(mints_with_desc, dates)\n",
    "        good_df = containKeyword(contain_dates, subject[0], subject[1])\n",
    "        \n",
    "        if not good_df.empty:\n",
    "            good_dfs[plot_title] = good_df\n",
    "\n",
    "            bar_plot = magicPlots.makeStackedBar(good_df, 'Production place', 'Denomination', sort_bars=True,\n",
    "                                   bars_ascending=False, sort_stacks=True, stacks_agg='sum', stacks_ascending=False,\n",
    "                                  colors=viridis, title=plot_title+' Stacked Bar Graph', plot_size=(480, 480))\n",
    "            bar_plot.yaxis.axis_label='Location Counts'\n",
    "            bar_plot.add_tools(HoverTool(tooltips=[('Denomination', '@Denomination'), \n",
    "                                                            ('Denomination Count', '@height'),\n",
    "                                                            ('Location Count', '@Sum')]))\n",
    "\n",
    "            map_counts = cd.prepareDataframeForMapping(good_df)\n",
    "            map_plot = magicPlots.makeMap(map_counts, 'Production place', 'Count', x_ranges=(-2.0e6, 5e6), \n",
    "                                y_ranges=(3.5e6, 7e6), path='../GeoJSON/', ext='html', pt_size=lambda x: 10 * x,\n",
    "                                 mintsFile='../GeoJSON/mints.geojson', title=plot_title+' Map', colors_ascending=False)\n",
    "            grid_plots.append([bar_plot, map_plot])\n",
    "\n",
    "grid = gridplot(grid_plots)\n",
    "#save(grid, filename='../Plots/Many plots')\n",
    "show(grid)"
   ]
  },
  {
   "cell_type": "code",
   "execution_count": null,
   "metadata": {
    "collapsed": false
   },
   "outputs": [],
   "source": [
    "subjects = [(['radiate'], ['Description'])]\n",
    "grid_plots = []\n",
    "good_dfs = {}\n",
    "\n",
    "for subject in subjects:\n",
    "    plot_title = makeTitle(dates, subject[0])\n",
    "    good_df = containKeyword(mints_with_desc, subject[0], subject[1])\n",
    "\n",
    "    if not good_df.empty:\n",
    "        good_dfs[plot_title] = good_df\n",
    "\n",
    "        bar_plot = magicPlots.makeStackedBar(good_df, 'Production place', 'Denomination', sort_bars=True,\n",
    "                               bars_ascending=False, sort_stacks=True, stacks_agg='sum', stacks_ascending=False,\n",
    "                              colors=viridis, title=plot_title+' Stacked Bar Graph', plot_size=(480, 480))\n",
    "        bar_plot.yaxis.axis_label='Location Counts'\n",
    "        bar_plot.add_tools(HoverTool(tooltips=[('Denomination', '@Denomination'), \n",
    "                                                        ('Denomination Count', '@height'),\n",
    "                                                        ('Location Count', '@Sum')]))\n",
    "\n",
    "        map_counts = cd.prepareDataframeForMapping(good_df)\n",
    "        map_plot = magicPlots.makeMap(map_counts, 'Production place', 'Count', x_ranges=(-2.0e6, 5e6), \n",
    "                            y_ranges=(3.5e6, 7e6), mintsFile='../GeoJSON/mints.geojson', path='../GeoJSON/', ext='html', \n",
    "                             title=plot_title+' Map', colors_ascending=False, pt_size=lambda x: 5 * np.log(3 * x))\n",
    "        grid_plots.append([bar_plot, map_plot])\n",
    "\n",
    "grid = gridplot(grid_plots)\n",
    "#save(grid, filename='../Plots/Many plots')\n",
    "show(grid)"
   ]
  },
  {
   "cell_type": "code",
   "execution_count": null,
   "metadata": {
    "collapsed": true
   },
   "outputs": [],
   "source": []
  }
 ],
 "metadata": {
  "anaconda-cloud": {},
  "kernelspec": {
   "display_name": "Python [conda env:python2]",
   "language": "python",
   "name": "conda-env-python2-py"
  },
  "language_info": {
   "codemirror_mode": {
    "name": "ipython",
    "version": 2
   },
   "file_extension": ".py",
   "mimetype": "text/x-python",
   "name": "python",
   "nbconvert_exporter": "python",
   "pygments_lexer": "ipython2",
   "version": "2.7.13"
  }
 },
 "nbformat": 4,
 "nbformat_minor": 1
}
