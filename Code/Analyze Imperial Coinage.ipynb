{
 "cells": [
  {
   "cell_type": "code",
   "execution_count": 4,
   "metadata": {
    "collapsed": false
   },
   "outputs": [],
   "source": [
    "import pandas as pd\n",
    "import numpy as np\n",
    "import sqlite3\n",
    "\n",
    "from bkcharts import Bar, cat\n",
    "from bokeh.io import output_notebook, save\n",
    "from bokeh.models import HoverTool\n",
    "from bokeh.palettes import viridis\n",
    "from bokeh.plotting import show\n",
    "from scipy import stats\n",
    "\n",
    "# import CleanData as cd\n",
    "# import BokehPlots as bp\n",
    "# import CoinagePlots as cp\n",
    "\n",
    "import sys\n",
    "stdout = sys.stdout\n",
    "reload(sys)\n",
    "sys.setdefaultencoding('utf-8')\n",
    "sys.stdout = stdout"
   ]
  },
  {
   "cell_type": "code",
   "execution_count": 5,
   "metadata": {
    "collapsed": true
   },
   "outputs": [],
   "source": [
    "title = 'Roman_Imperial_Coinage'\n",
    "fname = '../Data/' + title + '.sqlite'\n",
    "conn = sqlite3.connect(fname)"
   ]
  },
  {
   "cell_type": "markdown",
   "metadata": {},
   "source": [
    "# Functions"
   ]
  },
  {
   "cell_type": "markdown",
   "metadata": {},
   "source": [
    "## Get Counts and Ratios Data"
   ]
  },
  {
   "cell_type": "code",
   "execution_count": 6,
   "metadata": {
    "collapsed": true
   },
   "outputs": [],
   "source": [
    "def countsDF(source, conn):\n",
    "    query = '''\n",
    "    SELECT\n",
    "      emperor,\n",
    "      denomination,\n",
    "      count(denomination) AS counts\n",
    "    FROM\n",
    "      {} JOIN emperors ON\n",
    "        startDate >= emperors.start\n",
    "        AND startDate <= emperors.end\n",
    "    WHERE description LIKE '%radiate%'\n",
    "    GROUP BY emperor, denomination\n",
    "    ORDER BY start, end, counts DESC;\n",
    "    '''.format(source)\n",
    "    df = pd.read_sql(query, conn)\n",
    "    return df"
   ]
  },
  {
   "cell_type": "code",
   "execution_count": 5,
   "metadata": {
    "collapsed": true
   },
   "outputs": [],
   "source": [
    "def ratiosDF(source, conn):\n",
    "    query = '''\n",
    "    WITH emperorCoins AS (\n",
    "      SELECT\n",
    "        emperor,\n",
    "        description,\n",
    "        denomination,\n",
    "        start,\n",
    "        end\n",
    "      FROM\n",
    "        {} JOIN emperors ON\n",
    "          startDate >= emperors.start\n",
    "          AND startDate <= emperors.end\n",
    "    ), emperorTotals AS (\n",
    "      SELECT\n",
    "        emperor,\n",
    "        count(description)  AS emperorCounts\n",
    "      FROM emperorCoins\n",
    "      GROUP BY emperor\n",
    "    )\n",
    "    SELECT\n",
    "      emperor,\n",
    "      count(description) * 1.0 / emperorCounts   AS keywordRatio\n",
    "    FROM\n",
    "      emperorCoins JOIN emperorTotals USING (emperor)\n",
    "    WHERE description LIKE '%radiate%'\n",
    "    GROUP BY emperor\n",
    "    ORDER BY start, end;\n",
    "    '''.format(source)\n",
    "    df = pd.read_sql(query, conn)\n",
    "    return df"
   ]
  },
  {
   "cell_type": "markdown",
   "metadata": {},
   "source": [
    "## Generate Counts and Ratios Plots"
   ]
  },
  {
   "cell_type": "code",
   "execution_count": 3,
   "metadata": {
    "collapsed": false
   },
   "outputs": [],
   "source": [
    "def countsPlot(source, conn):\n",
    "    df = countsDF(source, conn)\n",
    "    counts = Bar(df, label=cat(columns=\"emperor\", sort=False), palette=viridis(df.denomination.unique().size), \n",
    "                    values='counts', stack=\"denomination\", responsive=True, active_scroll='wheel_zoom', \n",
    "                     title=\"Count of Radiate per Emperor in \" + source + \" Plot\")\n",
    "\n",
    "    hover_counts = HoverTool(tooltips=[\n",
    "                                (\"emperor\", \"@emperor\"),\n",
    "                                (\"denomination\", \"@denomination\"),\n",
    "                                (\"count\", \"@counts\")\n",
    "                            ])\n",
    "\n",
    "    counts.add_tools(hover_counts)\n",
    "    counts.xaxis.axis_label = \"Emperors\"\n",
    "    counts.yaxis.axis_label = \"Counts\"\n",
    "\n",
    "    save(counts, \"../Plots/\" + source + \"_counts_plot.html\")\n",
    "    \n",
    "    return counts"
   ]
  },
  {
   "cell_type": "code",
   "execution_count": 7,
   "metadata": {
    "collapsed": false
   },
   "outputs": [],
   "source": [
    "def ratiosPlot(source, conn):\n",
    "    df = ratiosDF(source, conn)\n",
    "    ratios = Bar(df, label=cat(columns=\"emperor\", sort=False), values='keywordRatio', \n",
    "                 responsive=True, active_scroll='wheel_zoom', legend=False,\n",
    "                 title=\"Ratio of Radiate by Emperor in \" + source + \" Plot\")\n",
    "\n",
    "    hover_counts = HoverTool(tooltips=[\n",
    "                                (\"emperor\", \"@emperor\"),\n",
    "                                (\"Percentage\", \"@percentages\")\n",
    "                            ])\n",
    "\n",
    "    ratios.add_tools(hover_counts)\n",
    "    ratios.xaxis.axis_label = \"Emperors\"\n",
    "    ratios.yaxis.axis_label = \"Percentages\"\n",
    "\n",
    "    save(ratios, \"../Plots/\" + source + \"_ratios_plot.html\")\n",
    "    \n",
    "    return ratios"
   ]
  },
  {
   "cell_type": "markdown",
   "metadata": {},
   "source": [
    "# Create Counts and Ratios Plots"
   ]
  },
  {
   "cell_type": "code",
   "execution_count": 8,
   "metadata": {
    "collapsed": false
   },
   "outputs": [],
   "source": [
    "sources = ['britishMuseum', 'americanNumismaticSociety', 'hoxneHoard']\n",
    "for source in sources:\n",
    "    counts = countsPlot(source, conn)\n",
    "    #show(counts)\n",
    "    ratios = ratiosPlot(source, conn)\n",
    "    #show(ratios)"
   ]
  },
  {
   "cell_type": "markdown",
   "metadata": {},
   "source": [
    "# Statistical Significance of Data"
   ]
  },
  {
   "cell_type": "code",
   "execution_count": 11,
   "metadata": {
    "collapsed": false
   },
   "outputs": [],
   "source": [
    "bm_ratio = ratiosDF('britishMuseum', conn)\n",
    "ans_ratio = ratiosDF('americanNumismaticSociety', conn)\n",
    "hoxne_ratio = ratiosDF('hoxneHoard', conn)\n",
    "merged = bm_ratio.merge(ans_ratio, on='emperor')"
   ]
  },
  {
   "cell_type": "code",
   "execution_count": 12,
   "metadata": {
    "collapsed": false
   },
   "outputs": [
    {
     "data": {
      "text/html": [
       "<div>\n",
       "<table border=\"1\" class=\"dataframe\">\n",
       "  <thead>\n",
       "    <tr style=\"text-align: right;\">\n",
       "      <th></th>\n",
       "      <th>emperor</th>\n",
       "      <th>keywordRatio_x</th>\n",
       "      <th>keywordRatio_y</th>\n",
       "    </tr>\n",
       "  </thead>\n",
       "  <tbody>\n",
       "    <tr>\n",
       "      <th>49</th>\n",
       "      <td>Severus II</td>\n",
       "      <td>0.005988</td>\n",
       "      <td>0.008333</td>\n",
       "    </tr>\n",
       "    <tr>\n",
       "      <th>50</th>\n",
       "      <td>Maxentius</td>\n",
       "      <td>0.016529</td>\n",
       "      <td>0.011268</td>\n",
       "    </tr>\n",
       "    <tr>\n",
       "      <th>51</th>\n",
       "      <td>Constantine the Great</td>\n",
       "      <td>0.028852</td>\n",
       "      <td>0.037863</td>\n",
       "    </tr>\n",
       "    <tr>\n",
       "      <th>52</th>\n",
       "      <td>Licinius I</td>\n",
       "      <td>0.038914</td>\n",
       "      <td>0.067402</td>\n",
       "    </tr>\n",
       "    <tr>\n",
       "      <th>53</th>\n",
       "      <td>Maximinus II</td>\n",
       "      <td>0.013245</td>\n",
       "      <td>0.058824</td>\n",
       "    </tr>\n",
       "  </tbody>\n",
       "</table>\n",
       "</div>"
      ],
      "text/plain": [
       "                  emperor  keywordRatio_x  keywordRatio_y\n",
       "49             Severus II        0.005988        0.008333\n",
       "50              Maxentius        0.016529        0.011268\n",
       "51  Constantine the Great        0.028852        0.037863\n",
       "52             Licinius I        0.038914        0.067402\n",
       "53           Maximinus II        0.013245        0.058824"
      ]
     },
     "execution_count": 12,
     "metadata": {},
     "output_type": "execute_result"
    }
   ],
   "source": [
    "merged.tail()"
   ]
  },
  {
   "cell_type": "code",
   "execution_count": 20,
   "metadata": {
    "collapsed": false
   },
   "outputs": [
    {
     "data": {
      "text/plain": [
       "LinregressResult(slope=0.51060994004261462, intercept=0.11313650245851507, rvalue=0.47854626950096807, pvalue=0.00025198293393652121, stderr=0.12992388768861643)"
      ]
     },
     "execution_count": 20,
     "metadata": {},
     "output_type": "execute_result"
    }
   ],
   "source": [
    "stats.linregress(merged['keywordRatio_x'], merged['keywordRatio_y'])"
   ]
  },
  {
   "cell_type": "code",
   "execution_count": 14,
   "metadata": {
    "collapsed": false
   },
   "outputs": [],
   "source": [
    "merged = merged.merge(hoxne_ratio, on='emperor')"
   ]
  },
  {
   "cell_type": "code",
   "execution_count": 16,
   "metadata": {
    "collapsed": false
   },
   "outputs": [
    {
     "data": {
      "text/html": [
       "<div>\n",
       "<table border=\"1\" class=\"dataframe\">\n",
       "  <thead>\n",
       "    <tr style=\"text-align: right;\">\n",
       "      <th></th>\n",
       "      <th>emperor</th>\n",
       "      <th>keywordRatio_x</th>\n",
       "      <th>keywordRatio_y</th>\n",
       "      <th>keywordRatio</th>\n",
       "    </tr>\n",
       "  </thead>\n",
       "  <tbody>\n",
       "    <tr>\n",
       "      <th>0</th>\n",
       "      <td>Gallienus</td>\n",
       "      <td>0.439153</td>\n",
       "      <td>0.546926</td>\n",
       "      <td>1.0</td>\n",
       "    </tr>\n",
       "    <tr>\n",
       "      <th>1</th>\n",
       "      <td>Claudius Gothicus</td>\n",
       "      <td>0.661157</td>\n",
       "      <td>0.496454</td>\n",
       "      <td>1.0</td>\n",
       "    </tr>\n",
       "  </tbody>\n",
       "</table>\n",
       "</div>"
      ],
      "text/plain": [
       "             emperor  keywordRatio_x  keywordRatio_y  keywordRatio\n",
       "0          Gallienus        0.439153        0.546926           1.0\n",
       "1  Claudius Gothicus        0.661157        0.496454           1.0"
      ]
     },
     "execution_count": 16,
     "metadata": {},
     "output_type": "execute_result"
    }
   ],
   "source": [
    "merged.tail()"
   ]
  },
  {
   "cell_type": "code",
   "execution_count": null,
   "metadata": {
    "collapsed": true
   },
   "outputs": [],
   "source": []
  },
  {
   "cell_type": "code",
   "execution_count": null,
   "metadata": {
    "collapsed": true
   },
   "outputs": [],
   "source": []
  },
  {
   "cell_type": "code",
   "execution_count": 9,
   "metadata": {
    "collapsed": false
   },
   "outputs": [
    {
     "data": {
      "text/plain": [
       "'/Users/William/Documents/roman_coinage/Plots/hoxneHoard_counts_plot.html'"
      ]
     },
     "execution_count": 9,
     "metadata": {},
     "output_type": "execute_result"
    }
   ],
   "source": [
    "# Create counts of the coins by emperor in the hoxne hoard\n",
    "query = '''\n",
    "SELECT\n",
    "  emperor,\n",
    "  denomination,\n",
    "  count(denomination) AS counts\n",
    "FROM\n",
    "  hoxneHoard JOIN emperors ON\n",
    "    startDate >= emperors.start\n",
    "    AND startDate <= emperors.end\n",
    "GROUP BY emperor, denomination\n",
    "ORDER BY start, end, counts DESC;\n",
    "'''\n",
    "df = pd.read_sql(query, conn)\n",
    "counts = Bar(df, label=cat(columns=\"emperor\", sort=False), palette=viridis(df.denomination.unique().size), \n",
    "                values='counts', stack=\"denomination\", responsive=True, active_scroll='wheel_zoom', \n",
    "                 title=\"Count of coins by Emperor in Hoxne Hoard Plot\")\n",
    "\n",
    "hover_counts = HoverTool(tooltips=[\n",
    "                            (\"emperor\", \"@emperor\"),\n",
    "                            (\"denomination\", \"@denomination\"),\n",
    "                            (\"count\", \"@counts\")\n",
    "                        ])\n",
    "\n",
    "counts.add_tools(hover_counts)\n",
    "counts.xaxis.axis_label = \"Emperors\"\n",
    "counts.yaxis.axis_label = \"Counts\"\n",
    "\n",
    "save(counts, \"../Plots/hoxneHoard_counts_plot.html\")"
   ]
  },
  {
   "cell_type": "code",
   "execution_count": null,
   "metadata": {
    "collapsed": true
   },
   "outputs": [],
   "source": []
  }
 ],
 "metadata": {
  "anaconda-cloud": {},
  "kernelspec": {
   "display_name": "Python [conda env:python2]",
   "language": "python",
   "name": "conda-env-python2-py"
  },
  "language_info": {
   "codemirror_mode": {
    "name": "ipython",
    "version": 2
   },
   "file_extension": ".py",
   "mimetype": "text/x-python",
   "name": "python",
   "nbconvert_exporter": "python",
   "pygments_lexer": "ipython2",
   "version": "2.7.13"
  }
 },
 "nbformat": 4,
 "nbformat_minor": 1
}
