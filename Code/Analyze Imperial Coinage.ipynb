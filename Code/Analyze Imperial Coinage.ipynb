{
 "cells": [
  {
   "cell_type": "code",
   "execution_count": 1,
   "metadata": {
    "collapsed": false
   },
   "outputs": [],
   "source": [
    "from collections import Counter\n",
    "from itertools import chain\n",
    "\n",
    "import pandas as pd\n",
    "import numpy as np\n",
    "import sqlite3\n",
    "import re\n",
    "\n",
    "from bkcharts import Bar, cat\n",
    "from bokeh.io import output_notebook, save\n",
    "from bokeh.models import HoverTool\n",
    "from bokeh.palettes import viridis, PRGn\n",
    "from bokeh.plotting import show\n",
    "from scipy import stats\n",
    "\n",
    "# import CleanData as cd\n",
    "# import BokehPlots as bp\n",
    "# import CoinagePlots as cp"
   ]
  },
  {
   "cell_type": "code",
   "execution_count": 2,
   "metadata": {
    "collapsed": true
   },
   "outputs": [],
   "source": [
    "title = 'Roman_Imperial_Coinage'\n",
    "fname = '../Data/' + title + '.sqlite'\n",
    "conn = sqlite3.connect(fname)"
   ]
  },
  {
   "cell_type": "markdown",
   "metadata": {},
   "source": [
    "# Functions"
   ]
  },
  {
   "cell_type": "markdown",
   "metadata": {},
   "source": [
    "## Get Coin Counts Data"
   ]
  },
  {
   "cell_type": "code",
   "execution_count": 3,
   "metadata": {
    "collapsed": true
   },
   "outputs": [],
   "source": [
    "def countsDF(source, column, conn):\n",
    "    '''\n",
    "    Get counts of the coins by emperor in SOURCE \n",
    "    '''\n",
    "    query = '''\n",
    "    SELECT\n",
    "      authority,\n",
    "      {},\n",
    "      count({}) AS counts\n",
    "    FROM {}\n",
    "    GROUP BY authority, material\n",
    "    ORDER BY startDate, endDate, counts DESC;\n",
    "    '''.format(column, column, source, column)\n",
    "    df = pd.read_sql(query, conn)\n",
    "    return df"
   ]
  },
  {
   "cell_type": "code",
   "execution_count": 4,
   "metadata": {
    "collapsed": true
   },
   "outputs": [],
   "source": [
    "def radiateCountsDF(source, column, conn):\n",
    "    '''\n",
    "    Get dataframe of the counts for the occurence of 'radiate' crowns by emperor and denomination\n",
    "    '''\n",
    "    query = '''\n",
    "    SELECT\n",
    "      authority,\n",
    "      {},\n",
    "      count({}) AS counts\n",
    "    FROM {}\n",
    "    WHERE description LIKE '%radiate%'\n",
    "    GROUP BY authority, material\n",
    "    ORDER BY startDate, endDate, counts DESC;\n",
    "    '''.format(column, column, source, column)\n",
    "    df = pd.read_sql(query, conn)\n",
    "    return df"
   ]
  },
  {
   "cell_type": "code",
   "execution_count": 5,
   "metadata": {
    "collapsed": true
   },
   "outputs": [],
   "source": [
    "def radiateRatiosDF(source, conn):\n",
    "    '''\n",
    "    Get dataframe of the ratio for the occurence of 'radiate' crowns by emperor \n",
    "    and denomination over total coins from emperor\n",
    "    '''\n",
    "    query = '''\n",
    "    WITH emperorCoins AS (\n",
    "      SELECT\n",
    "        authority,\n",
    "        description,\n",
    "        denomination,\n",
    "        startDate,\n",
    "        endDate\n",
    "      FROM {}\n",
    "    ), emperorTotals AS (\n",
    "      SELECT\n",
    "        authority,\n",
    "        count(description)  AS emperorCounts\n",
    "      FROM emperorCoins\n",
    "      GROUP BY authority\n",
    "    )\n",
    "    SELECT\n",
    "      authority,\n",
    "      count(description) * 1.0 / emperorCounts   AS keywordRatio\n",
    "    FROM\n",
    "      emperorCoins JOIN emperorTotals USING (authority)\n",
    "    WHERE description LIKE '%radiate%'\n",
    "    GROUP BY authority\n",
    "    ORDER BY startDate, endDate;\n",
    "    '''.format(source)\n",
    "    df = pd.read_sql(query, conn)\n",
    "    return df"
   ]
  },
  {
   "cell_type": "markdown",
   "metadata": {},
   "source": [
    "## Generate Coin Counts Plots"
   ]
  },
  {
   "cell_type": "code",
   "execution_count": 6,
   "metadata": {
    "collapsed": false
   },
   "outputs": [],
   "source": [
    "def countsPlot(source, column, conn):\n",
    "    '''\n",
    "    Create counts of the coins by emperor in SOURCE plot\n",
    "    '''\n",
    "    df = countsDF(source, column, conn)\n",
    "    counts = Bar(df, label=cat(columns=\"authority\", sort=False), palette=viridis(df[column].unique().size), \n",
    "                    values='counts', stack=column, responsive=True, \n",
    "                     title=\"Count of coins by Authority in {} Plot\".format(source))\n",
    "\n",
    "    hover_counts = HoverTool(tooltips=[\n",
    "                                (\"authority\", \"@authority\"),\n",
    "                                (\"denomination\", \"@denomination\"),\n",
    "                                (\"count\", \"@counts\")\n",
    "                            ])\n",
    "\n",
    "    counts.add_tools(hover_counts)\n",
    "    counts.xaxis.axis_label = \"Authority\"\n",
    "    counts.yaxis.axis_label = \"Counts\"\n",
    "\n",
    "    save(counts, \"../Plots/{}_{}_counts_plot.html\".format(source, column))\n",
    "    \n",
    "    return counts"
   ]
  },
  {
   "cell_type": "code",
   "execution_count": 7,
   "metadata": {
    "collapsed": false
   },
   "outputs": [],
   "source": [
    "def radiateCountsPlot(source, column, conn):\n",
    "    '''\n",
    "    Create plot of the count of coins that have 'radiate' crowns in them by emperor\n",
    "    '''\n",
    "    df = radiateCountsDF(source, column, conn)\n",
    "    counts = Bar(df, label=cat(columns=\"authority\", sort=False), palette=viridis(df[column].unique().size), \n",
    "                    values='counts', stack=column, responsive=True, \n",
    "                     title=\"Count of 'Radiate Crowns' per Authority in \" + source + \" Plot\")\n",
    "\n",
    "    hover_counts = HoverTool(tooltips=[\n",
    "                                (\"authority\", \"@authority\"),\n",
    "                                (\"denomination\", \"@denomination\"),\n",
    "                                (\"count\", \"@counts\")\n",
    "                            ])\n",
    "\n",
    "    counts.add_tools(hover_counts)\n",
    "    counts.xaxis.axis_label = \"Authority\"\n",
    "    counts.yaxis.axis_label = \"Counts\"\n",
    "\n",
    "    save(counts, \"../Plots/\" + source + \"_\" + column + \"_radiate_counts_plot.html\")\n",
    "    \n",
    "    return counts"
   ]
  },
  {
   "cell_type": "code",
   "execution_count": 8,
   "metadata": {
    "collapsed": false
   },
   "outputs": [],
   "source": [
    "def radiateRatiosPlot(source, conn):\n",
    "    '''\n",
    "    Plot the ratio for the occurence of 'radiate' crowns by emperor \n",
    "    over total number of coins by emperor\n",
    "    '''\n",
    "    df = radiateRatiosDF(source, conn)\n",
    "    ratios = Bar(df, label=cat(columns=\"authority\", sort=False), values='keywordRatio', \n",
    "                 responsive=True, legend=False,\n",
    "                 title=\"Ratio of 'Radiate Crowns' by Authority in \" + source + \" Plot\")\n",
    "\n",
    "    hover_counts = HoverTool(tooltips=[\n",
    "                                (\"authority\", \"@authority\"),\n",
    "                                (\"Percentage\", \"@percentages\")\n",
    "                            ])\n",
    "\n",
    "    ratios.add_tools(hover_counts)\n",
    "    ratios.xaxis.axis_label = \"Authority\"\n",
    "    ratios.yaxis.axis_label = \"Percentages\"\n",
    "\n",
    "    save(ratios, \"../Plots/\" + source + \"_\" + column + \"_ratios_plot.html\")\n",
    "    \n",
    "    return ratios"
   ]
  },
  {
   "cell_type": "markdown",
   "metadata": {},
   "source": [
    "## Create Word Counts Plots"
   ]
  },
  {
   "cell_type": "code",
   "execution_count": 18,
   "metadata": {
    "collapsed": false
   },
   "outputs": [],
   "source": [
    "def wordCountsPlot(source, conn, col=\"Word\", wanted_obverse=[], wanted_reverse=[]):\n",
    "    '''\n",
    "    Get the count of words that appear on \"radiate\" coins from SOURCE.\n",
    "    \n",
    "    Parameters\n",
    "    ----------\n",
    "    source : str\n",
    "        Table name in database\n",
    "    conn : sqlite3 connection\n",
    "        Connection to sqlite3 database\n",
    "    col : str\n",
    "        Column to plot by\n",
    "    wanted_obverse : str list\n",
    "        List of strings of words wanted on the obverse plot\n",
    "    wanted_reverse : str list\n",
    "        List of strings of words wanted on the reverse plot\n",
    "    '''\n",
    "    if col == 'Word':\n",
    "        query = '''\n",
    "        SELECT\n",
    "          lower(obverseType) as obverseType,\n",
    "          lower(reverseType) as reverseType\n",
    "        FROM {}\n",
    "        WHERE description LIKE \"%radiate%\"\n",
    "        '''.format(source)\n",
    "    else:\n",
    "        query = '''\n",
    "        SELECT\n",
    "          lower(obverseType) as obverseType,\n",
    "          lower(reverseType) as reverseType,\n",
    "          {}\n",
    "        FROM {}\n",
    "        WHERE description LIKE \"%radiate%\"\n",
    "        '''.format(col, source)\n",
    "    if col == 'authority':\n",
    "        query += '\\n ORDER BY startDate, endDate'\n",
    "    df = pd.read_sql(query, conn)\n",
    "    obverse = pd.DataFrame()\n",
    "    reverse = pd.DataFrame()\n",
    "    \n",
    "    if col == 'Word':\n",
    "        colVals = ['Word']\n",
    "    else:\n",
    "        colVals = df[col].unique()\n",
    "    \n",
    "    for colVal in colVals:\n",
    "        # Ignore empty strings\n",
    "        if colVal == '':\n",
    "            continue\n",
    "        # Get the word lists\n",
    "        if col != 'Word':\n",
    "            tempDF = df[df[col] == colVal]\n",
    "        else:\n",
    "            tempDF = df\n",
    "        \n",
    "        obverseList = [re.sub('[^a-zA-Z\\s]+', '', a).split() for a in tempDF['obverseType']]\n",
    "        reverseList = [re.sub('[^a-zA-Z\\s]+', '', a).split() for a in tempDF['reverseType']]\n",
    "\n",
    "        # Create Counts\n",
    "        obverseCounter = dict(Counter(chain.from_iterable(obverseList)))\n",
    "        reverseCounter = dict(Counter(chain.from_iterable(reverseList)))\n",
    "\n",
    "        # Create dataframes with word and counts\n",
    "        obverseTemp = pd.DataFrame(list(obverseCounter.items()), columns=['Word', 'Count'])\n",
    "        if wanted_obverse:\n",
    "            obverseTemp = obverseTemp[obverseTemp['Word'].isin(wanted_obverse)]\n",
    "        else:\n",
    "            obverseTemp = obverseTemp[obverseTemp['Count'] > 100]\n",
    "        if col != 'Word':\n",
    "            obverseTemp[col] = colVal\n",
    "        obverseTemp = obverseTemp.fillna(0)\n",
    "        obverseTemp = obverseTemp.sort_values(by='Word', ascending=True)\n",
    "        \n",
    "        reverseTemp = pd.DataFrame(list(reverseCounter.items()), columns=['Word', 'Count'])\n",
    "        if wanted_reverse:\n",
    "            reverseTemp = reverseTemp[reverseTemp['Word'].isin(wanted_reverse)]\n",
    "        else:\n",
    "            reverseTemp = reverseTemp[(reverseTemp['Count'] > 50) & (reverseTemp['Count'] < 100)]\n",
    "        if col != 'Word':\n",
    "            reverseTemp[col] = colVal\n",
    "        reverseTemp = reverseTemp.fillna(0)\n",
    "        reverseTemp = reverseTemp.sort_values(by='Word', ascending=True)\n",
    "        \n",
    "        # merge with total values\n",
    "        obverse = pd.concat([obverse, obverseTemp])\n",
    "        reverse = pd.concat([reverse, reverseTemp])\n",
    "        \n",
    "    hover_obverseCounts = HoverTool(tooltips=[\n",
    "                                (\"Word\", \"@Word\"),\n",
    "                                (\"Count\", \"@Count\")\n",
    "                            ])\n",
    "    hover_reverseCounts = HoverTool(tooltips=[\n",
    "                                (\"Word\", \"@Word\"),\n",
    "                                (\"Count\", \"@Count\")\n",
    "                            ])\n",
    "\n",
    "    if col == 'Word':\n",
    "        obverseCounts = Bar(obverse, label=cat(columns=[\"Word\"], sort=False), values='Count', \n",
    "                             responsive=True, legend='top_right',\n",
    "                             title=\"Other Words on Obverse of 'radiate' Coins from {}\".format(source))\n",
    "    else:\n",
    "        obverseCounts = Bar(obverse, label=cat(columns=[col], sort=False), values='Count', \n",
    "                             responsive=True, legend='top_right', stack='Word',\n",
    "                             title=\"Other Words on Obverse of 'radiate' Coins from {} by {}\".format(source, col))\n",
    "    obverseCounts.add_tools(hover_obverseCounts)\n",
    "    obverseCounts.yaxis.axis_label = \"Count\"\n",
    "    \n",
    "    if col == 'Word':\n",
    "        reverseCounts = Bar(reverse, label=cat(columns=[\"Word\"], sort=False), values='Count', \n",
    "                             responsive=True, legend='top_right',\n",
    "                             title=\"Other Words on Reverse of 'radiate' Coins from {}\".format(source))\n",
    "    else:\n",
    "        reverseCounts = Bar(reverse, label=cat(columns=[col], sort=False), values='Count', \n",
    "                             responsive=True, legend='top_right', stack='Word',\n",
    "                             title=\"Other Words on Reverse of 'radiate' Coins from {} by {}\".format(source, col))\n",
    "    reverseCounts.add_tools(hover_reverseCounts)\n",
    "    reverseCounts.yaxis.axis_label = \"Count\"\n",
    "    \n",
    "    #show(obverseCounts)\n",
    "    #show(reverseCounts)\n",
    "    \n",
    "    save(obverseCounts, \"../Plots/\" + source + \"_\" + col + \"_obverseCount_plot.html\")\n",
    "    save(reverseCounts, \"../Plots/\" + source + \"_\" + col + \"_reverseCount_plot.html\")\n",
    "    \n",
    "#wordCountsPlot('britishMuseum', conn, col='authority', wanted_obverse=wanted_obverse)"
   ]
  },
  {
   "cell_type": "code",
   "execution_count": 19,
   "metadata": {
    "collapsed": false
   },
   "outputs": [],
   "source": [
    "def wordCountsOverTimePlot(source, conn, obverse, reverse, represented=False):\n",
    "    '''\n",
    "    Get the counts of OBVERSE on obverse and REVERSE on reverse from SOURCE.\n",
    "    '''\n",
    "    def determineRepresented(row):\n",
    "        reverseType = row['reverseType']\n",
    "        beforeReverse = reverseType.split(reverse)[0]\n",
    "        if ' of' in beforeReverse or ' as' in beforeReverse:\n",
    "            print(beforeReverse)\n",
    "        return None\n",
    "        \n",
    "    query = '''\n",
    "    SELECT\n",
    "      lower(obverseType) as obverseType,\n",
    "      lower(reverseType) as reverseType,\n",
    "      authority,\n",
    "      startDate,\n",
    "      endDate\n",
    "    FROM {}\n",
    "    WHERE \n",
    "      obverseType LIKE \"%{}%\" AND reverseType LIKE \"%{}%\"\n",
    "    ORDER BY startDate, endDate\n",
    "    '''.format(source, obverse, reverse)\n",
    "    df = pd.read_sql(query, conn)\n",
    "    df = df[df['authority'] != '']\n",
    "        \n",
    "    hover = HoverTool(tooltips=[\n",
    "                        (\"Word\", \"@Word\"),\n",
    "                        (\"Count\", \"@Count\")\n",
    "                    ])\n",
    "    \n",
    "    reverseCounts = Bar(df, label=cat(columns=['authority'], sort=False), values='reverseType', \n",
    "                         responsive=True, legend='top_right', agg='count',\n",
    "                         title=\"'{}' on Obverse and '{}' on Reverse Coins from {} by Authority\".format(obverse, reverse, source))\n",
    "    reverseCounts.add_tools(hover)\n",
    "    reverseCounts.yaxis.axis_label = \"Count\"\n",
    "    \n",
    "    #show(reverseCounts)\n",
    "    \n",
    "    save(reverseCounts, \"../Plots/\" + source + \"_\" + obverse + \"_\" + reverse + \"_Count_plot.html\")\n",
    "\n",
    "#wordCountsOverTimePlot('allData', conn, 'radiate', 'victory')"
   ]
  },
  {
   "cell_type": "markdown",
   "metadata": {},
   "source": [
    "# Create Counts and Ratios Plots"
   ]
  },
  {
   "cell_type": "code",
   "execution_count": 20,
   "metadata": {
    "collapsed": false
   },
   "outputs": [],
   "source": [
    "# Table names\n",
    "sources = ['britishMuseum', 'americanNumismaticSociety', 'OCRE', 'allData']\n",
    "\n",
    "# Columns to plot individually for basic counts plots\n",
    "columns = [\"material\"]\n",
    "\n",
    "# Words to show on word count plots\n",
    "wanted_obverse = ['scepter',\n",
    "                 'cuirassed',\n",
    "                 'draped',\n",
    "                 'laureate']\n",
    "wanted_reverse = ['victory',\n",
    "                 'jupiter',\n",
    "                 'sol',\n",
    "                 'pax',\n",
    "                 'cornucopia',\n",
    "                 'emperor',\n",
    "                 'felicitas',\n",
    "                 'roma',\n",
    "                 'hercules',\n",
    "                 'captive',\n",
    "                 'eagel',\n",
    "                 'trophy',\n",
    "                 'mars',\n",
    "                 'prince',\n",
    "                 'providentia',\n",
    "                 'rudder',\n",
    "                 'whip',\n",
    "                 'club']\n",
    "\n",
    "# Columns to plot by for the other word count plots ('Word' is for by word)\n",
    "cols = ['Word', 'authority']"
   ]
  },
  {
   "cell_type": "code",
   "execution_count": 22,
   "metadata": {
    "collapsed": false
   },
   "outputs": [],
   "source": [
    "# Loop over sources to get all permutations of sources and plots\n",
    "for source in sources:\n",
    "    for column in columns:\n",
    "        counts = countsPlot(source, column, conn)\n",
    "        # show(counts)\n",
    "        radiateCounts = radiateCountsPlot(source, column, conn)\n",
    "        # show(radiateCounts)\n",
    "            \n",
    "    ratios = radiateRatiosPlot(source, conn)\n",
    "    # show(ratios)\n",
    "        \n",
    "    for col in cols:\n",
    "        wordCounts = wordCountsPlot(source, conn, col=col, \n",
    "                                    wanted_obverse=wanted_obverse, \n",
    "                                    wanted_reverse=wanted_reverse)"
   ]
  },
  {
   "cell_type": "code",
   "execution_count": 23,
   "metadata": {
    "collapsed": false
   },
   "outputs": [],
   "source": [
    "obverses = ['radiate']\n",
    "reverses = ['jupiter', 'sol', 'victory']\n",
    "\n",
    "for source in sources:\n",
    "    for obverse in obverses:\n",
    "        for reverse in reverses:\n",
    "            reverseCounts = wordCountsOverTimePlot(source, conn, obverse, reverse)"
   ]
  },
  {
   "cell_type": "markdown",
   "metadata": {},
   "source": [
    "# Statistical Significance of Data"
   ]
  },
  {
   "cell_type": "code",
   "execution_count": null,
   "metadata": {
    "collapsed": false
   },
   "outputs": [],
   "source": [
    "bm_ratio = radiateRatiosDF('britishMuseum', conn)\n",
    "ans_ratio = radiateRatiosDF('americanNumismaticSociety', conn)\n",
    "merged = bm_ratio.merge(ans_ratio, on='authority')"
   ]
  },
  {
   "cell_type": "code",
   "execution_count": null,
   "metadata": {
    "collapsed": false
   },
   "outputs": [],
   "source": [
    "merged.tail()"
   ]
  },
  {
   "cell_type": "code",
   "execution_count": null,
   "metadata": {
    "collapsed": false
   },
   "outputs": [],
   "source": [
    "stats.linregress(merged['keywordRatio_x'], merged['keywordRatio_y'])"
   ]
  },
  {
   "cell_type": "code",
   "execution_count": null,
   "metadata": {
    "collapsed": true
   },
   "outputs": [],
   "source": []
  }
 ],
 "metadata": {
  "anaconda-cloud": {},
  "kernelspec": {
   "display_name": "Python [conda env:python2]",
   "language": "python",
   "name": "conda-env-python2-py"
  },
  "language_info": {
   "codemirror_mode": {
    "name": "ipython",
    "version": 2
   },
   "file_extension": ".py",
   "mimetype": "text/x-python",
   "name": "python",
   "nbconvert_exporter": "python",
   "pygments_lexer": "ipython2",
   "version": "2.7.13"
  }
 },
 "nbformat": 4,
 "nbformat_minor": 1
}
