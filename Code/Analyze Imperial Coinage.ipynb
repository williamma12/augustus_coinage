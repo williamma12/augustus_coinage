{
 "cells": [
  {
   "cell_type": "code",
   "execution_count": 1,
   "metadata": {
    "collapsed": false
   },
   "outputs": [],
   "source": [
    "import pandas as pd\n",
    "import numpy as np\n",
    "import sqlite3\n",
    "from bokeh.io import output_notebook, save\n",
    "from bokeh.plotting import show\n",
    "from bokeh.layouts import gridplot\n",
    "\n",
    "import CleanData as cd\n",
    "import BokehPlots as bp\n",
    "import CoinagePlots as cp\n",
    "from emperors import emperors\n",
    "\n",
    "# import sys\n",
    "# stdout = sys.stdout\n",
    "# reload(sys)\n",
    "# sys.setdefaultencoding('utf-8')\n",
    "# sys.stdout = stdout"
   ]
  },
  {
   "cell_type": "code",
   "execution_count": 2,
   "metadata": {
    "collapsed": true
   },
   "outputs": [],
   "source": [
    "title = 'Roman_Imperial_Coinage'\n",
    "fname = title+'.sqlite'"
   ]
  },
  {
   "cell_type": "code",
   "execution_count": 10,
   "metadata": {
    "collapsed": false
   },
   "outputs": [],
   "source": [
    "museum = 'britishMuseum'\n",
    "mints_bm = cd.readQuery(fname, museum)\n",
    "mints_bm['dates'] = mints_bm['dates'].apply(cd.stringToList(valType=int))\n",
    "#mints_bm['authority'] = mints_bm['authority'].apply(cd.stringToList())\n",
    "#mints_bm.tail()"
   ]
  },
  {
   "cell_type": "code",
   "execution_count": 4,
   "metadata": {
    "collapsed": false
   },
   "outputs": [],
   "source": [
    "emperors = np.load('../Data/Emperors.npy').item()"
   ]
  },
  {
   "cell_type": "code",
   "execution_count": 5,
   "metadata": {
    "collapsed": false
   },
   "outputs": [],
   "source": [
    "def findEmperor(df, emperors, authorityCol='authority', datesCol='dates'):\n",
    "    '''\n",
    "    '''\n",
    "    df['emperor'] = ''\n",
    "    for emperor, dates in emperors.iteritems():\n",
    "        df['emperor'][df[authorityCol].str.contains(emperor)] = emperor\n",
    "        df['emperor'][cp.coinsFromDates(df, dates, datesCol)] = emperor\n",
    "    return df"
   ]
  },
  {
   "cell_type": "code",
   "execution_count": 6,
   "metadata": {
    "collapsed": false
   },
   "outputs": [
    {
     "name": "stderr",
     "output_type": "stream",
     "text": [
      "/Users/William/anaconda3/envs/python2/lib/python2.7/site-packages/ipykernel/__main__.py:6: SettingWithCopyWarning: \n",
      "A value is trying to be set on a copy of a slice from a DataFrame\n",
      "\n",
      "See the caveats in the documentation: http://pandas.pydata.org/pandas-docs/stable/indexing.html#indexing-view-versus-copy\n",
      "/Users/William/anaconda3/envs/python2/lib/python2.7/site-packages/ipykernel/__main__.py:7: SettingWithCopyWarning: \n",
      "A value is trying to be set on a copy of a slice from a DataFrame\n",
      "\n",
      "See the caveats in the documentation: http://pandas.pydata.org/pandas-docs/stable/indexing.html#indexing-view-versus-copy\n"
     ]
    }
   ],
   "source": [
    "mints_with_desc = mints_bm[mints_bm['description'] != '']\n",
    "mints_with_desc = findEmperor(mints_bm, emperors)"
   ]
  },
  {
   "cell_type": "code",
   "execution_count": 9,
   "metadata": {
    "collapsed": false
   },
   "outputs": [],
   "source": [
    "plot_title = cp.makeTitle(subjects=['radiate'])\n",
    "good_df = cp.containKeyword(mints_with_desc, ['radiate'], ['description'])\n",
    "good_dfs = dict()\n",
    "\n",
    "if not good_df.empty:\n",
    "    good_dfs[plot_title] = good_df\n",
    "    bar_plot = cp.makeCoinageStackedBar(good_df, x_col='emperor', stack_col='denomination', \n",
    "                                        title=plot_title+' Stacked Bar Graph')\n",
    "\n",
    "show(bar_plot)"
   ]
  },
  {
   "cell_type": "code",
   "execution_count": null,
   "metadata": {
    "collapsed": true
   },
   "outputs": [],
   "source": []
  }
 ],
 "metadata": {
  "anaconda-cloud": {},
  "kernelspec": {
   "display_name": "Python [conda env:python2]",
   "language": "python",
   "name": "conda-env-python2-py"
  },
  "language_info": {
   "codemirror_mode": {
    "name": "ipython",
    "version": 2
   },
   "file_extension": ".py",
   "mimetype": "text/x-python",
   "name": "python",
   "nbconvert_exporter": "python",
   "pygments_lexer": "ipython2",
   "version": "2.7.13"
  }
 },
 "nbformat": 4,
 "nbformat_minor": 1
}
