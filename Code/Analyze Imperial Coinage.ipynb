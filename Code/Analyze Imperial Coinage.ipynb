{
 "cells": [
  {
   "cell_type": "code",
   "execution_count": 1,
   "metadata": {
    "collapsed": false
   },
   "outputs": [],
   "source": [
    "import pandas as pd\n",
    "import numpy as np\n",
    "import sqlite3\n",
    "\n",
    "from bkcharts import Bar, cat\n",
    "from bokeh.io import output_notebook, save\n",
    "from bokeh.models import HoverTool\n",
    "from bokeh.palettes import viridis\n",
    "from bokeh.plotting import show\n",
    "from scipy import stats\n",
    "\n",
    "# import CleanData as cd\n",
    "# import BokehPlots as bp\n",
    "# import CoinagePlots as cp"
   ]
  },
  {
   "cell_type": "code",
   "execution_count": 2,
   "metadata": {
    "collapsed": true
   },
   "outputs": [],
   "source": [
    "title = 'Roman_Imperial_Coinage'\n",
    "fname = '../Data/' + title + '.sqlite'\n",
    "conn = sqlite3.connect(fname)"
   ]
  },
  {
   "cell_type": "markdown",
   "metadata": {},
   "source": [
    "# Functions"
   ]
  },
  {
   "cell_type": "markdown",
   "metadata": {},
   "source": [
    "## Get Data"
   ]
  },
  {
   "cell_type": "code",
   "execution_count": 3,
   "metadata": {
    "collapsed": true
   },
   "outputs": [],
   "source": [
    "def countsDF(source, conn):\n",
    "    '''\n",
    "    Get counts of the coins by emperor in SOURCE \n",
    "    '''\n",
    "    query = '''\n",
    "    SELECT\n",
    "      emperor,\n",
    "      denomination,\n",
    "      count(denomination) AS counts\n",
    "    FROM\n",
    "      {} JOIN emperors ON\n",
    "        startDate >= emperors.start\n",
    "        AND startDate <= emperors.end\n",
    "    GROUP BY emperor, denomination\n",
    "    ORDER BY start, end, counts DESC;\n",
    "    '''.format(source)\n",
    "    df = pd.read_sql(query, conn)\n",
    "    return df"
   ]
  },
  {
   "cell_type": "code",
   "execution_count": 4,
   "metadata": {
    "collapsed": true
   },
   "outputs": [],
   "source": [
    "def radiateCountsDF(source, conn):\n",
    "    '''\n",
    "    Get dataframe of the counts for the occurence of 'radiate' crowns by emperor and denomination\n",
    "    '''\n",
    "    query = '''\n",
    "    SELECT\n",
    "      emperor,\n",
    "      denomination,\n",
    "      count(denomination) AS counts\n",
    "    FROM\n",
    "      {} JOIN emperors ON\n",
    "        startDate >= emperors.start\n",
    "        AND startDate <= emperors.end\n",
    "    WHERE description LIKE '%radiate%'\n",
    "    GROUP BY emperor, denomination\n",
    "    ORDER BY start, end, counts DESC;\n",
    "    '''.format(source)\n",
    "    df = pd.read_sql(query, conn)\n",
    "    return df"
   ]
  },
  {
   "cell_type": "code",
   "execution_count": 5,
   "metadata": {
    "collapsed": true
   },
   "outputs": [],
   "source": [
    "def radiateRatiosDF(source, conn):\n",
    "    '''\n",
    "    Get dataframe of the ratio for the occurence of 'radiate' crowns by emperor \n",
    "    and denomination over total coins from emperor\n",
    "    '''\n",
    "    query = '''\n",
    "    WITH emperorCoins AS (\n",
    "      SELECT\n",
    "        emperor,\n",
    "        description,\n",
    "        denomination,\n",
    "        start,\n",
    "        end\n",
    "      FROM\n",
    "        {} JOIN emperors ON\n",
    "          startDate >= emperors.start\n",
    "          AND startDate <= emperors.end\n",
    "    ), emperorTotals AS (\n",
    "      SELECT\n",
    "        emperor,\n",
    "        count(description)  AS emperorCounts\n",
    "      FROM emperorCoins\n",
    "      GROUP BY emperor\n",
    "    )\n",
    "    SELECT\n",
    "      emperor,\n",
    "      count(description) * 1.0 / emperorCounts   AS keywordRatio\n",
    "    FROM\n",
    "      emperorCoins JOIN emperorTotals USING (emperor)\n",
    "    WHERE description LIKE '%radiate%'\n",
    "    GROUP BY emperor\n",
    "    ORDER BY start, end;\n",
    "    '''.format(source)\n",
    "    df = pd.read_sql(query, conn)\n",
    "    return df"
   ]
  },
  {
   "cell_type": "markdown",
   "metadata": {},
   "source": [
    "## Generate Plots"
   ]
  },
  {
   "cell_type": "code",
   "execution_count": 6,
   "metadata": {
    "collapsed": true
   },
   "outputs": [],
   "source": [
    "def countsPlot(source, conn):\n",
    "    '''\n",
    "    Create counts of the coins by emperor in SOURCE plot\n",
    "    '''\n",
    "    df = countsDF(source, conn)\n",
    "    counts = Bar(df, label=cat(columns=\"emperor\", sort=False), palette=viridis(df.denomination.unique().size), \n",
    "                    values='counts', stack=\"denomination\", responsive=True, active_scroll='wheel_zoom', \n",
    "                     title=\"Count of coins by Emperor in Hoxne Hoard Plot\")\n",
    "\n",
    "    hover_counts = HoverTool(tooltips=[\n",
    "                                (\"emperor\", \"@emperor\"),\n",
    "                                (\"denomination\", \"@denomination\"),\n",
    "                                (\"count\", \"@counts\")\n",
    "                            ])\n",
    "\n",
    "    counts.add_tools(hover_counts)\n",
    "    counts.xaxis.axis_label = \"Emperors\"\n",
    "    counts.yaxis.axis_label = \"Counts\"\n",
    "\n",
    "    save(counts, \"../Plots/{}_counts_plot.html\".format(source))\n",
    "    \n",
    "    return counts"
   ]
  },
  {
   "cell_type": "code",
   "execution_count": 14,
   "metadata": {
    "collapsed": false
   },
   "outputs": [],
   "source": [
    "def radiateCountsPlot(source, conn):\n",
    "    '''\n",
    "    Create plot of the count of coins that have 'radiate' crowns in them by emperor\n",
    "    '''\n",
    "    df = radiateCountsDF(source, conn)\n",
    "    counts = Bar(df, label=cat(columns=\"emperor\", sort=False), palette=viridis(df.denomination.unique().size), \n",
    "                    values='counts', stack=\"denomination\", responsive=True, active_scroll='wheel_zoom', \n",
    "                     title=\"Count of 'Radiate Crowns' per Emperor in \" + source + \" Plot\")\n",
    "\n",
    "    hover_counts = HoverTool(tooltips=[\n",
    "                                (\"emperor\", \"@emperor\"),\n",
    "                                (\"denomination\", \"@denomination\"),\n",
    "                                (\"count\", \"@counts\")\n",
    "                            ])\n",
    "\n",
    "    counts.add_tools(hover_counts)\n",
    "    counts.xaxis.axis_label = \"Emperors\"\n",
    "    counts.yaxis.axis_label = \"Counts\"\n",
    "\n",
    "    save(counts, \"../Plots/\" + source + \"_radiate_counts_plot.html\")\n",
    "    \n",
    "    return counts"
   ]
  },
  {
   "cell_type": "code",
   "execution_count": 15,
   "metadata": {
    "collapsed": false
   },
   "outputs": [],
   "source": [
    "def radiateRatiosPlot(source, conn):\n",
    "    '''\n",
    "    Plot the ratio for the occurence of 'radiate' crowns by emperor \n",
    "    over total number of coins by emperor\n",
    "    '''\n",
    "    df = radiateRatiosDF(source, conn)\n",
    "    ratios = Bar(df, label=cat(columns=\"emperor\", sort=False), values='keywordRatio', \n",
    "                 responsive=True, active_scroll='wheel_zoom', legend=False,\n",
    "                 title=\"Ratio of 'Radiate Crowns' by Emperor in \" + source + \" Plot\")\n",
    "\n",
    "    hover_counts = HoverTool(tooltips=[\n",
    "                                (\"emperor\", \"@emperor\"),\n",
    "                                (\"Percentage\", \"@percentages\")\n",
    "                            ])\n",
    "\n",
    "    ratios.add_tools(hover_counts)\n",
    "    ratios.xaxis.axis_label = \"Emperors\"\n",
    "    ratios.yaxis.axis_label = \"Percentages\"\n",
    "\n",
    "    save(ratios, \"../Plots/\" + source + \"_ratios_plot.html\")\n",
    "    \n",
    "    return ratios"
   ]
  },
  {
   "cell_type": "markdown",
   "metadata": {},
   "source": [
    "# Create Counts and Ratios Plots"
   ]
  },
  {
   "cell_type": "code",
   "execution_count": 16,
   "metadata": {
    "collapsed": false
   },
   "outputs": [
    {
     "name": "stderr",
     "output_type": "stream",
     "text": [
      "/Users/William/Documents/roman_coinage/roman_coinage_python3/lib/python3.6/site-packages/bokeh/io.py:423: UserWarning: save() called but no resources were supplied and output_file(...) was never called, defaulting to resources.CDN\n",
      "  warnings.warn(\"save() called but no resources were supplied and output_file(...) was never called, defaulting to resources.CDN\")\n",
      "/Users/William/Documents/roman_coinage/roman_coinage_python3/lib/python3.6/site-packages/bokeh/io.py:433: UserWarning: save() called but no title was supplied and output_file(...) was never called, using default title 'Bokeh Plot'\n",
      "  warnings.warn(\"save() called but no title was supplied and output_file(...) was never called, using default title 'Bokeh Plot'\")\n"
     ]
    }
   ],
   "source": [
    "sources = ['britishMuseum', 'americanNumismaticSociety', 'OCRE', 'allData']\n",
    "for source in sources:\n",
    "    counts = countsPlot(source, conn)\n",
    "    # show(counts)\n",
    "    radiateCounts = radiateCountsPlot(source, conn)\n",
    "    # show(radiateCounts)\n",
    "    ratios = radiateRatiosPlot(source, conn)\n",
    "    # show(ratios)"
   ]
  },
  {
   "cell_type": "markdown",
   "metadata": {},
   "source": [
    "# Statistical Significance of Data"
   ]
  },
  {
   "cell_type": "code",
   "execution_count": 17,
   "metadata": {
    "collapsed": false
   },
   "outputs": [],
   "source": [
    "bm_ratio = radiateRatiosDF('britishMuseum', conn)\n",
    "ans_ratio = radiateRatiosDF('americanNumismaticSociety', conn)\n",
    "merged = bm_ratio.merge(ans_ratio, on='emperor')"
   ]
  },
  {
   "cell_type": "code",
   "execution_count": 18,
   "metadata": {
    "collapsed": false
   },
   "outputs": [
    {
     "data": {
      "text/html": [
       "<div>\n",
       "<style scoped>\n",
       "    .dataframe tbody tr th:only-of-type {\n",
       "        vertical-align: middle;\n",
       "    }\n",
       "\n",
       "    .dataframe tbody tr th {\n",
       "        vertical-align: top;\n",
       "    }\n",
       "\n",
       "    .dataframe thead th {\n",
       "        text-align: right;\n",
       "    }\n",
       "</style>\n",
       "<table border=\"1\" class=\"dataframe\">\n",
       "  <thead>\n",
       "    <tr style=\"text-align: right;\">\n",
       "      <th></th>\n",
       "      <th>emperor</th>\n",
       "      <th>keywordRatio_x</th>\n",
       "      <th>keywordRatio_y</th>\n",
       "    </tr>\n",
       "  </thead>\n",
       "  <tbody>\n",
       "    <tr>\n",
       "      <th>49</th>\n",
       "      <td>Severus II</td>\n",
       "      <td>0.008333</td>\n",
       "      <td>0.008333</td>\n",
       "    </tr>\n",
       "    <tr>\n",
       "      <th>50</th>\n",
       "      <td>Maxentius</td>\n",
       "      <td>0.016667</td>\n",
       "      <td>0.011268</td>\n",
       "    </tr>\n",
       "    <tr>\n",
       "      <th>51</th>\n",
       "      <td>Constantine the Great</td>\n",
       "      <td>0.020566</td>\n",
       "      <td>0.037863</td>\n",
       "    </tr>\n",
       "    <tr>\n",
       "      <th>52</th>\n",
       "      <td>Licinius I</td>\n",
       "      <td>0.033482</td>\n",
       "      <td>0.067402</td>\n",
       "    </tr>\n",
       "    <tr>\n",
       "      <th>53</th>\n",
       "      <td>Maximinus II</td>\n",
       "      <td>0.033333</td>\n",
       "      <td>0.058824</td>\n",
       "    </tr>\n",
       "  </tbody>\n",
       "</table>\n",
       "</div>"
      ],
      "text/plain": [
       "                  emperor  keywordRatio_x  keywordRatio_y\n",
       "49             Severus II        0.008333        0.008333\n",
       "50              Maxentius        0.016667        0.011268\n",
       "51  Constantine the Great        0.020566        0.037863\n",
       "52             Licinius I        0.033482        0.067402\n",
       "53           Maximinus II        0.033333        0.058824"
      ]
     },
     "execution_count": 18,
     "metadata": {},
     "output_type": "execute_result"
    }
   ],
   "source": [
    "merged.tail()"
   ]
  },
  {
   "cell_type": "code",
   "execution_count": 19,
   "metadata": {
    "collapsed": false
   },
   "outputs": [
    {
     "data": {
      "text/plain": [
       "LinregressResult(slope=0.91466213279022834, intercept=0.076159894397058503, rvalue=0.49409486811751629, pvalue=0.00014639284546406228, stderr=0.22318875730411647)"
      ]
     },
     "execution_count": 19,
     "metadata": {},
     "output_type": "execute_result"
    }
   ],
   "source": [
    "stats.linregress(merged['keywordRatio_x'], merged['keywordRatio_y'])"
   ]
  },
  {
   "cell_type": "code",
   "execution_count": 20,
   "metadata": {
    "collapsed": false
   },
   "outputs": [
    {
     "ename": "NameError",
     "evalue": "name 'hoxne_ratio' is not defined",
     "output_type": "error",
     "traceback": [
      "\u001b[0;31m---------------------------------------------------------------------------\u001b[0m",
      "\u001b[0;31mNameError\u001b[0m                                 Traceback (most recent call last)",
      "\u001b[0;32m<ipython-input-20-25546a19759c>\u001b[0m in \u001b[0;36m<module>\u001b[0;34m()\u001b[0m\n\u001b[0;32m----> 1\u001b[0;31m \u001b[0mmerged\u001b[0m \u001b[0;34m=\u001b[0m \u001b[0mmerged\u001b[0m\u001b[0;34m.\u001b[0m\u001b[0mmerge\u001b[0m\u001b[0;34m(\u001b[0m\u001b[0mhoxne_ratio\u001b[0m\u001b[0;34m,\u001b[0m \u001b[0mon\u001b[0m\u001b[0;34m=\u001b[0m\u001b[0;34m'emperor'\u001b[0m\u001b[0;34m)\u001b[0m\u001b[0;34m\u001b[0m\u001b[0m\n\u001b[0m",
      "\u001b[0;31mNameError\u001b[0m: name 'hoxne_ratio' is not defined"
     ]
    }
   ],
   "source": [
    "merged = merged.merge(hoxne_ratio, on='emperor')"
   ]
  },
  {
   "cell_type": "code",
   "execution_count": null,
   "metadata": {
    "collapsed": false
   },
   "outputs": [],
   "source": [
    "merged.tail()"
   ]
  },
  {
   "cell_type": "code",
   "execution_count": null,
   "metadata": {
    "collapsed": true
   },
   "outputs": [],
   "source": []
  }
 ],
 "metadata": {
  "anaconda-cloud": {},
  "kernelspec": {
   "display_name": "roman_coinage_python3",
   "language": "python",
   "name": "roman_coinage_python3"
  },
  "language_info": {
   "codemirror_mode": {
    "name": "ipython",
    "version": 3
   },
   "file_extension": ".py",
   "mimetype": "text/x-python",
   "name": "python",
   "nbconvert_exporter": "python",
   "pygments_lexer": "ipython3",
   "version": "3.6.1"
  }
 },
 "nbformat": 4,
 "nbformat_minor": 1
}
