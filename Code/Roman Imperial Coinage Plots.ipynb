{
 "cells": [
  {
   "cell_type": "markdown",
   "metadata": {
    "toc": true
   },
   "source": [
    "<h1>Table of Contents<span class=\"tocSkip\"></span></h1>\n",
    "<div class=\"toc\"><ul class=\"toc-item\"><li><span><a href=\"#Special-Variables\" data-toc-modified-id=\"Special-Variables-1\"><span class=\"toc-item-num\">1&nbsp;&nbsp;</span>Special Variables</a></span></li><li><span><a href=\"#Counts-Plots\" data-toc-modified-id=\"Counts-Plots-2\"><span class=\"toc-item-num\">2&nbsp;&nbsp;</span>Counts Plots</a></span></li><li><span><a href=\"#Word-Counts-Plots\" data-toc-modified-id=\"Word-Counts-Plots-3\"><span class=\"toc-item-num\">3&nbsp;&nbsp;</span>Word Counts Plots</a></span></li></ul></div>"
   ]
  },
  {
   "cell_type": "code",
   "execution_count": 1,
   "metadata": {},
   "outputs": [],
   "source": [
    "from collections import Counter\n",
    "from itertools import chain\n",
    "import sqlite3\n",
    "import re\n",
    "\n",
    "import holoviews as hv\n",
    "from holoviews import opts\n",
    "import pandas as pd\n",
    "import numpy as np\n",
    "from scipy import stats\n",
    "\n",
    "# import CleanData as cd\n",
    "# import BokehPlots as bp\n",
    "# import CoinagePlots as cp"
   ]
  },
  {
   "cell_type": "code",
   "execution_count": 2,
   "metadata": {},
   "outputs": [],
   "source": [
    "# Create connection to database\n",
    "title = 'Roman_Imperial_Coinage'\n",
    "fname = '../Data/' + title + '.sqlite'\n",
    "conn = sqlite3.connect(fname)\n",
    "\n",
    "# Set up holoviews backend\n",
    "# hv.extension('bokeh')\n",
    "renderer = hv.renderer('bokeh')\n",
    "\n",
    "\n",
    "def savePlot(plot, file_name):\n",
    "    \"\"\"\n",
    "    Save the plot at the path\n",
    "    \"\"\"\n",
    "    #hv.renderer('bokeh').save(file_name, \"../Images/{}\".format(file_name), fmt='png')\n",
    "    html_renderer = hv.Store.renderers['bokeh'].instance(fig='html')\n",
    "    #png_renderer.save(plot, \"../Images/{}\".format(file_name))\n",
    "    html_renderer.save(plot, \"../Plots/{}\".format(file_name))"
   ]
  },
  {
   "cell_type": "markdown",
   "metadata": {},
   "source": [
    "# Special Variables\n",
    "Edit the below variables to change how the plots are created"
   ]
  },
  {
   "cell_type": "code",
   "execution_count": 3,
   "metadata": {},
   "outputs": [],
   "source": [
    "# Table names\n",
    "sources = ['britishMuseum', 'americanNumismaticSociety', 'OCRE', 'allData']\n",
    "\n",
    "# Columns to plot individually for basic counts plots\n",
    "counts_columns = [\"authority\", 'emperor']\n",
    "\n",
    "# Material types for counts plot (NOTE: 'None' is for all materials)\n",
    "materials = [\n",
    "    'total', 'silver', 'gold', 'bronze', 'lead/alloy', 'other', 'replicas'\n",
    "]\n",
    "\n",
    "# Words to show on word count plots\n",
    "wanted_obverse = ['scepter', 'cuirassed', 'draped', 'laureate', 'divus']\n",
    "\n",
    "wanted_reverse = [\n",
    "    'victory', 'jupiter', 'sol', 'pax', 'cornucopia', 'emperor', 'felicitas',\n",
    "    'roma', 'hercules', 'captive', 'eagle', 'trophy', 'mars', 'prince',\n",
    "    'providentia', 'rudder', 'whip', 'club'\n",
    "]\n",
    "\n",
    "# Columns to plot by for the other word count plots ('Word' is for by word)\n",
    "word_count_columns = ['Word', 'authority']"
   ]
  },
  {
   "cell_type": "markdown",
   "metadata": {},
   "source": [
    "# Counts Plots\n",
    "These stacked bar plots show the number of coins from the source selected with each bar representing the number of coins produced by each authority/emperor ordered chronologically. The material selection of \"Total\" returns a plot that has all of the coins regardless of the material type."
   ]
  },
  {
   "cell_type": "code",
   "execution_count": 40,
   "metadata": {},
   "outputs": [],
   "source": [
    "def countsPlot(conn):\n",
    "    '''Get plot of counts of the coins by COLUMN in SOURCE \n",
    "\n",
    "    1st-Order Parameters\n",
    "    --------------------\n",
    "    conn: sqlite connection object\n",
    "        Connection to sql database\n",
    "        \n",
    "    2nd-Order Parameters\n",
    "    --------------------\n",
    "    source: str\n",
    "        Name of the source table\n",
    "    column: str\n",
    "        Column to have counts of material by typically either 'authority' or 'emperor'\n",
    "    material: str\n",
    "        Type of material to show. 'Total' if all\n",
    "\n",
    "    Returns\n",
    "    -------\n",
    "    Holoviews plot object containing plot\n",
    "    '''\n",
    "\n",
    "    def plotBuilder(source, column, material):\n",
    "        # Get data from database\n",
    "        if material is 'total':\n",
    "            query = '''\n",
    "            SELECT\n",
    "              {column},\n",
    "              count({column}) AS counts\n",
    "            FROM {source}\n",
    "            GROUP BY {column}\n",
    "            ORDER BY startDate, endDate, counts DESC;\n",
    "            '''.format(\n",
    "                column=column, source=source)\n",
    "        else:\n",
    "            query = '''\n",
    "            SELECT\n",
    "              {column},\n",
    "              count({column}) AS counts\n",
    "            FROM {source}\n",
    "            WHERE material is '{material}'\n",
    "            GROUP BY {column}\n",
    "            ORDER BY startDate, endDate, counts DESC;\n",
    "            '''.format(\n",
    "                column=column, source=source, material=material)\n",
    "        df = pd.read_sql(query, conn)\n",
    "\n",
    "        # Convert dataframe into data set\n",
    "        kdims = [column]\n",
    "        vdims = ['counts']\n",
    "        ds = hv.Dataset(df, kdims, vdims)\n",
    "\n",
    "        # Create plot from data set\n",
    "        layout = ds.to(hv.Bars, column, 'counts')\n",
    "        layout.opts(\n",
    "            opts.Bars(title_format=\n",
    "                      'Count of {material} coins by {column} in {source} Plot'.\n",
    "                      format(material=material, column=column, source=source)))\n",
    "\n",
    "        return layout\n",
    "\n",
    "    return plotBuilder\n",
    "\n",
    "\n",
    "#countsPlot(conn)('allData', 'emperor', material=None)"
   ]
  },
  {
   "cell_type": "code",
   "execution_count": 41,
   "metadata": {},
   "outputs": [],
   "source": [
    "dmap = hv.DynamicMap(\n",
    "    countsPlot(conn), kdims=['Source', 'Column', 'Material']).redim.values(\n",
    "        Source=sources, Column=counts_columns, Material=materials)\n",
    "\n",
    "dmap = dmap.opts(\n",
    "    opts.Bars(\n",
    "        width=1500,\n",
    "        height=1000,\n",
    "        xrotation=90,\n",
    "        tools=['hover'],\n",
    "        legend_position='top_left',\n",
    "    ))"
   ]
  },
  {
   "cell_type": "code",
   "execution_count": 42,
   "metadata": {},
   "outputs": [
    {
     "name": "stderr",
     "output_type": "stream",
     "text": [
      "INFO:bokeh.server.server:Starting Bokeh server version 1.0.3 (running on Tornado 5.1.1)\n"
     ]
    },
    {
     "data": {
      "text/plain": [
       "<bokeh.server.server.Server at 0x124380ba8>"
      ]
     },
     "execution_count": 42,
     "metadata": {},
     "output_type": "execute_result"
    },
    {
     "name": "stderr",
     "output_type": "stream",
     "text": [
      "INFO:tornado.access:200 GET / (::1) 322.28ms\n",
      "INFO:tornado.access:200 GET /static/css/bokeh-widgets.min.css?v=6f280acb818327130a8c244ce05fd10d (::1) 5.71ms\n",
      "INFO:tornado.access:200 GET /static/css/bokeh-tables.min.css?v=86c18b0b1fd30cdbc124e60cb9452e73 (::1) 1.90ms\n",
      "INFO:tornado.access:200 GET /static/js/bokeh-gl.min.js?v=70e18d8dcea09947c12764bf85ec76a0 (::1) 3.04ms\n",
      "INFO:tornado.access:200 GET /static/css/bokeh.min.css?v=4c253f78f16b7d5d0c9d1df8062c7f4c (::1) 3.57ms\n",
      "INFO:tornado.access:200 GET /static/js/bokeh-widgets.min.js?v=68fceb4be2f3d6410ff2d7704c8b87cf (::1) 25.33ms\n",
      "INFO:tornado.access:200 GET /static/js/bokeh-tables.min.js?v=02bdadb2c698bc2855a4d4a69c163821 (::1) 31.89ms\n",
      "INFO:tornado.access:200 GET /static/js/bokeh.min.js?v=b343fbb4db791eda9a229febeb303a0b (::1) 52.88ms\n",
      "INFO:tornado.access:101 GET /ws?bokeh-protocol-version=1.0&bokeh-session-id=w6FpzEp2JqkN8TslDaQlgvmEMznIyBBqcEcwEJXdeZDb (::1) 1.08ms\n",
      "INFO:bokeh.server.views.ws:WebSocket connection opened\n",
      "INFO:bokeh.server.views.ws:ServerConnection created\n",
      "INFO:bokeh.server.views.ws:WebSocket connection closed: code=1001, reason=None\n"
     ]
    }
   ],
   "source": [
    "renderer.app(dmap, show=True, new_window=True)"
   ]
  },
  {
   "cell_type": "markdown",
   "metadata": {},
   "source": [
    "# Word Counts Plots"
   ]
  },
  {
   "cell_type": "code",
   "execution_count": null,
   "metadata": {},
   "outputs": [],
   "source": [
    "def wordsAnalyticsPlots(conn):\n",
    "    '''Get plot of counts of the coins with WORD by COLUMN in SOURCE \n",
    "\n",
    "    1st-Order Parameters\n",
    "    --------------------\n",
    "    conn: sqlite connection object\n",
    "        Connection to sql database\n",
    "        \n",
    "    2nd-Order Parameters\n",
    "    --------------------\n",
    "    source: str\n",
    "        Name of the source table\n",
    "    column: str\n",
    "        Column to have counts of material by either 'authority' or 'emperor'\n",
    "    word: str\n",
    "        Type of material to sho\n",
    "\n",
    "    Returns\n",
    "    -------\n",
    "    Holoviews plot object containing plot\n",
    "    '''\n",
    "    \n",
    "    def plotBuilder(word, source):\n",
    "        return"
   ]
  }
 ],
 "metadata": {
  "hide_input": false,
  "kernelspec": {
   "display_name": "roman_coinage",
   "language": "python",
   "name": "roman_coinage"
  },
  "language_info": {
   "codemirror_mode": {
    "name": "ipython",
    "version": 3
   },
   "file_extension": ".py",
   "mimetype": "text/x-python",
   "name": "python",
   "nbconvert_exporter": "python",
   "pygments_lexer": "ipython3",
   "version": "3.6.1"
  },
  "toc": {
   "base_numbering": 1,
   "nav_menu": {},
   "number_sections": true,
   "sideBar": true,
   "skip_h1_title": false,
   "title_cell": "Table of Contents",
   "title_sidebar": "Contents",
   "toc_cell": true,
   "toc_position": {},
   "toc_section_display": true,
   "toc_window_display": false
  }
 },
 "nbformat": 4,
 "nbformat_minor": 2
}
