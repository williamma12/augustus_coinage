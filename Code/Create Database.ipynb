{
 "cells": [
  {
   "cell_type": "code",
   "execution_count": 2,
   "metadata": {
    "collapsed": false
   },
   "outputs": [],
   "source": [
    "from sqlalchemy import types\n",
    "from StringIO import StringIO\n",
    "import sqlite3\n",
    "import CleanData as cd\n",
    "import numpy as np\n",
    "import pandas as pd"
   ]
  },
  {
   "cell_type": "markdown",
   "metadata": {},
   "source": [
    "# Clean Data"
   ]
  },
  {
   "cell_type": "markdown",
   "metadata": {},
   "source": [
    "### British Museum"
   ]
  },
  {
   "cell_type": "code",
   "execution_count": 50,
   "metadata": {
    "collapsed": true
   },
   "outputs": [],
   "source": [
    "title = 'Roman_Imperial_Coinage'"
   ]
  },
  {
   "cell_type": "code",
   "execution_count": 57,
   "metadata": {
    "collapsed": false
   },
   "outputs": [],
   "source": [
    "# Read in data and convert to appropriate types\n",
    "bm_df = pd.read_csv('../Data/BM_'+title+'.csv',\n",
    "                 converters={\"Authority\": cd.stringToList(), 'Associated names': cd.stringToList(), \n",
    "                             'Subjects': cd.stringToList(), 'Inscriptions': cd.stringToListofDicts('|', ';', ':')})\n",
    "bm_df = pd.concat([bm_df, cd.cleanInscriptions(bm_df)], axis=1)\n",
    "bm_df = bm_df.drop('Unnamed: 0', 1)\n",
    "bm_df = bm_df.replace(np.nan, '', regex=True)\n",
    "bm_df = bm_df.rename(columns = {'Culture/period':'Culture'})"
   ]
  },
  {
   "cell_type": "code",
   "execution_count": 58,
   "metadata": {
    "collapsed": false
   },
   "outputs": [],
   "source": [
    "# Clean data to only retain relevant information\n",
    "mask = ((bm_df['Object type'] == 'coin ') & (bm_df['Date'].str.find('stC') == -1))\n",
    "filtered = bm_df[mask]\n",
    "\n",
    "lists = ['Authority', 'Subjects', 'Associated names', 'Obverse legend', 'Reverse legend']\n",
    "strings = ['Museum number', 'Denomination', 'Description', 'State', 'Culture', 'Materials', \n",
    "            'Curator\\'s comments', 'Bibliography', 'Object type', \"Production place\"]\n",
    "floats = ['Weight (g)']\n",
    "dates = ['Date']\n",
    "redundant_notes = ['Production place', 'Denomination']\n",
    "do_nothing = ['url', 'Inscriptions']\n",
    "duplicate_cols = ['Authority', 'Date', 'Production place', 'Description', 'Subjects', \"Curator's comments\",\n",
    "                  'Obverse legend', 'Reverse legend']\n",
    "\n",
    "cleaned_bm = cd.cleanDF(filtered, lists, strings, floats, dates, redundant_notes, do_nothing, duplicate_cols)\n",
    "cleaned_bm = cleaned_bm.drop('Inscriptions', 1)\n",
    "cleaned_bm['Source'] = 'British Museum'\n",
    "#cleaned_bm.head()"
   ]
  },
  {
   "cell_type": "code",
   "execution_count": 59,
   "metadata": {
    "collapsed": false
   },
   "outputs": [],
   "source": [
    "# Convert everything to strings and integers to put into SQL db\n",
    "lists = ['Authority', 'Subjects', 'Associated names', 'Obverse legend', 'Reverse legend', 'Date']\n",
    "for col in lists:\n",
    "    cleaned_bm[col] = cleaned_bm[col].apply(cd.listToString())\n",
    "\n",
    "columns = [u'Associated names', u'Authority', u'Bibliography', u'Culture',\n",
    "       u'Curator\\'s comments', u'Date', u'Denomination', u'Description',\n",
    "       u'Materials', u'Museum number', u'Object type', u'Obverse legend',\n",
    "       u'Production place', u'Reverse legend', u'State', u'Subjects',\n",
    "       u'url', u'Source']\n",
    "\n",
    "for col in columns:\n",
    "    cleaned_bm[col] = cleaned_bm[col].apply(lambda x: x.decode('utf-8'))\n",
    "\n",
    "cleaned_bm.columns = ['associatedNames', 'authority', 'bibliography', 'culture',\n",
    "                       'curatorComment', 'date', 'denomination', 'description',\n",
    "                       'materials', 'museumNumber', 'objectType', 'obverseLegend',\n",
    "                       'mint', 'reverseLegend', 'state', 'subjects',\n",
    "                       'weight', 'url', 'source']\n",
    "\n",
    "cleaned_bm['startDate'] = cleaned_bm.apply(lambda row: row['date'].split(\",\")[0], axis=1)\n",
    "cleaned_bm['endDate'] = cleaned_bm.apply(lambda row: row['date'].split(\",\")[1] \n",
    "                                                 if len(row['date'].split(\",\")) > 1 \n",
    "                                                 else row['date'].split(\",\")[0], \n",
    "                                         axis=1)"
   ]
  },
  {
   "cell_type": "code",
   "execution_count": 60,
   "metadata": {
    "collapsed": false
   },
   "outputs": [
    {
     "data": {
      "text/html": [
       "<div>\n",
       "<table border=\"1\" class=\"dataframe\">\n",
       "  <thead>\n",
       "    <tr style=\"text-align: right;\">\n",
       "      <th></th>\n",
       "      <th>associatedNames</th>\n",
       "      <th>authority</th>\n",
       "      <th>bibliography</th>\n",
       "      <th>culture</th>\n",
       "      <th>curatorComment</th>\n",
       "      <th>date</th>\n",
       "      <th>denomination</th>\n",
       "      <th>description</th>\n",
       "      <th>materials</th>\n",
       "      <th>museumNumber</th>\n",
       "      <th>...</th>\n",
       "      <th>obverseLegend</th>\n",
       "      <th>mint</th>\n",
       "      <th>reverseLegend</th>\n",
       "      <th>state</th>\n",
       "      <th>subjects</th>\n",
       "      <th>weight</th>\n",
       "      <th>url</th>\n",
       "      <th>source</th>\n",
       "      <th>startDate</th>\n",
       "      <th>endDate</th>\n",
       "    </tr>\n",
       "  </thead>\n",
       "  <tbody>\n",
       "    <tr>\n",
       "      <th>22024</th>\n",
       "      <td>Antinous, Demeter/Ceres</td>\n",
       "      <td>Hadrian</td>\n",
       "      <td>BMC Greek (Mysia) 13, p.4 PCG 86.3, p. (pl. 47...</td>\n",
       "      <td>Roman Provincial</td>\n",
       "      <td>The young courtier Antinous died suddenly in A...</td>\n",
       "      <td>130, 138</td>\n",
       "      <td>?</td>\n",
       "      <td>Alloy coin.(obverse) Bare head of Antinous, ri...</td>\n",
       "      <td>alloy</td>\n",
       "      <td>1844,0425.1609</td>\n",
       "      <td>...</td>\n",
       "      <td>AHTINOOC IAKXOC</td>\n",
       "      <td>Adramyteum</td>\n",
       "      <td>ECIOC AN  HKE A  PAMVTHNOIC</td>\n",
       "      <td>Roman Empire</td>\n",
       "      <td>classical deity</td>\n",
       "      <td>26.69</td>\n",
       "      <td>http://www.britishmuseum.org/research/collecti...</td>\n",
       "      <td>British Museum</td>\n",
       "      <td>130</td>\n",
       "      <td>138</td>\n",
       "    </tr>\n",
       "    <tr>\n",
       "      <th>22025</th>\n",
       "      <td>Constantine the Great</td>\n",
       "      <td>Constantine the Great</td>\n",
       "      <td>RIC6 65, p.407 (type)</td>\n",
       "      <td>Roman Imperial</td>\n",
       "      <td></td>\n",
       "      <td>312, 313</td>\n",
       "      <td>solidus</td>\n",
       "      <td>Gold coin.(obverse) Bust of Constantine I, dra...</td>\n",
       "      <td>gold</td>\n",
       "      <td>1896,0608.98</td>\n",
       "      <td>...</td>\n",
       "      <td>IMP CONSTANTINVS P F AVG</td>\n",
       "      <td>Ostia</td>\n",
       "      <td>PRINCIPI IVVENTVTIS</td>\n",
       "      <td>Roman Empire</td>\n",
       "      <td>emperor/empress</td>\n",
       "      <td>8.49</td>\n",
       "      <td>http://www.britishmuseum.org/research/collecti...</td>\n",
       "      <td>British Museum</td>\n",
       "      <td>312</td>\n",
       "      <td>313</td>\n",
       "    </tr>\n",
       "    <tr>\n",
       "      <th>22026</th>\n",
       "      <td>Hadrian</td>\n",
       "      <td>Hadrian</td>\n",
       "      <td>RE3 1209, p. 417 Strack (Hadrian) 557 (var = f...</td>\n",
       "      <td>Roman Imperial</td>\n",
       "      <td></td>\n",
       "      <td>117, 138</td>\n",
       "      <td>sestertius</td>\n",
       "      <td>on the left, three citizens in front and one b...</td>\n",
       "      <td>copper alloy</td>\n",
       "      <td>1869,0507.7</td>\n",
       "      <td>...</td>\n",
       "      <td>IMP CAESAR TRAIANVS HADRIANVS AVG P M TR P COS...</td>\n",
       "      <td>Rome</td>\n",
       "      <td>RELIQVA VETERA HS N[OVIES] MILL ABOLITA</td>\n",
       "      <td>Roman Empire</td>\n",
       "      <td>politics, emperor/empress</td>\n",
       "      <td>24.07</td>\n",
       "      <td>http://www.britishmuseum.org/research/collecti...</td>\n",
       "      <td>British Museum</td>\n",
       "      <td>117</td>\n",
       "      <td>138</td>\n",
       "    </tr>\n",
       "    <tr>\n",
       "      <th>22027</th>\n",
       "      <td>Hadrian</td>\n",
       "      <td>Hadrian</td>\n",
       "      <td>RE3 1207, p. 417 Strack (Hadrian) 557 RIC2 592...</td>\n",
       "      <td>Roman Imperial</td>\n",
       "      <td></td>\n",
       "      <td>117, 138</td>\n",
       "      <td>sestertius</td>\n",
       "      <td>on the left, three citizens (two in front, one...</td>\n",
       "      <td>copper alloy</td>\n",
       "      <td>1872,0709.561</td>\n",
       "      <td>...</td>\n",
       "      <td>IMP CAESAR TRAIANVS HADRIANVS AVG P M TR P COS...</td>\n",
       "      <td>Rome</td>\n",
       "      <td>RELIQVA VETERA HS NOVIES MILL ABOLITA</td>\n",
       "      <td>Roman Empire</td>\n",
       "      <td>politics, emperor/empress</td>\n",
       "      <td>20.64</td>\n",
       "      <td>http://www.britishmuseum.org/research/collecti...</td>\n",
       "      <td>British Museum</td>\n",
       "      <td>117</td>\n",
       "      <td>138</td>\n",
       "    </tr>\n",
       "    <tr>\n",
       "      <th>22028</th>\n",
       "      <td>Constantine the Great</td>\n",
       "      <td>Constantine the Great</td>\n",
       "      <td>RIC7 p275.381</td>\n",
       "      <td>Roman Imperial</td>\n",
       "      <td>maiorina (big [coins]) and centenionalis (a ‘h...</td>\n",
       "      <td>334</td>\n",
       "      <td>nummus</td>\n",
       "      <td>Copper alloy coin.(obverse) Diademed, draped a...</td>\n",
       "      <td>copper alloy</td>\n",
       "      <td>B.1746</td>\n",
       "      <td>...</td>\n",
       "      <td>CONSTANTINVS MAX AVG</td>\n",
       "      <td>Arles</td>\n",
       "      <td>GLORIA EXERCITVS</td>\n",
       "      <td>Roman Empire</td>\n",
       "      <td>soldier, emperor/empress</td>\n",
       "      <td>2.28</td>\n",
       "      <td>http://www.britishmuseum.org/research/collecti...</td>\n",
       "      <td>British Museum</td>\n",
       "      <td>334</td>\n",
       "      <td>334</td>\n",
       "    </tr>\n",
       "  </tbody>\n",
       "</table>\n",
       "<p>5 rows × 21 columns</p>\n",
       "</div>"
      ],
      "text/plain": [
       "               associatedNames              authority  \\\n",
       "22024  Antinous, Demeter/Ceres                Hadrian   \n",
       "22025    Constantine the Great  Constantine the Great   \n",
       "22026                  Hadrian                Hadrian   \n",
       "22027                  Hadrian                Hadrian   \n",
       "22028    Constantine the Great  Constantine the Great   \n",
       "\n",
       "                                            bibliography           culture  \\\n",
       "22024  BMC Greek (Mysia) 13, p.4 PCG 86.3, p. (pl. 47...  Roman Provincial   \n",
       "22025                              RIC6 65, p.407 (type)    Roman Imperial   \n",
       "22026  RE3 1209, p. 417 Strack (Hadrian) 557 (var = f...    Roman Imperial   \n",
       "22027  RE3 1207, p. 417 Strack (Hadrian) 557 RIC2 592...    Roman Imperial   \n",
       "22028                                      RIC7 p275.381    Roman Imperial   \n",
       "\n",
       "                                          curatorComment      date  \\\n",
       "22024  The young courtier Antinous died suddenly in A...  130, 138   \n",
       "22025                                                     312, 313   \n",
       "22026                                                     117, 138   \n",
       "22027                                                     117, 138   \n",
       "22028  maiorina (big [coins]) and centenionalis (a ‘h...       334   \n",
       "\n",
       "      denomination                                        description  \\\n",
       "22024            ?  Alloy coin.(obverse) Bare head of Antinous, ri...   \n",
       "22025      solidus  Gold coin.(obverse) Bust of Constantine I, dra...   \n",
       "22026   sestertius  on the left, three citizens in front and one b...   \n",
       "22027   sestertius  on the left, three citizens (two in front, one...   \n",
       "22028       nummus  Copper alloy coin.(obverse) Diademed, draped a...   \n",
       "\n",
       "          materials    museumNumber   ...    \\\n",
       "22024         alloy  1844,0425.1609   ...     \n",
       "22025          gold    1896,0608.98   ...     \n",
       "22026  copper alloy     1869,0507.7   ...     \n",
       "22027  copper alloy   1872,0709.561   ...     \n",
       "22028  copper alloy          B.1746   ...     \n",
       "\n",
       "                                           obverseLegend        mint  \\\n",
       "22024                                    AHTINOOC IAKXOC  Adramyteum   \n",
       "22025                           IMP CONSTANTINVS P F AVG       Ostia   \n",
       "22026  IMP CAESAR TRAIANVS HADRIANVS AVG P M TR P COS...        Rome   \n",
       "22027  IMP CAESAR TRAIANVS HADRIANVS AVG P M TR P COS...        Rome   \n",
       "22028                               CONSTANTINVS MAX AVG       Arles   \n",
       "\n",
       "                                 reverseLegend         state  \\\n",
       "22024              ECIOC AN  HKE A  PAMVTHNOIC  Roman Empire   \n",
       "22025                      PRINCIPI IVVENTVTIS  Roman Empire   \n",
       "22026  RELIQVA VETERA HS N[OVIES] MILL ABOLITA  Roman Empire   \n",
       "22027    RELIQVA VETERA HS NOVIES MILL ABOLITA  Roman Empire   \n",
       "22028                         GLORIA EXERCITVS  Roman Empire   \n",
       "\n",
       "                        subjects weight  \\\n",
       "22024            classical deity  26.69   \n",
       "22025            emperor/empress   8.49   \n",
       "22026  politics, emperor/empress  24.07   \n",
       "22027  politics, emperor/empress  20.64   \n",
       "22028   soldier, emperor/empress   2.28   \n",
       "\n",
       "                                                     url          source  \\\n",
       "22024  http://www.britishmuseum.org/research/collecti...  British Museum   \n",
       "22025  http://www.britishmuseum.org/research/collecti...  British Museum   \n",
       "22026  http://www.britishmuseum.org/research/collecti...  British Museum   \n",
       "22027  http://www.britishmuseum.org/research/collecti...  British Museum   \n",
       "22028  http://www.britishmuseum.org/research/collecti...  British Museum   \n",
       "\n",
       "      startDate endDate  \n",
       "22024       130     138  \n",
       "22025       312     313  \n",
       "22026       117     138  \n",
       "22027       117     138  \n",
       "22028       334     334  \n",
       "\n",
       "[5 rows x 21 columns]"
      ]
     },
     "execution_count": 60,
     "metadata": {},
     "output_type": "execute_result"
    }
   ],
   "source": [
    "cleaned_bm.tail()"
   ]
  },
  {
   "cell_type": "markdown",
   "metadata": {},
   "source": [
    "### American Numismatic Society"
   ]
  },
  {
   "cell_type": "code",
   "execution_count": 9,
   "metadata": {
    "collapsed": false
   },
   "outputs": [
    {
     "data": {
      "text/html": [
       "<div>\n",
       "<table border=\"1\" class=\"dataframe\">\n",
       "  <thead>\n",
       "    <tr style=\"text-align: right;\">\n",
       "      <th></th>\n",
       "      <th>Unnamed: 0</th>\n",
       "      <th>URI</th>\n",
       "      <th>Title</th>\n",
       "      <th>RecordId</th>\n",
       "      <th>Authority</th>\n",
       "      <th>Coin Type URI</th>\n",
       "      <th>Date on Object</th>\n",
       "      <th>Degree</th>\n",
       "      <th>Deity</th>\n",
       "      <th>Denomination</th>\n",
       "      <th>...</th>\n",
       "      <th>Reference</th>\n",
       "      <th>Region</th>\n",
       "      <th>Reverse Legend</th>\n",
       "      <th>Reverse Type</th>\n",
       "      <th>Weight</th>\n",
       "      <th>Year</th>\n",
       "      <th>Thumbnail_obv</th>\n",
       "      <th>Thumbnail_rev</th>\n",
       "      <th>Date Record Modified</th>\n",
       "      <th>Description</th>\n",
       "    </tr>\n",
       "  </thead>\n",
       "  <tbody>\n",
       "    <tr>\n",
       "      <th>62995</th>\n",
       "      <td>62995</td>\n",
       "      <td>http://numismatics.org/collection/1944.100.21593</td>\n",
       "      <td>Bronze AE3 of Constantius II, Cyzicus, AD 337 ...</td>\n",
       "      <td>1944.100.21593</td>\n",
       "      <td>[Constantius II]</td>\n",
       "      <td>http://numismatics.org/ocre/id/ric.8.cyz.18</td>\n",
       "      <td></td>\n",
       "      <td></td>\n",
       "      <td></td>\n",
       "      <td>AE3</td>\n",
       "      <td>...</td>\n",
       "      <td>[RIC VIII Cyzicus 18]</td>\n",
       "      <td>Mysia</td>\n",
       "      <td>GLOR-IA EXERC-ITVS</td>\n",
       "      <td>Two soldiers standing holding shield and spear...</td>\n",
       "      <td>1.6</td>\n",
       "      <td>[337, 340]</td>\n",
       "      <td>http://numismatics.org/collectionimages/190019...</td>\n",
       "      <td>http://numismatics.org/collectionimages/190019...</td>\n",
       "      <td>2017-09-08T14:22:22Z</td>\n",
       "      <td>Struck Billon|Bronze. (obverse) Head laureate ...</td>\n",
       "    </tr>\n",
       "    <tr>\n",
       "      <th>62996</th>\n",
       "      <td>62996</td>\n",
       "      <td>http://numismatics.org/collection/1944.100.21594</td>\n",
       "      <td>Bronze AE3 of Constantius II, Cyzicus, AD 337 ...</td>\n",
       "      <td>1944.100.21594</td>\n",
       "      <td>[Constantius II]</td>\n",
       "      <td>http://numismatics.org/ocre/id/ric.8.cyz.18</td>\n",
       "      <td></td>\n",
       "      <td></td>\n",
       "      <td></td>\n",
       "      <td>AE3</td>\n",
       "      <td>...</td>\n",
       "      <td>[RIC VIII Cyzicus 18]</td>\n",
       "      <td>Mysia</td>\n",
       "      <td>GLOR-IA EXERC-ITVS</td>\n",
       "      <td>Two soldiers standing holding shield and spear...</td>\n",
       "      <td>1.36</td>\n",
       "      <td>[337, 340]</td>\n",
       "      <td>http://numismatics.org/collectionimages/190019...</td>\n",
       "      <td>http://numismatics.org/collectionimages/190019...</td>\n",
       "      <td>2017-09-08T14:22:22Z</td>\n",
       "      <td>Struck Billon|Bronze. (obverse) Head laureate ...</td>\n",
       "    </tr>\n",
       "    <tr>\n",
       "      <th>62997</th>\n",
       "      <td>62997</td>\n",
       "      <td>http://numismatics.org/collection/1944.100.21595</td>\n",
       "      <td>Bronze AE3 of Constantius II, Cyzicus, AD 337 ...</td>\n",
       "      <td>1944.100.21595</td>\n",
       "      <td>[Constantius II]</td>\n",
       "      <td>http://numismatics.org/ocre/id/ric.8.cyz.18</td>\n",
       "      <td></td>\n",
       "      <td></td>\n",
       "      <td></td>\n",
       "      <td>AE3</td>\n",
       "      <td>...</td>\n",
       "      <td>[RIC VIII Cyzicus 18]</td>\n",
       "      <td>Mysia</td>\n",
       "      <td>GLOR-IA EXERC-ITVS</td>\n",
       "      <td>Two soldiers standing holding shield and spear...</td>\n",
       "      <td>1.55</td>\n",
       "      <td>[337, 340]</td>\n",
       "      <td>http://numismatics.org/collectionimages/190019...</td>\n",
       "      <td>http://numismatics.org/collectionimages/190019...</td>\n",
       "      <td>2017-09-08T14:22:22Z</td>\n",
       "      <td>Struck Billon|Bronze. (obverse) Head laureate ...</td>\n",
       "    </tr>\n",
       "    <tr>\n",
       "      <th>62998</th>\n",
       "      <td>62998</td>\n",
       "      <td>http://numismatics.org/collection/1944.100.21596</td>\n",
       "      <td>Bronze AE3 of Constantius II, Cyzicus, AD 337 ...</td>\n",
       "      <td>1944.100.21596</td>\n",
       "      <td>[Constantius II]</td>\n",
       "      <td>http://numismatics.org/ocre/id/ric.8.cyz.18</td>\n",
       "      <td></td>\n",
       "      <td></td>\n",
       "      <td></td>\n",
       "      <td>AE3</td>\n",
       "      <td>...</td>\n",
       "      <td>[RIC VIII Cyzicus 18]</td>\n",
       "      <td>Mysia</td>\n",
       "      <td>GLOR-IA EXERC-ITVS</td>\n",
       "      <td>Two soldiers standing holding shield and spear...</td>\n",
       "      <td>1.44</td>\n",
       "      <td>[337, 340]</td>\n",
       "      <td>http://numismatics.org/collectionimages/190019...</td>\n",
       "      <td>http://numismatics.org/collectionimages/190019...</td>\n",
       "      <td>2017-09-08T14:22:22Z</td>\n",
       "      <td>Struck Billon|Bronze. (obverse) Head laureate ...</td>\n",
       "    </tr>\n",
       "    <tr>\n",
       "      <th>62999</th>\n",
       "      <td>62999</td>\n",
       "      <td>http://numismatics.org/collection/1944.100.21597</td>\n",
       "      <td>Bronze AE3 of Constantius II, Cyzicus, AD 337 ...</td>\n",
       "      <td>1944.100.21597</td>\n",
       "      <td>[Constantius II]</td>\n",
       "      <td>http://numismatics.org/ocre/id/ric.8.cyz.18</td>\n",
       "      <td></td>\n",
       "      <td></td>\n",
       "      <td></td>\n",
       "      <td>AE3</td>\n",
       "      <td>...</td>\n",
       "      <td>[RIC VIII Cyzicus 18]</td>\n",
       "      <td>Mysia</td>\n",
       "      <td>GLOR-IA EXE[RC]-ITVS</td>\n",
       "      <td>Two soldiers standing holding shield and spear...</td>\n",
       "      <td>1.96</td>\n",
       "      <td>[337, 340]</td>\n",
       "      <td>http://numismatics.org/collectionimages/190019...</td>\n",
       "      <td>http://numismatics.org/collectionimages/190019...</td>\n",
       "      <td>2017-09-08T14:22:22Z</td>\n",
       "      <td>Struck Billon|Bronze. (obverse) Head laureate ...</td>\n",
       "    </tr>\n",
       "  </tbody>\n",
       "</table>\n",
       "<p>5 rows × 36 columns</p>\n",
       "</div>"
      ],
      "text/plain": [
       "       Unnamed: 0                                               URI  \\\n",
       "62995       62995  http://numismatics.org/collection/1944.100.21593   \n",
       "62996       62996  http://numismatics.org/collection/1944.100.21594   \n",
       "62997       62997  http://numismatics.org/collection/1944.100.21595   \n",
       "62998       62998  http://numismatics.org/collection/1944.100.21596   \n",
       "62999       62999  http://numismatics.org/collection/1944.100.21597   \n",
       "\n",
       "                                                   Title        RecordId  \\\n",
       "62995  Bronze AE3 of Constantius II, Cyzicus, AD 337 ...  1944.100.21593   \n",
       "62996  Bronze AE3 of Constantius II, Cyzicus, AD 337 ...  1944.100.21594   \n",
       "62997  Bronze AE3 of Constantius II, Cyzicus, AD 337 ...  1944.100.21595   \n",
       "62998  Bronze AE3 of Constantius II, Cyzicus, AD 337 ...  1944.100.21596   \n",
       "62999  Bronze AE3 of Constantius II, Cyzicus, AD 337 ...  1944.100.21597   \n",
       "\n",
       "              Authority                                Coin Type URI  \\\n",
       "62995  [Constantius II]  http://numismatics.org/ocre/id/ric.8.cyz.18   \n",
       "62996  [Constantius II]  http://numismatics.org/ocre/id/ric.8.cyz.18   \n",
       "62997  [Constantius II]  http://numismatics.org/ocre/id/ric.8.cyz.18   \n",
       "62998  [Constantius II]  http://numismatics.org/ocre/id/ric.8.cyz.18   \n",
       "62999  [Constantius II]  http://numismatics.org/ocre/id/ric.8.cyz.18   \n",
       "\n",
       "      Date on Object Degree Deity Denomination  \\\n",
       "62995                                      AE3   \n",
       "62996                                      AE3   \n",
       "62997                                      AE3   \n",
       "62998                                      AE3   \n",
       "62999                                      AE3   \n",
       "\n",
       "                             ...                          \\\n",
       "62995                        ...                           \n",
       "62996                        ...                           \n",
       "62997                        ...                           \n",
       "62998                        ...                           \n",
       "62999                        ...                           \n",
       "\n",
       "                   Reference Region        Reverse Legend  \\\n",
       "62995  [RIC VIII Cyzicus 18]  Mysia    GLOR-IA EXERC-ITVS   \n",
       "62996  [RIC VIII Cyzicus 18]  Mysia    GLOR-IA EXERC-ITVS   \n",
       "62997  [RIC VIII Cyzicus 18]  Mysia    GLOR-IA EXERC-ITVS   \n",
       "62998  [RIC VIII Cyzicus 18]  Mysia    GLOR-IA EXERC-ITVS   \n",
       "62999  [RIC VIII Cyzicus 18]  Mysia  GLOR-IA EXE[RC]-ITVS   \n",
       "\n",
       "                                            Reverse Type Weight        Year  \\\n",
       "62995  Two soldiers standing holding shield and spear...    1.6  [337, 340]   \n",
       "62996  Two soldiers standing holding shield and spear...   1.36  [337, 340]   \n",
       "62997  Two soldiers standing holding shield and spear...   1.55  [337, 340]   \n",
       "62998  Two soldiers standing holding shield and spear...   1.44  [337, 340]   \n",
       "62999  Two soldiers standing holding shield and spear...   1.96  [337, 340]   \n",
       "\n",
       "                                           Thumbnail_obv  \\\n",
       "62995  http://numismatics.org/collectionimages/190019...   \n",
       "62996  http://numismatics.org/collectionimages/190019...   \n",
       "62997  http://numismatics.org/collectionimages/190019...   \n",
       "62998  http://numismatics.org/collectionimages/190019...   \n",
       "62999  http://numismatics.org/collectionimages/190019...   \n",
       "\n",
       "                                           Thumbnail_rev  \\\n",
       "62995  http://numismatics.org/collectionimages/190019...   \n",
       "62996  http://numismatics.org/collectionimages/190019...   \n",
       "62997  http://numismatics.org/collectionimages/190019...   \n",
       "62998  http://numismatics.org/collectionimages/190019...   \n",
       "62999  http://numismatics.org/collectionimages/190019...   \n",
       "\n",
       "       Date Record Modified                                        Description  \n",
       "62995  2017-09-08T14:22:22Z  Struck Billon|Bronze. (obverse) Head laureate ...  \n",
       "62996  2017-09-08T14:22:22Z  Struck Billon|Bronze. (obverse) Head laureate ...  \n",
       "62997  2017-09-08T14:22:22Z  Struck Billon|Bronze. (obverse) Head laureate ...  \n",
       "62998  2017-09-08T14:22:22Z  Struck Billon|Bronze. (obverse) Head laureate ...  \n",
       "62999  2017-09-08T14:22:22Z  Struck Billon|Bronze. (obverse) Head laureate ...  \n",
       "\n",
       "[5 rows x 36 columns]"
      ]
     },
     "execution_count": 9,
     "metadata": {},
     "output_type": "execute_result"
    }
   ],
   "source": [
    "ans_df = pd.read_csv('../Data/ANS_'+title+'.csv',\n",
    "                    converters={\"Authority\": cd.stringToList('|'), 'Year': cd.stringToList('|'),\n",
    "                               'Issuer': cd.stringToList('|'), 'Portrait': cd.stringToList('|'),\n",
    "                               'Reference': cd.stringToList('|')})\n",
    "ans_df = ans_df.replace(np.nan, '', regex=True)\n",
    "ans_df['Description'] = ans_df.apply(lambda row: cd.makeDescription(row['Material'], row['Manufacture'], row['Obverse Type'], row['Reverse Type']), axis=1)\n",
    "ans_df.tail()"
   ]
  },
  {
   "cell_type": "code",
   "execution_count": 10,
   "metadata": {
    "collapsed": false
   },
   "outputs": [
    {
     "data": {
      "text/plain": [
       "Index([u'Authority', u'Deity', u'Denomination', u'Description', u'Issuer',\n",
       "       u'Mint', u'Obverse Legend', u'Portrait', u'Reference',\n",
       "       u'Reverse Legend', u'URI', u'Weight', u'Year', u'Source'],\n",
       "      dtype='object')"
      ]
     },
     "execution_count": 10,
     "metadata": {},
     "output_type": "execute_result"
    }
   ],
   "source": [
    "lists = ['Year', 'Authority', 'Issuer', 'Portrait', 'Reference']\n",
    "strings = ['Deity', 'Denomination', 'Mint', 'Description', 'Obverse Legend', 'Reverse Legend']\n",
    "floats = ['Weight']\n",
    "dates = []\n",
    "redundant_notes = []\n",
    "do_nothing = ['URI']\n",
    "duplicate_cols = ['Issuer', 'Year', 'Mint', 'Deity', 'Description', 'Obverse Legend', 'Reverse Legend']\n",
    "\n",
    "cleaned_ans = cd.cleanDF(ans_df, lists, strings, floats, dates, redundant_notes, do_nothing, \n",
    "                              duplicate_cols, production_place='Mint')\n",
    "cleaned_ans['Source'] = 'American Numismatic Society'\n",
    "cleaned_ans.tail()\n",
    "cleaned_ans.columns"
   ]
  },
  {
   "cell_type": "code",
   "execution_count": 11,
   "metadata": {
    "collapsed": false
   },
   "outputs": [],
   "source": [
    "# Convert everything to strings and integers to put into SQL db\n",
    "lists = ['Year', 'Authority', 'Issuer', 'Portrait', 'Reference']\n",
    "for col in lists:\n",
    "    cleaned_ans[col] = cleaned_ans[col].apply(cd.listToString())\n",
    "    \n",
    "cleaned_ans['StartDate'] = cleaned_ans.apply(lambda row: row['Year'].split(\",\")[0], axis=1)\n",
    "cleaned_ans['EndDate'] = cleaned_ans.apply(lambda row: row['Year'].split(\",\")[1] \n",
    "                                                 if len(row['Year'].split(\",\")) > 1 \n",
    "                                                 else row['Year'].split(\",\")[0], \n",
    "                                         axis=1)\n",
    "\n",
    "columns = [u'Authority', u'Deity', u'Denomination', u'Description', 'EndDate', u'Issuer',\n",
    "       u'Mint', u'Obverse Legend', u'Portrait', u'Reference',\n",
    "       u'Reverse Legend', u'URI', u'Year', 'StartDate', u'Source']\n",
    "\n",
    "cleaned_ans.columns = columns\n",
    "\n",
    "for col in columns:\n",
    "    cleaned_ans[col] = cleaned_ans[col].apply(lambda x: x.decode('utf-8'))"
   ]
  },
  {
   "cell_type": "code",
   "execution_count": 13,
   "metadata": {
    "collapsed": false
   },
   "outputs": [
    {
     "data": {
      "text/html": [
       "<div>\n",
       "<table border=\"1\" class=\"dataframe\">\n",
       "  <thead>\n",
       "    <tr style=\"text-align: right;\">\n",
       "      <th></th>\n",
       "      <th>Authority</th>\n",
       "      <th>Deity</th>\n",
       "      <th>Denomination</th>\n",
       "      <th>Description</th>\n",
       "      <th>Issuer</th>\n",
       "      <th>Mint</th>\n",
       "      <th>Obverse Legend</th>\n",
       "      <th>Portrait</th>\n",
       "      <th>Reference</th>\n",
       "      <th>Reverse Legend</th>\n",
       "      <th>URI</th>\n",
       "      <th>Weight</th>\n",
       "      <th>Year</th>\n",
       "      <th>Source</th>\n",
       "      <th>startDate</th>\n",
       "      <th>endDate</th>\n",
       "    </tr>\n",
       "  </thead>\n",
       "  <tbody>\n",
       "    <tr>\n",
       "      <th>721</th>\n",
       "      <td>Constantius II</td>\n",
       "      <td></td>\n",
       "      <td>AE3</td>\n",
       "      <td>Struck Billon|Bronze. (obverse) Head laureate ...</td>\n",
       "      <td></td>\n",
       "      <td>Cyzicus</td>\n",
       "      <td>D N CONSTA-NS P F AVG</td>\n",
       "      <td>Constans</td>\n",
       "      <td>RIC VIII Cyzicus 18</td>\n",
       "      <td>[G]LOR-IA EXERC-ITVS</td>\n",
       "      <td>http://numismatics.org/collection/1944.100.21585</td>\n",
       "      <td>1.65</td>\n",
       "      <td>337, 340</td>\n",
       "      <td>British Museum</td>\n",
       "      <td>337</td>\n",
       "      <td>340</td>\n",
       "    </tr>\n",
       "    <tr>\n",
       "      <th>722</th>\n",
       "      <td>Constantius II</td>\n",
       "      <td></td>\n",
       "      <td>AE3</td>\n",
       "      <td>Struck Billon|Bronze. (obverse) Head laureate ...</td>\n",
       "      <td></td>\n",
       "      <td>Cyzicus</td>\n",
       "      <td>D N CONS[TA]-NS P F AVG</td>\n",
       "      <td>Constans</td>\n",
       "      <td>RIC VIII Cyzicus 18</td>\n",
       "      <td>[G]LOR-IA EXERC-ITVS</td>\n",
       "      <td>http://numismatics.org/collection/1944.100.21587</td>\n",
       "      <td>1.21</td>\n",
       "      <td>337, 340</td>\n",
       "      <td>British Museum</td>\n",
       "      <td>337</td>\n",
       "      <td>340</td>\n",
       "    </tr>\n",
       "    <tr>\n",
       "      <th>723</th>\n",
       "      <td>Constantius II</td>\n",
       "      <td></td>\n",
       "      <td>AE3</td>\n",
       "      <td>Struck Billon|Bronze. (obverse) Head laureate ...</td>\n",
       "      <td></td>\n",
       "      <td>Cyzicus</td>\n",
       "      <td>D N CO[NSTA]-NS P F AVG</td>\n",
       "      <td>Constans</td>\n",
       "      <td>RIC VIII Cyzicus 18</td>\n",
       "      <td>GLOR-[IA] EXERC-ITVS</td>\n",
       "      <td>http://numismatics.org/collection/1944.100.21589</td>\n",
       "      <td>1.81</td>\n",
       "      <td>337, 340</td>\n",
       "      <td>British Museum</td>\n",
       "      <td>337</td>\n",
       "      <td>340</td>\n",
       "    </tr>\n",
       "    <tr>\n",
       "      <th>724</th>\n",
       "      <td>Constantius II</td>\n",
       "      <td></td>\n",
       "      <td>AE3</td>\n",
       "      <td>Struck Billon|Bronze. (obverse) Head laureate ...</td>\n",
       "      <td></td>\n",
       "      <td>Cyzicus</td>\n",
       "      <td>D N CONST[A]-NS P F AVG</td>\n",
       "      <td>Constans</td>\n",
       "      <td>RIC VIII Cyzicus 18</td>\n",
       "      <td>GLOR-IA EXERC-ITVS</td>\n",
       "      <td>http://numismatics.org/collection/1944.100.21596</td>\n",
       "      <td>1.44</td>\n",
       "      <td>337, 340</td>\n",
       "      <td>British Museum</td>\n",
       "      <td>337</td>\n",
       "      <td>340</td>\n",
       "    </tr>\n",
       "    <tr>\n",
       "      <th>725</th>\n",
       "      <td>Constantius II</td>\n",
       "      <td></td>\n",
       "      <td>AE3</td>\n",
       "      <td>Struck Billon|Bronze. (obverse) Head laureate ...</td>\n",
       "      <td></td>\n",
       "      <td>Cyzicus</td>\n",
       "      <td>D N CONST[A-N]S P F AVG</td>\n",
       "      <td>Constans</td>\n",
       "      <td>RIC VIII Cyzicus 18</td>\n",
       "      <td>GLOR-IA EXE[RC]-ITVS</td>\n",
       "      <td>http://numismatics.org/collection/1944.100.21597</td>\n",
       "      <td>1.96</td>\n",
       "      <td>337, 340</td>\n",
       "      <td>British Museum</td>\n",
       "      <td>337</td>\n",
       "      <td>340</td>\n",
       "    </tr>\n",
       "  </tbody>\n",
       "</table>\n",
       "</div>"
      ],
      "text/plain": [
       "          Authority Deity Denomination  \\\n",
       "721  Constantius II                AE3   \n",
       "722  Constantius II                AE3   \n",
       "723  Constantius II                AE3   \n",
       "724  Constantius II                AE3   \n",
       "725  Constantius II                AE3   \n",
       "\n",
       "                                           Description Issuer     Mint  \\\n",
       "721  Struck Billon|Bronze. (obverse) Head laureate ...         Cyzicus   \n",
       "722  Struck Billon|Bronze. (obverse) Head laureate ...         Cyzicus   \n",
       "723  Struck Billon|Bronze. (obverse) Head laureate ...         Cyzicus   \n",
       "724  Struck Billon|Bronze. (obverse) Head laureate ...         Cyzicus   \n",
       "725  Struck Billon|Bronze. (obverse) Head laureate ...         Cyzicus   \n",
       "\n",
       "              Obverse Legend  Portrait            Reference  \\\n",
       "721    D N CONSTA-NS P F AVG  Constans  RIC VIII Cyzicus 18   \n",
       "722  D N CONS[TA]-NS P F AVG  Constans  RIC VIII Cyzicus 18   \n",
       "723  D N CO[NSTA]-NS P F AVG  Constans  RIC VIII Cyzicus 18   \n",
       "724  D N CONST[A]-NS P F AVG  Constans  RIC VIII Cyzicus 18   \n",
       "725  D N CONST[A-N]S P F AVG  Constans  RIC VIII Cyzicus 18   \n",
       "\n",
       "           Reverse Legend                                               URI  \\\n",
       "721  [G]LOR-IA EXERC-ITVS  http://numismatics.org/collection/1944.100.21585   \n",
       "722  [G]LOR-IA EXERC-ITVS  http://numismatics.org/collection/1944.100.21587   \n",
       "723  GLOR-[IA] EXERC-ITVS  http://numismatics.org/collection/1944.100.21589   \n",
       "724    GLOR-IA EXERC-ITVS  http://numismatics.org/collection/1944.100.21596   \n",
       "725  GLOR-IA EXE[RC]-ITVS  http://numismatics.org/collection/1944.100.21597   \n",
       "\n",
       "     Weight      Year          Source startDate endDate  \n",
       "721    1.65  337, 340  British Museum       337     340  \n",
       "722    1.21  337, 340  British Museum       337     340  \n",
       "723    1.81  337, 340  British Museum       337     340  \n",
       "724    1.44  337, 340  British Museum       337     340  \n",
       "725    1.96  337, 340  British Museum       337     340  "
      ]
     },
     "execution_count": 13,
     "metadata": {},
     "output_type": "execute_result"
    }
   ],
   "source": [
    "cleaned_ans.tail()"
   ]
  },
  {
   "cell_type": "markdown",
   "metadata": {},
   "source": [
    "# Store Data"
   ]
  },
  {
   "cell_type": "code",
   "execution_count": 74,
   "metadata": {
    "collapsed": false
   },
   "outputs": [],
   "source": [
    "cnx = sqlite3.connect('../Data/'+title+'.sqlite')\n",
    "cur = cnx.cursor()"
   ]
  },
  {
   "cell_type": "code",
   "execution_count": 75,
   "metadata": {
    "collapsed": false
   },
   "outputs": [
    {
     "data": {
      "text/plain": [
       "<sqlite3.Cursor at 0x11fa95b20>"
      ]
     },
     "execution_count": 75,
     "metadata": {},
     "output_type": "execute_result"
    }
   ],
   "source": [
    "cur.execute('''CREATE TABLE britishMuseum(associatedNames TEXT, authority TEXT, bibliography TEXT, culture TEXT,\n",
    "                    curatorComment TEXT, dates TEXT, denomination TEXT, \n",
    "                    description TEXT, materials TEXT, museumNumber TEXT, objectType TEXT, obverseLegend TEXT,\n",
    "                    mint TEXT, reverseLegend TEXT, state TEXT, subjects TEXT, weight INT,\n",
    "                    url TEXT, source TEXT, startDate INT, endDate INT)''')"
   ]
  },
  {
   "cell_type": "code",
   "execution_count": 68,
   "metadata": {
    "collapsed": false
   },
   "outputs": [
    {
     "data": {
      "text/plain": [
       "associatedNames                                                     \n",
       "authority                                                 Magnentius\n",
       "bibliography                                                        \n",
       "culture                                               Roman Imperial\n",
       "curatorComment                                                      \n",
       "date                                                        350, 353\n",
       "denomination                                                       ?\n",
       "description                                             Silver coin.\n",
       "materials                                                     silver\n",
       "museumNumber                                             1981,0745.6\n",
       "objectType                                                      coin\n",
       "obverseLegend                                                       \n",
       "mint                                                        Aquileia\n",
       "reverseLegend                                                       \n",
       "state                                                   Roman Empire\n",
       "subjects                                                            \n",
       "weight                                                          2.78\n",
       "url                http://www.britishmuseum.org/research/collecti...\n",
       "source                                                British Museum\n",
       "startDate                                                        350\n",
       "endDate                                                          353\n",
       "Name: 1, dtype: object"
      ]
     },
     "execution_count": 68,
     "metadata": {},
     "output_type": "execute_result"
    }
   ],
   "source": [
    "cleaned_bm.loc[1]"
   ]
  },
  {
   "cell_type": "code",
   "execution_count": 69,
   "metadata": {
    "collapsed": false
   },
   "outputs": [
    {
     "data": {
      "text/plain": [
       "(u'', u'Magnentius', u'', u'Roman Imperial', u'', u'350, 353', u'?', u'Silver coin.', u'silver', u'1981,0745.6', u'coin', u'', u'Aquileia', u'', u'Roman Empire', u'', 2.78, u'http://www.britishmuseum.org/research/collection_online/collection_object_details.aspx?objectId=2880&partId=1&searchText=roman+imperial+coins&lookup-people=e.g.+Hokusai%2c+Ramesses&people=&lookup-place=e.g.+India%2c+Shanghai%2c+Thebes&place=&from=ad&fromDate=&to=ad&toDate=&lookup-object=e.g.+bowl%2c+hanging+scroll%2c+print&object=&lookup-subject=e.g.+farming%2c+New+Testament&subject=&lookup-matcult=e.g.+Choson+Dynasty%2c+Ptolemaic&matcult=&lookup-technique=e.g.+carved%2c+celadon-glazed&technique=&lookup-school=e.g.+French%2c+Mughal+Style&school=&lookup-material=e.g.+canvas%2c+porcelain%2c+silk&material=&lookup-ethname=e.g.+Hmong%2c+Maori%2c+Tai&ethname=&lookup-ware=e.g.+Imari+ware%2c+Qingbai+ware&ware=&lookup-escape=e.g.+cylinder%2c+gravity%2c+lever&escape=&lookup-bibliography=&bibliography=&citation=&museumno=&catalogueOnly=&view=&page=1', u'British Museum', u'350', u' 353')"
      ]
     },
     "execution_count": 69,
     "metadata": {},
     "output_type": "execute_result"
    }
   ],
   "source": [
    "list(cleaned_bm.to_records(index=False))[1]"
   ]
  },
  {
   "cell_type": "code",
   "execution_count": 76,
   "metadata": {
    "collapsed": false
   },
   "outputs": [
    {
     "data": {
      "text/plain": [
       "<sqlite3.Cursor at 0x11fa95b20>"
      ]
     },
     "execution_count": 76,
     "metadata": {},
     "output_type": "execute_result"
    }
   ],
   "source": [
    "cur.executemany(\"\"\"INSERT INTO britishMuseum (associatedNames, authority, bibliography, culture,\n",
    "                        curatorComment, dates, denomination, description,\n",
    "                        materials, museumNumber, objectType, obverseLegend,\n",
    "                        mint, reverseLegend, state, subjects, weight,\n",
    "                        url, source, startDate, endDate) VALUES(?,?,?,?,?,?,?,?,?,?,?,?,?,?,?,?,?,?,?,?,?)\"\"\", \n",
    "                list(cleaned_bm.to_records(index=False)))"
   ]
  },
  {
   "cell_type": "code",
   "execution_count": 78,
   "metadata": {
    "collapsed": false
   },
   "outputs": [
    {
     "data": {
      "text/plain": [
       "<sqlite3.Cursor at 0x11fa95b20>"
      ]
     },
     "execution_count": 78,
     "metadata": {},
     "output_type": "execute_result"
    }
   ],
   "source": [
    "cur.execute('''CREATE TABLE americanNumismaticSociety(authority TEXT, deity TEXT, denomination TEXT, description TEXT, \n",
    "                       issuer TEXT, mint TEXT, obverseLegend TEXT, portrait TEXT, reference TEXT, reverseLegend TEXT, \n",
    "                       url TEXT, weight INT, dates TEXT, source TEXT, startDate INT, endDate INT)''')"
   ]
  },
  {
   "cell_type": "code",
   "execution_count": 79,
   "metadata": {
    "collapsed": false
   },
   "outputs": [
    {
     "data": {
      "text/plain": [
       "<sqlite3.Cursor at 0x11fa95b20>"
      ]
     },
     "execution_count": 79,
     "metadata": {},
     "output_type": "execute_result"
    }
   ],
   "source": [
    "cur.executemany(\"\"\"INSERT INTO americanNumismaticSociety (authority, deity, denomination, description, \n",
    "                       issuer, mint, obverseLegend, portrait, reference, reverseLegend, url, weight, dates, \n",
    "                       source, startDate, endDate) VALUES(?,?,?,?,?,?,?,?,?,?,?,?,?,?,?,?)\"\"\", \n",
    "                list(cleaned_ans.to_records(index=False)))"
   ]
  },
  {
   "cell_type": "code",
   "execution_count": 80,
   "metadata": {
    "collapsed": true
   },
   "outputs": [],
   "source": [
    "cnx.commit()"
   ]
  },
  {
   "cell_type": "code",
   "execution_count": null,
   "metadata": {
    "collapsed": true
   },
   "outputs": [],
   "source": []
  }
 ],
 "metadata": {
  "anaconda-cloud": {},
  "kernelspec": {
   "display_name": "Python [conda env:python2]",
   "language": "python",
   "name": "conda-env-python2-py"
  },
  "language_info": {
   "codemirror_mode": {
    "name": "ipython",
    "version": 2
   },
   "file_extension": ".py",
   "mimetype": "text/x-python",
   "name": "python",
   "nbconvert_exporter": "python",
   "pygments_lexer": "ipython2",
   "version": "2.7.13"
  }
 },
 "nbformat": 4,
 "nbformat_minor": 1
}
