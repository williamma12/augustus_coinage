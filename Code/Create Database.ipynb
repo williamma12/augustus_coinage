{
 "cells": [
  {
   "cell_type": "code",
   "execution_count": 1,
   "metadata": {
    "collapsed": false
   },
   "outputs": [],
   "source": [
    "from sqlalchemy import types\n",
    "from StringIO import StringIO\n",
    "import sqlite3\n",
    "import CleanData as cd\n",
    "import numpy as np\n",
    "import pandas as pd"
   ]
  },
  {
   "cell_type": "markdown",
   "metadata": {},
   "source": [
    "# Clean Data"
   ]
  },
  {
   "cell_type": "markdown",
   "metadata": {},
   "source": [
    "### British Museum"
   ]
  },
  {
   "cell_type": "code",
   "execution_count": 2,
   "metadata": {
    "collapsed": true
   },
   "outputs": [],
   "source": [
    "title = 'Roman_Imperial_Coinage'"
   ]
  },
  {
   "cell_type": "code",
   "execution_count": 3,
   "metadata": {
    "collapsed": false
   },
   "outputs": [],
   "source": [
    "# Read in data and convert to appropriate types\n",
    "bm_df = pd.read_csv('../Data/BM_'+title+'.csv',\n",
    "                 converters={\"Authority\": cd.stringToList(), 'Associated names': cd.stringToList(), \n",
    "                             'Subjects': cd.stringToList(), 'Inscriptions': cd.stringToListofDicts('|', ';', ':')})\n",
    "bm_df = pd.concat([bm_df, cd.cleanInscriptions(bm_df)], axis=1)\n",
    "bm_df = bm_df.drop('Unnamed: 0', 1)\n",
    "bm_df = bm_df.replace(np.nan, '', regex=True)\n",
    "bm_df = bm_df.rename(columns = {'Culture/period':'Culture'})"
   ]
  },
  {
   "cell_type": "code",
   "execution_count": 4,
   "metadata": {
    "collapsed": false
   },
   "outputs": [],
   "source": [
    "# Clean data to only retain relevant information\n",
    "mask = ((bm_df['Object type'] == 'coin ') & (bm_df['Date'].str.find('stC') == -1))\n",
    "filtered = bm_df[mask]\n",
    "\n",
    "lists = ['Authority', 'Subjects', 'Associated names', 'Obverse legend', 'Reverse legend']\n",
    "strings = ['Museum number', 'Denomination', 'Description', 'State', 'Culture', 'Materials', \n",
    "            'Curator\\'s comments', 'Bibliography', 'Object type', \"Production place\"]\n",
    "floats = ['Weight (g)']\n",
    "dates = ['Date']\n",
    "redundant_notes = ['Production place', 'Denomination']\n",
    "do_nothing = ['url', 'Inscriptions']\n",
    "duplicate_cols = ['Authority', 'Date', 'Production place', 'Description', 'Subjects', \"Curator's comments\",\n",
    "                  'Obverse legend', 'Reverse legend']\n",
    "\n",
    "cleaned_bm = cd.cleanDF(filtered, lists, strings, floats, dates, redundant_notes, do_nothing, duplicate_cols)\n",
    "cleaned_bm = cleaned_bm.drop('Inscriptions', 1)\n",
    "cleaned_bm['Source'] = 'British Museum'\n",
    "#cleaned_bm.head()"
   ]
  },
  {
   "cell_type": "code",
   "execution_count": 5,
   "metadata": {
    "collapsed": false
   },
   "outputs": [],
   "source": [
    "# Convert everything to strings and integers to put into SQL db\n",
    "lists = ['Authority', 'Subjects', 'Associated names', 'Obverse legend', 'Reverse legend', 'Date']\n",
    "for col in lists:\n",
    "    cleaned_bm[col] = cleaned_bm[col].apply(cd.listToString())\n",
    "\n",
    "columns = [u'Associated names', u'Authority', u'Bibliography', u'Culture',\n",
    "       u'Curator\\'s comments', u'Date', u'Denomination', u'Description',\n",
    "       u'Materials', u'Museum number', u'Object type', u'Obverse legend',\n",
    "       u'Production place', u'Reverse legend', u'State', u'Subjects',\n",
    "       u'url', u'Source']\n",
    "for col in columns:\n",
    "    cleaned_bm[col] = cleaned_bm[col].apply(lambda x: x.decode('utf-8'))\n",
    "    \n",
    "cleaned_bm.columns = ['associatedNames', 'authority', 'bibliography', 'culture',\n",
    "                       'curatorComment', 'date', 'denomination', 'description',\n",
    "                       'materials', 'museumNumber', 'objectType', 'obverseLegend',\n",
    "                       'mint', 'reverseLegend', 'state', 'subjects',\n",
    "                       'weight', 'url', 'source']"
   ]
  },
  {
   "cell_type": "code",
   "execution_count": 6,
   "metadata": {
    "collapsed": false
   },
   "outputs": [
    {
     "data": {
      "text/html": [
       "<div>\n",
       "<table border=\"1\" class=\"dataframe\">\n",
       "  <thead>\n",
       "    <tr style=\"text-align: right;\">\n",
       "      <th></th>\n",
       "      <th>associatedNames</th>\n",
       "      <th>authority</th>\n",
       "      <th>bibliography</th>\n",
       "      <th>culture</th>\n",
       "      <th>curatorComment</th>\n",
       "      <th>date</th>\n",
       "      <th>denomination</th>\n",
       "      <th>description</th>\n",
       "      <th>materials</th>\n",
       "      <th>museumNumber</th>\n",
       "      <th>objectType</th>\n",
       "      <th>obverseLegend</th>\n",
       "      <th>mint</th>\n",
       "      <th>reverseLegend</th>\n",
       "      <th>state</th>\n",
       "      <th>subjects</th>\n",
       "      <th>weight</th>\n",
       "      <th>url</th>\n",
       "      <th>source</th>\n",
       "    </tr>\n",
       "  </thead>\n",
       "  <tbody>\n",
       "    <tr>\n",
       "      <th>22024</th>\n",
       "      <td>Antinous, Demeter/Ceres</td>\n",
       "      <td>Hadrian</td>\n",
       "      <td>BMC Greek (Mysia) 13, p.4 PCG 86.3, p. (pl. 47...</td>\n",
       "      <td>Roman Provincial</td>\n",
       "      <td>The young courtier Antinous died suddenly in A...</td>\n",
       "      <td>130, 138</td>\n",
       "      <td>?</td>\n",
       "      <td>Alloy coin.(obverse) Bare head of Antinous, ri...</td>\n",
       "      <td>alloy</td>\n",
       "      <td>1844,0425.1609</td>\n",
       "      <td>coin</td>\n",
       "      <td>AHTINOOC IAKXOC</td>\n",
       "      <td>Adramyteum</td>\n",
       "      <td>ECIOC AN  HKE A  PAMVTHNOIC</td>\n",
       "      <td>Roman Empire</td>\n",
       "      <td>classical deity</td>\n",
       "      <td>26.69</td>\n",
       "      <td>http://www.britishmuseum.org/research/collecti...</td>\n",
       "      <td>British Museum</td>\n",
       "    </tr>\n",
       "    <tr>\n",
       "      <th>22025</th>\n",
       "      <td>Constantine the Great</td>\n",
       "      <td>Constantine the Great</td>\n",
       "      <td>RIC6 65, p.407 (type)</td>\n",
       "      <td>Roman Imperial</td>\n",
       "      <td></td>\n",
       "      <td>312, 313</td>\n",
       "      <td>solidus</td>\n",
       "      <td>Gold coin.(obverse) Bust of Constantine I, dra...</td>\n",
       "      <td>gold</td>\n",
       "      <td>1896,0608.98</td>\n",
       "      <td>coin</td>\n",
       "      <td>IMP CONSTANTINVS P F AVG</td>\n",
       "      <td>Ostia</td>\n",
       "      <td>PRINCIPI IVVENTVTIS</td>\n",
       "      <td>Roman Empire</td>\n",
       "      <td>emperor/empress</td>\n",
       "      <td>8.49</td>\n",
       "      <td>http://www.britishmuseum.org/research/collecti...</td>\n",
       "      <td>British Museum</td>\n",
       "    </tr>\n",
       "    <tr>\n",
       "      <th>22026</th>\n",
       "      <td>Hadrian</td>\n",
       "      <td>Hadrian</td>\n",
       "      <td>RE3 1209, p. 417 Strack (Hadrian) 557 (var = f...</td>\n",
       "      <td>Roman Imperial</td>\n",
       "      <td></td>\n",
       "      <td>117, 138</td>\n",
       "      <td>sestertius</td>\n",
       "      <td>on the left, three citizens in front and one b...</td>\n",
       "      <td>copper alloy</td>\n",
       "      <td>1869,0507.7</td>\n",
       "      <td>coin</td>\n",
       "      <td>IMP CAESAR TRAIANVS HADRIANVS AVG P M TR P COS...</td>\n",
       "      <td>Rome</td>\n",
       "      <td>RELIQVA VETERA HS N[OVIES] MILL ABOLITA</td>\n",
       "      <td>Roman Empire</td>\n",
       "      <td>politics, emperor/empress</td>\n",
       "      <td>24.07</td>\n",
       "      <td>http://www.britishmuseum.org/research/collecti...</td>\n",
       "      <td>British Museum</td>\n",
       "    </tr>\n",
       "    <tr>\n",
       "      <th>22027</th>\n",
       "      <td>Hadrian</td>\n",
       "      <td>Hadrian</td>\n",
       "      <td>RE3 1207, p. 417 Strack (Hadrian) 557 RIC2 592...</td>\n",
       "      <td>Roman Imperial</td>\n",
       "      <td></td>\n",
       "      <td>117, 138</td>\n",
       "      <td>sestertius</td>\n",
       "      <td>on the left, three citizens (two in front, one...</td>\n",
       "      <td>copper alloy</td>\n",
       "      <td>1872,0709.561</td>\n",
       "      <td>coin</td>\n",
       "      <td>IMP CAESAR TRAIANVS HADRIANVS AVG P M TR P COS...</td>\n",
       "      <td>Rome</td>\n",
       "      <td>RELIQVA VETERA HS NOVIES MILL ABOLITA</td>\n",
       "      <td>Roman Empire</td>\n",
       "      <td>politics, emperor/empress</td>\n",
       "      <td>20.64</td>\n",
       "      <td>http://www.britishmuseum.org/research/collecti...</td>\n",
       "      <td>British Museum</td>\n",
       "    </tr>\n",
       "    <tr>\n",
       "      <th>22028</th>\n",
       "      <td>Constantine the Great</td>\n",
       "      <td>Constantine the Great</td>\n",
       "      <td>RIC7 p275.381</td>\n",
       "      <td>Roman Imperial</td>\n",
       "      <td>maiorina (big [coins]) and centenionalis (a ‘h...</td>\n",
       "      <td>334</td>\n",
       "      <td>nummus</td>\n",
       "      <td>Copper alloy coin.(obverse) Diademed, draped a...</td>\n",
       "      <td>copper alloy</td>\n",
       "      <td>B.1746</td>\n",
       "      <td>coin</td>\n",
       "      <td>CONSTANTINVS MAX AVG</td>\n",
       "      <td>Arles</td>\n",
       "      <td>GLORIA EXERCITVS</td>\n",
       "      <td>Roman Empire</td>\n",
       "      <td>soldier, emperor/empress</td>\n",
       "      <td>2.28</td>\n",
       "      <td>http://www.britishmuseum.org/research/collecti...</td>\n",
       "      <td>British Museum</td>\n",
       "    </tr>\n",
       "  </tbody>\n",
       "</table>\n",
       "</div>"
      ],
      "text/plain": [
       "               associatedNames              authority  \\\n",
       "22024  Antinous, Demeter/Ceres                Hadrian   \n",
       "22025    Constantine the Great  Constantine the Great   \n",
       "22026                  Hadrian                Hadrian   \n",
       "22027                  Hadrian                Hadrian   \n",
       "22028    Constantine the Great  Constantine the Great   \n",
       "\n",
       "                                            bibliography           culture  \\\n",
       "22024  BMC Greek (Mysia) 13, p.4 PCG 86.3, p. (pl. 47...  Roman Provincial   \n",
       "22025                              RIC6 65, p.407 (type)    Roman Imperial   \n",
       "22026  RE3 1209, p. 417 Strack (Hadrian) 557 (var = f...    Roman Imperial   \n",
       "22027  RE3 1207, p. 417 Strack (Hadrian) 557 RIC2 592...    Roman Imperial   \n",
       "22028                                      RIC7 p275.381    Roman Imperial   \n",
       "\n",
       "                                          curatorComment      date  \\\n",
       "22024  The young courtier Antinous died suddenly in A...  130, 138   \n",
       "22025                                                     312, 313   \n",
       "22026                                                     117, 138   \n",
       "22027                                                     117, 138   \n",
       "22028  maiorina (big [coins]) and centenionalis (a ‘h...       334   \n",
       "\n",
       "      denomination                                        description  \\\n",
       "22024            ?  Alloy coin.(obverse) Bare head of Antinous, ri...   \n",
       "22025      solidus  Gold coin.(obverse) Bust of Constantine I, dra...   \n",
       "22026   sestertius  on the left, three citizens in front and one b...   \n",
       "22027   sestertius  on the left, three citizens (two in front, one...   \n",
       "22028       nummus  Copper alloy coin.(obverse) Diademed, draped a...   \n",
       "\n",
       "          materials    museumNumber objectType  \\\n",
       "22024         alloy  1844,0425.1609       coin   \n",
       "22025          gold    1896,0608.98       coin   \n",
       "22026  copper alloy     1869,0507.7       coin   \n",
       "22027  copper alloy   1872,0709.561       coin   \n",
       "22028  copper alloy          B.1746       coin   \n",
       "\n",
       "                                           obverseLegend        mint  \\\n",
       "22024                                    AHTINOOC IAKXOC  Adramyteum   \n",
       "22025                           IMP CONSTANTINVS P F AVG       Ostia   \n",
       "22026  IMP CAESAR TRAIANVS HADRIANVS AVG P M TR P COS...        Rome   \n",
       "22027  IMP CAESAR TRAIANVS HADRIANVS AVG P M TR P COS...        Rome   \n",
       "22028                               CONSTANTINVS MAX AVG       Arles   \n",
       "\n",
       "                                 reverseLegend         state  \\\n",
       "22024              ECIOC AN  HKE A  PAMVTHNOIC  Roman Empire   \n",
       "22025                      PRINCIPI IVVENTVTIS  Roman Empire   \n",
       "22026  RELIQVA VETERA HS N[OVIES] MILL ABOLITA  Roman Empire   \n",
       "22027    RELIQVA VETERA HS NOVIES MILL ABOLITA  Roman Empire   \n",
       "22028                         GLORIA EXERCITVS  Roman Empire   \n",
       "\n",
       "                        subjects  weight  \\\n",
       "22024            classical deity   26.69   \n",
       "22025            emperor/empress    8.49   \n",
       "22026  politics, emperor/empress   24.07   \n",
       "22027  politics, emperor/empress   20.64   \n",
       "22028   soldier, emperor/empress    2.28   \n",
       "\n",
       "                                                     url          source  \n",
       "22024  http://www.britishmuseum.org/research/collecti...  British Museum  \n",
       "22025  http://www.britishmuseum.org/research/collecti...  British Museum  \n",
       "22026  http://www.britishmuseum.org/research/collecti...  British Museum  \n",
       "22027  http://www.britishmuseum.org/research/collecti...  British Museum  \n",
       "22028  http://www.britishmuseum.org/research/collecti...  British Museum  "
      ]
     },
     "execution_count": 6,
     "metadata": {},
     "output_type": "execute_result"
    }
   ],
   "source": [
    "cleaned_bm.tail()"
   ]
  },
  {
   "cell_type": "markdown",
   "metadata": {},
   "source": [
    "### American Numismatic Society"
   ]
  },
  {
   "cell_type": "code",
   "execution_count": 7,
   "metadata": {
    "collapsed": false
   },
   "outputs": [
    {
     "ename": "IOError",
     "evalue": "File ../Data/ANS_Roman_Imperial_Coinage.csv does not exist",
     "output_type": "error",
     "traceback": [
      "\u001b[0;31m---------------------------------------------------------------------------\u001b[0m",
      "\u001b[0;31mIOError\u001b[0m                                   Traceback (most recent call last)",
      "\u001b[0;32m<ipython-input-7-a1780e54e738>\u001b[0m in \u001b[0;36m<module>\u001b[0;34m()\u001b[0m\n\u001b[1;32m      2\u001b[0m                     converters={\"Authority\": cd.stringToList('|'), 'Year': cd.stringToList('|'),\n\u001b[1;32m      3\u001b[0m                                \u001b[0;34m'Issuer'\u001b[0m\u001b[0;34m:\u001b[0m \u001b[0mcd\u001b[0m\u001b[0;34m.\u001b[0m\u001b[0mstringToList\u001b[0m\u001b[0;34m(\u001b[0m\u001b[0;34m'|'\u001b[0m\u001b[0;34m)\u001b[0m\u001b[0;34m,\u001b[0m \u001b[0;34m'Portrait'\u001b[0m\u001b[0;34m:\u001b[0m \u001b[0mcd\u001b[0m\u001b[0;34m.\u001b[0m\u001b[0mstringToList\u001b[0m\u001b[0;34m(\u001b[0m\u001b[0;34m'|'\u001b[0m\u001b[0;34m)\u001b[0m\u001b[0;34m,\u001b[0m\u001b[0;34m\u001b[0m\u001b[0m\n\u001b[0;32m----> 4\u001b[0;31m                                'Reference': cd.stringToList('|')})\n\u001b[0m\u001b[1;32m      5\u001b[0m \u001b[0mans_df\u001b[0m \u001b[0;34m=\u001b[0m \u001b[0mans_df\u001b[0m\u001b[0;34m.\u001b[0m\u001b[0mreplace\u001b[0m\u001b[0;34m(\u001b[0m\u001b[0mnp\u001b[0m\u001b[0;34m.\u001b[0m\u001b[0mnan\u001b[0m\u001b[0;34m,\u001b[0m \u001b[0;34m''\u001b[0m\u001b[0;34m,\u001b[0m \u001b[0mregex\u001b[0m\u001b[0;34m=\u001b[0m\u001b[0mTrue\u001b[0m\u001b[0;34m)\u001b[0m\u001b[0;34m\u001b[0m\u001b[0m\n\u001b[1;32m      6\u001b[0m \u001b[0mans_df\u001b[0m\u001b[0;34m[\u001b[0m\u001b[0;34m'Description'\u001b[0m\u001b[0;34m]\u001b[0m \u001b[0;34m=\u001b[0m \u001b[0mans_df\u001b[0m\u001b[0;34m.\u001b[0m\u001b[0mapply\u001b[0m\u001b[0;34m(\u001b[0m\u001b[0;32mlambda\u001b[0m \u001b[0mrow\u001b[0m\u001b[0;34m:\u001b[0m \u001b[0mcd\u001b[0m\u001b[0;34m.\u001b[0m\u001b[0mmakeDescription\u001b[0m\u001b[0;34m(\u001b[0m\u001b[0mrow\u001b[0m\u001b[0;34m[\u001b[0m\u001b[0;34m'Material'\u001b[0m\u001b[0;34m]\u001b[0m\u001b[0;34m,\u001b[0m \u001b[0mrow\u001b[0m\u001b[0;34m[\u001b[0m\u001b[0;34m'Manufacture'\u001b[0m\u001b[0;34m]\u001b[0m\u001b[0;34m,\u001b[0m \u001b[0mrow\u001b[0m\u001b[0;34m[\u001b[0m\u001b[0;34m'Obverse Type'\u001b[0m\u001b[0;34m]\u001b[0m\u001b[0;34m,\u001b[0m \u001b[0mrow\u001b[0m\u001b[0;34m[\u001b[0m\u001b[0;34m'Reverse Type'\u001b[0m\u001b[0;34m]\u001b[0m\u001b[0;34m)\u001b[0m\u001b[0;34m,\u001b[0m \u001b[0maxis\u001b[0m\u001b[0;34m=\u001b[0m\u001b[0;36m1\u001b[0m\u001b[0;34m)\u001b[0m\u001b[0;34m\u001b[0m\u001b[0m\n",
      "\u001b[0;32m/Users/William/anaconda3/envs/python2/lib/python2.7/site-packages/pandas/io/parsers.pyc\u001b[0m in \u001b[0;36mparser_f\u001b[0;34m(filepath_or_buffer, sep, delimiter, header, names, index_col, usecols, squeeze, prefix, mangle_dupe_cols, dtype, engine, converters, true_values, false_values, skipinitialspace, skiprows, nrows, na_values, keep_default_na, na_filter, verbose, skip_blank_lines, parse_dates, infer_datetime_format, keep_date_col, date_parser, dayfirst, iterator, chunksize, compression, thousands, decimal, lineterminator, quotechar, quoting, escapechar, comment, encoding, dialect, tupleize_cols, error_bad_lines, warn_bad_lines, skipfooter, skip_footer, doublequote, delim_whitespace, as_recarray, compact_ints, use_unsigned, low_memory, buffer_lines, memory_map, float_precision)\u001b[0m\n\u001b[1;32m    644\u001b[0m                     skip_blank_lines=skip_blank_lines)\n\u001b[1;32m    645\u001b[0m \u001b[0;34m\u001b[0m\u001b[0m\n\u001b[0;32m--> 646\u001b[0;31m         \u001b[0;32mreturn\u001b[0m \u001b[0m_read\u001b[0m\u001b[0;34m(\u001b[0m\u001b[0mfilepath_or_buffer\u001b[0m\u001b[0;34m,\u001b[0m \u001b[0mkwds\u001b[0m\u001b[0;34m)\u001b[0m\u001b[0;34m\u001b[0m\u001b[0m\n\u001b[0m\u001b[1;32m    647\u001b[0m \u001b[0;34m\u001b[0m\u001b[0m\n\u001b[1;32m    648\u001b[0m     \u001b[0mparser_f\u001b[0m\u001b[0;34m.\u001b[0m\u001b[0m__name__\u001b[0m \u001b[0;34m=\u001b[0m \u001b[0mname\u001b[0m\u001b[0;34m\u001b[0m\u001b[0m\n",
      "\u001b[0;32m/Users/William/anaconda3/envs/python2/lib/python2.7/site-packages/pandas/io/parsers.pyc\u001b[0m in \u001b[0;36m_read\u001b[0;34m(filepath_or_buffer, kwds)\u001b[0m\n\u001b[1;32m    387\u001b[0m \u001b[0;34m\u001b[0m\u001b[0m\n\u001b[1;32m    388\u001b[0m     \u001b[0;31m# Create the parser.\u001b[0m\u001b[0;34m\u001b[0m\u001b[0;34m\u001b[0m\u001b[0m\n\u001b[0;32m--> 389\u001b[0;31m     \u001b[0mparser\u001b[0m \u001b[0;34m=\u001b[0m \u001b[0mTextFileReader\u001b[0m\u001b[0;34m(\u001b[0m\u001b[0mfilepath_or_buffer\u001b[0m\u001b[0;34m,\u001b[0m \u001b[0;34m**\u001b[0m\u001b[0mkwds\u001b[0m\u001b[0;34m)\u001b[0m\u001b[0;34m\u001b[0m\u001b[0m\n\u001b[0m\u001b[1;32m    390\u001b[0m \u001b[0;34m\u001b[0m\u001b[0m\n\u001b[1;32m    391\u001b[0m     \u001b[0;32mif\u001b[0m \u001b[0;34m(\u001b[0m\u001b[0mnrows\u001b[0m \u001b[0;32mis\u001b[0m \u001b[0;32mnot\u001b[0m \u001b[0mNone\u001b[0m\u001b[0;34m)\u001b[0m \u001b[0;32mand\u001b[0m \u001b[0;34m(\u001b[0m\u001b[0mchunksize\u001b[0m \u001b[0;32mis\u001b[0m \u001b[0;32mnot\u001b[0m \u001b[0mNone\u001b[0m\u001b[0;34m)\u001b[0m\u001b[0;34m:\u001b[0m\u001b[0;34m\u001b[0m\u001b[0m\n",
      "\u001b[0;32m/Users/William/anaconda3/envs/python2/lib/python2.7/site-packages/pandas/io/parsers.pyc\u001b[0m in \u001b[0;36m__init__\u001b[0;34m(self, f, engine, **kwds)\u001b[0m\n\u001b[1;32m    728\u001b[0m             \u001b[0mself\u001b[0m\u001b[0;34m.\u001b[0m\u001b[0moptions\u001b[0m\u001b[0;34m[\u001b[0m\u001b[0;34m'has_index_names'\u001b[0m\u001b[0;34m]\u001b[0m \u001b[0;34m=\u001b[0m \u001b[0mkwds\u001b[0m\u001b[0;34m[\u001b[0m\u001b[0;34m'has_index_names'\u001b[0m\u001b[0;34m]\u001b[0m\u001b[0;34m\u001b[0m\u001b[0m\n\u001b[1;32m    729\u001b[0m \u001b[0;34m\u001b[0m\u001b[0m\n\u001b[0;32m--> 730\u001b[0;31m         \u001b[0mself\u001b[0m\u001b[0;34m.\u001b[0m\u001b[0m_make_engine\u001b[0m\u001b[0;34m(\u001b[0m\u001b[0mself\u001b[0m\u001b[0;34m.\u001b[0m\u001b[0mengine\u001b[0m\u001b[0;34m)\u001b[0m\u001b[0;34m\u001b[0m\u001b[0m\n\u001b[0m\u001b[1;32m    731\u001b[0m \u001b[0;34m\u001b[0m\u001b[0m\n\u001b[1;32m    732\u001b[0m     \u001b[0;32mdef\u001b[0m \u001b[0mclose\u001b[0m\u001b[0;34m(\u001b[0m\u001b[0mself\u001b[0m\u001b[0;34m)\u001b[0m\u001b[0;34m:\u001b[0m\u001b[0;34m\u001b[0m\u001b[0m\n",
      "\u001b[0;32m/Users/William/anaconda3/envs/python2/lib/python2.7/site-packages/pandas/io/parsers.pyc\u001b[0m in \u001b[0;36m_make_engine\u001b[0;34m(self, engine)\u001b[0m\n\u001b[1;32m    921\u001b[0m     \u001b[0;32mdef\u001b[0m \u001b[0m_make_engine\u001b[0m\u001b[0;34m(\u001b[0m\u001b[0mself\u001b[0m\u001b[0;34m,\u001b[0m \u001b[0mengine\u001b[0m\u001b[0;34m=\u001b[0m\u001b[0;34m'c'\u001b[0m\u001b[0;34m)\u001b[0m\u001b[0;34m:\u001b[0m\u001b[0;34m\u001b[0m\u001b[0m\n\u001b[1;32m    922\u001b[0m         \u001b[0;32mif\u001b[0m \u001b[0mengine\u001b[0m \u001b[0;34m==\u001b[0m \u001b[0;34m'c'\u001b[0m\u001b[0;34m:\u001b[0m\u001b[0;34m\u001b[0m\u001b[0m\n\u001b[0;32m--> 923\u001b[0;31m             \u001b[0mself\u001b[0m\u001b[0;34m.\u001b[0m\u001b[0m_engine\u001b[0m \u001b[0;34m=\u001b[0m \u001b[0mCParserWrapper\u001b[0m\u001b[0;34m(\u001b[0m\u001b[0mself\u001b[0m\u001b[0;34m.\u001b[0m\u001b[0mf\u001b[0m\u001b[0;34m,\u001b[0m \u001b[0;34m**\u001b[0m\u001b[0mself\u001b[0m\u001b[0;34m.\u001b[0m\u001b[0moptions\u001b[0m\u001b[0;34m)\u001b[0m\u001b[0;34m\u001b[0m\u001b[0m\n\u001b[0m\u001b[1;32m    924\u001b[0m         \u001b[0;32melse\u001b[0m\u001b[0;34m:\u001b[0m\u001b[0;34m\u001b[0m\u001b[0m\n\u001b[1;32m    925\u001b[0m             \u001b[0;32mif\u001b[0m \u001b[0mengine\u001b[0m \u001b[0;34m==\u001b[0m \u001b[0;34m'python'\u001b[0m\u001b[0;34m:\u001b[0m\u001b[0;34m\u001b[0m\u001b[0m\n",
      "\u001b[0;32m/Users/William/anaconda3/envs/python2/lib/python2.7/site-packages/pandas/io/parsers.pyc\u001b[0m in \u001b[0;36m__init__\u001b[0;34m(self, src, **kwds)\u001b[0m\n\u001b[1;32m   1388\u001b[0m         \u001b[0mkwds\u001b[0m\u001b[0;34m[\u001b[0m\u001b[0;34m'allow_leading_cols'\u001b[0m\u001b[0;34m]\u001b[0m \u001b[0;34m=\u001b[0m \u001b[0mself\u001b[0m\u001b[0;34m.\u001b[0m\u001b[0mindex_col\u001b[0m \u001b[0;32mis\u001b[0m \u001b[0;32mnot\u001b[0m \u001b[0mFalse\u001b[0m\u001b[0;34m\u001b[0m\u001b[0m\n\u001b[1;32m   1389\u001b[0m \u001b[0;34m\u001b[0m\u001b[0m\n\u001b[0;32m-> 1390\u001b[0;31m         \u001b[0mself\u001b[0m\u001b[0;34m.\u001b[0m\u001b[0m_reader\u001b[0m \u001b[0;34m=\u001b[0m \u001b[0m_parser\u001b[0m\u001b[0;34m.\u001b[0m\u001b[0mTextReader\u001b[0m\u001b[0;34m(\u001b[0m\u001b[0msrc\u001b[0m\u001b[0;34m,\u001b[0m \u001b[0;34m**\u001b[0m\u001b[0mkwds\u001b[0m\u001b[0;34m)\u001b[0m\u001b[0;34m\u001b[0m\u001b[0m\n\u001b[0m\u001b[1;32m   1391\u001b[0m \u001b[0;34m\u001b[0m\u001b[0m\n\u001b[1;32m   1392\u001b[0m         \u001b[0;31m# XXX\u001b[0m\u001b[0;34m\u001b[0m\u001b[0;34m\u001b[0m\u001b[0m\n",
      "\u001b[0;32mpandas/parser.pyx\u001b[0m in \u001b[0;36mpandas.parser.TextReader.__cinit__ (pandas/parser.c:4184)\u001b[0;34m()\u001b[0m\n",
      "\u001b[0;32mpandas/parser.pyx\u001b[0m in \u001b[0;36mpandas.parser.TextReader._setup_parser_source (pandas/parser.c:8449)\u001b[0;34m()\u001b[0m\n",
      "\u001b[0;31mIOError\u001b[0m: File ../Data/ANS_Roman_Imperial_Coinage.csv does not exist"
     ]
    }
   ],
   "source": [
    "ans_df = pd.read_csv('../Data/ANS_'+title+'.csv',\n",
    "                    converters={\"Authority\": cd.stringToList('|'), 'Year': cd.stringToList('|'),\n",
    "                               'Issuer': cd.stringToList('|'), 'Portrait': cd.stringToList('|'),\n",
    "                               'Reference': cd.stringToList('|')})\n",
    "ans_df = ans_df.replace(np.nan, '', regex=True)\n",
    "ans_df['Description'] = ans_df.apply(lambda row: cd.makeDescription(row['Material'], row['Manufacture'], row['Obverse Type'], row['Reverse Type']), axis=1)\n",
    "#ans_df.tail()"
   ]
  },
  {
   "cell_type": "code",
   "execution_count": null,
   "metadata": {
    "collapsed": false
   },
   "outputs": [],
   "source": [
    "lists = ['Year', 'Authority', 'Issuer', 'Portrait', 'Reference']\n",
    "strings = ['Deity', 'Denomination', 'Mint', 'Description', 'Obverse Legend', 'Reverse Legend']\n",
    "floats = ['Weight']\n",
    "dates = []\n",
    "redundant_notes = []\n",
    "do_nothing = ['URI']\n",
    "duplicate_cols = ['Issuer', 'Year', 'Mint', 'Deity', 'Description', 'Obverse Legend', 'Reverse Legend']\n",
    "\n",
    "cleaned_ans = cd.cleanDF(ans_df, lists, strings, floats, dates, redundant_notes, do_nothing, \n",
    "                              duplicate_cols, production_place='Mint')\n",
    "cleaned_ans['Source'] = 'British Museum'\n",
    "cleaned_ans.tail()\n",
    "cleaned_ans.columns"
   ]
  },
  {
   "cell_type": "code",
   "execution_count": null,
   "metadata": {
    "collapsed": false
   },
   "outputs": [],
   "source": [
    "# Convert everything to strings and integers to put into SQL db\n",
    "lists = ['Year', 'Authority', 'Issuer', 'Portrait', 'Reference']\n",
    "for col in lists:\n",
    "    cleaned_ans[col] = cleaned_ans[col].apply(cd.listToString())\n",
    "\n",
    "columns = [u'Authority', u'Deity', u'Denomination', u'Description', u'Issuer',\n",
    "       u'Mint', u'Obverse Legend', u'Portrait', u'Reference',\n",
    "       u'Reverse Legend', u'URI', u'Year', u'Source']\n",
    "for col in columns:\n",
    "    cleaned_ans[col] = cleaned_ans[col].apply(lambda x: x.decode('utf-8'))\n",
    "\n",
    "cleaned_ans.head()"
   ]
  },
  {
   "cell_type": "markdown",
   "metadata": {},
   "source": [
    "# Store Data"
   ]
  },
  {
   "cell_type": "code",
   "execution_count": 8,
   "metadata": {
    "collapsed": false
   },
   "outputs": [],
   "source": [
    "cnx = sqlite3.connect('../Data/'+title+'.sqlite')\n",
    "cur = cnx.cursor()"
   ]
  },
  {
   "cell_type": "code",
   "execution_count": 9,
   "metadata": {
    "collapsed": false
   },
   "outputs": [
    {
     "data": {
      "text/plain": [
       "<sqlite3.Cursor at 0x1281cab20>"
      ]
     },
     "execution_count": 9,
     "metadata": {},
     "output_type": "execute_result"
    }
   ],
   "source": [
    "cur.execute('''CREATE TABLE britishMuseum(associatedNames TEXT, authority TEXT, bibliography TEXT, culture TEXT,\n",
    "                    curatorComment TEXT, dates TEXT, denomination TEXT, description TEXT,\n",
    "                    materials TEXT, museumNumber TEXT, objectType TEXT, obverseLegend TEXT,\n",
    "                    mint TEXT, reverseLegend TEXT, state TEXT, subjects TEXT, weight INT,\n",
    "                    url TEXT, source TEXT)''')"
   ]
  },
  {
   "cell_type": "code",
   "execution_count": 10,
   "metadata": {
    "collapsed": false
   },
   "outputs": [
    {
     "data": {
      "text/plain": [
       "<sqlite3.Cursor at 0x1281cab20>"
      ]
     },
     "execution_count": 10,
     "metadata": {},
     "output_type": "execute_result"
    }
   ],
   "source": [
    "cur.executemany(\"\"\"INSERT INTO britishMuseum (associatedNames, authority, bibliography, culture,\n",
    "                        curatorComment, dates, denomination, description,\n",
    "                        materials, museumNumber, objectType, obverseLegend,\n",
    "                        mint, reverseLegend, state, subjects, weight,\n",
    "                        url, source) VALUES(?,?,?,?,?,?,?,?,?,?,?,?,?,?,?,?,?,?,?)\"\"\", \n",
    "                list(cleaned_bm.to_records(index=False)))"
   ]
  },
  {
   "cell_type": "code",
   "execution_count": null,
   "metadata": {
    "collapsed": false
   },
   "outputs": [],
   "source": [
    "cur.execute('''CREATE TABLE americanNumismaticSociety(authority TEXT, deity TEXT, denomination TEXT, description TEXT, \n",
    "                       issuer TEXT, mint TEXT, obverseLegend TEXT, portrait TEXT, reference TEXT,\n",
    "                       reverseLegend TEXT, url TEXT, weight INT, dates TEXT, source TEXT)''')"
   ]
  },
  {
   "cell_type": "code",
   "execution_count": null,
   "metadata": {
    "collapsed": false
   },
   "outputs": [],
   "source": [
    "cur.executemany(\"\"\"INSERT INTO americanNumismaticSociety (authority, deity, denomination, description, \n",
    "                       issuer, mint, obverseLegend, portrait, reference,\n",
    "                       reverseLegend, url, weight, dates, source) VALUES(?,?,?,?,?,?,?,?,?,?,?,?,?,?)\"\"\", \n",
    "                list(cleaned_ans.to_records(index=False)))"
   ]
  },
  {
   "cell_type": "code",
   "execution_count": 11,
   "metadata": {
    "collapsed": true
   },
   "outputs": [],
   "source": [
    "cnx.commit()"
   ]
  },
  {
   "cell_type": "code",
   "execution_count": null,
   "metadata": {
    "collapsed": true
   },
   "outputs": [],
   "source": []
  }
 ],
 "metadata": {
  "anaconda-cloud": {},
  "kernelspec": {
   "display_name": "Python [conda env:python2]",
   "language": "python",
   "name": "conda-env-python2-py"
  },
  "language_info": {
   "codemirror_mode": {
    "name": "ipython",
    "version": 2
   },
   "file_extension": ".py",
   "mimetype": "text/x-python",
   "name": "python",
   "nbconvert_exporter": "python",
   "pygments_lexer": "ipython2",
   "version": "2.7.13"
  }
 },
 "nbformat": 4,
 "nbformat_minor": 1
}
