{
 "cells": [
  {
   "cell_type": "code",
   "execution_count": 1,
   "metadata": {
    "collapsed": false
   },
   "outputs": [],
   "source": [
    "from sqlalchemy import types\n",
    "from StringIO import StringIO\n",
    "import sqlite3\n",
    "import CleanData as cd\n",
    "import numpy as np\n",
    "import pandas as pd\n",
    "import re"
   ]
  },
  {
   "cell_type": "markdown",
   "metadata": {},
   "source": [
    "# Clean Data"
   ]
  },
  {
   "cell_type": "code",
   "execution_count": 2,
   "metadata": {
    "collapsed": true
   },
   "outputs": [],
   "source": [
    "title = 'Roman_Imperial_Coinage'"
   ]
  },
  {
   "cell_type": "code",
   "execution_count": 3,
   "metadata": {
    "collapsed": false
   },
   "outputs": [],
   "source": [
    "def cleanMaterials(materialCol):\n",
    "    '''\n",
    "    Takes in a string definiing the material column then cleans the material descriptions. \n",
    "    \n",
    "    Currently, it cleans by:\n",
    "        * Making all the letters to lowercase\n",
    "    '''\n",
    "    \n",
    "    def cleanMat(row):\n",
    "        material = row[materialCol]\n",
    "        \n",
    "        material = material.lower()\n",
    "        \n",
    "        return material\n",
    "    \n",
    "    return cleanMat\n",
    "\n",
    "def splitDescription(descriptionCol, side):\n",
    "    '''\n",
    "    Takes in a string defining the description column then splits the description \n",
    "    to obverse and reverse specified by SIDE\n",
    "    '''\n",
    "    \n",
    "    def splitDesc(row):\n",
    "        desc = row[descriptionCol]\n",
    "        result = re.split(r'(\\(obverse\\)|\\(reverse\\))', desc)\n",
    "        if side == 'obverse' and len(result) >= 2:\n",
    "            return result[2].strip()\n",
    "        elif side == 'reverse' and len(result) >= 4:\n",
    "            return result[4].strip()\n",
    "        else:\n",
    "            return ''\n",
    "    \n",
    "    return splitDesc"
   ]
  },
  {
   "cell_type": "markdown",
   "metadata": {},
   "source": [
    "### British Museum"
   ]
  },
  {
   "cell_type": "code",
   "execution_count": 4,
   "metadata": {
    "collapsed": false
   },
   "outputs": [
    {
     "ename": "KeyboardInterrupt",
     "evalue": "",
     "output_type": "error",
     "traceback": [
      "\u001b[0;31m---------------------------------------------------------------------------\u001b[0m",
      "\u001b[0;31mKeyboardInterrupt\u001b[0m                         Traceback (most recent call last)",
      "\u001b[0;32m<ipython-input-4-bcdbf029a8e6>\u001b[0m in \u001b[0;36m<module>\u001b[0;34m()\u001b[0m\n\u001b[1;32m      3\u001b[0m                  converters={\"Authority\": cd.stringToList(), 'Associated names': cd.stringToList(), \n\u001b[1;32m      4\u001b[0m                              'Subjects': cd.stringToList(), 'Inscriptions': cd.stringToListofDicts('|', ';', ':')})\n\u001b[0;32m----> 5\u001b[0;31m \u001b[0mbm_df\u001b[0m \u001b[0;34m=\u001b[0m \u001b[0mpd\u001b[0m\u001b[0;34m.\u001b[0m\u001b[0mconcat\u001b[0m\u001b[0;34m(\u001b[0m\u001b[0;34m[\u001b[0m\u001b[0mbm_df\u001b[0m\u001b[0;34m,\u001b[0m \u001b[0mcd\u001b[0m\u001b[0;34m.\u001b[0m\u001b[0mcleanInscriptions\u001b[0m\u001b[0;34m(\u001b[0m\u001b[0mbm_df\u001b[0m\u001b[0;34m)\u001b[0m\u001b[0;34m]\u001b[0m\u001b[0;34m,\u001b[0m \u001b[0maxis\u001b[0m\u001b[0;34m=\u001b[0m\u001b[0;36m1\u001b[0m\u001b[0;34m)\u001b[0m\u001b[0;34m\u001b[0m\u001b[0m\n\u001b[0m\u001b[1;32m      6\u001b[0m \u001b[0mbm_df\u001b[0m \u001b[0;34m=\u001b[0m \u001b[0mbm_df\u001b[0m\u001b[0;34m.\u001b[0m\u001b[0mdrop\u001b[0m\u001b[0;34m(\u001b[0m\u001b[0;34m'Unnamed: 0'\u001b[0m\u001b[0;34m,\u001b[0m \u001b[0;36m1\u001b[0m\u001b[0;34m)\u001b[0m\u001b[0;34m\u001b[0m\u001b[0m\n\u001b[1;32m      7\u001b[0m \u001b[0mbm_df\u001b[0m \u001b[0;34m=\u001b[0m \u001b[0mbm_df\u001b[0m\u001b[0;34m.\u001b[0m\u001b[0mreplace\u001b[0m\u001b[0;34m(\u001b[0m\u001b[0mnp\u001b[0m\u001b[0;34m.\u001b[0m\u001b[0mnan\u001b[0m\u001b[0;34m,\u001b[0m \u001b[0;34m''\u001b[0m\u001b[0;34m,\u001b[0m \u001b[0mregex\u001b[0m\u001b[0;34m=\u001b[0m\u001b[0mTrue\u001b[0m\u001b[0;34m)\u001b[0m\u001b[0;34m\u001b[0m\u001b[0m\n",
      "\u001b[0;32m/Users/William/Documents/roman_coinage/Code/CleanData.pyc\u001b[0m in \u001b[0;36mcleanInscriptions\u001b[0;34m(df, col_name)\u001b[0m\n\u001b[1;32m    338\u001b[0m     \u001b[0mReturns\u001b[0m \u001b[0mdataframe\u001b[0m \u001b[0;32mwith\u001b[0m \u001b[0mthe\u001b[0m \u001b[0mcolumns\u001b[0m \u001b[0;34m'Obverse legend'\u001b[0m \u001b[0;32mand\u001b[0m \u001b[0;34m'Reverse legend'\u001b[0m\u001b[0;34m\u001b[0m\u001b[0m\n\u001b[1;32m    339\u001b[0m     '''\n\u001b[0;32m--> 340\u001b[0;31m     \u001b[0mresult\u001b[0m \u001b[0;34m=\u001b[0m \u001b[0mdf\u001b[0m\u001b[0;34m.\u001b[0m\u001b[0mapply\u001b[0m\u001b[0;34m(\u001b[0m\u001b[0;32mlambda\u001b[0m \u001b[0mx\u001b[0m\u001b[0;34m:\u001b[0m \u001b[0mgetInscriptions\u001b[0m\u001b[0;34m(\u001b[0m\u001b[0mx\u001b[0m\u001b[0;34m[\u001b[0m\u001b[0;34m'Inscriptions'\u001b[0m\u001b[0;34m]\u001b[0m\u001b[0;34m)\u001b[0m\u001b[0;34m,\u001b[0m \u001b[0maxis\u001b[0m\u001b[0;34m=\u001b[0m\u001b[0;36m1\u001b[0m\u001b[0;34m)\u001b[0m\u001b[0;34m\u001b[0m\u001b[0m\n\u001b[0m\u001b[1;32m    341\u001b[0m     \u001b[0mreuslt\u001b[0m \u001b[0;34m=\u001b[0m \u001b[0mdf\u001b[0m\u001b[0;34m.\u001b[0m\u001b[0mdrop\u001b[0m\u001b[0;34m(\u001b[0m\u001b[0mcol_name\u001b[0m\u001b[0;34m,\u001b[0m \u001b[0maxis\u001b[0m\u001b[0;34m=\u001b[0m\u001b[0;36m1\u001b[0m\u001b[0;34m)\u001b[0m\u001b[0;34m\u001b[0m\u001b[0m\n\u001b[1;32m    342\u001b[0m     \u001b[0;32mreturn\u001b[0m \u001b[0mresult\u001b[0m\u001b[0;34m\u001b[0m\u001b[0m\n",
      "\u001b[0;32m/Users/William/anaconda3/envs/python2/lib/python2.7/site-packages/pandas/core/frame.pyc\u001b[0m in \u001b[0;36mapply\u001b[0;34m(self, func, axis, broadcast, raw, reduce, args, **kwds)\u001b[0m\n\u001b[1;32m   4150\u001b[0m                     \u001b[0;32mif\u001b[0m \u001b[0mreduce\u001b[0m \u001b[0;32mis\u001b[0m \u001b[0mNone\u001b[0m\u001b[0;34m:\u001b[0m\u001b[0;34m\u001b[0m\u001b[0m\n\u001b[1;32m   4151\u001b[0m                         \u001b[0mreduce\u001b[0m \u001b[0;34m=\u001b[0m \u001b[0mTrue\u001b[0m\u001b[0;34m\u001b[0m\u001b[0m\n\u001b[0;32m-> 4152\u001b[0;31m                     \u001b[0;32mreturn\u001b[0m \u001b[0mself\u001b[0m\u001b[0;34m.\u001b[0m\u001b[0m_apply_standard\u001b[0m\u001b[0;34m(\u001b[0m\u001b[0mf\u001b[0m\u001b[0;34m,\u001b[0m \u001b[0maxis\u001b[0m\u001b[0;34m,\u001b[0m \u001b[0mreduce\u001b[0m\u001b[0;34m=\u001b[0m\u001b[0mreduce\u001b[0m\u001b[0;34m)\u001b[0m\u001b[0;34m\u001b[0m\u001b[0m\n\u001b[0m\u001b[1;32m   4153\u001b[0m             \u001b[0;32melse\u001b[0m\u001b[0;34m:\u001b[0m\u001b[0;34m\u001b[0m\u001b[0m\n\u001b[1;32m   4154\u001b[0m                 \u001b[0;32mreturn\u001b[0m \u001b[0mself\u001b[0m\u001b[0;34m.\u001b[0m\u001b[0m_apply_broadcast\u001b[0m\u001b[0;34m(\u001b[0m\u001b[0mf\u001b[0m\u001b[0;34m,\u001b[0m \u001b[0maxis\u001b[0m\u001b[0;34m)\u001b[0m\u001b[0;34m\u001b[0m\u001b[0m\n",
      "\u001b[0;32m/Users/William/anaconda3/envs/python2/lib/python2.7/site-packages/pandas/core/frame.pyc\u001b[0m in \u001b[0;36m_apply_standard\u001b[0;34m(self, func, axis, ignore_failures, reduce)\u001b[0m\n\u001b[1;32m   4245\u001b[0m         \u001b[0;32melse\u001b[0m\u001b[0;34m:\u001b[0m\u001b[0;34m\u001b[0m\u001b[0m\n\u001b[1;32m   4246\u001b[0m             \u001b[0;32mtry\u001b[0m\u001b[0;34m:\u001b[0m\u001b[0;34m\u001b[0m\u001b[0m\n\u001b[0;32m-> 4247\u001b[0;31m                 \u001b[0;32mfor\u001b[0m \u001b[0mi\u001b[0m\u001b[0;34m,\u001b[0m \u001b[0mv\u001b[0m \u001b[0;32min\u001b[0m \u001b[0menumerate\u001b[0m\u001b[0;34m(\u001b[0m\u001b[0mseries_gen\u001b[0m\u001b[0;34m)\u001b[0m\u001b[0;34m:\u001b[0m\u001b[0;34m\u001b[0m\u001b[0m\n\u001b[0m\u001b[1;32m   4248\u001b[0m                     \u001b[0mresults\u001b[0m\u001b[0;34m[\u001b[0m\u001b[0mi\u001b[0m\u001b[0;34m]\u001b[0m \u001b[0;34m=\u001b[0m \u001b[0mfunc\u001b[0m\u001b[0;34m(\u001b[0m\u001b[0mv\u001b[0m\u001b[0;34m)\u001b[0m\u001b[0;34m\u001b[0m\u001b[0m\n\u001b[1;32m   4249\u001b[0m                     \u001b[0mkeys\u001b[0m\u001b[0;34m.\u001b[0m\u001b[0mappend\u001b[0m\u001b[0;34m(\u001b[0m\u001b[0mv\u001b[0m\u001b[0;34m.\u001b[0m\u001b[0mname\u001b[0m\u001b[0;34m)\u001b[0m\u001b[0;34m\u001b[0m\u001b[0m\n",
      "\u001b[0;32m/Users/William/anaconda3/envs/python2/lib/python2.7/site-packages/pandas/core/frame.pyc\u001b[0m in \u001b[0;36m<genexpr>\u001b[0;34m((i, (arr, name)))\u001b[0m\n\u001b[1;32m   4223\u001b[0m             series_gen = (Series.from_array(arr, index=res_columns, name=name,\n\u001b[1;32m   4224\u001b[0m                                             dtype=dtype)\n\u001b[0;32m-> 4225\u001b[0;31m                           for i, (arr, name) in enumerate(zip(values,\n\u001b[0m\u001b[1;32m   4226\u001b[0m                                                               res_index)))\n\u001b[1;32m   4227\u001b[0m         \u001b[0;32melse\u001b[0m\u001b[0;34m:\u001b[0m  \u001b[0;31m# pragma : no cover\u001b[0m\u001b[0;34m\u001b[0m\u001b[0m\n",
      "\u001b[0;32m/Users/William/anaconda3/envs/python2/lib/python2.7/site-packages/pandas/core/series.pyc\u001b[0m in \u001b[0;36mfrom_array\u001b[0;34m(cls, arr, index, name, dtype, copy, fastpath)\u001b[0m\n\u001b[1;32m    259\u001b[0m \u001b[0;34m\u001b[0m\u001b[0m\n\u001b[1;32m    260\u001b[0m         return cls(arr, index=index, name=name, dtype=dtype, copy=copy,\n\u001b[0;32m--> 261\u001b[0;31m                    fastpath=fastpath)\n\u001b[0m\u001b[1;32m    262\u001b[0m \u001b[0;34m\u001b[0m\u001b[0m\n\u001b[1;32m    263\u001b[0m     \u001b[0;34m@\u001b[0m\u001b[0mproperty\u001b[0m\u001b[0;34m\u001b[0m\u001b[0m\n",
      "\u001b[0;32m/Users/William/anaconda3/envs/python2/lib/python2.7/site-packages/pandas/core/series.pyc\u001b[0m in \u001b[0;36m__init__\u001b[0;34m(self, data, index, dtype, name, copy, fastpath)\u001b[0m\n\u001b[1;32m    241\u001b[0m             \u001b[0;32melse\u001b[0m\u001b[0;34m:\u001b[0m\u001b[0;34m\u001b[0m\u001b[0m\n\u001b[1;32m    242\u001b[0m                 data = _sanitize_array(data, index, dtype, copy,\n\u001b[0;32m--> 243\u001b[0;31m                                        raise_cast_failure=True)\n\u001b[0m\u001b[1;32m    244\u001b[0m \u001b[0;34m\u001b[0m\u001b[0m\n\u001b[1;32m    245\u001b[0m                 \u001b[0mdata\u001b[0m \u001b[0;34m=\u001b[0m \u001b[0mSingleBlockManager\u001b[0m\u001b[0;34m(\u001b[0m\u001b[0mdata\u001b[0m\u001b[0;34m,\u001b[0m \u001b[0mindex\u001b[0m\u001b[0;34m,\u001b[0m \u001b[0mfastpath\u001b[0m\u001b[0;34m=\u001b[0m\u001b[0mTrue\u001b[0m\u001b[0;34m)\u001b[0m\u001b[0;34m\u001b[0m\u001b[0m\n",
      "\u001b[0;32m/Users/William/anaconda3/envs/python2/lib/python2.7/site-packages/pandas/core/series.pyc\u001b[0m in \u001b[0;36m_sanitize_array\u001b[0;34m(data, index, dtype, copy, raise_cast_failure)\u001b[0m\n\u001b[1;32m   2942\u001b[0m \u001b[0;34m\u001b[0m\u001b[0m\n\u001b[1;32m   2943\u001b[0m             \u001b[0;31m# a 1-element ndarray\u001b[0m\u001b[0;34m\u001b[0m\u001b[0;34m\u001b[0m\u001b[0m\n\u001b[0;32m-> 2944\u001b[0;31m             \u001b[0;32mif\u001b[0m \u001b[0mlen\u001b[0m\u001b[0;34m(\u001b[0m\u001b[0msubarr\u001b[0m\u001b[0;34m)\u001b[0m \u001b[0;34m!=\u001b[0m \u001b[0mlen\u001b[0m\u001b[0;34m(\u001b[0m\u001b[0mindex\u001b[0m\u001b[0;34m)\u001b[0m \u001b[0;32mand\u001b[0m \u001b[0mlen\u001b[0m\u001b[0;34m(\u001b[0m\u001b[0msubarr\u001b[0m\u001b[0;34m)\u001b[0m \u001b[0;34m==\u001b[0m \u001b[0;36m1\u001b[0m\u001b[0;34m:\u001b[0m\u001b[0;34m\u001b[0m\u001b[0m\n\u001b[0m\u001b[1;32m   2945\u001b[0m                 subarr = create_from_value(subarr[0], index,\n\u001b[1;32m   2946\u001b[0m                                            subarr.dtype)\n",
      "\u001b[0;32m/Users/William/anaconda3/envs/python2/lib/python2.7/site-packages/pandas/indexes/base.pyc\u001b[0m in \u001b[0;36m__len__\u001b[0;34m(self)\u001b[0m\n\u001b[1;32m    493\u001b[0m         \u001b[0;32mreturn\u001b[0m \u001b[0mthe\u001b[0m \u001b[0mlength\u001b[0m \u001b[0mof\u001b[0m \u001b[0mthe\u001b[0m \u001b[0mIndex\u001b[0m\u001b[0;34m\u001b[0m\u001b[0m\n\u001b[1;32m    494\u001b[0m         \"\"\"\n\u001b[0;32m--> 495\u001b[0;31m         \u001b[0;32mreturn\u001b[0m \u001b[0mlen\u001b[0m\u001b[0;34m(\u001b[0m\u001b[0mself\u001b[0m\u001b[0;34m.\u001b[0m\u001b[0m_data\u001b[0m\u001b[0;34m)\u001b[0m\u001b[0;34m\u001b[0m\u001b[0m\n\u001b[0m\u001b[1;32m    496\u001b[0m \u001b[0;34m\u001b[0m\u001b[0m\n\u001b[1;32m    497\u001b[0m     \u001b[0;32mdef\u001b[0m \u001b[0m__array__\u001b[0m\u001b[0;34m(\u001b[0m\u001b[0mself\u001b[0m\u001b[0;34m,\u001b[0m \u001b[0mdtype\u001b[0m\u001b[0;34m=\u001b[0m\u001b[0mNone\u001b[0m\u001b[0;34m)\u001b[0m\u001b[0;34m:\u001b[0m\u001b[0;34m\u001b[0m\u001b[0m\n",
      "\u001b[0;31mKeyboardInterrupt\u001b[0m: "
     ]
    }
   ],
   "source": [
    "# Read in data and convert to appropriate types\n",
    "bm_df = pd.read_csv('../Data/BM_'+title+'.csv',\n",
    "                 converters={\"Authority\": cd.stringToList(), 'Associated names': cd.stringToList(), \n",
    "                             'Subjects': cd.stringToList(), 'Inscriptions': cd.stringToListofDicts('|', ';', ':')})\n",
    "bm_df = pd.concat([bm_df, cd.cleanInscriptions(bm_df)], axis=1)\n",
    "bm_df = bm_df.drop('Unnamed: 0', 1)\n",
    "bm_df = bm_df.replace(np.nan, '', regex=True)\n",
    "bm_df['Denomination'] = bm_df.apply(lambda row: cd.cleanDenomination(row['Denomination']), axis=1)\n",
    "bm_df = bm_df.rename(columns = {'Culture/period':'Culture'})\n",
    "bm_df = bm_df[~bm_df[\"Curator's comments\"].str.contains('forgery')]\n",
    "bm_df['Materials'] = bm_df.apply(cleanMaterials(\"Materials\"), axis=1)\n",
    "bm_df['Obverse type'] = bm_df.apply(splitDescription('Description', 'obverse'), axis=1)\n",
    "bm_df['Reverse type'] = bm_df.apply(splitDescription('Description', 'reverse'), axis=1)"
   ]
  },
  {
   "cell_type": "code",
   "execution_count": null,
   "metadata": {
    "collapsed": false
   },
   "outputs": [],
   "source": [
    "bm_df.tail()"
   ]
  },
  {
   "cell_type": "code",
   "execution_count": null,
   "metadata": {
    "collapsed": false
   },
   "outputs": [],
   "source": [
    "# Clean data to only retain relevant information\n",
    "mask = ((bm_df['Object type'] == 'coin ') & (bm_df['Date'].str.find('stC') == -1))\n",
    "filtered = bm_df[mask]\n",
    "\n",
    "lists = ['Authority', 'Subjects', 'Associated names', 'Obverse legend', 'Reverse legend']\n",
    "strings = ['Museum number', 'Denomination', 'Description', 'State', 'Culture', 'Materials', \n",
    "            'Curator\\'s comments', 'Bibliography', 'Object type', \"Production place\", 'Obverse type', 'Reverse type']\n",
    "floats = ['Weight (g)']\n",
    "dates = ['Date']\n",
    "redundant_notes = ['Production place', 'Denomination']\n",
    "do_nothing = ['url', 'Inscriptions']\n",
    "duplicate_cols = ['Materials', 'Denomination', 'Subjects', 'Production place', 'Date']\n",
    "\n",
    "cleaned_bm = cd.cleanDF(filtered, lists, strings, floats, dates, redundant_notes, do_nothing, duplicate_cols)\n",
    "cleaned_bm = cleaned_bm.drop('Inscriptions', 1)\n",
    "cleaned_bm['Source'] = 'British Museum'\n",
    "#cleaned_bm.head()"
   ]
  },
  {
   "cell_type": "code",
   "execution_count": null,
   "metadata": {
    "collapsed": false
   },
   "outputs": [],
   "source": [
    "cleaned_bm.tail()"
   ]
  },
  {
   "cell_type": "code",
   "execution_count": null,
   "metadata": {
    "collapsed": false
   },
   "outputs": [],
   "source": [
    "# Convert everything to strings and integers to put into SQL db\n",
    "lists = ['Authority', 'Subjects', 'Associated names', 'Obverse legend', 'Reverse legend', 'Date']\n",
    "for col in lists:\n",
    "    cleaned_bm[col] = cleaned_bm[col].apply(cd.listToString())\n",
    "\n",
    "columns = [u'Associated names', u'Authority', u'Bibliography', u'Culture',\n",
    "       u'Curator\\'s comments', u'Date', u'Denomination', u'Description',\n",
    "       u'Materials', u'Museum number', u'Object type', u'Obverse legend', 'Obverse type',\n",
    "       u'Production place', u'Reverse legend', 'Reverse type', u'State', u'Subjects',\n",
    "       u'url', u'Source']\n",
    "\n",
    "for col in columns:\n",
    "    cleaned_bm[col] = cleaned_bm[col].apply(lambda x: x.decode('utf-8'))\n",
    "\n",
    "cleaned_bm.columns = ['associatedNames', 'authority', 'bibliography', 'culture',\n",
    "                       'curatorComment', 'date', 'denomination', 'description',\n",
    "                       'materials', 'museumNumber', 'objectType', 'obverseLegend', 'obverseType',\n",
    "                       'mint', 'reverseLegend', 'reverseType', 'state', 'subjects',\n",
    "                       'weight', 'url', 'source']\n",
    "\n",
    "cleaned_bm['startDate'] = cleaned_bm.apply(lambda row: row['date'].split(\",\")[0], axis=1)\n",
    "cleaned_bm['endDate'] = cleaned_bm.apply(lambda row: row['date'].split(\",\")[1] \n",
    "                                                 if len(row['date'].split(\",\")) > 1 \n",
    "                                                 else row['date'].split(\",\")[0], \n",
    "                                         axis=1)"
   ]
  },
  {
   "cell_type": "code",
   "execution_count": null,
   "metadata": {
    "collapsed": false
   },
   "outputs": [],
   "source": [
    "cleaned_bm.tail()"
   ]
  },
  {
   "cell_type": "markdown",
   "metadata": {},
   "source": [
    "### American Numismatic Society"
   ]
  },
  {
   "cell_type": "code",
   "execution_count": null,
   "metadata": {
    "collapsed": false,
    "scrolled": false
   },
   "outputs": [],
   "source": [
    "ans_df = pd.read_csv('../Data/ANS_'+title+'.csv',\n",
    "                    converters={\"Authority\": cd.stringToList('|'), 'Year': cd.stringToList('|'),\n",
    "                               'Issuer': cd.stringToList('|'), 'Portrait': cd.stringToList('|'),\n",
    "                               'Reference': cd.stringToList('|')})\n",
    "ans_df = ans_df.replace(np.nan, '', regex=True)\n",
    "ans_df['Description'] = ans_df.apply(lambda row: cd.makeDescription(\n",
    "                                                                    row['Material'], \n",
    "                                                                    row['Manufacture'], \n",
    "                                                                    row['Obverse Type'], \n",
    "                                                                    row['Reverse Type']\n",
    "                                                                   ), axis=1)\n",
    "ans_df['DupCheck'] = ans_df.apply(lambda row: cd.makeDupCheckCol(\n",
    "                                                                 row['Material'], \n",
    "                                                                 row['Denomination'], \n",
    "                                                                 row['Portrait'], \n",
    "                                                                 row['Mint'],\n",
    "                                                                 row['Year']\n",
    "                                                                ), axis=1)\n",
    "# Clean denomination\n",
    "ans_df['Denomination'] = ans_df.apply(lambda row: cd.cleanDenomination(row['Denomination']), axis=1)\n",
    "ans_df = ans_df[~ans_df[\"Material\"].str.contains(\"Steel\")]\n",
    "ans_df['Material'] = ans_df.apply(cleanMaterials(\"Material\"), axis=1)\n",
    "ans_df.tail()"
   ]
  },
  {
   "cell_type": "code",
   "execution_count": null,
   "metadata": {
    "collapsed": false
   },
   "outputs": [],
   "source": [
    "lists = ['Year', 'Authority', 'Issuer', 'Portrait', 'Reference']\n",
    "strings = ['Deity', 'Denomination', 'Mint', 'Description', 'Obverse Legend',\n",
    "           'Reverse Legend', 'Material', 'Obverse Type', 'Reverse Type']\n",
    "floats = []\n",
    "dates = []\n",
    "redundant_notes = []\n",
    "do_nothing = ['URI', 'DupCheck']\n",
    "duplicate_cols = 'DupCheck'\n",
    "\n",
    "cleaned_ans = cd.cleanDF(ans_df, lists, strings, floats, dates, redundant_notes, do_nothing, \n",
    "                              duplicate_cols, production_place='Mint')\n",
    "cleaned_ans['Source'] = 'American Numismatic Society'\n",
    "cleaned_ans.drop(['DupCheck'], axis=1, inplace=True)\n",
    "cleaned_ans.tail()\n",
    "cleaned_ans.columns"
   ]
  },
  {
   "cell_type": "code",
   "execution_count": null,
   "metadata": {
    "collapsed": false
   },
   "outputs": [],
   "source": [
    "# Convert everything to strings and integers to put into SQL db\n",
    "lists = ['Year', 'Authority', 'Issuer', 'Portrait', 'Reference']\n",
    "for col in lists:\n",
    "    cleaned_ans[col] = cleaned_ans[col].apply(cd.listToString())\n",
    "    \n",
    "# Get start and end date from date/year column\n",
    "cleaned_ans['StartDate'] = cleaned_ans.apply(lambda row: row['Year'].split(\",\")[0], axis=1)\n",
    "cleaned_ans['EndDate'] = cleaned_ans.apply(lambda row: row['Year'].split(\",\")[1] \n",
    "                                                 if len(row['Year'].split(\",\")) > 1 \n",
    "                                                 else row['Year'].split(\",\")[0], \n",
    "                                         axis=1)\n",
    "\n",
    "# Reorder columns\n",
    "columns = [u'Authority', u'Deity', u'Denomination', u'Description', u'Issuer',\n",
    "       'Material', u'Mint', u'Obverse Legend', 'Obverse Type', u'Portrait', u'Reference',\n",
    "       u'Reverse Legend', 'Reverse Type', u'URI', u'Year', u'Source', 'StartDate', 'EndDate']\n",
    "\n",
    "cleaned_ans.columns = columns\n",
    "\n",
    "for col in columns:\n",
    "    cleaned_ans[col] = cleaned_ans[col].apply(lambda x: x.decode('utf-8') if type(x) is not float else x)"
   ]
  },
  {
   "cell_type": "code",
   "execution_count": null,
   "metadata": {
    "collapsed": false
   },
   "outputs": [],
   "source": [
    "cleaned_ans.tail()"
   ]
  },
  {
   "cell_type": "markdown",
   "metadata": {},
   "source": [
    "# OCRE"
   ]
  },
  {
   "cell_type": "code",
   "execution_count": null,
   "metadata": {
    "collapsed": false,
    "scrolled": false
   },
   "outputs": [],
   "source": [
    "ocre_df = pd.read_csv('../Data/OCRE.csv',\n",
    "                    converters={\"Authority\": cd.stringToList('|'), 'Year': cd.stringToList('|'),\n",
    "                               'Issuer': cd.stringToList('|'), 'Portrait': cd.stringToList('|'),\n",
    "                               'Reference': cd.stringToList('|')})\n",
    "ocre_df = ocre_df.replace(np.nan, '', regex=True)\n",
    "ocre_df['Description'] = ocre_df.apply(lambda row: cd.makeDescription(\n",
    "                                                                    row['Material'], \n",
    "                                                                    row['Manufacture'], \n",
    "                                                                    row['Obverse Type'], \n",
    "                                                                    row['Reverse Type']\n",
    "                                                                   ), axis=1)\n",
    "ocre_df['DupCheck'] = ocre_df.apply(lambda row: cd.makeDupCheckCol(\n",
    "                                                                 row['Material'], \n",
    "                                                                 row['Denomination'], \n",
    "                                                                 row['Portrait'], \n",
    "                                                                 row['Mint'],\n",
    "                                                                 row['Year']\n",
    "                                                                ), axis=1)\n",
    "# Clean denomination\n",
    "ocre_df['Denomination'] = ocre_df.apply(lambda row: cd.cleanDenomination(row['Denomination']), axis=1)\n",
    "ocre_df['Material'] = ocre_df.apply(cleanMaterials(\"Material\"), axis=1)\n",
    "ocre_df.tail()"
   ]
  },
  {
   "cell_type": "code",
   "execution_count": null,
   "metadata": {
    "collapsed": false
   },
   "outputs": [],
   "source": [
    "lists = ['Year', 'Authority', 'Issuer', 'Portrait', 'Reference']\n",
    "strings = ['Deity', 'Denomination', 'Mint', 'Description', 'Obverse Legend',\n",
    "           'Reverse Legend', 'Material', 'Obverse Type', 'Reverse Type']\n",
    "floats = []\n",
    "dates = []\n",
    "redundant_notes = []\n",
    "do_nothing = ['URI', 'DupCheck']\n",
    "duplicate_cols = 'DupCheck'\n",
    "\n",
    "cleaned_ocre = cd.cleanDF(ocre_df, lists, strings, floats, dates, redundant_notes, do_nothing, \n",
    "                              duplicate_cols, production_place='Mint')\n",
    "cleaned_ocre['Source'] = 'OCRE'\n",
    "cleaned_ocre.drop(['DupCheck'], axis=1, inplace=True)\n",
    "cleaned_ocre.tail()\n",
    "cleaned_ocre.columns"
   ]
  },
  {
   "cell_type": "code",
   "execution_count": null,
   "metadata": {
    "collapsed": false
   },
   "outputs": [],
   "source": [
    "# Convert everything to strings and integers to put into SQL db\n",
    "lists = ['Year', 'Authority', 'Issuer', 'Portrait', 'Reference']\n",
    "for col in lists:\n",
    "    cleaned_ocre[col] = cleaned_ocre[col].apply(cd.listToString())\n",
    "    \n",
    "# Get start and end date from date/year column\n",
    "cleaned_ocre['StartDate'] = cleaned_ocre.apply(lambda row: row['Year'].split(\",\")[0], axis=1)\n",
    "cleaned_ocre['EndDate'] = cleaned_ocre.apply(lambda row: row['Year'].split(\",\")[1] \n",
    "                                                 if len(row['Year'].split(\",\")) > 1 \n",
    "                                                 else row['Year'].split(\",\")[0], \n",
    "                                         axis=1)\n",
    "\n",
    "# Reorder columns\n",
    "columns = [u'Authority', u'Deity', u'Denomination', u'Description', u'Issuer',\n",
    "       'Material', u'Mint', u'Obverse Legend', 'Obverse Type', u'Portrait', u'Reference',\n",
    "       u'Reverse Legend', 'Reverse Type', u'URI', u'Year', u'Source', 'StartDate', 'EndDate']\n",
    "\n",
    "cleaned_ocre.columns = columns\n",
    "\n",
    "for col in columns:\n",
    "    cleaned_ocre[col] = cleaned_ocre[col].apply(lambda x: x.decode('utf-8') if type(x) is not float else x)"
   ]
  },
  {
   "cell_type": "code",
   "execution_count": null,
   "metadata": {
    "collapsed": false
   },
   "outputs": [],
   "source": [
    "cleaned_ocre.tail()"
   ]
  },
  {
   "cell_type": "markdown",
   "metadata": {},
   "source": [
    "# Store Data"
   ]
  },
  {
   "cell_type": "code",
   "execution_count": 5,
   "metadata": {
    "collapsed": false
   },
   "outputs": [],
   "source": [
    "cnx = sqlite3.connect('../Data/'+title+'.sqlite')\n",
    "cur = cnx.cursor()"
   ]
  },
  {
   "cell_type": "code",
   "execution_count": 6,
   "metadata": {
    "collapsed": false
   },
   "outputs": [
    {
     "data": {
      "text/plain": [
       "<sqlite3.Cursor at 0x1128d7f10>"
      ]
     },
     "execution_count": 6,
     "metadata": {},
     "output_type": "execute_result"
    }
   ],
   "source": [
    "cur.execute('DROP TABLE IF EXISTS allData')\n",
    "cur.execute('''\n",
    "CREATE TABLE allData (\n",
    "  authority text,\n",
    "  material text,\n",
    "  denomination text,\n",
    "  subject text,\n",
    "  mint text,\n",
    "  date text,\n",
    "  description text,\n",
    "  obverseType text,\n",
    "  reverseType text,\n",
    "  startDate int,\n",
    "  endDate int,\n",
    "  source text,\n",
    "  url text\n",
    ");\n",
    "''')"
   ]
  },
  {
   "cell_type": "code",
   "execution_count": null,
   "metadata": {
    "collapsed": false
   },
   "outputs": [],
   "source": [
    "cur.execute('DROP TABLE IF EXISTS britishMuseum')\n",
    "cur.execute('''CREATE TABLE britishMuseum(associatedNames TEXT, authority TEXT, bibliography TEXT, culture TEXT, \n",
    "                    curatorComment TEXT, dates TEXT, denomination TEXT, description TEXT, material TEXT, \n",
    "                    museumNumber TEXT, objectType TEXT, obverseLegend TEXT, obverseType TEXT, mint TEXT, \n",
    "                    reverseLegend TEXT, reverseType TEXT, state TEXT, subjects TEXT, weight INT, url TEXT, \n",
    "                    source TEXT, startDate INT, endDate INT)''')"
   ]
  },
  {
   "cell_type": "code",
   "execution_count": null,
   "metadata": {
    "collapsed": false
   },
   "outputs": [],
   "source": [
    "cur.executemany(\"\"\"INSERT INTO britishMuseum (associatedNames, authority, bibliography, culture,\n",
    "                        curatorComment, dates, denomination, description,\n",
    "                        material, museumNumber, objectType, obverseLegend, obverseType,\n",
    "                        mint, reverseLegend, reverseType, state, subjects, weight,\n",
    "                        url, source, startDate, endDate) VALUES(?,?,?,?,?,?,?,?,?,?,?,?,?,?,?,?,?,?,?,?,?,?,?)\"\"\", \n",
    "                list(cleaned_bm.to_records(index=False)))"
   ]
  },
  {
   "cell_type": "code",
   "execution_count": 7,
   "metadata": {
    "collapsed": false
   },
   "outputs": [
    {
     "data": {
      "text/plain": [
       "<sqlite3.Cursor at 0x1128d7f10>"
      ]
     },
     "execution_count": 7,
     "metadata": {},
     "output_type": "execute_result"
    }
   ],
   "source": [
    "cur.execute('''\n",
    "INSERT INTO allData (authority, material, denomination, subject, mint, date, description, \n",
    "                        obverseType, reverseType, startDate, endDate, source, url)\n",
    "SELECT\n",
    "  authority,\n",
    "  material,\n",
    "  denomination,\n",
    "  subjects,\n",
    "  mint,\n",
    "  dates,\n",
    "  description,\n",
    "  obverseType,\n",
    "  reverseType,\n",
    "  startDate,\n",
    "  endDate,\n",
    "  source,\n",
    "  url\n",
    "FROM britishMuseum;\n",
    "''')"
   ]
  },
  {
   "cell_type": "code",
   "execution_count": null,
   "metadata": {
    "collapsed": false
   },
   "outputs": [],
   "source": [
    "cur.execute('DROP TABLE IF EXISTS americanNumismaticSociety')\n",
    "cur.execute('''CREATE TABLE americanNumismaticSociety(authority TEXT, deity TEXT, denomination TEXT, description TEXT, \n",
    "                       issuer TEXT, material TEXT, mint TEXT, obverseLegend TEXT, obverseType TEXT, portrait TEXT, \n",
    "                       reference TEXT, reverseLegend TEXT, reverseType TEXT, url TEXT, dates TEXT, source TEXT, \n",
    "                       startDate INT, endDate INT)''')"
   ]
  },
  {
   "cell_type": "code",
   "execution_count": null,
   "metadata": {
    "collapsed": false
   },
   "outputs": [],
   "source": [
    "cur.executemany(\"\"\"INSERT INTO americanNumismaticSociety (authority, deity, denomination, description, \n",
    "                       issuer, material, mint, obverseLegend, obverseType, portrait, reference, reverseLegend, \n",
    "                       reverseType, url, dates, source, startDate, endDate) \n",
    "                    VALUES(?,?,?,?,?,?,?,?,?,?,?,?,?,?,?,?,?,?)\"\"\", \n",
    "                list(cleaned_ans.to_records(index=False)))"
   ]
  },
  {
   "cell_type": "code",
   "execution_count": 8,
   "metadata": {
    "collapsed": false
   },
   "outputs": [
    {
     "data": {
      "text/plain": [
       "<sqlite3.Cursor at 0x1128d7f10>"
      ]
     },
     "execution_count": 8,
     "metadata": {},
     "output_type": "execute_result"
    }
   ],
   "source": [
    "cur.execute('''\n",
    "INSERT INTO allData (authority, material, denomination, subject, mint, date, \n",
    "                        description, obverseType, reverseType, startDate, endDate, source, url)\n",
    "SELECT\n",
    "  authority,\n",
    "  material,\n",
    "  denomination,\n",
    "  portrait,\n",
    "  mint,\n",
    "  dates,\n",
    "  description,\n",
    "  obverseType,\n",
    "  reverseType,\n",
    "  startDate,\n",
    "  endDate,\n",
    "  source,\n",
    "  url\n",
    "FROM americanNumismaticSociety;\n",
    "''')"
   ]
  },
  {
   "cell_type": "code",
   "execution_count": null,
   "metadata": {
    "collapsed": false
   },
   "outputs": [],
   "source": [
    "cur.execute('DROP TABLE IF EXISTS OCRE')\n",
    "cur.execute('''CREATE TABLE OCRE(authority TEXT, deity TEXT, denomination TEXT, description TEXT, \n",
    "                       issuer TEXT, material TEXT, mint TEXT, obverseLegend TEXT, obverseType TEXT, portrait TEXT, \n",
    "                       reference TEXT, reverseLegend TEXT, reverseType TEXT, url TEXT, dates TEXT, source TEXT, \n",
    "                       startDate INT, endDate INT)''')"
   ]
  },
  {
   "cell_type": "code",
   "execution_count": null,
   "metadata": {
    "collapsed": false
   },
   "outputs": [],
   "source": [
    "cur.executemany(\"\"\"INSERT INTO OCRE (authority, deity, denomination, description, \n",
    "                       issuer, material, mint, obverseLegend, obverseType, portrait, reference, reverseLegend, \n",
    "                       reverseType, url, dates, source, startDate, endDate) \n",
    "                    VALUES(?,?,?,?,?,?,?,?,?,?,?,?,?,?,?,?,?,?)\"\"\", \n",
    "                list(cleaned_ans.to_records(index=False)))"
   ]
  },
  {
   "cell_type": "code",
   "execution_count": 9,
   "metadata": {
    "collapsed": false
   },
   "outputs": [
    {
     "data": {
      "text/plain": [
       "<sqlite3.Cursor at 0x1128d7f10>"
      ]
     },
     "execution_count": 9,
     "metadata": {},
     "output_type": "execute_result"
    }
   ],
   "source": [
    "cur.execute('''\n",
    "INSERT INTO allData (authority, material, denomination, subject, mint, date, \n",
    "                        description, obverseType, reverseType, startDate, endDate, source, url)\n",
    "SELECT\n",
    "  authority,\n",
    "  material,\n",
    "  denomination,\n",
    "  portrait,\n",
    "  mint,\n",
    "  dates,\n",
    "  description,\n",
    "  obverseType,\n",
    "  reverseType,\n",
    "  startDate,\n",
    "  endDate,\n",
    "  source,\n",
    "  url\n",
    "FROM OCRE;\n",
    "''')"
   ]
  },
  {
   "cell_type": "code",
   "execution_count": 10,
   "metadata": {
    "collapsed": true
   },
   "outputs": [],
   "source": [
    "cnx.commit()"
   ]
  },
  {
   "cell_type": "code",
   "execution_count": null,
   "metadata": {
    "collapsed": true
   },
   "outputs": [],
   "source": []
  }
 ],
 "metadata": {
  "anaconda-cloud": {},
  "kernelspec": {
   "display_name": "Python [conda env:python2]",
   "language": "python",
   "name": "conda-env-python2-py"
  },
  "language_info": {
   "codemirror_mode": {
    "name": "ipython",
    "version": 2
   },
   "file_extension": ".py",
   "mimetype": "text/x-python",
   "name": "python",
   "nbconvert_exporter": "python",
   "pygments_lexer": "ipython2",
   "version": "2.7.13"
  }
 },
 "nbformat": 4,
 "nbformat_minor": 1
}
