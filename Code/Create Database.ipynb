{
 "cells": [
  {
   "cell_type": "code",
   "execution_count": 1,
   "metadata": {
    "collapsed": false
   },
   "outputs": [],
   "source": [
    "from sqlalchemy import types\n",
    "from StringIO import StringIO\n",
    "import sqlite3\n",
    "import CleanData as cd\n",
    "import numpy as np\n",
    "import pandas as pd"
   ]
  },
  {
   "cell_type": "markdown",
   "metadata": {},
   "source": [
    "# Clean Data"
   ]
  },
  {
   "cell_type": "markdown",
   "metadata": {},
   "source": [
    "### British Museum"
   ]
  },
  {
   "cell_type": "code",
   "execution_count": 2,
   "metadata": {
    "collapsed": true
   },
   "outputs": [],
   "source": [
    "title = 'AugustusCoins_44BC-14AD'"
   ]
  },
  {
   "cell_type": "code",
   "execution_count": 3,
   "metadata": {
    "collapsed": false
   },
   "outputs": [],
   "source": [
    "# Read in data and convert to appropriate types\n",
    "bm_df = pd.read_csv('../Data/BM_'+title+'.csv',\n",
    "                 converters={\"Authority\": cd.stringToList(), 'Associated names': cd.stringToList(), \n",
    "                             'Subjects': cd.stringToList(), 'Inscriptions': cd.stringToListofDicts('|', ';', ':')})\n",
    "bm_df = pd.concat([bm_df, cd.cleanInscriptions(bm_df)], axis=1)\n",
    "bm_df = bm_df.drop('Unnamed: 0', 1)\n",
    "bm_df = bm_df.replace(np.nan, '', regex=True)\n",
    "bm_df = bm_df.rename(columns = {'Culture/period':'Culture'})"
   ]
  },
  {
   "cell_type": "code",
   "execution_count": 4,
   "metadata": {
    "collapsed": false
   },
   "outputs": [],
   "source": [
    "# Clean data to only retain relevant information\n",
    "mask = ((bm_df['Object type'] == 'coin ') & (bm_df['Date'].str.find('stC') == -1))\n",
    "filtered = bm_df[mask]\n",
    "\n",
    "lists = ['Authority', 'Subjects', 'Associated names', 'Obverse legend', 'Reverse legend']\n",
    "strings = ['Museum number', 'Denomination', 'Description', 'State', 'Culture', 'Materials', \n",
    "            'Curator\\'s comments', 'Bibliography', 'Object type', \"Production place\"]\n",
    "floats = ['Weight (g)']\n",
    "dates = ['Date']\n",
    "redundant_notes = ['Production place', 'Denomination']\n",
    "do_nothing = ['url', 'Inscriptions']\n",
    "duplicate_cols = ['Authority', 'Date', 'Production place', 'Description', 'Subjects', \"Curator's comments\",\n",
    "                  'Obverse legend', 'Reverse legend']\n",
    "\n",
    "cleaned_bm = cd.cleanDF(filtered, lists, strings, floats, dates, redundant_notes, do_nothing, duplicate_cols)\n",
    "cleaned_bm = cleaned_bm.drop('Inscriptions', 1)\n",
    "cleaned_bm['Source'] = 'British Museum'\n",
    "#cleaned_bm.head()"
   ]
  },
  {
   "cell_type": "code",
   "execution_count": 5,
   "metadata": {
    "collapsed": false
   },
   "outputs": [],
   "source": [
    "# Convert everything to strings and integers to put into SQL db\n",
    "lists = ['Authority', 'Subjects', 'Associated names', 'Obverse legend', 'Reverse legend', 'Date']\n",
    "for col in lists:\n",
    "    cleaned_bm[col] = cleaned_bm[col].apply(cd.listToString())\n",
    "\n",
    "columns = [u'Associated names', u'Authority', u'Bibliography', u'Culture',\n",
    "       u'Curator\\'s comments', u'Date', u'Denomination', u'Description',\n",
    "       u'Materials', u'Museum number', u'Object type', u'Obverse legend',\n",
    "       u'Production place', u'Reverse legend', u'State', u'Subjects',\n",
    "       u'url', u'Source']\n",
    "for col in columns:\n",
    "    cleaned_bm[col] = cleaned_bm[col].apply(lambda x: x.decode('utf-8'))\n",
    "    \n",
    "cleaned_bm.columns = ['associatedNames', 'authority', 'bibliography', 'culture',\n",
    "                       'curatorComment', 'date', 'denomination', 'description',\n",
    "                       'materials', 'museumNumber', 'objectType', 'obverseLegend',\n",
    "                       'mint', 'reverseLegend', 'state', 'subjects',\n",
    "                       'weight', 'url', 'source']"
   ]
  },
  {
   "cell_type": "code",
   "execution_count": 6,
   "metadata": {
    "collapsed": false
   },
   "outputs": [
    {
     "data": {
      "text/html": [
       "<div>\n",
       "<table border=\"1\" class=\"dataframe\">\n",
       "  <thead>\n",
       "    <tr style=\"text-align: right;\">\n",
       "      <th></th>\n",
       "      <th>associatedNames</th>\n",
       "      <th>authority</th>\n",
       "      <th>bibliography</th>\n",
       "      <th>culture</th>\n",
       "      <th>curatorComment</th>\n",
       "      <th>date</th>\n",
       "      <th>denomination</th>\n",
       "      <th>description</th>\n",
       "      <th>materials</th>\n",
       "      <th>museumNumber</th>\n",
       "      <th>objectType</th>\n",
       "      <th>obverseLegend</th>\n",
       "      <th>mint</th>\n",
       "      <th>reverseLegend</th>\n",
       "      <th>state</th>\n",
       "      <th>subjects</th>\n",
       "      <th>weight</th>\n",
       "      <th>url</th>\n",
       "      <th>source</th>\n",
       "    </tr>\n",
       "  </thead>\n",
       "  <tbody>\n",
       "    <tr>\n",
       "      <th>1527</th>\n",
       "      <td>Mark Antony, Octavia, Augustus (Octavian)</td>\n",
       "      <td>M Oppius Capito, Mark Antony</td>\n",
       "      <td>RPC1 1463 (type) RR2 154, p.518</td>\n",
       "      <td>Roman Republican</td>\n",
       "      <td></td>\n",
       "      <td>-38, -37</td>\n",
       "      <td>tressis</td>\n",
       "      <td>Copper alloy coin.(obverse) Busts of M. Antoni...</td>\n",
       "      <td>copper alloy</td>\n",
       "      <td>1860,0328.250</td>\n",
       "      <td>coin</td>\n",
       "      <td>[M  ANT  IMP  TERT  COS  DESIG  ITER  ET  TER ...</td>\n",
       "      <td>Achaea</td>\n",
       "      <td>, [M  OPPIVS  CAPITO  PRO  PR  PRAEF  CLASS  F...</td>\n",
       "      <td>Roman Republic</td>\n",
       "      <td>politician/statesman, emperor/empress, boat/ship</td>\n",
       "      <td>21.51</td>\n",
       "      <td>http://www.britishmuseum.org/research/collecti...</td>\n",
       "      <td>British Museum</td>\n",
       "    </tr>\n",
       "    <tr>\n",
       "      <th>1528</th>\n",
       "      <td>Mark Antony, Augustus (Octavian)</td>\n",
       "      <td>Mark Antony, M Barbatius Pollio</td>\n",
       "      <td>Ghey, Leins &amp; Crawford 2010 517.2.12 RRC 517/2...</td>\n",
       "      <td>Roman Republican</td>\n",
       "      <td>Mint uncertain, moving with Mark Antony.Not th...</td>\n",
       "      <td>-41</td>\n",
       "      <td>denarius</td>\n",
       "      <td>Silver coin.(obverse) Head of M. Antonius righ...</td>\n",
       "      <td>silver</td>\n",
       "      <td>1932,0706.24.3</td>\n",
       "      <td>coin</td>\n",
       "      <td>M  ANT  IMP  AVG  III  VIR  R  P  C  M  BARBAT...</td>\n",
       "      <td></td>\n",
       "      <td>CAESAR  IMP  PONT  III  VIR  R  P  C</td>\n",
       "      <td>Roman Republic</td>\n",
       "      <td>politician/statesman, emperor/empress</td>\n",
       "      <td>3.39</td>\n",
       "      <td>http://www.britishmuseum.org/research/collecti...</td>\n",
       "      <td>British Museum</td>\n",
       "    </tr>\n",
       "    <tr>\n",
       "      <th>1529</th>\n",
       "      <td>Marcus Aemilius Lepidus, Augustus (Octavian)</td>\n",
       "      <td>Marcus Aemilius Lepidus</td>\n",
       "      <td>Ghey, Leins &amp; Crawford 2010 495.2.6 RRC 495/2a...</td>\n",
       "      <td>Roman Republican</td>\n",
       "      <td>Die appears to read IMA (ligatured) instead of...</td>\n",
       "      <td>-42</td>\n",
       "      <td>denarius</td>\n",
       "      <td>Silver coin.(obverse) Head of M. Lepidus right...</td>\n",
       "      <td>silver</td>\n",
       "      <td>2011,4027.3</td>\n",
       "      <td>coin</td>\n",
       "      <td>LEPIDVS  PONT  MAX  III  V  R  P  C</td>\n",
       "      <td>Italy</td>\n",
       "      <td>CAESAR  IMA  III  VIR  R  P  C</td>\n",
       "      <td>Roman Republic</td>\n",
       "      <td>politician/statesman, emperor/empress</td>\n",
       "      <td>3.56</td>\n",
       "      <td>http://www.britishmuseum.org/research/collecti...</td>\n",
       "      <td>British Museum</td>\n",
       "    </tr>\n",
       "    <tr>\n",
       "      <th>1530</th>\n",
       "      <td>Augustus (Octavian), Eros/Cupid, Aphrodite/Venus</td>\n",
       "      <td>P Clodius</td>\n",
       "      <td>RR1 4277, p.583 Ghey, Leins &amp; Crawford 2010 49...</td>\n",
       "      <td>Roman Republican</td>\n",
       "      <td></td>\n",
       "      <td>-42</td>\n",
       "      <td>aureus</td>\n",
       "      <td>Gold coin; pierced for suspension.(obverse) He...</td>\n",
       "      <td>gold</td>\n",
       "      <td>1852,0903.11</td>\n",
       "      <td>coin</td>\n",
       "      <td>C  CAESAR  III  VIR  R  P  C</td>\n",
       "      <td>Rome</td>\n",
       "      <td>P  CLODIVS  M  F  IIII  VIR  A  P  F</td>\n",
       "      <td>Roman Republic</td>\n",
       "      <td>cherub/cupid, politician/statesman, classical ...</td>\n",
       "      <td>8.09</td>\n",
       "      <td>http://www.britishmuseum.org/research/collecti...</td>\n",
       "      <td>British Museum</td>\n",
       "    </tr>\n",
       "    <tr>\n",
       "      <th>1531</th>\n",
       "      <td>Augustus (Octavian), Tyche/Fortuna</td>\n",
       "      <td>Ti Sempronius Gracchus</td>\n",
       "      <td>RR1 4313, p.593 Ghey, Leins &amp; Crawford 2010 52...</td>\n",
       "      <td>Roman Republican</td>\n",
       "      <td></td>\n",
       "      <td>-40</td>\n",
       "      <td>aureus</td>\n",
       "      <td>Gold coin.(obverse) Head of Octavian right, be...</td>\n",
       "      <td>gold</td>\n",
       "      <td>1844,0425.473</td>\n",
       "      <td>coin</td>\n",
       "      <td>DIVI, IVLI  F</td>\n",
       "      <td>Rome</td>\n",
       "      <td>IIII  VIR  Q  D, TI  SEMPRON  GRACCVS</td>\n",
       "      <td>Roman Republic</td>\n",
       "      <td>politician/statesman, allegory/personification...</td>\n",
       "      <td>7.96</td>\n",
       "      <td>http://www.britishmuseum.org/research/collecti...</td>\n",
       "      <td>British Museum</td>\n",
       "    </tr>\n",
       "  </tbody>\n",
       "</table>\n",
       "</div>"
      ],
      "text/plain": [
       "                                       associatedNames  \\\n",
       "1527         Mark Antony, Octavia, Augustus (Octavian)   \n",
       "1528                  Mark Antony, Augustus (Octavian)   \n",
       "1529      Marcus Aemilius Lepidus, Augustus (Octavian)   \n",
       "1530  Augustus (Octavian), Eros/Cupid, Aphrodite/Venus   \n",
       "1531                Augustus (Octavian), Tyche/Fortuna   \n",
       "\n",
       "                            authority  \\\n",
       "1527     M Oppius Capito, Mark Antony   \n",
       "1528  Mark Antony, M Barbatius Pollio   \n",
       "1529          Marcus Aemilius Lepidus   \n",
       "1530                        P Clodius   \n",
       "1531           Ti Sempronius Gracchus   \n",
       "\n",
       "                                           bibliography           culture  \\\n",
       "1527                    RPC1 1463 (type) RR2 154, p.518  Roman Republican   \n",
       "1528  Ghey, Leins & Crawford 2010 517.2.12 RRC 517/2...  Roman Republican   \n",
       "1529  Ghey, Leins & Crawford 2010 495.2.6 RRC 495/2a...  Roman Republican   \n",
       "1530  RR1 4277, p.583 Ghey, Leins & Crawford 2010 49...  Roman Republican   \n",
       "1531  RR1 4313, p.593 Ghey, Leins & Crawford 2010 52...  Roman Republican   \n",
       "\n",
       "                                         curatorComment      date  \\\n",
       "1527                                                     -38, -37   \n",
       "1528  Mint uncertain, moving with Mark Antony.Not th...       -41   \n",
       "1529  Die appears to read IMA (ligatured) instead of...       -42   \n",
       "1530                                                          -42   \n",
       "1531                                                          -40   \n",
       "\n",
       "     denomination                                        description  \\\n",
       "1527      tressis  Copper alloy coin.(obverse) Busts of M. Antoni...   \n",
       "1528     denarius  Silver coin.(obverse) Head of M. Antonius righ...   \n",
       "1529     denarius  Silver coin.(obverse) Head of M. Lepidus right...   \n",
       "1530       aureus  Gold coin; pierced for suspension.(obverse) He...   \n",
       "1531       aureus  Gold coin.(obverse) Head of Octavian right, be...   \n",
       "\n",
       "         materials    museumNumber objectType  \\\n",
       "1527  copper alloy   1860,0328.250       coin   \n",
       "1528        silver  1932,0706.24.3       coin   \n",
       "1529        silver     2011,4027.3       coin   \n",
       "1530          gold    1852,0903.11       coin   \n",
       "1531          gold   1844,0425.473       coin   \n",
       "\n",
       "                                          obverseLegend    mint  \\\n",
       "1527  [M  ANT  IMP  TERT  COS  DESIG  ITER  ET  TER ...  Achaea   \n",
       "1528  M  ANT  IMP  AVG  III  VIR  R  P  C  M  BARBAT...           \n",
       "1529                LEPIDVS  PONT  MAX  III  V  R  P  C   Italy   \n",
       "1530                       C  CAESAR  III  VIR  R  P  C    Rome   \n",
       "1531                                      DIVI, IVLI  F    Rome   \n",
       "\n",
       "                                          reverseLegend           state  \\\n",
       "1527  , [M  OPPIVS  CAPITO  PRO  PR  PRAEF  CLASS  F...  Roman Republic   \n",
       "1528               CAESAR  IMP  PONT  III  VIR  R  P  C  Roman Republic   \n",
       "1529                     CAESAR  IMA  III  VIR  R  P  C  Roman Republic   \n",
       "1530               P  CLODIVS  M  F  IIII  VIR  A  P  F  Roman Republic   \n",
       "1531              IIII  VIR  Q  D, TI  SEMPRON  GRACCVS  Roman Republic   \n",
       "\n",
       "                                               subjects  weight  \\\n",
       "1527   politician/statesman, emperor/empress, boat/ship   21.51   \n",
       "1528              politician/statesman, emperor/empress    3.39   \n",
       "1529              politician/statesman, emperor/empress    3.56   \n",
       "1530  cherub/cupid, politician/statesman, classical ...    8.09   \n",
       "1531  politician/statesman, allegory/personification...    7.96   \n",
       "\n",
       "                                                    url          source  \n",
       "1527  http://www.britishmuseum.org/research/collecti...  British Museum  \n",
       "1528  http://www.britishmuseum.org/research/collecti...  British Museum  \n",
       "1529  http://www.britishmuseum.org/research/collecti...  British Museum  \n",
       "1530  http://www.britishmuseum.org/research/collecti...  British Museum  \n",
       "1531  http://www.britishmuseum.org/research/collecti...  British Museum  "
      ]
     },
     "execution_count": 6,
     "metadata": {},
     "output_type": "execute_result"
    }
   ],
   "source": [
    "cleaned_bm.tail()"
   ]
  },
  {
   "cell_type": "markdown",
   "metadata": {},
   "source": [
    "### American Numismatic Society"
   ]
  },
  {
   "cell_type": "code",
   "execution_count": 7,
   "metadata": {
    "collapsed": false
   },
   "outputs": [],
   "source": [
    "ans_df = pd.read_csv('../Data/ANS_'+title+'.csv',\n",
    "                    converters={\"Authority\": cd.stringToList('|'), 'Year': cd.stringToList('|'),\n",
    "                               'Issuer': cd.stringToList('|'), 'Portrait': cd.stringToList('|'),\n",
    "                               'Reference': cd.stringToList('|')})\n",
    "ans_df = ans_df.replace(np.nan, '', regex=True)\n",
    "ans_df['Description'] = ans_df.apply(lambda row: cd.makeDescription(row['Material'], row['Manufacture'], row['Obverse Type'], row['Reverse Type']), axis=1)\n",
    "#ans_df.tail()"
   ]
  },
  {
   "cell_type": "code",
   "execution_count": 8,
   "metadata": {
    "collapsed": false
   },
   "outputs": [
    {
     "data": {
      "text/plain": [
       "Index([u'Authority', u'Deity', u'Denomination', u'Description', u'Issuer',\n",
       "       u'Mint', u'Obverse Legend', u'Portrait', u'Reference',\n",
       "       u'Reverse Legend', u'URI', u'Weight', u'Year', u'Source'],\n",
       "      dtype='object')"
      ]
     },
     "execution_count": 8,
     "metadata": {},
     "output_type": "execute_result"
    }
   ],
   "source": [
    "lists = ['Year', 'Authority', 'Issuer', 'Portrait', 'Reference']\n",
    "strings = ['Deity', 'Denomination', 'Mint', 'Description', 'Obverse Legend', 'Reverse Legend']\n",
    "floats = ['Weight']\n",
    "dates = []\n",
    "redundant_notes = []\n",
    "do_nothing = ['URI']\n",
    "duplicate_cols = ['Issuer', 'Year', 'Mint', 'Deity', 'Description', 'Obverse Legend', 'Reverse Legend']\n",
    "\n",
    "cleaned_ans = cd.cleanDF(ans_df, lists, strings, floats, dates, redundant_notes, do_nothing, \n",
    "                              duplicate_cols, production_place='Mint')\n",
    "cleaned_ans['Source'] = 'British Museum'\n",
    "cleaned_ans.tail()\n",
    "cleaned_ans.columns"
   ]
  },
  {
   "cell_type": "code",
   "execution_count": 9,
   "metadata": {
    "collapsed": false
   },
   "outputs": [
    {
     "data": {
      "text/html": [
       "<div>\n",
       "<table border=\"1\" class=\"dataframe\">\n",
       "  <thead>\n",
       "    <tr style=\"text-align: right;\">\n",
       "      <th></th>\n",
       "      <th>Authority</th>\n",
       "      <th>Deity</th>\n",
       "      <th>Denomination</th>\n",
       "      <th>Description</th>\n",
       "      <th>Issuer</th>\n",
       "      <th>Mint</th>\n",
       "      <th>Obverse Legend</th>\n",
       "      <th>Portrait</th>\n",
       "      <th>Reference</th>\n",
       "      <th>Reverse Legend</th>\n",
       "      <th>URI</th>\n",
       "      <th>Weight</th>\n",
       "      <th>Year</th>\n",
       "      <th>Source</th>\n",
       "    </tr>\n",
       "  </thead>\n",
       "  <tbody>\n",
       "    <tr>\n",
       "      <th>0</th>\n",
       "      <td>Augustus</td>\n",
       "      <td></td>\n",
       "      <td>As</td>\n",
       "      <td>Struck Bronze. (obverse) Augustus head right. ...</td>\n",
       "      <td></td>\n",
       "      <td>Ephesus</td>\n",
       "      <td>CAESAR</td>\n",
       "      <td>Augustus</td>\n",
       "      <td>RIC I (second edition) Augustus 486</td>\n",
       "      <td>AVGVSTVS</td>\n",
       "      <td>http://numismatics.org/search/id/1944.100.39200</td>\n",
       "      <td>11.10</td>\n",
       "      <td>-25</td>\n",
       "      <td>British Museum</td>\n",
       "    </tr>\n",
       "    <tr>\n",
       "      <th>1</th>\n",
       "      <td>Augustus</td>\n",
       "      <td></td>\n",
       "      <td>As</td>\n",
       "      <td>Struck Bronze.</td>\n",
       "      <td></td>\n",
       "      <td>Ephesus</td>\n",
       "      <td>CAESAR</td>\n",
       "      <td>Augustus</td>\n",
       "      <td>BMC.731, RIC I (second edition) Augustus 486</td>\n",
       "      <td>AVGVSTVS</td>\n",
       "      <td>http://numismatics.org/search/id/1952.142.117</td>\n",
       "      <td>10.92</td>\n",
       "      <td>-25</td>\n",
       "      <td>British Museum</td>\n",
       "    </tr>\n",
       "    <tr>\n",
       "      <th>2</th>\n",
       "      <td>Augustus</td>\n",
       "      <td></td>\n",
       "      <td>Aureus</td>\n",
       "      <td>Struck Gold.</td>\n",
       "      <td></td>\n",
       "      <td>Colonia Patricia</td>\n",
       "      <td></td>\n",
       "      <td>Augustus</td>\n",
       "      <td>BMC.345v, RIC I (second edition) Augustus 50A</td>\n",
       "      <td></td>\n",
       "      <td>http://numismatics.org/search/id/1957.172.1489</td>\n",
       "      <td>3.66</td>\n",
       "      <td>-20, -19</td>\n",
       "      <td>British Museum</td>\n",
       "    </tr>\n",
       "    <tr>\n",
       "      <th>3</th>\n",
       "      <td>Augustus</td>\n",
       "      <td></td>\n",
       "      <td>Aureus</td>\n",
       "      <td>Struck Gold. (obverse) Head of Augustus, laure...</td>\n",
       "      <td></td>\n",
       "      <td>Lugdunum</td>\n",
       "      <td>AVGVSTVS DIVI F</td>\n",
       "      <td>Augustus</td>\n",
       "      <td>BMC.492, RIC I (second edition) Augustus 200</td>\n",
       "      <td>IMP XIIII</td>\n",
       "      <td>http://numismatics.org/search/id/0000.999.16779</td>\n",
       "      <td>7.88</td>\n",
       "      <td>-9</td>\n",
       "      <td>British Museum</td>\n",
       "    </tr>\n",
       "    <tr>\n",
       "      <th>4</th>\n",
       "      <td>Augustus</td>\n",
       "      <td></td>\n",
       "      <td>Denarius</td>\n",
       "      <td>Bronze. (obverse) Bare head r.. (reverse) Fema...</td>\n",
       "      <td>Augustus</td>\n",
       "      <td></td>\n",
       "      <td>AVGVSTVS DIVI F</td>\n",
       "      <td>Augustus</td>\n",
       "      <td></td>\n",
       "      <td>IMP X ACT</td>\n",
       "      <td>http://numismatics.org/search/id/1944.27.9</td>\n",
       "      <td>0.00</td>\n",
       "      <td>-26, 14</td>\n",
       "      <td>British Museum</td>\n",
       "    </tr>\n",
       "  </tbody>\n",
       "</table>\n",
       "</div>"
      ],
      "text/plain": [
       "  Authority Deity Denomination  \\\n",
       "0  Augustus                 As   \n",
       "1  Augustus                 As   \n",
       "2  Augustus             Aureus   \n",
       "3  Augustus             Aureus   \n",
       "4  Augustus           Denarius   \n",
       "\n",
       "                                         Description    Issuer  \\\n",
       "0  Struck Bronze. (obverse) Augustus head right. ...             \n",
       "1                                     Struck Bronze.             \n",
       "2                                       Struck Gold.             \n",
       "3  Struck Gold. (obverse) Head of Augustus, laure...             \n",
       "4  Bronze. (obverse) Bare head r.. (reverse) Fema...  Augustus   \n",
       "\n",
       "               Mint   Obverse Legend  Portrait  \\\n",
       "0           Ephesus           CAESAR  Augustus   \n",
       "1           Ephesus           CAESAR  Augustus   \n",
       "2  Colonia Patricia                   Augustus   \n",
       "3          Lugdunum  AVGVSTVS DIVI F  Augustus   \n",
       "4                    AVGVSTVS DIVI F  Augustus   \n",
       "\n",
       "                                       Reference Reverse Legend  \\\n",
       "0            RIC I (second edition) Augustus 486       AVGVSTVS   \n",
       "1   BMC.731, RIC I (second edition) Augustus 486       AVGVSTVS   \n",
       "2  BMC.345v, RIC I (second edition) Augustus 50A                  \n",
       "3   BMC.492, RIC I (second edition) Augustus 200      IMP XIIII   \n",
       "4                                                     IMP X ACT   \n",
       "\n",
       "                                               URI  Weight      Year  \\\n",
       "0  http://numismatics.org/search/id/1944.100.39200   11.10       -25   \n",
       "1    http://numismatics.org/search/id/1952.142.117   10.92       -25   \n",
       "2   http://numismatics.org/search/id/1957.172.1489    3.66  -20, -19   \n",
       "3  http://numismatics.org/search/id/0000.999.16779    7.88        -9   \n",
       "4       http://numismatics.org/search/id/1944.27.9    0.00   -26, 14   \n",
       "\n",
       "           Source  \n",
       "0  British Museum  \n",
       "1  British Museum  \n",
       "2  British Museum  \n",
       "3  British Museum  \n",
       "4  British Museum  "
      ]
     },
     "execution_count": 9,
     "metadata": {},
     "output_type": "execute_result"
    }
   ],
   "source": [
    "# Convert everything to strings and integers to put into SQL db\n",
    "lists = ['Year', 'Authority', 'Issuer', 'Portrait', 'Reference']\n",
    "for col in lists:\n",
    "    cleaned_ans[col] = cleaned_ans[col].apply(cd.listToString())\n",
    "\n",
    "columns = [u'Authority', u'Deity', u'Denomination', u'Description', u'Issuer',\n",
    "       u'Mint', u'Obverse Legend', u'Portrait', u'Reference',\n",
    "       u'Reverse Legend', u'URI', u'Year', u'Source']\n",
    "for col in columns:\n",
    "    cleaned_ans[col] = cleaned_ans[col].apply(lambda x: x.decode('utf-8'))\n",
    "\n",
    "cleaned_ans.head()"
   ]
  },
  {
   "cell_type": "markdown",
   "metadata": {},
   "source": [
    "# Store Data"
   ]
  },
  {
   "cell_type": "code",
   "execution_count": 10,
   "metadata": {
    "collapsed": false
   },
   "outputs": [],
   "source": [
    "cnx = sqlite3.connect('../Data/'+title+'.sqlite')\n",
    "cur = cnx.cursor()"
   ]
  },
  {
   "cell_type": "code",
   "execution_count": 11,
   "metadata": {
    "collapsed": false
   },
   "outputs": [
    {
     "data": {
      "text/plain": [
       "<sqlite3.Cursor at 0x1175722d0>"
      ]
     },
     "execution_count": 11,
     "metadata": {},
     "output_type": "execute_result"
    }
   ],
   "source": [
    "cur.execute('''CREATE TABLE britishMuseum(associatedNames TEXT, authority TEXT, bibliography TEXT, culture TEXT,\n",
    "                    curatorComment TEXT, dates TEXT, denomination TEXT, description TEXT,\n",
    "                    materials TEXT, museumNumber TEXT, objectType TEXT, obverseLegend TEXT,\n",
    "                    mint TEXT, reverseLegend TEXT, state TEXT, subjects TEXT, weight INT,\n",
    "                    url TEXT, source TEXT)''')"
   ]
  },
  {
   "cell_type": "code",
   "execution_count": 12,
   "metadata": {
    "collapsed": false
   },
   "outputs": [
    {
     "data": {
      "text/plain": [
       "<sqlite3.Cursor at 0x1175722d0>"
      ]
     },
     "execution_count": 12,
     "metadata": {},
     "output_type": "execute_result"
    }
   ],
   "source": [
    "cur.executemany(\"\"\"INSERT INTO britishMuseum (associatedNames, authority, bibliography, culture,\n",
    "                        curatorComment, dates, denomination, description,\n",
    "                        materials, museumNumber, objectType, obverseLegend,\n",
    "                        mint, reverseLegend, state, subjects, weight,\n",
    "                        url, source) VALUES(?,?,?,?,?,?,?,?,?,?,?,?,?,?,?,?,?,?,?)\"\"\", \n",
    "                list(cleaned_bm.to_records(index=False)))"
   ]
  },
  {
   "cell_type": "code",
   "execution_count": 13,
   "metadata": {
    "collapsed": false
   },
   "outputs": [
    {
     "data": {
      "text/plain": [
       "<sqlite3.Cursor at 0x1175722d0>"
      ]
     },
     "execution_count": 13,
     "metadata": {},
     "output_type": "execute_result"
    }
   ],
   "source": [
    "cur.execute('''CREATE TABLE americanNumismaticSociety(authority TEXT, deity TEXT, denomination TEXT, description TEXT, \n",
    "                       issuer TEXT, mint TEXT, obverseLegend TEXT, portrait TEXT, reference TEXT,\n",
    "                       reverseLegend TEXT, url TEXT, weight INT, dates TEXT, source TEXT)''')"
   ]
  },
  {
   "cell_type": "code",
   "execution_count": 14,
   "metadata": {
    "collapsed": false
   },
   "outputs": [
    {
     "data": {
      "text/plain": [
       "<sqlite3.Cursor at 0x1175722d0>"
      ]
     },
     "execution_count": 14,
     "metadata": {},
     "output_type": "execute_result"
    }
   ],
   "source": [
    "cur.executemany(\"\"\"INSERT INTO americanNumismaticSociety (authority, deity, denomination, description, \n",
    "                       issuer, mint, obverseLegend, portrait, reference,\n",
    "                       reverseLegend, url, weight, dates, source) VALUES(?,?,?,?,?,?,?,?,?,?,?,?,?,?)\"\"\", \n",
    "                list(cleaned_ans.to_records(index=False)))"
   ]
  },
  {
   "cell_type": "code",
   "execution_count": 15,
   "metadata": {
    "collapsed": true
   },
   "outputs": [],
   "source": [
    "cnx.commit()"
   ]
  },
  {
   "cell_type": "code",
   "execution_count": null,
   "metadata": {
    "collapsed": true
   },
   "outputs": [],
   "source": []
  }
 ],
 "metadata": {
  "anaconda-cloud": {},
  "kernelspec": {
   "display_name": "Python [conda env:python2]",
   "language": "python",
   "name": "conda-env-python2-py"
  },
  "language_info": {
   "codemirror_mode": {
    "name": "ipython",
    "version": 2
   },
   "file_extension": ".py",
   "mimetype": "text/x-python",
   "name": "python",
   "nbconvert_exporter": "python",
   "pygments_lexer": "ipython2",
   "version": "2.7.13"
  }
 },
 "nbformat": 4,
 "nbformat_minor": 1
}
