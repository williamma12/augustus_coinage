{
 "cells": [
  {
   "cell_type": "code",
   "execution_count": 227,
   "metadata": {
    "collapsed": false
   },
   "outputs": [],
   "source": [
    "from pattern import web\n",
    "import requests\n",
    "from bs4 import BeautifulSoup\n",
    "import doctest\n",
    "import re"
   ]
  },
  {
   "cell_type": "code",
   "execution_count": 194,
   "metadata": {
    "collapsed": false
   },
   "outputs": [],
   "source": [
    "def getPages(url):\n",
    "    '''\n",
    "    Function\n",
    "    --------\n",
    "    Returns the page range of the query\n",
    "    \n",
    "    Parameters\n",
    "    ----------\n",
    "    url: str\n",
    "        First page of the British Museum query\n",
    "        \n",
    "    Returns\n",
    "    -------\n",
    "    A tuple containing the first page and the last \n",
    "    page numbers, respectively.\n",
    "    \n",
    "    Example\n",
    "    -------\n",
    "    For \"http://www.britishmuseum.org/research/collection_online/search.aspx?searchText=augustus\"\n",
    "    it would return (1, 474)\n",
    "    \n",
    "    Doctests\n",
    "    --------\n",
    "    #Regular Case\n",
    "    >>> getPages('http://www.britishmuseum.org/research/collection_online/search.aspx?searchText=augustus')\n",
    "    (1, 474)\n",
    "    \n",
    "    #Only one results page\n",
    "    >>> get_pages('http://www.britishmuseum.org/research/collection_online/search.aspx?searchText=1855,0512.40')\n",
    "    (1, 1)\n",
    "    '''\n",
    "    #get page and convert to web.Element object\n",
    "    html = requests.get(url).text\n",
    "    dom = web.Element(html)\n",
    "    \n",
    "    #finds the list of pages and returns (1, 1) if no list of pages present\n",
    "    elem = dom.by_class('colSearchPaging')\n",
    "    if len(elem) < 1:\n",
    "        return (1, 1)\n",
    "    else:\n",
    "        pages = elem[0].children\n",
    "    \n",
    "    #gets the last page number of the pages list\n",
    "    last_page = pages[-4].children[0].content\n",
    "    \n",
    "    return (1, int(last_page))\n",
    "    \n",
    "#doctest.testmod()"
   ]
  },
  {
   "cell_type": "code",
   "execution_count": 195,
   "metadata": {
    "collapsed": false
   },
   "outputs": [
    {
     "data": {
      "text/plain": [
       "TestResults(failed=0, attempted=6)"
      ]
     },
     "execution_count": 195,
     "metadata": {},
     "output_type": "execute_result"
    }
   ],
   "source": [
    "def getLinks(url):\n",
    "    '''\n",
    "    Function\n",
    "    --------\n",
    "    Gets the urls to the objects from results page\n",
    "    \n",
    "    Parameter\n",
    "    ---------\n",
    "    url: str\n",
    "        Search page of British Museum website\n",
    "        \n",
    "    Returns\n",
    "    -------\n",
    "    A list of str that contain the links of the objects\n",
    "    \n",
    "    Doctest\n",
    "    -------\n",
    "    >>> getLinks('http://www.britishmuseum.org/research/collection_online/search.aspx?searchText=1855,0512.40')\n",
    "    [u'http://www.britishmuseum.org/research/collection_online/collection_object_details.aspx?objectId=1128207&partId=1&searchText=1855%2c0512.40&page=1', u'http://www.britishmuseum.org/research/collection_online/collection_object_details.aspx?objectId=3629209&partId=1&searchText=1855%2c0512.40&page=1']\n",
    "    '''\n",
    "    links = []\n",
    "    \n",
    "    #get page and convert to web.Element object\n",
    "    html = requests.get(url).text\n",
    "    dom = web.Element(html)\n",
    "    \n",
    "    #create list of row objects\n",
    "    rows = dom.by_class('grid_12 alpha row colResults')\n",
    "    \n",
    "    #traverse each row and get the links\n",
    "    for row in rows:\n",
    "        objects = row.by_class('noImage') + row.by_class('image')\n",
    "        for obj in objects:\n",
    "            link_identifier_with_noise = obj.attr['href'].split('/')[-1]\n",
    "            link_identifier = link_identifier_with_noise[5:]\n",
    "            link = 'http://www.britishmuseum.org/research/collection_online/' + link_identifier\n",
    "            links.append(link)\n",
    "    \n",
    "    return links\n",
    "\n",
    "doctest.testmod()"
   ]
  },
  {
   "cell_type": "code",
   "execution_count": 264,
   "metadata": {
    "collapsed": false
   },
   "outputs": [],
   "source": [
    "def getDetails(url):\n",
    "    '''\n",
    "    Function\n",
    "    --------\n",
    "    Reads the data off of the given British Museum item page and puts into a dictionary\n",
    "    \n",
    "    Parameter\n",
    "    ---------\n",
    "    url: str\n",
    "        The url of the British Museum item page\n",
    "        \n",
    "    Returns\n",
    "    -------\n",
    "    A dictionary with the discriptor and discription.\n",
    "    '''\n",
    "    result = {}\n",
    "    #create list of descriptors\n",
    "    descriptors = {'Museum number', 'Denomination', 'Description', 'State', \n",
    "                 'Authority', 'Culture/period', 'Date', 'Materials', \n",
    "                  'Production place', 'Curator\\'s comments', 'Bibliography', \n",
    "                  'Subjects', 'Associated names', 'Object type', 'Weight'}\n",
    "    \n",
    "    #get page and convert to web.Element object\n",
    "    html = requests.get(url).text\n",
    "    dom = web.Element(html)\n",
    "    \n",
    "    #gets portion of page containing discription\n",
    "    try:\n",
    "        details = dom.by_class('objectDetails')[0].children\n",
    "    except:\n",
    "        print(url)\n",
    "    \n",
    "    #iterate over and populate the result dictionary\n",
    "    for detail in details:\n",
    "        detail = list(BeautifulSoup(str(detail), 'html.parser').stripped_strings)\n",
    "        #print(detail)\n",
    "        if len(detail) > 1:\n",
    "            desc = detail[0]\n",
    "            if desc in descriptors:\n",
    "                result[desc] = detail[1]\n",
    "            elif desc == 'Dimensions':\n",
    "                for dim in detail[1:]:\n",
    "                    split_dim = dim.split(': ')\n",
    "                    try: \n",
    "                        if split_dim[0] in 'Weight':\n",
    "                            result['Weight (g)'] = re.findall(\"\\d+\\.\\d+\", split_dim[1])[0]\n",
    "                    except:\n",
    "                        pass\n",
    "            elif desc == 'Inscriptions':\n",
    "                inscriptions = []\n",
    "                i = 1\n",
    "                inscription = {}\n",
    "                while i < len(detail):\n",
    "                    if 'Inscription ' in detail[i]:\n",
    "                        if detail[i] == 'Inscription Type':\n",
    "                            if inscription != {}:\n",
    "                                inscriptions.append(inscription)\n",
    "                            inscription = {}\n",
    "                        descriptor = detail[i]\n",
    "                        i += 1\n",
    "                        description = detail[i]\n",
    "                        i += 1\n",
    "                        try:\n",
    "                            while 'Inscription ' not in detail[i]:\n",
    "                                description += ' ' + detail[i]\n",
    "                                i += 1\n",
    "                        except:\n",
    "                            pass\n",
    "                        inscription[descriptor] = description\n",
    "                    else:\n",
    "                        i += 1\n",
    "                result[desc] = inscriptions\n",
    "            \n",
    "    return result\n",
    "              \n",
    "              \n",
    "#getDetails('http://www.britishmuseum.org/research/collection_online/collection_object_details.aspx?objectId=3420207&partId=1&searchText=augustus&lookup-people=e.g.+Hokusai%2c+Ramesses&people=&lookup-place=e.g.+India%2c+Shanghai%2c+Thebes&place=&from=bc&fromDate=44&to=ad&toDate=14&lookup-object=coin&object=&lookup-subject=e.g.+farming%2c+New+Testament&subject=&lookup-matcult=e.g.+Choson+Dynasty%2c+Ptolemaic&matcult=&lookup-technique=e.g.+carved%2c+celadon-glazed&technique=&lookup-school=e.g.+French%2c+Mughal+Style&school=&lookup-material=e.g.+canvas%2c+porcelain%2c+silk&material=&lookup-ethname=e.g.+Hmong%2c+Maori%2c+Tai&ethname=&lookup-ware=e.g.+Imari+ware%2c+Qingbai+ware&ware=&lookup-escape=e.g.+cylinder%2c+gravity%2c+lever&escape=&lookup-bibliography=&bibliography=&citation=&museumno=&catalogueOnly=&view=&page=4')"
   ]
  },
  {
   "cell_type": "code",
   "execution_count": 265,
   "metadata": {
    "collapsed": true
   },
   "outputs": [],
   "source": [
    "url = 'http://www.britishmuseum.org/research/collection_online/search.aspx?searchText=augustus&lookup-people=e.g.+Hokusai,+Ramesses&people=&lookup-place=e.g.+India,+Shanghai,+Thebes&place=&from=bc&fromDate=44&to=ad&toDate=14&lookup-object=coin&object=&lookup-subject=e.g.+farming,+New+Testament&subject=&lookup-matcult=e.g.+Choson+Dynasty,+Ptolemaic&matcult=&lookup-technique=e.g.+carved,+celadon-glazed&technique=&lookup-school=e.g.+French,+Mughal+Style&school=&lookup-material=e.g.+canvas,+porcelain,+silk&material=&lookup-ethname=e.g.+Hmong,+Maori,+Tai&ethname=&lookup-ware=e.g.+Imari+ware,+Qingbai+ware&ware=&lookup-escape=e.g.+cylinder,+gravity,+lever&escape=&lookup-bibliography=&bibliography=&citation=&museumno=&catalogueOnly=&view='\n",
    "url = url + '&page='"
   ]
  },
  {
   "cell_type": "code",
   "execution_count": 266,
   "metadata": {
    "collapsed": false
   },
   "outputs": [],
   "source": [
    "pages = getPages(url)\n",
    "links = [getLinks(url + str(i)) for i in range(1, pages[1]+1)]\n",
    "links = [item for sublist in links for item in sublist]\n",
    "details = [getDetails(link) for link in links]"
   ]
  },
  {
   "cell_type": "code",
   "execution_count": 268,
   "metadata": {
    "collapsed": false
   },
   "outputs": [
    {
     "data": {
      "text/plain": [
       "3295"
      ]
     },
     "execution_count": 268,
     "metadata": {},
     "output_type": "execute_result"
    }
   ],
   "source": [
    "len(details)"
   ]
  },
  {
   "cell_type": "code",
   "execution_count": null,
   "metadata": {
    "collapsed": true
   },
   "outputs": [],
   "source": []
  }
 ],
 "metadata": {
  "anaconda-cloud": {},
  "kernelspec": {
   "display_name": "Python [conda env:python2]",
   "language": "python",
   "name": "conda-env-python2-py"
  },
  "language_info": {
   "codemirror_mode": {
    "name": "ipython",
    "version": 2
   },
   "file_extension": ".py",
   "mimetype": "text/x-python",
   "name": "python",
   "nbconvert_exporter": "python",
   "pygments_lexer": "ipython2",
   "version": "2.7.13"
  }
 },
 "nbformat": 4,
 "nbformat_minor": 1
}
